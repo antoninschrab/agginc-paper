{
 "cells": [
  {
   "cell_type": "markdown",
   "id": "0cd15687-8197-42f7-a6fb-683850fdf198",
   "metadata": {
    "tags": []
   },
   "source": [
    "# Speed comparison"
   ]
  },
  {
   "cell_type": "markdown",
   "id": "02919422-ca76-40ec-a2dc-fc2faa0270f8",
   "metadata": {
    "tags": []
   },
   "source": [
    "## Imports"
   ]
  },
  {
   "cell_type": "markdown",
   "id": "44870f4b-5f30-4621-a4ab-6c0160f37ed6",
   "metadata": {},
   "source": [
    "Run only one of three next cells depending on whether to use Numpy CPU, Jax CPU or Jax GPU.\n",
    "\n",
    "The CPU used is a AMD Ryzen Threadripper 3960X 24 Cores 128Gb RAM at 3.8GHz.\n",
    "\n",
    "The GPU used is an NVIDIA RTX A5000 24Gb."
   ]
  },
  {
   "cell_type": "code",
   "execution_count": 1,
   "id": "5c1598ae-bada-4d83-a29a-c88cfc18b189",
   "metadata": {},
   "outputs": [],
   "source": [
    "# run for Numpy CPU\n",
    "import numpy as np\n",
    "from agginc.np import agginc\n",
    "from jax import random\n",
    "import jax.numpy as jnp\n",
    "%load_ext autoreload\n",
    "%autoreload 2"
   ]
  },
  {
   "cell_type": "code",
   "execution_count": 1,
   "id": "df1a4636-78b3-4bc0-be50-778c60c093ea",
   "metadata": {},
   "outputs": [
    {
     "name": "stderr",
     "output_type": "stream",
     "text": [
      "2023-02-07 12:18:06.087432: E external/org_tensorflow/tensorflow/compiler/xla/stream_executor/cuda/cuda_driver.cc:266] failed call to cuInit: CUDA_ERROR_NO_DEVICE: no CUDA-capable device is detected\n",
      "No GPU/TPU found, falling back to CPU. (Set TF_CPP_MIN_LOG_LEVEL=0 and rerun for more info.)\n"
     ]
    },
    {
     "data": {
      "text/plain": [
       "CpuDevice(id=0)"
      ]
     },
     "execution_count": 1,
     "metadata": {},
     "output_type": "execute_result"
    }
   ],
   "source": [
    "# run for Jax CPU\n",
    "import os\n",
    "os.environ['CUDA_VISIBLE_DEVICES'] = ''\n",
    "import numpy as np\n",
    "from agginc.jax import agginc\n",
    "from jax import random\n",
    "import jax.numpy as jnp\n",
    "%load_ext autoreload\n",
    "%autoreload 2\n",
    "X = jnp.array([1, 2])\n",
    "X.device()"
   ]
  },
  {
   "cell_type": "code",
   "execution_count": 1,
   "id": "2a17e174-747c-4249-a950-75442de4fcc8",
   "metadata": {},
   "outputs": [
    {
     "data": {
      "text/plain": [
       "StreamExecutorGpuDevice(id=0, process_index=0, slice_index=0)"
      ]
     },
     "execution_count": 1,
     "metadata": {},
     "output_type": "execute_result"
    }
   ],
   "source": [
    "# run for Jax GPU\n",
    "import numpy as np\n",
    "from agginc.jax import agginc\n",
    "from jax import random\n",
    "import jax.numpy as jnp\n",
    "%load_ext autoreload\n",
    "%autoreload 2\n",
    "X = jnp.array([1, 2])\n",
    "X.device()"
   ]
  },
  {
   "cell_type": "markdown",
   "id": "1f18c90f-d430-4b92-bde9-a98873e41775",
   "metadata": {
    "tags": []
   },
   "source": [
    "## MMDAggInc"
   ]
  },
  {
   "cell_type": "code",
   "execution_count": 2,
   "id": "78758346-9f95-4f80-81b4-5cbd7fdb903c",
   "metadata": {},
   "outputs": [],
   "source": [
    "key = random.PRNGKey(0)\n",
    "key, subkey = random.split(key)\n",
    "subkeys = random.split(subkey, num=2)\n",
    "X = random.uniform(subkeys[0], shape=(5000, 100))\n",
    "Y = random.uniform(subkeys[1], shape=(5000, 100)) + 2"
   ]
  },
  {
   "cell_type": "code",
   "execution_count": null,
   "id": "5cbbce66-3028-462a-83f9-1eebf2b667e3",
   "metadata": {},
   "outputs": [],
   "source": [
    "# run for Jax CPU and Jax GPU to compile the function\n",
    "# Do not run for Numpy CPU\n",
    "output, dictionary = agginc(\"mmd\", X, Y, return_dictionary=True)"
   ]
  },
  {
   "cell_type": "code",
   "execution_count": 4,
   "id": "4315eace-4521-4b37-970f-0b94ad540c17",
   "metadata": {},
   "outputs": [
    {
     "name": "stdout",
     "output_type": "stream",
     "text": [
      "4.49 s ± 21.5 ms per loop (mean ± std. dev. of 7 runs, 1 loop each)\n"
     ]
    }
   ],
   "source": [
    "# Numpy CPU\n",
    "%timeit agginc(\"mmd\", np.array(X), np.array(Y), return_dictionary=True) "
   ]
  },
  {
   "cell_type": "code",
   "execution_count": 4,
   "id": "bcdca8b7-748d-40d2-a38a-14c68963c3d4",
   "metadata": {},
   "outputs": [
    {
     "name": "stdout",
     "output_type": "stream",
     "text": [
      "844 ms ± 6.78 ms per loop (mean ± std. dev. of 7 runs, 1 loop each)\n"
     ]
    }
   ],
   "source": [
    "# Jax CPU\n",
    "%timeit agginc(\"mmd\", X, Y, return_dictionary=True) "
   ]
  },
  {
   "cell_type": "code",
   "execution_count": 6,
   "id": "3a7a01d6-0076-46ec-accf-a3921d7d9ea3",
   "metadata": {},
   "outputs": [
    {
     "name": "stdout",
     "output_type": "stream",
     "text": [
      "23 ms ± 295 µs per loop (mean ± std. dev. of 7 runs, 1 loop each)\n"
     ]
    }
   ],
   "source": [
    "# Jax GPU\n",
    "%timeit agginc(\"mmd\", X, Y, return_dictionary=True) "
   ]
  },
  {
   "cell_type": "markdown",
   "id": "73ad5010-e764-4ef9-99ec-a55e5975f0a7",
   "metadata": {
    "tags": []
   },
   "source": [
    "## HSICAggInc"
   ]
  },
  {
   "cell_type": "code",
   "execution_count": 2,
   "id": "cf3fab82-ce6b-485b-8248-d19ed64ac44c",
   "metadata": {},
   "outputs": [],
   "source": [
    "key = random.PRNGKey(0)\n",
    "key, subkey = random.split(key)\n",
    "subkeys = random.split(subkey, num=2)\n",
    "X = random.uniform(subkeys[0], shape=(5000, 100))\n",
    "Y = random.uniform(subkeys[1], shape=(5000, 100)) + 2"
   ]
  },
  {
   "cell_type": "code",
   "execution_count": null,
   "id": "90eb30d5-3b3b-40fb-8c1c-1eb923f4aba5",
   "metadata": {},
   "outputs": [],
   "source": [
    "# run for Jax CPU and Jax GPU to compile the function\n",
    "# Do not run for Numpy CPU\n",
    "output, dictionary = agginc(\"hsic\", X, Y, return_dictionary=True)"
   ]
  },
  {
   "cell_type": "code",
   "execution_count": 4,
   "id": "ce1c6119-1060-4c52-8e04-3d8bcbcddb73",
   "metadata": {},
   "outputs": [
    {
     "name": "stdout",
     "output_type": "stream",
     "text": [
      "2.82 s ± 3.7 ms per loop (mean ± std. dev. of 7 runs, 1 loop each)\n"
     ]
    }
   ],
   "source": [
    "# Numpy CPU\n",
    "%timeit agginc(\"hsic\", np.array(X), np.array(Y), return_dictionary=True)"
   ]
  },
  {
   "cell_type": "code",
   "execution_count": 4,
   "id": "ce54165a-43cd-4351-9a6d-458cc17cd2eb",
   "metadata": {},
   "outputs": [
    {
     "name": "stdout",
     "output_type": "stream",
     "text": [
      "539 ms ± 6.58 ms per loop (mean ± std. dev. of 7 runs, 1 loop each)\n"
     ]
    }
   ],
   "source": [
    "# Jax CPU\n",
    "%timeit agginc(\"hsic\", X, Y, return_dictionary=True)"
   ]
  },
  {
   "cell_type": "code",
   "execution_count": 11,
   "id": "d1efd0fa-3cf6-4bc7-9284-7e390cec096d",
   "metadata": {},
   "outputs": [
    {
     "name": "stdout",
     "output_type": "stream",
     "text": [
      "18 ms ± 10.5 µs per loop (mean ± std. dev. of 7 runs, 100 loops each)\n"
     ]
    }
   ],
   "source": [
    "# Jax GPU\n",
    "%timeit agginc(\"hsic\", X, Y, return_dictionary=True) "
   ]
  },
  {
   "cell_type": "markdown",
   "id": "b7196270-ef91-4582-a51e-db768a31ad80",
   "metadata": {
    "tags": []
   },
   "source": [
    "## KSDAggInc"
   ]
  },
  {
   "cell_type": "code",
   "execution_count": 2,
   "id": "70124d35-ca67-49cb-8ff4-898af928559b",
   "metadata": {},
   "outputs": [],
   "source": [
    "perturbation = 0.5\n",
    "rs = np.random.RandomState(0)\n",
    "X = rs.gamma(5 + perturbation, 5, (5000, 1))\n",
    "score_gamma = lambda x, k, theta : (k - 1) / x - 1 / theta\n",
    "score_X = score_gamma(X, 5, 5)\n",
    "X = jnp.array(X)\n",
    "score_X = jnp.array(score_X)"
   ]
  },
  {
   "cell_type": "code",
   "execution_count": 3,
   "id": "493d27fe-55c3-4e4b-9d4c-1bfff7dcbb08",
   "metadata": {},
   "outputs": [],
   "source": [
    "# run for Jax CPU and Jax GPU to compile the function\n",
    "# Do not run for Numpy CPU\n",
    "output, dictionary = agginc(\"ksd\", X, score_X, return_dictionary=True)"
   ]
  },
  {
   "cell_type": "code",
   "execution_count": 6,
   "id": "b00fef59-d625-4be8-bff3-cc2d52ec3bcd",
   "metadata": {},
   "outputs": [
    {
     "name": "stdout",
     "output_type": "stream",
     "text": [
      "3.77 s ± 18.6 ms per loop (mean ± std. dev. of 7 runs, 1 loop each)\n"
     ]
    }
   ],
   "source": [
    "# Numpy CPU\n",
    "%timeit agginc(\"ksd\", np.array(X), np.array(score_X), return_dictionary=True) "
   ]
  },
  {
   "cell_type": "code",
   "execution_count": 4,
   "id": "c891cc7d-8f17-4d4a-9bf5-412cb9330c2d",
   "metadata": {},
   "outputs": [
    {
     "name": "stdout",
     "output_type": "stream",
     "text": [
      "590 ms ± 10.9 ms per loop (mean ± std. dev. of 7 runs, 1 loop each)\n"
     ]
    }
   ],
   "source": [
    "# Jax CPU\n",
    "%timeit agginc(\"ksd\", X, score_X, return_dictionary=True) "
   ]
  },
  {
   "cell_type": "code",
   "execution_count": 4,
   "id": "d128e665-45a9-4130-bf22-27edaa483bd3",
   "metadata": {},
   "outputs": [
    {
     "name": "stdout",
     "output_type": "stream",
     "text": [
      "21.5 ms ± 33.7 µs per loop (mean ± std. dev. of 7 runs, 10 loops each)\n"
     ]
    }
   ],
   "source": [
    "# Jax GPU\n",
    "%timeit agginc(\"ksd\", X, score_X, return_dictionary=True) "
   ]
  }
 ],
 "metadata": {
  "kernelspec": {
   "display_name": "Python 3 (ipykernel)",
   "language": "python",
   "name": "python3"
  },
  "language_info": {
   "codemirror_mode": {
    "name": "ipython",
    "version": 3
   },
   "file_extension": ".py",
   "mimetype": "text/x-python",
   "name": "python",
   "nbconvert_exporter": "python",
   "pygments_lexer": "ipython3",
   "version": "3.9.16"
  }
 },
 "nbformat": 4,
 "nbformat_minor": 5
}
