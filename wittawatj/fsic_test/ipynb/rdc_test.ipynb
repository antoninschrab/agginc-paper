{
 "cells": [
  {
   "cell_type": "markdown",
   "metadata": {},
   "source": [
    "This notebook is to test the implementation of the Randomized Dependence Coefficient test."
   ]
  },
  {
   "cell_type": "code",
   "execution_count": null,
   "metadata": {},
   "outputs": [],
   "source": [
    "%load_ext autoreload\n",
    "%autoreload 2\n",
    "%matplotlib inline\n",
    "import numpy as np\n",
    "import matplotlib.pyplot as plt\n",
    "import fsic.util as util\n",
    "import fsic.data as data\n",
    "import fsic.feature as fea\n",
    "import fsic.kernel as kernel\n",
    "import fsic.indtest as it\n",
    "import fsic.glo as glo\n",
    "import scipy.stats as stats"
   ]
  },
  {
   "cell_type": "code",
   "execution_count": null,
   "metadata": {},
   "outputs": [],
   "source": [
    "# font options\n",
    "font = {\n",
    "    #'family' : 'normal',\n",
    "    #'weight' : 'bold',\n",
    "    'size'   : 16\n",
    "}\n",
    "\n",
    "plt.rc('font', **font)\n",
    "plt.rc('lines', linewidth=2)\n",
    "#matplotlib.rc('text', usetex=True)\n",
    "#matplotlib.rcParams['text.latex.preamble']=[r\"\\usepackage{amsmath}\"]"
   ]
  },
  {
   "cell_type": "code",
   "execution_count": null,
   "metadata": {},
   "outputs": [],
   "source": [
    "def get_quad_psfunc():\n",
    "    \"\"\"\n",
    "    Return a PairedSource to generate y = x^2 + Gaussian noise.\n",
    "    \"\"\"\n",
    "    px = lambda n: np.random.rand(n, 1)*8 - 4\n",
    "    f = lambda x: 0.2*x**2 + np.random.randn(x.shape[0], 1)\n",
    "    return data.PSFunc(f, px)\n",
    "    "
   ]
  },
  {
   "cell_type": "code",
   "execution_count": null,
   "metadata": {},
   "outputs": [],
   "source": [
    "# paired source \n",
    "alpha = 0.05\n",
    "n = 800\n",
    "seed = 17\n",
    "\n",
    "dx = 10 \n",
    "dy = 5\n",
    "#ps = data.PSIndSameGauss(dx, dy)\n",
    "#ps = get_quad_psfunc()\n",
    "#ps = data.PSIndUnif(xlb=[0, 3], xub=[1, 10], ylb=[-5, 5], yub=[8, 10])\n",
    "ps = data.PS2DSinFreq(freq=2)\n",
    "\n",
    "pdata = ps.sample(n, seed=seed)\n",
    "#tr, te = pdata.split_tr_te(tr_proportion=0.5, seed=10)"
   ]
  },
  {
   "cell_type": "code",
   "execution_count": null,
   "metadata": {
    "scrolled": true
   },
   "outputs": [],
   "source": [
    "# get the median distances \n",
    "X, Y = pdata.xy()\n",
    "# copula transform to both X and Y\n",
    "cop_map = fea.MarginalCDFMap() \n",
    "Xcdf = cop_map.gen_features(X)\n",
    "Ycdf = cop_map.gen_features(Y)\n",
    "\n",
    "medx = util.meddistance(Xcdf, subsample=1000)\n",
    "medy = util.meddistance(Ycdf, subsample=1000)\n",
    "sigmax2 = medx**2\n",
    "sigmay2 = medy**2\n",
    "\n",
    "feature_pairs = 50\n",
    "fmx = fea.RFFKGauss(sigmax2, n_features=feature_pairs, seed=seed+1)\n",
    "fmy = fea.RFFKGauss(sigmay2, n_features=feature_pairs, seed=seed+2)\n",
    "rdc = it.RDC(fmx, fmy, alpha=alpha)\n",
    "rdc.perform_test(pdata)"
   ]
  },
  {
   "cell_type": "code",
   "execution_count": null,
   "metadata": {},
   "outputs": [],
   "source": [
    "# random Fourier features \n",
    "Xrff = fmx.gen_features(Xcdf)\n",
    "Yrff = fmy.gen_features(Ycdf)\n",
    "\n",
    "# CCA \n",
    "evals, Vx, Vy = util.cca(Xrff, Yrff)\n",
    "# Barlett approximation \n",
    "bartlett_stat = -(n-1-0.5*(Xrff.shape[1]+Yrff.shape[1]+1))*np.sum(np.log(1-evals**2))\n"
   ]
  },
  {
   "cell_type": "code",
   "execution_count": null,
   "metadata": {
    "scrolled": true
   },
   "outputs": [],
   "source": [
    "evals"
   ]
  },
  {
   "cell_type": "code",
   "execution_count": null,
   "metadata": {
    "scrolled": true
   },
   "outputs": [],
   "source": [
    "np.log(1-evals**2)"
   ]
  },
  {
   "cell_type": "markdown",
   "metadata": {},
   "source": [
    "## null distribution"
   ]
  },
  {
   "cell_type": "code",
   "execution_count": null,
   "metadata": {},
   "outputs": [],
   "source": [
    "def get_rff_maps(pdata, n_features, seed=2893):\n",
    "    \n",
    "    X, Y = pdata.xy()\n",
    "    \n",
    "    # copula transform to both X and Y\n",
    "    cop_map = fea.MarginalCDFMap() \n",
    "    Xcdf = cop_map.gen_features(X)\n",
    "    Ycdf = cop_map.gen_features(Y)\n",
    "\n",
    "    medx = util.meddistance(Xcdf, subsample=1000)\n",
    "    medy = util.meddistance(Ycdf, subsample=1000)\n",
    "    sigmax2 = medx**2\n",
    "    sigmay2 = medy**2\n",
    "\n",
    "    fmx = fea.RFFKGauss(sigmax2, n_features=n_features, seed=seed+1)\n",
    "    fmy = fea.RFFKGauss(sigmay2, n_features=n_features, seed=seed+2)\n",
    "    return fmx, fmy\n",
    "    "
   ]
  },
  {
   "cell_type": "code",
   "execution_count": null,
   "metadata": {},
   "outputs": [],
   "source": [
    "# permutations\n",
    "#ps = data.PS2DUnifRotate(angle=np.pi*0)\n",
    "#ps = data.PS2DSinFreq(freq=1)\n",
    "#ps = data.PSUnifRotateNoise(angle=np.pi*0, noise_dim=8)\n",
    "ps = data.PSIndSameGauss(dx=2, dy=3)\n",
    "dx = ps.dx()\n",
    "dy = ps.dy()\n",
    "seed = 90\n",
    "repeats = 500\n",
    "n = 800\n",
    "n_features = 10\n",
    "arr_stats = np.zeros(repeats)\n",
    "\n",
    "# RFF maps\n",
    "pdata = ps.sample(n, seed=repeats)\n",
    "fmx, fmy = get_rff_maps(pdata, n_features=n_features, seed=repeats+1)\n",
    "rdc = it.RDC(fmx, fmy, alpha=alpha)\n",
    "for r in range(repeats):\n",
    "    if r%50==0:\n",
    "        print('Starting repetition: %d'%(r+1))\n",
    "    pdata = ps.sample(n, seed=r+297+repeats)\n",
    "    stat = rdc.compute_stat(pdata)\n",
    "    arr_stats[r] = stat\n",
    "    "
   ]
  },
  {
   "cell_type": "code",
   "execution_count": null,
   "metadata": {},
   "outputs": [],
   "source": [
    "# plot null distribution\n",
    "chi2_df = fmx.num_features()*fmy.num_features()\n",
    "#chi2_df = 9\n",
    "#chi2_df = n_features\n",
    "dom_end = max(np.max(arr_stats), stats.chi2.isf(0.01, df=chi2_df))\n",
    "dom_start = min(np.min(arr_stats), stats.chi2.isf(0.99, df=chi2_df))\n",
    "dom = np.linspace(dom_start, dom_end, 700)\n",
    "chi2_den = stats.chi2.pdf(dom, df=chi2_df)\n",
    "\n",
    "plt.hist(arr_stats, density=True, bins=20)\n",
    "plt.plot(dom, chi2_den, '-')"
   ]
  },
  {
   "cell_type": "code",
   "execution_count": null,
   "metadata": {},
   "outputs": [],
   "source": [
    "cdf_map = fea.MarginalCDFMap()\n",
    "cdf_map.gen_features(Y)"
   ]
  },
  {
   "cell_type": "code",
   "execution_count": null,
   "metadata": {},
   "outputs": [],
   "source": []
  },
  {
   "cell_type": "code",
   "execution_count": null,
   "metadata": {},
   "outputs": [],
   "source": []
  },
  {
   "cell_type": "code",
   "execution_count": null,
   "metadata": {},
   "outputs": [],
   "source": []
  }
 ],
 "metadata": {
  "kernelspec": {
   "display_name": "Python 3 (ipykernel)",
   "language": "python",
   "name": "python3"
  },
  "language_info": {
   "codemirror_mode": {
    "name": "ipython",
    "version": 3
   },
   "file_extension": ".py",
   "mimetype": "text/x-python",
   "name": "python",
   "nbconvert_exporter": "python",
   "pygments_lexer": "ipython3",
   "version": "3.9.7"
  }
 },
 "nbformat": 4,
 "nbformat_minor": 1
}
