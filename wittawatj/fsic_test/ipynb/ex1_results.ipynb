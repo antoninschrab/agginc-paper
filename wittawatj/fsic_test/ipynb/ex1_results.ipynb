{
 "cells": [
  {
   "cell_type": "markdown",
   "metadata": {
    "collapsed": true
   },
   "source": [
    "A notebook to process experimental results of ex1_vary_n.py. p(reject) as the sample size is varied."
   ]
  },
  {
   "cell_type": "code",
   "execution_count": null,
   "metadata": {},
   "outputs": [],
   "source": [
    "%load_ext autoreload\n",
    "%autoreload 2\n",
    "%matplotlib inline\n",
    "#%config InlineBackend.figure_format = 'svg'\n",
    "#%config InlineBackend.figure_format = 'pdf'\n",
    "import numpy as np\n",
    "import matplotlib.pyplot as plt\n",
    "import fsic.data as data\n",
    "import fsic.ex.exglobal as exglo\n",
    "import fsic.glo as glo\n",
    "import fsic.indtest as it\n",
    "import fsic.kernel as kernel\n",
    "import fsic.plot as plot\n",
    "import fsic.util as util\n",
    "\n",
    "import scipy.stats as stats"
   ]
  },
  {
   "cell_type": "code",
   "execution_count": null,
   "metadata": {
    "collapsed": true
   },
   "outputs": [],
   "source": [
    "plot.set_default_matplotlib_options()"
   ]
  },
  {
   "cell_type": "code",
   "execution_count": null,
   "metadata": {
    "collapsed": true
   },
   "outputs": [],
   "source": [
    "def load_plot_vs_n(fname, h1_true, xlabel='Sample size $n$', show_legend=True, xscale='log'):\n",
    "    func_xvalues = lambda agg_results: agg_results['sample_sizes']\n",
    "    ex = 1\n",
    "    def func_title(agg_results):\n",
    "        repeats, _, n_methods = agg_results['job_results'].shape\n",
    "        alpha = agg_results['alpha']\n",
    "        title = '%s. %d trials. $\\\\alpha$ = %.2g.'%\\\n",
    "            ( agg_results['prob_label'], repeats, alpha)\n",
    "        return title\n",
    "    #plt.figure(figsize=(10,5))\n",
    "    results = plot.plot_prob_reject(\n",
    "        ex, fname, h1_true, func_xvalues, xlabel=xlabel, func_title=func_title)\n",
    "    \n",
    "    plt.title('')\n",
    "    plt.gca().legend(loc='best').set_visible(show_legend)\n",
    "    #plt.grid(True)\n",
    "    if xscale is not None:\n",
    "        plt.xscale(xscale)\n",
    "        \n",
    "    return results\n",
    "\n",
    "def load_runtime_vs_n(fname, h1_true=True, xlabel='Sample size $n$', \n",
    "                      show_legend=True, xscale='log', yscale='log'):\n",
    "    func_xvalues = lambda agg_results: agg_results['sample_sizes']\n",
    "    ex = 1\n",
    "    def func_title(agg_results):\n",
    "        repeats, _, n_methods = agg_results['job_results'].shape\n",
    "        alpha = agg_results['alpha']\n",
    "        title = '%s. %d trials. $\\\\alpha$ = %.2g.'%\\\n",
    "            ( agg_results['prob_label'], repeats, alpha)\n",
    "        return title\n",
    "    \n",
    "    #plt.figure(figsize=(10,6))\n",
    "    \n",
    "    results = plot.plot_runtime(ex, fname,  \n",
    "                                func_xvalues, xlabel=xlabel, func_title=func_title)\n",
    "    \n",
    "    plt.title('')\n",
    "    plt.gca().legend(loc='best').set_visible(show_legend)\n",
    "    #plt.grid(True)\n",
    "    if xscale is not None:\n",
    "        plt.xscale(xscale)\n",
    "    if yscale is not None:\n",
    "        plt.yscale(yscale)\n",
    "        \n",
    "    return results\n"
   ]
  },
  {
   "cell_type": "code",
   "execution_count": null,
   "metadata": {
    "collapsed": true
   },
   "outputs": [],
   "source": [
    "def plot_pow_vs_time(results, h1_true=True, func_title=None, xscale='log', yscale='linear'):\n",
    "    #results = glo.ex_load_result(ex, fname)\n",
    "    repeats, _, n_methods = results['job_results'].shape\n",
    "    func_names = [f.__name__ for f in results['method_job_funcs'] ]\n",
    "    \n",
    "    time_accessor = lambda job_results: job_results['time_secs']\n",
    "    rej_accessor = lambda jr: jr['test_result']['h0_rejected']\n",
    "    \n",
    "    vf_time = np.vectorize(time_accessor)\n",
    "    vf_ref = np.vectorize(rej_accessor)\n",
    "    # results['job_results'] is a dictionary: \n",
    "    # {'test_result': (dict from running perform_test(te) '...':..., }\n",
    "    rejs = vf_ref(results['job_results'])\n",
    "    times = vf_time(results['job_results'])\n",
    "    \n",
    "    # #varying params x #methods\n",
    "    time_avg = np.mean(times, axis=0)\n",
    "    time_std = np.std(times, axis=0)\n",
    "    mean_rejs = np.mean(rejs, axis=0)\n",
    "    # plot\n",
    "    line_styles = exglo.func_plot_fmt_map()\n",
    "    method_labels = exglo.get_func2label_map()\n",
    "    \n",
    "    for i in range(n_methods):    \n",
    "        fmt = line_styles[func_names[i]]\n",
    "        #plt.errorbar(ns*te_proportion, mean_rejs[:, i], std_pvals[:, i])\n",
    "        method_label = method_labels[func_names[i]]\n",
    "        plt.plot(time_avg[:, i], mean_rejs[:, i], fmt, label=method_label)\n",
    "            \n",
    "    ylabel = 'Test power' if h1_true else 'Type-I error'\n",
    "    plt.ylabel(ylabel)\n",
    "    plt.xlabel('Time (s)')\n",
    "    #plt.xlim([np.min(xvalues), np.max(xvalues)])\n",
    "    #plt.xticks( xvalues, xvalues )\n",
    "    #plt.legend(loc='best')\n",
    "    plt.gca().set_xscale(xscale)\n",
    "    plt.gca().set_yscale(yscale)\n",
    "    title = '%s. %d trials. '%( results['prob_label'],\n",
    "            repeats ) if func_title is None else func_title(results)\n",
    "    plt.title(title)\n",
    "    #plt.grid()\n",
    "    return results\n"
   ]
  },
  {
   "cell_type": "code",
   "execution_count": null,
   "metadata": {
    "scrolled": false
   },
   "outputs": [],
   "source": [
    "# H0 true. Same Gaussian.\n",
    "# sg_fname = 'ex1-sg_d250-me7_rs300_nmi100.000_nma100000.000_a0.050_trp0.50.p'\n",
    "sg_fname = 'ex1-sg_d250-me6_rs200_nmi1000_nma100000_a0.050_trp0.50.p'\n",
    "sg_results = load_plot_vs_n(\n",
    "    sg_fname, h1_true=False, show_legend=False)\n",
    "#plt.ylim([0.00, 0.23])\n",
    "plt.xlim([3000, 10**5])\n",
    "# plt.ylim([0.03, 0.07])\n",
    "plt.savefig(sg_fname.replace('.p', '.pdf', 1), bbox_inches='tight')"
   ]
  },
  {
   "cell_type": "code",
   "execution_count": null,
   "metadata": {},
   "outputs": [],
   "source": [
    "load_runtime_vs_n(sg_fname, xscale='log', yscale='log', show_legend=False);\n",
    "#plt.legend(bbox_to_anchor=(1.7, 1))\n",
    "plt.ylim([0.08, 2000])\n",
    "plt.savefig(sg_fname.replace('.p', '', 1) + '_time.pdf', bbox_inches='tight')"
   ]
  },
  {
   "cell_type": "code",
   "execution_count": null,
   "metadata": {
    "scrolled": false
   },
   "outputs": [],
   "source": [
    "# sin frequency problem\n",
    "#sin_fname = 'ex1-sin_w4-me5_rs300_nmi1000_nma100000_a0.050_trp0.50.p'\n",
    "sin_fname = 'ex1-sin_w4-me6_rs300_nmi1000_nma100000_a0.050_trp0.50.p'\n",
    "# sin_fname = 'ex1-sin_w4-me6_rs100_nmi1000_nma100000_a0.050_trp0.20.p'\n",
    "sin_results = load_plot_vs_n(sin_fname, h1_true=True, show_legend=False)\n",
    "plt.savefig(sin_fname.replace('.p', '.pdf', 1), bbox_inches='tight')"
   ]
  },
  {
   "cell_type": "code",
   "execution_count": null,
   "metadata": {},
   "outputs": [],
   "source": [
    "# plot_pow_vs_time(sin_results, xscale='log', yscale='linear');"
   ]
  },
  {
   "cell_type": "code",
   "execution_count": null,
   "metadata": {
    "scrolled": false
   },
   "outputs": [],
   "source": [
    "# Gaussian sign problem \n",
    "#gsign_fname = 'ex1-gsign_d4-me7_rs300_nmi100.000_nma100000.000_a0.050_trp0.50.p'\n",
    "gsign_fname = 'ex1-gsign_d4-me6_rs300_nmi1000_nma100000_a0.050_trp0.50.p'\n",
    "#gsign_fname = 'ex1-gsign_d4-me6_rs100_nmi1000_nma1000000_a0.050_trp0.50.p'\n",
    "gsign_results = load_plot_vs_n(gsign_fname, h1_true=True, show_legend=False)\n",
    "#plt.ylim([0, 1.1])\n",
    "# plt.legend(bbox_to_anchor=(1.70, 1.05))\n",
    "\n",
    "plt.savefig(gsign_fname.replace('.p', '.pdf', 1), bbox_inches='tight')"
   ]
  },
  {
   "cell_type": "code",
   "execution_count": null,
   "metadata": {},
   "outputs": [],
   "source": [
    "gsign_results = load_runtime_vs_n(gsign_fname, xscale='log', yscale='log', show_legend=False)\n",
    "plt.legend(bbox_to_anchor=(1.7, 1))"
   ]
  },
  {
   "cell_type": "code",
   "execution_count": null,
   "metadata": {},
   "outputs": [],
   "source": [
    "# plot_pow_vs_time(gsign_results, xscale='log', yscale='linear');\n",
    "# plt.legend(bbox_to_anchor=(1.7, 1))\n",
    "# plt.savefig(gsign_fname.replace('.p', '', 1) + '_timepow.pdf', bbox_inches='tight')"
   ]
  },
  {
   "cell_type": "markdown",
   "metadata": {},
   "source": [
    "A toy problem where X follows the standard multivariate Gaussian, \n",
    "and Y = sign(product(X))*|Z| where Z ~ N(0, 1). \n"
   ]
  },
  {
   "cell_type": "markdown",
   "metadata": {},
   "source": [
    "----------------"
   ]
  },
  {
   "cell_type": "code",
   "execution_count": null,
   "metadata": {},
   "outputs": [],
   "source": [
    "# # H0 true. Same Gaussian.\n",
    "# sg50_fname = 'ex1-sg_d50-me5_rs200_nmi100.000_nma10000.000_a0.050_trp0.50.p'\n",
    "\n",
    "# sg50_results = load_plot_vs_n(\n",
    "#     sg50_fname, h1_true=False, show_legend=True)"
   ]
  },
  {
   "cell_type": "markdown",
   "metadata": {},
   "source": [
    "## Examine a result file"
   ]
  },
  {
   "cell_type": "code",
   "execution_count": null,
   "metadata": {},
   "outputs": [],
   "source": [
    "#fname = 'ex2-sin-me7_n4000_J1_rs200_pmi1.000_pma5.000_a0.010_trp0.50.p'\n",
    "fname = 'ex2-sg-me6_n4000_J1_rs100_pmi10.000_pma90.000_a0.050_trp0.50.p'\n",
    "#fname = 'ex2-u2drot-me7_n4000_J1_rs200_pmi0.000_pma10.000_a0.010_trp0.50.p'\n",
    "fpath = glo.ex_result_file(2, fname)\n",
    "result = glo.pickle_load(fpath)"
   ]
  },
  {
   "cell_type": "code",
   "execution_count": null,
   "metadata": {
    "scrolled": true
   },
   "outputs": [],
   "source": [
    "def load_tpm_table(ex, fname, key):\n",
    "    \"\"\"\n",
    "    Load a trials x parameters x methods numpy array of results.\n",
    "    The value to load is specified by the key.\n",
    "    \"\"\"\n",
    "    ex = 2\n",
    "    results = glo.ex_load_result(ex, fname)\n",
    "    f_val = lambda job_results: job_results['test_result'][key]\n",
    "    vf_val = np.vectorize(f_val)\n",
    "    # results['job_results'] is a dictionary: \n",
    "    # {'test_result': (dict from running perform_test(te) '...':..., }\n",
    "    vals = vf_val(results['job_results'])\n",
    "    #repeats, _, n_methods = results['job_results'].shape\n",
    "    met_job_funcs = results['method_job_funcs']\n",
    "    return vals, met_job_funcs\n",
    "    \n"
   ]
  },
  {
   "cell_type": "code",
   "execution_count": null,
   "metadata": {},
   "outputs": [],
   "source": [
    "sta, met_job_funcs = load_tpm_table(ex=2, fname=fname, key='test_stat')\n",
    "sta.shape"
   ]
  },
  {
   "cell_type": "code",
   "execution_count": null,
   "metadata": {},
   "outputs": [],
   "source": [
    "met_job_funcs"
   ]
  },
  {
   "cell_type": "code",
   "execution_count": null,
   "metadata": {
    "scrolled": true
   },
   "outputs": [],
   "source": [
    "nfsicJ10_stats = sta[:, :, 1]\n",
    "plt.figure(figsize=(12, 5))\n",
    "plt.imshow(nfsicJ10_stats.T, interpolation='none')\n",
    "plt.colorbar(orientation='horizontal')"
   ]
  },
  {
   "cell_type": "code",
   "execution_count": null,
   "metadata": {},
   "outputs": [],
   "source": [
    "J = 10\n",
    "thresh = stats.chi2.isf(0.05, df=J)\n",
    "np.mean(nfsicJ10_stats > thresh, 0)"
   ]
  },
  {
   "cell_type": "code",
   "execution_count": null,
   "metadata": {},
   "outputs": [],
   "source": [
    "param_stats = nfsicJ10_stats[:, 3]\n",
    "plt.hist(param_stats, normed=True)\n",
    "\n",
    "dom = np.linspace(1e-1, np.max(param_stats)+2, 500)\n",
    "chi2_den = stats.chi2.pdf(dom, df=J)\n",
    "plt.plot(dom, chi2_den, '-')"
   ]
  },
  {
   "cell_type": "code",
   "execution_count": null,
   "metadata": {
    "collapsed": true
   },
   "outputs": [],
   "source": []
  },
  {
   "cell_type": "code",
   "execution_count": null,
   "metadata": {
    "collapsed": true
   },
   "outputs": [],
   "source": []
  },
  {
   "cell_type": "code",
   "execution_count": null,
   "metadata": {
    "collapsed": true
   },
   "outputs": [],
   "source": []
  }
 ],
 "metadata": {
  "kernelspec": {
   "display_name": "Python 3 (ipykernel)",
   "language": "python",
   "name": "python3"
  },
  "language_info": {
   "codemirror_mode": {
    "name": "ipython",
    "version": 3
   },
   "file_extension": ".py",
   "mimetype": "text/x-python",
   "name": "python",
   "nbconvert_exporter": "python",
   "pygments_lexer": "ipython3",
   "version": "3.9.7"
  }
 },
 "nbformat": 4,
 "nbformat_minor": 1
}
