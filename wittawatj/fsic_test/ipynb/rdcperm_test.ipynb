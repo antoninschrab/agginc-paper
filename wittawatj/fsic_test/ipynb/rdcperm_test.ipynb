{
 "cells": [
  {
   "cell_type": "markdown",
   "metadata": {},
   "source": [
    "This notebook is to test the implementation of the Randomized Dependence Coefficient test using permutations to compute the null distribution."
   ]
  },
  {
   "cell_type": "code",
   "execution_count": null,
   "metadata": {},
   "outputs": [],
   "source": [
    "%load_ext autoreload\n",
    "%autoreload 2\n",
    "%matplotlib inline\n",
    "import numpy as np\n",
    "import matplotlib.pyplot as plt\n",
    "import fsic.util as util\n",
    "import fsic.data as data\n",
    "import fsic.feature as fea\n",
    "import fsic.kernel as kernel\n",
    "import fsic.indtest as it\n",
    "import fsic.glo as glo\n",
    "import scipy.stats as stats"
   ]
  },
  {
   "cell_type": "code",
   "execution_count": null,
   "metadata": {},
   "outputs": [],
   "source": [
    "# font options\n",
    "font = {\n",
    "    #'family' : 'normal',\n",
    "    #'weight' : 'bold',\n",
    "    'size'   : 16\n",
    "}\n",
    "\n",
    "plt.rc('font', **font)\n",
    "plt.rc('lines', linewidth=2)\n",
    "#matplotlib.rc('text', usetex=True)\n",
    "#matplotlib.rcParams['text.latex.preamble']=[r\"\\usepackage{amsmath}\"]"
   ]
  },
  {
   "cell_type": "code",
   "execution_count": null,
   "metadata": {},
   "outputs": [],
   "source": [
    "def get_quad_psfunc():\n",
    "    \"\"\"\n",
    "    Return a PairedSource to generate y = x^2 + Gaussian noise.\n",
    "    \"\"\"\n",
    "    px = lambda n: np.random.rand(n, 1)*8 - 4\n",
    "    f = lambda x: 0.2*x**2 + np.random.randn(x.shape[0], 1)\n",
    "    return data.PSFunc(f, px)\n",
    "    "
   ]
  },
  {
   "cell_type": "code",
   "execution_count": null,
   "metadata": {},
   "outputs": [],
   "source": [
    "# paired source \n",
    "alpha = 0.05\n",
    "n = 1000\n",
    "seed = 17\n",
    "\n",
    "dx = 10 \n",
    "dy = 5\n",
    "#ps = data.PSIndSameGauss(dx, dy)\n",
    "ps = get_quad_psfunc()\n",
    "#ps = data.PS2DUnifRotate(angle=np.pi/3)\n",
    "#ps = data.PSIndUnif(xlb=[0, 3], xub=[1, 10], ylb=[-5, 5], yub=[8, 10])\n",
    "#ps = data.PS2DSinFreq(freq=2)\n",
    "\n",
    "pdata = ps.sample(n, seed=seed)\n",
    "#tr, te = pdata.split_tr_te(tr_proportion=0.5, seed=10)"
   ]
  },
  {
   "cell_type": "code",
   "execution_count": null,
   "metadata": {},
   "outputs": [],
   "source": [
    "# get the median distances \n",
    "X, Y = pdata.xy()\n",
    "# copula transform to both X and Y\n",
    "cop_map = fea.MarginalCDFMap() \n",
    "Xcdf = cop_map.gen_features(X)\n",
    "Ycdf = cop_map.gen_features(Y)\n",
    "\n",
    "medx = util.meddistance(Xcdf, subsample=1000)\n",
    "medy = util.meddistance(Ycdf, subsample=1000)\n",
    "sigmax2 = medx**2\n",
    "sigmay2 = medy**2\n",
    "\n",
    "feature_pairs = 10\n",
    "fmx = fea.RFFKGauss(sigmax2, n_features=feature_pairs, seed=seed+1)\n",
    "fmy = fea.RFFKGauss(sigmay2, n_features=feature_pairs, seed=seed+2)\n",
    "rdc = it.RDCPerm(fmx, fmy, n_permute=300, alpha=alpha, seed=seed+89)\n",
    "rdc_result = rdc.perform_test(pdata)\n",
    "rdc_result\n"
   ]
  },
  {
   "cell_type": "markdown",
   "metadata": {},
   "source": [
    "## Null distribution"
   ]
  },
  {
   "cell_type": "code",
   "execution_count": null,
   "metadata": {},
   "outputs": [],
   "source": [
    "n_permute = 800\n",
    "with util.ContextTimer() as t1:\n",
    "    # naive permutation\n",
    "    naive_rdcs = it.RDCPerm._list_permute_naive(X, Y, fmx, fmy, n_permute=n_permute, seed=seed+1, use_copula=True)\n",
    "    pass\n",
    "\n",
    "with util.ContextTimer() as t2:\n",
    "    # fast permutation \n",
    "    fast_rdcs = it.RDCPerm.list_permute(X, Y, fmx, fmy, n_permute=n_permute, seed=seed+1, \n",
    "                             use_copula=True, cca_reg=1e-5)\n",
    "    \n",
    "print('naive permutation took: %.3g s'%t1.secs)\n",
    "print('fast permutation took: %.3g s'%t2.secs)"
   ]
  },
  {
   "cell_type": "code",
   "execution_count": null,
   "metadata": {},
   "outputs": [],
   "source": [
    "# histograms \n",
    "plt.figure(figsize=(10, 5))\n",
    "plt.hist(naive_rdcs, alpha=0.5, label='Naive', bins=15, density=True)\n",
    "plt.hist(fast_rdcs, alpha=0.5, label='Fast', bins=15, density=True)\n",
    "plt.legend()"
   ]
  },
  {
   "cell_type": "code",
   "execution_count": null,
   "metadata": {},
   "outputs": [],
   "source": []
  },
  {
   "cell_type": "code",
   "execution_count": null,
   "metadata": {},
   "outputs": [],
   "source": []
  },
  {
   "cell_type": "code",
   "execution_count": null,
   "metadata": {},
   "outputs": [],
   "source": []
  },
  {
   "cell_type": "code",
   "execution_count": null,
   "metadata": {},
   "outputs": [],
   "source": []
  }
 ],
 "metadata": {
  "kernelspec": {
   "display_name": "Python 3 (ipykernel)",
   "language": "python",
   "name": "python3"
  },
  "language_info": {
   "codemirror_mode": {
    "name": "ipython",
    "version": 3
   },
   "file_extension": ".py",
   "mimetype": "text/x-python",
   "name": "python",
   "nbconvert_exporter": "python",
   "pygments_lexer": "ipython3",
   "version": "3.9.7"
  }
 },
 "nbformat": 4,
 "nbformat_minor": 1
}
