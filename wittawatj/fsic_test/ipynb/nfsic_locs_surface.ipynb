{
 "cells": [
  {
   "cell_type": "markdown",
   "metadata": {
    "collapsed": true
   },
   "source": [
    "This notebook is to investigate the value of NFSIC as a function of the two test location $v$ and $w$."
   ]
  },
  {
   "cell_type": "code",
   "execution_count": null,
   "metadata": {},
   "outputs": [],
   "source": [
    "%load_ext autoreload\n",
    "%autoreload 2\n",
    "%matplotlib inline\n",
    "#%config InlineBackend.figure_format = 'svg'\n",
    "#%config InlineBackend.figure_format = 'pdf'\n",
    "import matplotlib\n",
    "import matplotlib.pyplot as plt\n",
    "import numpy as np\n",
    "import fsic.util as util\n",
    "import fsic.data as data\n",
    "import fsic.kernel as kernel\n",
    "import fsic.indtest as it\n",
    "import fsic.glo as glo\n",
    "import scipy.stats as stats\n"
   ]
  },
  {
   "cell_type": "code",
   "execution_count": null,
   "metadata": {},
   "outputs": [],
   "source": [
    "# font options\n",
    "font = {\n",
    "    #'family' : 'normal',\n",
    "    #'weight' : 'bold',\n",
    "    'size'   : 16\n",
    "}\n",
    "\n",
    "plt.rc('font', **font)\n",
    "plt.rc('lines', linewidth=2)\n",
    "#matplotlib.rc('text', usetex=True)\n",
    "#matplotlib.rcParams['text.latex.preamble']=[r\"\\usepackage{amsmath}\"]"
   ]
  },
  {
   "cell_type": "code",
   "execution_count": null,
   "metadata": {},
   "outputs": [],
   "source": [
    "def get_med_kernels(X, Y):\n",
    "    \"\"\"Return kernels k and l by computing the median heuristic \n",
    "    for X, and Y.\"\"\"    \n",
    "    # data and parameters\n",
    "    medx2 = util.meddistance(X)**2\n",
    "    medy2 = util.meddistance(Y)**2\n",
    "    # print\n",
    "    print('med x: %.3f'%medx2**0.5)\n",
    "    print('med y: %.3f'%medy2**0.5)\n",
    "    k = kernel.KGauss(medx2)\n",
    "    l = kernel.KGauss(medy2)\n",
    "    return k, l\n"
   ]
  },
  {
   "cell_type": "code",
   "execution_count": null,
   "metadata": {},
   "outputs": [],
   "source": [
    "def nfsic_stat(pdata, k, l, V, W, reg=0):\n",
    "    nfsic = it.NFSIC(k, l, V, W, alpha=0.01, reg=reg)\n",
    "    s = nfsic.compute_stat(pdata)\n",
    "    return s\n",
    "\n",
    "def nfsic_u(pdata, k, l, V, W, reg=0):\n",
    "    X, Y = pdata.xy()\n",
    "    _, u, _ = it.nfsic(X, Y, k, l, V, W, reg=reg)\n",
    "    return u\n",
    "\n",
    "def nfsic_joint_embed(pdata, k, l, V, W, reg=0):\n",
    "    X, Y = pdata.xy()\n",
    "    n = X.shape[0]\n",
    "    J = V.shape[0]\n",
    "    \n",
    "    K = k.eval(X, V) # n x J\n",
    "    L = l.eval(Y, W) # n x J\n",
    "    # mean\n",
    "    mean_k = np.mean(K, 0)\n",
    "    mean_l = np.mean(L, 0)\n",
    "    return np.mean(K*L, 0)\n",
    "    \n",
    "def nfsic_product_embeds(pdata, k, l, V, W, reg=0):\n",
    "    X, Y = pdata.xy()\n",
    "    n = X.shape[0]\n",
    "    J = V.shape[0]\n",
    "    \n",
    "    K = k.eval(X, V) # n x J\n",
    "    L = l.eval(Y, W) # n x J\n",
    "    # mean\n",
    "    mean_k = np.mean(K, 0)\n",
    "    mean_l = np.mean(L, 0)\n",
    "    return np.mean(K, 0)*np.mean(L, 0)\n",
    "    \n",
    "\n",
    "def nfsic_variance(pdata, k, l, V, W, reg=0):\n",
    "    X, Y = pdata.xy()\n",
    "    _, _, Sig = it.nfsic(X, Y, k, l, V, W, reg=reg)\n",
    "    return Sig\n"
   ]
  },
  {
   "cell_type": "code",
   "execution_count": null,
   "metadata": {},
   "outputs": [],
   "source": [
    "\n",
    "def generic_contourf(pdata, k, l, func, title=None):\n",
    "    \"\"\"\n",
    "    func: (pdata, k, l, V, W) |-> value. A function computing the values to plot.\n",
    "    \"\"\"\n",
    "    X, Y = pdata.xy()\n",
    "    max1, max2 = np.max(X, 0), np.max(Y, 0)\n",
    "    min1, min2 = np.min(X, 0), np.min(Y, 0)\n",
    "    #sd1, sd2 = np.std(XY, 0)\n",
    "    sd1, sd2 = ((max1-min1)*0.3, (max2-min2)*0.3)\n",
    "    # form a frequency grid to try \n",
    "    nd1 = 40\n",
    "    nd2 = 40\n",
    "    loc1_cands = np.linspace(min1-sd1/2, max1+sd1/2, nd1)\n",
    "    loc2_cands = np.linspace(min2-sd2/2, max2+sd2/2, nd2)\n",
    "    lloc1, lloc2 = np.meshgrid(loc1_cands, loc2_cands)\n",
    "    # nd2 x nd1 x 2\n",
    "    loc3d = np.dstack((lloc1, lloc2))\n",
    "    # #candidates x 2\n",
    "    all_loc2s = np.reshape(loc3d, (-1, 2) )\n",
    "\n",
    "    # all_locs = #candidates x J x 2\n",
    "    #all_locs = np.array( [np.vstack((c, loc1)) for c in all_loc2s] )\n",
    "    \n",
    "    # evaluate Lambda(T) on each candidate T on the grid. Size = (#candidates, )\n",
    "    stat_grid = np.array([func(pdata, k, l, np.array([T[0]])[np.newaxis, :], \n",
    "                                     np.array([T[1]])[np.newaxis, :]) for T in all_loc2s])\n",
    "    stat_grid = np.reshape(stat_grid, (nd2, nd1) )\n",
    "\n",
    "    #ax = fig.gca(projection='3d')\n",
    "    #ax.plot_surface(lloc1, lloc2, stat_grid, rstride=8, cstride=8, alpha=0.3)\n",
    "    #cset = ax.contourf(lloc1, lloc2, stat_grid, zdir='z', offset=0, cmap=cm.coolwarm)\n",
    "    plt.figure(figsize=(8, 3))\n",
    "    plt.contourf(lloc1, lloc2, stat_grid, alpha=0.6)\n",
    "    plt.gca().get_xaxis().set_visible(False)\n",
    "    plt.gca().get_yaxis().set_visible(False)\n",
    "    #plt.axis('off')\n",
    "    #plt.colorbar()\n",
    "\n",
    "    max_stat = np.max(stat_grid)\n",
    "    #plt.xlabel('')\n",
    "    #plt.ylabel('')\n",
    "    n = X.shape[0]\n",
    "    if title is not None:\n",
    "        pass\n",
    "        #plt.title(title)\n",
    "    #ax.view_init(elev=max_stat*2, azim=90)\n",
    "\n",
    "    # plot the data\n",
    "    plt.plot(X, Y, '.k', markeredgecolor='k', markersize=5, alpha=0.9)\n",
    "    #plt.xlabel('$X$')\n",
    "    #plt.ylabelel('$Y$')\n",
    "    \n",
    "    \n",
    "    # return the locations V, W \n",
    "    ind2d = np.unravel_index(np.argmax(stat_grid), stat_grid.shape)\n",
    "    V = np.array([ loc1_cands[ind2d[1]] ])[np.newaxis, :]\n",
    "    W = np.array([ loc2_cands[ind2d[0]] ])[np.newaxis, :]\n",
    "    \n",
    "    # put a star at the highest location\n",
    "    #plt.plot(V[0, 0], W[0, 0], 'r*', markersize=25)\n",
    "    return V, W\n",
    "    \n",
    "def nfsic_contourf(pdata, k, l):\n",
    "    \"\"\"return V, W corresponding to the points with the highest objective\"\"\"\n",
    "    \n",
    "    n = pdata.sample_size()\n",
    "    title = '$(\\mathbf{v}, \\mathbf{w}) \\mapsto \\hat{\\lambda}_{n}((\\mathbf{v}, \\mathbf{w}))$. $n=%d$. $J=1$'%n\n",
    "    V, W = generic_contourf(pdata, k, l, nfsic_stat, title)\n",
    "    return V, W\n",
    "\n",
    "def nfsic_mean_embeds_contourf(pdata, k, l):\n",
    "    \"\"\"\n",
    "    Plot the difference of the joint mean embedding to the product of mean embeddings \n",
    "    of the marginals.\n",
    "    \"\"\"\n",
    "    n = pdata.sample_size()\n",
    "    title = r'$\\hat{\\mu}_{xy}(\\mathbf{v}, \\mathbf{w}) - \\hat{\\mu}_x(\\mathbf{v}) \\hat{\\mu}_y(\\mathbf{w})$. $n=%d$. $J=1$'%n\n",
    "    V, W = generic_contourf(pdata, k, l, nfsic_u, title)\n",
    "    return V, W\n",
    "\n",
    "\n",
    "def nfsic_var_contourf(pdata, k, l):\n",
    "    \"\"\"\n",
    "    Plot the variance that is used to normalize the statistic.\n",
    "    \"\"\"\n",
    "    n = pdata.sample_size()\n",
    "    title = r'$\\hat{\\mathbf{\\Sigma}}((\\mathbf{v}, \\mathbf{w}))$. $n=%d$. $J=1$'%n\n",
    "    V, W = generic_contourf(pdata, k, l, nfsic_variance, title)\n",
    "    return V, W\n",
    "\n",
    "def nfsic_joint_embed_contourf(pdata, k, l):\n",
    "    \"\"\"\n",
    "    Plot the joint mean embedding.\n",
    "    \"\"\"\n",
    "    n = pdata.sample_size()\n",
    "    title = r'$\\hat{\\mu}_{xy}(\\mathbf{v}, \\mathbf{w})$. $n=%d$. $J=1$'%n\n",
    "    V, W = generic_contourf(pdata, k, l, nfsic_joint_embed, title)\n",
    "    return V, W\n",
    "\n",
    "def nfsic_product_embeds_contourf(pdata, k, l):\n",
    "    \"\"\"\n",
    "    Plot the product of the embeddings of the marginals of X and Y.\n",
    "    \"\"\"\n",
    "    n = pdata.sample_size()\n",
    "    title = r'$\\hat{\\mu}_x(\\mathbf{v}) \\hat{\\mu}_y(\\mathbf{w})$. $n=%d$. $J=1$'%n\n",
    "    V, W = generic_contourf(pdata, k, l, nfsic_product_embeds, title)\n",
    "    return V, W\n",
    "    "
   ]
  },
  {
   "cell_type": "code",
   "execution_count": null,
   "metadata": {},
   "outputs": [],
   "source": [
    "def get_quad_psfunc():\n",
    "    \"\"\"\n",
    "    Return a PairedSource to generate y = x^2 + Gaussian noise.\n",
    "    \"\"\"\n",
    "    mean = 2\n",
    "    width = 6\n",
    "    px = lambda n: stats.uniform.rvs(loc=mean-width/2, scale=width, size=n)[:, np.newaxis]\n",
    "    f = lambda x: 0.3*(x-1)**2 + 0.3*np.random.randn(x.shape[0], 1)\n",
    "    return data.PSFunc(f, px)\n",
    "\n",
    "def plot_locs_surface(pairedSource, n, seed=29, fname_prefix=''):\n",
    "    pdata = pairedSource.sample(n, seed=seed)\n",
    "    tr, te = pdata.split_tr_te(tr_proportion=0.5, seed=10)\n",
    "    xtr, ytr = tr.xy()\n",
    "\n",
    "    k, l = get_med_kernels(xtr, ytr)\n",
    "    \n",
    "    # plot the normalized statistics\n",
    "    V, W = nfsic_contourf(tr, k, l)\n",
    "    plt.savefig('%s_obj.pdf'%fname_prefix)\n",
    "    \n",
    "    # plot the unnormalized statistics\n",
    "    nfsic_mean_embeds_contourf(tr, k, l)\n",
    "    plt.savefig('%s_embed_diff.pdf'%fname_prefix)\n",
    "    # plot the normalizing variance \n",
    "    nfsic_var_contourf(tr, k, l)\n",
    "    plt.savefig('%s_var.pdf'%fname_prefix)\n",
    "    # plot the joint embedding\n",
    "    nfsic_joint_embed_contourf(tr, k, l)\n",
    "    plt.savefig('%s_joint_embed.pdf'%fname_prefix)\n",
    "    # plot the product of marginal embeddings\n",
    "    nfsic_product_embeds_contourf(tr, k, l)\n",
    "    plt.savefig('%s_prod_embed.pdf'%fname_prefix)\n",
    "    "
   ]
  },
  {
   "cell_type": "code",
   "execution_count": null,
   "metadata": {
    "scrolled": false
   },
   "outputs": [],
   "source": [
    "ps_sin = data.PS2DSinFreq(freq=1)\n",
    "plot_locs_surface(ps_sin, n=1500, seed=33, fname_prefix='sin')"
   ]
  },
  {
   "cell_type": "code",
   "execution_count": null,
   "metadata": {
    "scrolled": false
   },
   "outputs": [],
   "source": [
    "def get_lin_psfunc():\n",
    "    \"\"\"\n",
    "    Return a PairedSource to generate y = -x + Gaussian noise.\n",
    "    \"\"\"\n",
    "    mean = 2\n",
    "    width = 10\n",
    "    px = lambda n: stats.uniform.rvs(loc=mean-width/2, scale=width, size=n)[:, np.newaxis]\n",
    "    f = lambda x: -x + 0.3*np.random.randn(x.shape[0], 1)\n",
    "    return data.PSFunc(f, px)\n",
    "\n",
    "ps_lin = get_lin_psfunc()\n",
    "plot_locs_surface(ps_lin, n=1000, seed=32, fname_prefix='lin')"
   ]
  },
  {
   "cell_type": "code",
   "execution_count": null,
   "metadata": {
    "scrolled": false
   },
   "outputs": [],
   "source": [
    "# paired source \n",
    "alpha = 0.01\n",
    "n = 500\n",
    "seed = 14\n",
    "\n",
    "ps = get_quad_psfunc()\n",
    "#ps = data.PSIndUnif(xlb=[0, 3], xub=[1, 10], ylb=[-5, 5], yub=[8, 10])\n",
    "plot_locs_surface(ps, n)"
   ]
  },
  {
   "cell_type": "code",
   "execution_count": null,
   "metadata": {
    "scrolled": false
   },
   "outputs": [],
   "source": [
    "dx = 1\n",
    "dy = 1\n",
    "ps_sg = data.PSIndSameGauss(dx, dy)\n",
    "plot_locs_surface(ps_sg, n=400)"
   ]
  },
  {
   "cell_type": "markdown",
   "metadata": {},
   "source": [
    "When $X$ and $Y$ are independent, the regions that maximize the objective keep changing arbitrarily with $n$."
   ]
  },
  {
   "cell_type": "code",
   "execution_count": null,
   "metadata": {
    "scrolled": false
   },
   "outputs": [],
   "source": [
    "def get_sin_psfunc(freq = 1/3.0):\n",
    "    \"\"\"\n",
    "    Return a PairedSource to generate y = sin(x*f) + Gaussian noise.\n",
    "    \"\"\"\n",
    "    px = lambda n: np.random.randn(n, 1)*8\n",
    "    f = lambda x: np.sin(freq*x) + 0.1*np.random.randn(x.shape[0], 1)\n",
    "    return data.PSFunc(f, px)\n",
    "\n",
    "ps_sin = get_sin_psfunc()\n",
    "plot_locs_surface(ps_sin, n=600)\n"
   ]
  },
  {
   "cell_type": "markdown",
   "metadata": {},
   "source": [
    "This is the first example where the regions with high objective values keep moving as $n$ changes, even when $X$ and $Y$ are dependent. The test fails to reject $H_0$. It seems the test does not like a dependency given by a periodic function. **Update**: the test can handle it if the frequency is not too high."
   ]
  },
  {
   "cell_type": "code",
   "execution_count": null,
   "metadata": {},
   "outputs": [],
   "source": [
    "ps_rotate = data.PS2DUnifRotate(angle=np.pi*(1.0/4), xlb=-1, xub=1, ylb=-1, yub=1)\n",
    "plot_locs_surface(ps_rotate, n=800)"
   ]
  },
  {
   "cell_type": "code",
   "execution_count": null,
   "metadata": {},
   "outputs": [],
   "source": [
    "rot_data = ps_rotate.sample(3000, seed=3)\n",
    "x, y = rot_data.xy()\n",
    "plt.hist(x)"
   ]
  },
  {
   "cell_type": "code",
   "execution_count": null,
   "metadata": {},
   "outputs": [],
   "source": []
  },
  {
   "cell_type": "code",
   "execution_count": null,
   "metadata": {},
   "outputs": [],
   "source": []
  },
  {
   "cell_type": "code",
   "execution_count": null,
   "metadata": {},
   "outputs": [],
   "source": []
  },
  {
   "cell_type": "code",
   "execution_count": null,
   "metadata": {},
   "outputs": [],
   "source": []
  },
  {
   "cell_type": "code",
   "execution_count": null,
   "metadata": {},
   "outputs": [],
   "source": []
  }
 ],
 "metadata": {
  "kernelspec": {
   "display_name": "Python 3 (ipykernel)",
   "language": "python",
   "name": "python3"
  },
  "language_info": {
   "codemirror_mode": {
    "name": "ipython",
    "version": 3
   },
   "file_extension": ".py",
   "mimetype": "text/x-python",
   "name": "python",
   "nbconvert_exporter": "python",
   "pygments_lexer": "ipython3",
   "version": "3.9.7"
  }
 },
 "nbformat": 4,
 "nbformat_minor": 1
}
