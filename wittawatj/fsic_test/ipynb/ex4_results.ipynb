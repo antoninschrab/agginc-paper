{
 "cells": [
  {
   "cell_type": "markdown",
   "metadata": {
    "collapsed": true
   },
   "source": [
    "A notebook to process experimental results of ex4_real_data.py. "
   ]
  },
  {
   "cell_type": "code",
   "execution_count": null,
   "metadata": {},
   "outputs": [],
   "source": [
    "%load_ext autoreload\n",
    "%autoreload 2\n",
    "%matplotlib inline\n",
    "#%config InlineBackend.figure_format = 'svg'\n",
    "#%config InlineBackend.figure_format = 'pdf'\n",
    "import numpy as np\n",
    "import matplotlib.pyplot as plt\n",
    "import fsic.data as data\n",
    "import fsic.ex.exglobal as exglo\n",
    "import fsic.glo as glo\n",
    "import fsic.indtest as it\n",
    "import fsic.kernel as kernel\n",
    "import fsic.plot as plot\n",
    "import fsic.util as util\n",
    "\n",
    "import scipy.stats as stats"
   ]
  },
  {
   "cell_type": "code",
   "execution_count": null,
   "metadata": {
    "collapsed": true
   },
   "outputs": [],
   "source": [
    "# font options\n",
    "font = {\n",
    "    #'family' : 'normal',\n",
    "    #'weight' : 'bold',\n",
    "    'size'   : 14\n",
    "}\n",
    "\n",
    "plt.rc('font', **font)\n",
    "plt.rc('lines', linewidth=2)"
   ]
  },
  {
   "cell_type": "code",
   "execution_count": null,
   "metadata": {},
   "outputs": [],
   "source": [
    "def methods_powers(results, reps, alpha):\n",
    "    \"\"\"Return the powers of all methods\"\"\"\n",
    "    n_methods = len(results['method_job_funcs'])\n",
    "    met_powers = np.zeros(n_methods)\n",
    "    results0 = results['job_results'] \n",
    "    for mi in range(n_methods):\n",
    "        method_results = results0[:, mi]\n",
    "        pvals = np.array([method_results[r]['test_result']['pvalue'] for r in range(reps)] )\n",
    "        met_powers[mi] = np.mean(pvals < alpha)\n",
    "    return met_powers\n",
    "\n",
    "\n",
    "def table_powers(result_fnames, reps, alpha):\n",
    "    \"\"\"print a table showing test powers of all methods in all the result files.\"\"\"\n",
    "    ex = 4\n",
    "    met_pows = []\n",
    "    ns = []\n",
    "    prob_labels = []\n",
    "    for fi, fname in enumerate(result_fnames):\n",
    "        results = glo.ex_load_result(ex, fname)\n",
    "        #tr_proportion = results['tr_proportion']\n",
    "        #te_proportion = 1-tr_proportion\n",
    "        n = results['n']\n",
    "        \n",
    "        #nte = int(te_proportion*n)\n",
    "        ns.append(n)\n",
    "        met_pows.append(methods_powers(results, reps, alpha))\n",
    "        prob_labels.append(results['prob_label'])\n",
    "        \n",
    "    f2label = exglo.get_func2label_map()\n",
    "    method_labels = [f2label[f.__name__] for f in results['method_job_funcs']] \n",
    "    print(method_labels)\n",
    "    print('')\n",
    "    \n",
    "    for prob_label, mps, n in zip(prob_labels, met_pows, ns):\n",
    "        mps_str = [('%.3f'%p).lstrip('0') for p in mps]\n",
    "        str_row = [prob_label] + ['%d'%n] + mps_str\n",
    "        print(' & '.join(str_row))\n",
    "        print(' \\\\\\\\ \\n')\n",
    "\n",
    "#table_powers(result_fnames, fname_labels, 500)"
   ]
  },
  {
   "cell_type": "code",
   "execution_count": null,
   "metadata": {
    "scrolled": true
   },
   "outputs": [],
   "source": [
    "fnames = [\n",
    "    #'ex4-white_wine.n2000-me6_rs300_a0.050_trp0.50.p', \n",
    "    #'ex4-white_wine_h0.n2000-me6_rs300_a0.050_trp0.50.p',\n",
    "    #'ex4-white_wine_std.n3000-me4_rs300_a0.050_trp0.50.p', \n",
    "    #'ex4-white_wine_std_h0.n3000-me4_rs300_a0.050_trp0.50.p',\n",
    "    'ex4-white_wine_std.n2000-me5_rs300_a0.050_trp0.50.p',\n",
    "    'ex4-white_wine_std_h0.n2000-me5_rs300_a0.050_trp0.50.p',\n",
    "    'ex4-msd50000_std_h0.n2000-me5_rs300_a0.050_trp0.50.p',\n",
    "    'ex4-msd50000_std.n2000-me5_rs300_a0.050_trp0.50.p',\n",
    "    #'ex4-msd50000_std_h0.n6000-me4_rs300_a0.050_trp0.50.p',\n",
    "    #'ex4-msd50000_std.n6000-me4_rs300_a0.050_trp0.50.p',\n",
    "]\n",
    "reps = 300\n",
    "alpha = 0.01\n",
    "table_powers(fnames, reps=reps, alpha=alpha)"
   ]
  },
  {
   "cell_type": "markdown",
   "metadata": {},
   "source": [
    "## Examine a result file"
   ]
  },
  {
   "cell_type": "code",
   "execution_count": null,
   "metadata": {},
   "outputs": [],
   "source": [
    "fname = 'ex4-white_wine_std_h0.n3000-me4_rs300_a0.050_trp0.50.p'\n",
    "\n",
    "fpath = glo.ex_result_file(4, fname)\n",
    "results = glo.pickle_load(fpath)\n",
    "\n",
    "n = results['n']\n",
    "is_h0 = results['is_h0']\n",
    "ps = results['paired_source']\n",
    "repeats = results['repeats']\n",
    "method_job_funcs = results['method_job_funcs']\n"
   ]
  },
  {
   "cell_type": "code",
   "execution_count": null,
   "metadata": {
    "collapsed": true
   },
   "outputs": [],
   "source": [
    "def load_tm_table(results, func):\n",
    "    \"\"\"\n",
    "    Load a trials x methods numpy array of results.\n",
    "    The value to load is specified by the key.\n",
    "    job_result_func: a function to access the value of a job_result\n",
    "    \"\"\"\n",
    "    vf_val = np.vectorize(func)\n",
    "    # results['job_results'] is a dictionary: \n",
    "    # {'test_result': (dict from running perform_test(te) '...':..., }\n",
    "    vals = vf_val(results['job_results'])\n",
    "    #repeats, _, n_methods = results['job_results'].shape\n",
    "    met_job_funcs = results['method_job_funcs']\n",
    "    return vals, met_job_funcs   \n"
   ]
  },
  {
   "cell_type": "code",
   "execution_count": null,
   "metadata": {},
   "outputs": [],
   "source": [
    "f_indtest = lambda jr: jr['indtest']\n",
    "f_stat = lambda jr: jr['test_result']['test_stat']\n",
    "#f_time = lambda jr: jr['time_secs']\n",
    "it_table, met_job_funcs = load_tm_table(results, func=f_indtest)\n",
    "stat_table, _ = load_tm_table(results, func=f_stat)\n",
    "\n",
    "met_job_funcs"
   ]
  },
  {
   "cell_type": "code",
   "execution_count": null,
   "metadata": {},
   "outputs": [],
   "source": [
    "nfsic_ind = 0\n",
    "nfsics = it_table[:, nfsic_ind]\n",
    "kwidths = np.array([nf.k.sigma2 for nf in nfsics])\n",
    "lwidths = np.array([nf.l.sigma2 for nf in nfsics])\n",
    "nfsic_stats = stat_table[:, nfsic_ind]\n",
    "nfsic_stats = nfsic_stats[np.isfinite(nfsic_stats)]\n",
    "\n",
    "J = nfsics[0].V.shape[0]"
   ]
  },
  {
   "cell_type": "code",
   "execution_count": null,
   "metadata": {},
   "outputs": [],
   "source": [
    "thresh = stats.chi2.isf(alpha, df=J)\n",
    "dom = np.linspace(stats.chi2.isf(0.999, df=J), stats.chi2.isf(0.01, df=J), 300)\n",
    "chi2den = stats.chi2.pdf(dom, df=J)\n",
    "\n",
    "\n",
    "plt.figure(figsize=(10, 5))\n",
    "plt.hist(nfsic_stats, bins=20, normed=True)\n",
    "plt.plot(dom, chi2den, label=r'$\\chi^2(%d)$'%J)\n",
    "\n",
    "plt.legend()"
   ]
  },
  {
   "cell_type": "code",
   "execution_count": null,
   "metadata": {},
   "outputs": [],
   "source": [
    "plt.hist(lwidths, bins=20)"
   ]
  },
  {
   "cell_type": "code",
   "execution_count": null,
   "metadata": {},
   "outputs": [],
   "source": [
    "pack = glo.load_data_file('wine_quality', 'white_wine.p')\n",
    "\n",
    "xy_pdata = data.PairedData(pack['X'], pack['Y'])\n",
    "ps = data.PSStandardize(data.PSNullResample(xy_pdata))"
   ]
  },
  {
   "cell_type": "code",
   "execution_count": null,
   "metadata": {},
   "outputs": [],
   "source": [
    "n = 2000\n",
    "pdata = ps.sample(n, seed=27)\n",
    "X, Y = pdata.xy()\n",
    "medx2 = util.meddistance(X)**2\n",
    "medy2 = util.meddistance(Y)**2\n"
   ]
  },
  {
   "cell_type": "code",
   "execution_count": null,
   "metadata": {},
   "outputs": [],
   "source": [
    "from pandas.tools.plotting import scatter_matrix\n",
    "import pandas as pd\n",
    "df = pd.DataFrame(X)\n",
    "scatter_matrix(df, alpha=0.5, figsize=(12, 12), diagonal='kde');"
   ]
  },
  {
   "cell_type": "code",
   "execution_count": null,
   "metadata": {
    "collapsed": true
   },
   "outputs": [],
   "source": []
  },
  {
   "cell_type": "code",
   "execution_count": null,
   "metadata": {
    "collapsed": true
   },
   "outputs": [],
   "source": []
  },
  {
   "cell_type": "code",
   "execution_count": null,
   "metadata": {
    "collapsed": true
   },
   "outputs": [],
   "source": []
  },
  {
   "cell_type": "code",
   "execution_count": null,
   "metadata": {
    "collapsed": true
   },
   "outputs": [],
   "source": []
  },
  {
   "cell_type": "code",
   "execution_count": null,
   "metadata": {
    "collapsed": true
   },
   "outputs": [],
   "source": []
  },
  {
   "cell_type": "code",
   "execution_count": null,
   "metadata": {
    "collapsed": true
   },
   "outputs": [],
   "source": []
  }
 ],
 "metadata": {
  "kernelspec": {
   "display_name": "Python 3 (ipykernel)",
   "language": "python",
   "name": "python3"
  },
  "language_info": {
   "codemirror_mode": {
    "name": "ipython",
    "version": 3
   },
   "file_extension": ".py",
   "mimetype": "text/x-python",
   "name": "python",
   "nbconvert_exporter": "python",
   "pygments_lexer": "ipython3",
   "version": "3.9.7"
  }
 },
 "nbformat": 4,
 "nbformat_minor": 1
}
