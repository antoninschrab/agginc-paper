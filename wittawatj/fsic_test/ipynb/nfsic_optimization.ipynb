{
 "cells": [
  {
   "cell_type": "markdown",
   "metadata": {
    "collapsed": true
   },
   "source": [
    "This notebook is to test the optimization of the test locations V, W in NFSIC."
   ]
  },
  {
   "cell_type": "code",
   "execution_count": null,
   "metadata": {},
   "outputs": [],
   "source": [
    "%load_ext autoreload\n",
    "%autoreload 2\n",
    "%matplotlib inline\n",
    "#%config InlineBackend.figure_format = 'svg'\n",
    "#%config InlineBackend.figure_format = 'pdf'\n",
    "import matplotlib\n",
    "import matplotlib.pyplot as plt\n",
    "import numpy as np\n",
    "import fsic.util as util\n",
    "import fsic.data as data\n",
    "import fsic.kernel as kernel\n",
    "import fsic.indtest as it\n",
    "import fsic.glo as glo\n",
    "import scipy.stats as stats\n"
   ]
  },
  {
   "cell_type": "code",
   "execution_count": null,
   "metadata": {},
   "outputs": [],
   "source": [
    "# font options\n",
    "font = {\n",
    "    #'family' : 'normal',\n",
    "    #'weight' : 'bold',\n",
    "    'size'   : 14\n",
    "}\n",
    "\n",
    "plt.rc('font', **font)\n",
    "plt.rc('lines', linewidth=2)\n",
    "#matplotlib.rc('text', usetex=True)\n",
    "#matplotlib.rcParams['text.latex.preamble']=[r\"\\usepackage{amsmath}\"]"
   ]
  },
  {
   "cell_type": "code",
   "execution_count": null,
   "metadata": {},
   "outputs": [],
   "source": [
    "def get_quad_psfunc():\n",
    "    \"\"\"\n",
    "    Return a PairedSource to generate y = x^2 + Gaussian noise.\n",
    "    \"\"\"\n",
    "    mean = 2\n",
    "    width = 6\n",
    "    px = lambda n: stats.uniform.rvs(loc=mean-width/2, scale=width, size=n)[:, np.newaxis]\n",
    "    f = lambda x: 0.3*(x-1)**2 + 0.3*np.random.randn(n, 1)\n",
    "    #f = lambda x: x\n",
    "    return data.PSFunc(f, px)\n"
   ]
  },
  {
   "cell_type": "code",
   "execution_count": null,
   "metadata": {},
   "outputs": [],
   "source": [
    "# paired source \n",
    "alpha = 0.01\n",
    "n = 1000\n",
    "dx = 50\n",
    "dy = 5\n",
    "seed = 339\n",
    "ps = data.PSIndSameGauss(dx, dy)\n",
    "#ps = data.PS2DUnifRotate(angle=np.pi/4)\n",
    "#ps = data.PSUnifRotateNoise(angle=np.pi/3, noise_dim=2)\n",
    "#ps = get_quad_psfunc()\n",
    "#ps = data.PSIndUnif(xlb=[0, 3], xub=[1, 10], ylb=[-5, 5], yub=[8, 10])\n",
    "#ps = data.PS2DSinFreq(freq=2)\n",
    "\n",
    "pdata = ps.sample(n, seed=seed)\n",
    "tr, te = pdata.split_tr_te(tr_proportion=0.5, seed=seed+5)"
   ]
  },
  {
   "cell_type": "code",
   "execution_count": null,
   "metadata": {},
   "outputs": [],
   "source": [
    "# plot the data. Assume 2d. Plot the first dimensions of X and Y.\n",
    "xtr, ytr = tr.xy()\n",
    "plt.plot(xtr[:, 0], ytr[:, 0], 'ob')\n",
    "plt.xlabel('$X$')\n",
    "plt.ylabel('$Y$')"
   ]
  },
  {
   "cell_type": "markdown",
   "metadata": {},
   "source": [
    "## Grid search for Gaussian widths. Random test locations"
   ]
  },
  {
   "cell_type": "code",
   "execution_count": null,
   "metadata": {},
   "outputs": [],
   "source": [
    "J = 2\n",
    "\n",
    "V, W = it.GaussNFSIC.init_locs_2randn(tr, J, seed=seed+1)\n",
    "X, Y = tr.xy()\n",
    "n_gwidth_cand = 30\n",
    "gwidthx_factors = 2.0**np.linspace(-4, 4, n_gwidth_cand) \n",
    "gwidthy_factors = gwidthx_factors\n",
    "#gwidthy_factors = 2.0**np.linspace(-3, 4, 40) \n",
    "medx = util.meddistance(X, 1000)\n",
    "medy = util.meddistance(Y, 1000)\n",
    "list_gwidthx = np.hstack( ( (medx**2)*gwidthx_factors ) )\n",
    "list_gwidthy = np.hstack( ( (medy**2)*gwidthy_factors ) )\n",
    "\n",
    "bestij, lambs = it.GaussNFSIC.grid_search_gwidth(tr, V, W, list_gwidthx, list_gwidthy)\n",
    "# These are width^2\n",
    "best_widthx = list_gwidthx[bestij[0]]\n",
    "best_widthy = list_gwidthy[bestij[1]]\n",
    "# plot\n",
    "Candy, Candx = np.meshgrid(list_gwidthy, list_gwidthx)\n",
    "plt.figure(figsize=(8,5))\n",
    "plt.contourf(Candx, Candy, lambs)\n",
    "plt.plot(best_widthx, best_widthy, '*k', markersize=25, label='Best widths')\n",
    "plt.xlabel('Gaussian width for $X$')\n",
    "plt.ylabel('Gaussian width for $Y$')\n",
    "plt.title('Plot $\\hat{\\lambda}_n$. Best widths: (%.3g, %.3g)'\n",
    "          %(best_widthx**0.5, best_widthy**0.5))\n",
    "plt.legend(numpoints=1)\n",
    "plt.colorbar()"
   ]
  },
  {
   "cell_type": "code",
   "execution_count": null,
   "metadata": {
    "scrolled": false
   },
   "outputs": [],
   "source": [
    "# perform test\n",
    "nfsic_grid = it.GaussNFSIC(best_widthx, best_widthy, V, W, alpha)\n",
    "test_result = nfsic_grid.perform_test(te)\n",
    "test_result"
   ]
  },
  {
   "cell_type": "markdown",
   "metadata": {},
   "source": [
    "## Optimize the test locations V, W and Gaussian widths"
   ]
  },
  {
   "cell_type": "code",
   "execution_count": null,
   "metadata": {
    "scrolled": true
   },
   "outputs": [],
   "source": [
    "op = {'n_test_locs':J, 'max_iter':400,\n",
    "    'V_step':1, 'W_step':1, 'gwidthx_step':1, 'gwidthy_step':1,\n",
    "    'batch_proportion':0.7, 'tol_fun':1e-4, 'step_pow':0.5, 'seed':seed+7}\n",
    "op_V, op_W, op_gwx, op_gwy, info = it.GaussNFSIC.optimize_locs_widths(tr, alpha, **op )"
   ]
  },
  {
   "cell_type": "code",
   "execution_count": null,
   "metadata": {},
   "outputs": [],
   "source": [
    "# perform test\n",
    "nfsic_full = it.GaussNFSIC(op_gwx, op_gwy, op_V, op_W, alpha)\n",
    "nfsic_full.perform_test(te)"
   ]
  },
  {
   "cell_type": "code",
   "execution_count": null,
   "metadata": {
    "scrolled": false
   },
   "outputs": [],
   "source": [
    "# Plot evolution of the test locations, Gaussian width\n",
    "\n",
    "# trajectories of the Gaussian widths\n",
    "gwidthxs = info['gwidthxs']\n",
    "gwidthys = info['gwidthys']\n",
    "fig, axs = plt.subplots(3, 2, figsize=(12, 10))\n",
    "\n",
    "axs[1, 0].plot(gwidthxs, label='widths(X)')\n",
    "#axs[0, 0].plot(gwidthys, label='widths(Y)')\n",
    "axs[1, 0].set_xlabel('iteration')\n",
    "axs[1, 0].set_ylabel('Gaussian width for X')\n",
    "axs[1, 0].legend()\n",
    "#axs[0, 0].set_title('Gaussian width evolution')\n",
    "\n",
    "axs[2, 0].plot(gwidthys, label='widths(Y)')\n",
    "axs[2, 0].set_xlabel('iteration')\n",
    "axs[2, 0].set_ylabel('Gaussian width for Y')\n",
    "axs[2, 0].legend()\n",
    "\n",
    "# evolution of objective values\n",
    "objs = info['obj_values']\n",
    "axs[0, 1].plot(objs)\n",
    "axs[0, 1].set_title('Objective $\\hat{\\lambda}_n$')\n",
    "\n",
    "# trajectories of the test locations\n",
    "# iters x J. X Coordinates of all test locations\n",
    "Vs = info['Vs']\n",
    "vs = Vs[:, 0, 0]\n",
    "axs[1, 1].plot(vs)\n",
    "axs[1, 1].set_xlabel('iteration')\n",
    "axs[1, 1].set_ylabel('dim 0 of V')\n",
    "\n",
    "Ws = info['Ws']\n",
    "ws = Ws[:, 0, 0]\n",
    "axs[2, 1].plot(ws)\n",
    "axs[2, 1].set_xlabel('iteration')\n",
    "axs[2, 1].set_ylabel('dim 0 of W')"
   ]
  },
  {
   "cell_type": "code",
   "execution_count": null,
   "metadata": {
    "scrolled": true
   },
   "outputs": [],
   "source": [
    "print('medx2: %g'%medx**2)\n",
    "print('medy2: %g'%medy**2)\n",
    "print('optimized gwx: %g'%info['gwidthxs'][-1])\n",
    "print('optimized gwy: %g'%info['gwidthys'][-1])\n",
    "print('optimized + bounding gwx: %g'%op_gwx)\n",
    "print('optimized + bounding gwy: %g'%op_gwy)"
   ]
  },
  {
   "cell_type": "code",
   "execution_count": null,
   "metadata": {},
   "outputs": [],
   "source": [
    "V = nfsic_full.V\n",
    "W = nfsic_full.W\n",
    "\n",
    "# plot\n",
    "plt.figure(figsize=(10, 5))\n",
    "plt.imshow(V, interpolation='none')\n",
    "plt.title('V. J x d = %d x %d'%(V.shape[0], V.shape[1]))\n",
    "plt.colorbar(orientation='horizontal')"
   ]
  },
  {
   "cell_type": "code",
   "execution_count": null,
   "metadata": {},
   "outputs": [],
   "source": [
    "loc_ind = 0\n",
    "# Vs: #iters x J x d\n",
    "plt.figure(figsize=(10, 5))\n",
    "plt.plot(Vs[:, loc_ind, :]);\n",
    "plt.xlabel('iteration')\n",
    "plt.title('Consider location %d. dx = %d.'%(loc_ind, Vs.shape[2]) )"
   ]
  },
  {
   "cell_type": "code",
   "execution_count": null,
   "metadata": {},
   "outputs": [],
   "source": [
    "dim = 0\n",
    "plt.figure(figsize=(10, 5))\n",
    "plt.plot(Vs[:, :, dim]);\n",
    "plt.xlabel('iteration')\n",
    "plt.title('Consider dim %d. All %d locations of X'%(dim, J))"
   ]
  },
  {
   "cell_type": "markdown",
   "metadata": {
    "collapsed": true
   },
   "source": [
    "## Test power + optimization"
   ]
  },
  {
   "cell_type": "code",
   "execution_count": null,
   "metadata": {},
   "outputs": [],
   "source": [
    "\n",
    "reps = 50\n",
    "n = 1000\n",
    "J = 10\n",
    "alpha = 0.05\n",
    "# None = use aymptotics\n",
    "n_permute = None\n",
    "#n_permute = 200\n",
    "\n",
    "ps = data.PSIndSameGauss(dx=20, dy=20)\n",
    "\n",
    "def run_trial(r):\n",
    "    \"\"\"\n",
    "    r: repetition number\n",
    "    Return the resulting GaussNFSIC object, optimization info\n",
    "    \"\"\"\n",
    "    \n",
    "    print('starting rep: %d'%(r+1))\n",
    "    pdata = ps.sample(n, seed=r)\n",
    "    tr, te = pdata.split_tr_te(tr_proportion=0.5, seed=r+87)\n",
    "    nfsic_opt_options = {'n_test_locs':J, 'max_iter':200,\n",
    "        'V_step':1, 'W_step':1, 'gwidthx_step':1, 'gwidthy_step':1,\n",
    "        'batch_proportion':0.7, 'tol_fun':1e-3, 'step_pow':0.5, 'seed':r+2,\n",
    "        'reg': 1e-6}\n",
    "    #V, W = it.GaussNFSIC.init_locs_joint_subset(pdata2, J, seed=r+1)\n",
    "    #V, W = it.GaussNFSIC.init_locs_2randn(pdata, J, seed=r+3)\n",
    "\n",
    "    op_V, op_W, op_gwx, op_gwy, info = it.GaussNFSIC.optimize_locs_widths(tr,\n",
    "        alpha, **nfsic_opt_options )\n",
    "    nfsic_opt = it.GaussNFSIC(op_gwx, op_gwy, op_V, op_W, alpha=alpha,\n",
    "                              reg='auto', n_permute=n_permute, seed=r+3)\n",
    "    return nfsic_opt, info"
   ]
  },
  {
   "cell_type": "code",
   "execution_count": null,
   "metadata": {
    "scrolled": false
   },
   "outputs": [],
   "source": [
    "#from multiprocessing.dummy import Pool as ThreadPool\n",
    "#threads = 4\n",
    "#pool = ThreadPool(threads)\n",
    "#rep_nfsics = pool.map(run_trial, range(reps))\n",
    "opt_infos = []\n",
    "rep_nfsics = []\n",
    "for r in range(reps):\n",
    "    nf, info = run_trial(r)\n",
    "    opt_infos.append(info)\n",
    "    rep_nfsics.append(nf)\n",
    "    "
   ]
  },
  {
   "cell_type": "code",
   "execution_count": null,
   "metadata": {
    "scrolled": true
   },
   "outputs": [],
   "source": [
    "test_results = np.zeros(reps, dtype=object)\n",
    "for r in range(reps):\n",
    "    nfsic = rep_nfsics[r]\n",
    "    pdata = ps.sample(4000, seed=r+1)\n",
    "    tr, te = pdata.split_tr_te(tr_proportion=0.5, seed=r+87)\n",
    "    \n",
    "    nfsic_result  = nfsic.perform_test(te)\n",
    "    test_results[r] = nfsic_result\n",
    "    \n",
    "    # sequence of power\n",
    "    #rejs = [re['h0_rejected'] for re in test_results[:(r+1)]]\n",
    "    #print 'power at rep %3d: %5.4g, #rejs: %3d'%(r+1, np.mean(rejs), np.sum(rejs))"
   ]
  },
  {
   "cell_type": "code",
   "execution_count": null,
   "metadata": {},
   "outputs": [],
   "source": [
    "rejs = np.array([r['h0_rejected'] for r in test_results])\n",
    "rep_stats = np.array([r['test_stat'] for r in test_results])\n",
    "thresh = stats.chi2.isf(alpha, df=J)\n",
    "\n",
    "power = np.mean(rejs)\n",
    "print('power: %g'%power)"
   ]
  },
  {
   "cell_type": "code",
   "execution_count": null,
   "metadata": {
    "scrolled": true
   },
   "outputs": [],
   "source": [
    "np.where(np.isnan(rep_stats))"
   ]
  },
  {
   "cell_type": "code",
   "execution_count": null,
   "metadata": {
    "scrolled": false
   },
   "outputs": [],
   "source": [
    "# histogram\n",
    "dom = np.linspace(stats.chi2.isf(0.99, df=J), stats.chi2.isf(0.01, df=J), 600)\n",
    "chi2_den = stats.chi2.pdf(dom, df=J)\n",
    "\n",
    "plt.figure(figsize=(10, 5))\n",
    "plt.hist(rep_stats[np.isfinite(rep_stats)], bins=20, \n",
    "         alpha=0.5, label='Repeated trials', density=True)\n",
    "plt.plot(dom, chi2_den, '-', label=r'$\\chi^2(%d)$'%J)\n",
    "plt.legend()\n"
   ]
  },
  {
   "cell_type": "code",
   "execution_count": null,
   "metadata": {
    "scrolled": true
   },
   "outputs": [],
   "source": [
    "# check optimized locations\n",
    "def plot_opt_VW_trial(r):\n",
    "    nf = rep_nfsics[r]\n",
    "    V = nf.V\n",
    "    W = nf.W\n",
    "    VW = np.hstack((V, W))\n",
    "    VW = VW[np.isfinite(np.sum(VW,1))]\n",
    "    #print VW\n",
    "    # plot\n",
    "    plt.plot(VW[:, 0], VW[:, 1], 'o')\n",
    "    plt.xlabel('V')\n",
    "    plt.ylabel('W')\n",
    "    plt.xlim([-4, 4])\n",
    "    plt.ylim([-4, 4])\n",
    "    plt.title('trial: %d, #locs: %d'%(r, VW.shape[0]))"
   ]
  },
  {
   "cell_type": "code",
   "execution_count": null,
   "metadata": {},
   "outputs": [],
   "source": [
    "from ipywidgets import interact, fixed\n",
    "interact(plot_opt_VW_trial, r=(0, reps-1, 1))"
   ]
  },
  {
   "cell_type": "code",
   "execution_count": null,
   "metadata": {},
   "outputs": [],
   "source": []
  },
  {
   "cell_type": "code",
   "execution_count": null,
   "metadata": {},
   "outputs": [],
   "source": []
  },
  {
   "cell_type": "code",
   "execution_count": null,
   "metadata": {},
   "outputs": [],
   "source": []
  }
 ],
 "metadata": {
  "kernelspec": {
   "display_name": "Python 3 (ipykernel)",
   "language": "python",
   "name": "python3"
  },
  "language_info": {
   "codemirror_mode": {
    "name": "ipython",
    "version": 3
   },
   "file_extension": ".py",
   "mimetype": "text/x-python",
   "name": "python",
   "nbconvert_exporter": "python",
   "pygments_lexer": "ipython3",
   "version": "3.9.7"
  }
 },
 "nbformat": 4,
 "nbformat_minor": 1
}
