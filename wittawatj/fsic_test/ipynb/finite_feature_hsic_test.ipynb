{
 "cells": [
  {
   "cell_type": "markdown",
   "metadata": {},
   "source": [
    "This notebook is to test the implementation of HSIC using finite-dimensional feature maps. FiniteFeatureHSIC class."
   ]
  },
  {
   "cell_type": "code",
   "execution_count": null,
   "metadata": {},
   "outputs": [],
   "source": [
    "%load_ext autoreload\n",
    "%autoreload 2\n",
    "%matplotlib inline\n",
    "import numpy as np\n",
    "import matplotlib.pyplot as plt\n",
    "import fsic.util as util\n",
    "import fsic.data as data\n",
    "import fsic.feature as fea\n",
    "import fsic.kernel as kernel\n",
    "import fsic.indtest as it\n",
    "import fsic.glo as glo\n",
    "import scipy.stats as stats"
   ]
  },
  {
   "cell_type": "code",
   "execution_count": null,
   "metadata": {},
   "outputs": [],
   "source": [
    "# font options\n",
    "font = {\n",
    "    #'family' : 'normal',\n",
    "    #'weight' : 'bold',\n",
    "    'size'   : 16\n",
    "}\n",
    "\n",
    "plt.rc('font', **font)\n",
    "plt.rc('lines', linewidth=2)\n",
    "#matplotlib.rc('text', usetex=True)\n",
    "#matplotlib.rcParams['text.latex.preamble']=[r\"\\usepackage{amsmath}\"]"
   ]
  },
  {
   "cell_type": "code",
   "execution_count": null,
   "metadata": {},
   "outputs": [],
   "source": [
    "def get_quad_psfunc():\n",
    "    \"\"\"\n",
    "    Return a PairedSource to generate y = x^2 + Gaussian noise.\n",
    "    \"\"\"\n",
    "    px = lambda n: np.random.rand(n, 1)*8 - 4\n",
    "    f = lambda x: 0.2*x**2 + np.random.randn(x.shape[0], 1)\n",
    "    return data.PSFunc(f, px)\n",
    "    "
   ]
  },
  {
   "cell_type": "code",
   "execution_count": null,
   "metadata": {},
   "outputs": [],
   "source": [
    "# paired source \n",
    "alpha = 0.05\n",
    "n = 2000\n",
    "seed = 18\n",
    "\n",
    "dx = 10 \n",
    "dy = 5\n",
    "ps = data.PSIndSameGauss(dx, dy)\n",
    "#ps = get_quad_psfunc()\n",
    "#ps = data.PS2DUnifRotate(angle=np.pi/3)\n",
    "#ps = data.PSIndUnif(xlb=[0, 3], xub=[1, 10], ylb=[-5, 5], yub=[8, 10])\n",
    "#ps = data.PS2DSinFreq(freq=2)\n",
    "\n",
    "pdata = ps.sample(n, seed=seed)\n",
    "#tr, te = pdata.split_tr_te(tr_proportion=0.5, seed=10)"
   ]
  },
  {
   "cell_type": "code",
   "execution_count": null,
   "metadata": {
    "scrolled": false
   },
   "outputs": [],
   "source": [
    "# get the median distances \n",
    "X, Y = pdata.xy()\n",
    "medx = util.meddistance(X, subsample=1000)\n",
    "medy = util.meddistance(Y, subsample=1000)\n",
    "sigmax2 = medx**2\n",
    "sigmay2 = medy**2\n",
    "\n",
    "feature_pairs = 50\n",
    "n_simulate = 5000\n",
    "fmx = fea.RFFKGauss(sigmax2, n_features=feature_pairs, seed=seed+1)\n",
    "fmy = fea.RFFKGauss(sigmay2, n_features=feature_pairs, seed=seed+2)\n",
    "ffhsic = it.FiniteFeatureHSIC(fmx, fmy, n_simulate=n_simulate, alpha=alpha, seed=seed+89)\n",
    "ffhsic_result = ffhsic.perform_test(pdata)\n",
    "ffhsic_result\n"
   ]
  },
  {
   "cell_type": "markdown",
   "metadata": {},
   "source": [
    "## Null distribution\n",
    "\n",
    "Check that the distribution simulated from the spectral approach is the same as the one obtained by permutations."
   ]
  },
  {
   "cell_type": "code",
   "execution_count": null,
   "metadata": {},
   "outputs": [],
   "source": [
    "n_permute = 500\n",
    "n_simulate = 500\n",
    "\n",
    "Zx = fmx.gen_features(X)\n",
    "Zy = fmy.gen_features(Y)\n",
    "list_perm = it.FiniteFeatureHSIC.list_permute(X, Y, fmx, fmy, n_permute=n_permute, seed=100)\n",
    "list_spectral, eigx, eigy = it.FiniteFeatureHSIC.list_permute_spectral(Zx, Zy, \n",
    "                                                           n_simulate=n_simulate, seed=119)"
   ]
  },
  {
   "cell_type": "code",
   "execution_count": null,
   "metadata": {},
   "outputs": [],
   "source": [
    "freq_p, edge_p = np.histogram(list_perm)\n",
    "freq_s, edge_s = np.histogram(list_spectral)\n",
    "nfreq_p = freq_p/float(np.sum(freq_p))\n",
    "nfreq_s = freq_s/float(np.sum(freq_s))\n",
    "np.abs(nfreq_p-nfreq_s)\n"
   ]
  },
  {
   "cell_type": "code",
   "execution_count": null,
   "metadata": {
    "scrolled": false
   },
   "outputs": [],
   "source": [
    "# histogram\n",
    "plt.figure(figsize=(10, 5))\n",
    "#plt.hist(list_perm, color='blue', alpha=0.7, normed=True, bins=20)\n",
    "plt.hist(list_spectral, color='red', alpha=0.5, density=True, bins=20, label='Spectral')\n",
    "plt.hist(list_perm, color='blue', alpha=0.5, density=True, bins=20, label='Permutation')\n",
    "plt.legend()"
   ]
  },
  {
   "cell_type": "markdown",
   "metadata": {},
   "source": [
    "## Eigen values"
   ]
  },
  {
   "cell_type": "code",
   "execution_count": null,
   "metadata": {},
   "outputs": [],
   "source": [
    "k = kernel.KGauss(sigmax2)\n",
    "l = kernel.KGauss(sigmay2)\n",
    "n = X.shape[0]\n",
    "H = np.eye(n) - np.ones((n, n))/float(n)\n",
    "\n",
    "K = k.eval(X, X)\n",
    "L = l.eval(Y, Y)\n",
    "HKH = H.dot(K).dot(H)\n",
    "HLH = H.dot(L).dot(H)"
   ]
  },
  {
   "cell_type": "code",
   "execution_count": null,
   "metadata": {},
   "outputs": [],
   "source": [
    "full_eigx, _ = np.linalg.eig(HKH)\n",
    "full_eigx = np.real(full_eigx)\n",
    "full_eigy, _ = np.linalg.eig(HLH)\n",
    "full_eigy = np.real(full_eigy)\n",
    "# sort decreasingly\n",
    "full_eigx = -np.sort(-full_eigx)/n\n",
    "full_eigy = -np.sort(-full_eigy)/n"
   ]
  },
  {
   "cell_type": "code",
   "execution_count": null,
   "metadata": {},
   "outputs": [],
   "source": [
    "# compare the product of eigenvalues to the full kernel matrix case \n",
    "full_eig = np.outer(full_eigx, full_eigy).reshape(-1)\n",
    "finite_eig = np.outer(eigx, eigy).reshape(-1)\n",
    "lim = min(len(full_eig), len(finite_eig), 10)\n",
    "\n",
    "plt.plot(finite_eig[:lim], 'bo-', label='finite-dim kernel')\n",
    "plt.plot(full_eig[:lim], 'go-', label='full kernel matrix')\n",
    "plt.legend()\n",
    "plt.title('Product of eigenvalues')"
   ]
  },
  {
   "cell_type": "code",
   "execution_count": null,
   "metadata": {},
   "outputs": [],
   "source": []
  },
  {
   "cell_type": "code",
   "execution_count": null,
   "metadata": {},
   "outputs": [],
   "source": []
  },
  {
   "cell_type": "code",
   "execution_count": null,
   "metadata": {},
   "outputs": [],
   "source": []
  }
 ],
 "metadata": {
  "kernelspec": {
   "display_name": "Python 3 (ipykernel)",
   "language": "python",
   "name": "python3"
  },
  "language_info": {
   "codemirror_mode": {
    "name": "ipython",
    "version": 3
   },
   "file_extension": ".py",
   "mimetype": "text/x-python",
   "name": "python",
   "nbconvert_exporter": "python",
   "pygments_lexer": "ipython3",
   "version": "3.9.7"
  }
 },
 "nbformat": 4,
 "nbformat_minor": 1
}
