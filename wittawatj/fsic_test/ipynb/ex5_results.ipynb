{
 "cells": [
  {
   "cell_type": "markdown",
   "metadata": {
    "collapsed": true
   },
   "source": [
    "A notebook to process experimental results of ex5. p(reject) as the sample size is varied."
   ]
  },
  {
   "cell_type": "code",
   "execution_count": null,
   "metadata": {},
   "outputs": [],
   "source": [
    "%load_ext autoreload\n",
    "%autoreload 2\n",
    "%matplotlib inline\n",
    "#%config InlineBackend.figure_format = 'svg'\n",
    "#%config InlineBackend.figure_format = 'pdf'\n",
    "import numpy as np\n",
    "import matplotlib.pyplot as plt\n",
    "import fsic.data as data\n",
    "import fsic.ex.exglobal as exglo\n",
    "import fsic.glo as glo\n",
    "import fsic.indtest as it\n",
    "import fsic.kernel as kernel\n",
    "import fsic.plot as plot\n",
    "import fsic.util as util\n",
    "\n",
    "import scipy.stats as stats"
   ]
  },
  {
   "cell_type": "code",
   "execution_count": null,
   "metadata": {
    "collapsed": true
   },
   "outputs": [],
   "source": [
    "plot.set_default_matplotlib_options()"
   ]
  },
  {
   "cell_type": "code",
   "execution_count": null,
   "metadata": {
    "collapsed": true
   },
   "outputs": [],
   "source": [
    "def load_plot_vs_n(fname, h1_true=True, xlabel='Sample size $n$', show_legend=True, xscale='linear'):\n",
    "    func_xvalues = lambda agg_results: agg_results['sample_sizes']\n",
    "    ex = 5\n",
    "    def func_title(agg_results):\n",
    "        repeats, _, n_methods = agg_results['job_results'].shape\n",
    "        alpha = agg_results['alpha']\n",
    "        title = '%s. %d trials. $\\\\alpha$ = %.2g.'%\\\n",
    "            ( agg_results['prob_label'], repeats, alpha)\n",
    "        return title\n",
    "    #plt.figure(figsize=(10,6))\n",
    "    results = plot.plot_prob_reject(\n",
    "        ex, fname, h1_true, func_xvalues, xlabel=xlabel, func_title=func_title)\n",
    "    \n",
    "    plt.title('')\n",
    "    plt.gca().legend(loc='best').set_visible(show_legend)\n",
    "    #plt.grid(True)\n",
    "    if xscale is not None:\n",
    "        plt.xscale(xscale)\n",
    "        \n",
    "    return results\n"
   ]
  },
  {
   "cell_type": "code",
   "execution_count": null,
   "metadata": {
    "collapsed": true
   },
   "outputs": [],
   "source": [
    "def load_runtime_vs_n(fname, h1_true=True, xlabel='Sample size $n$', \n",
    "                      show_legend=True, xscale='linear', yscale='log'):\n",
    "    func_xvalues = lambda agg_results: agg_results['sample_sizes']\n",
    "    ex = 5\n",
    "    def func_title(agg_results):\n",
    "        repeats, _, n_methods = agg_results['job_results'].shape\n",
    "        alpha = agg_results['alpha']\n",
    "        title = '%s. %d trials. $\\\\alpha$ = %.2g.'%\\\n",
    "            ( agg_results['prob_label'], repeats, alpha)\n",
    "        return title\n",
    "    \n",
    "    #plt.figure(figsize=(10,6))\n",
    "    \n",
    "    results = plot.plot_runtime(ex, fname,  \n",
    "                                func_xvalues, xlabel=xlabel, func_title=func_title)\n",
    "    \n",
    "    plt.title('')\n",
    "    plt.gca().legend(loc='best').set_visible(show_legend)\n",
    "    #plt.grid(True)\n",
    "    if xscale is not None:\n",
    "        plt.xscale(xscale)\n",
    "    if yscale is not None:\n",
    "        plt.yscale(yscale)\n",
    "        \n",
    "    return results\n"
   ]
  },
  {
   "cell_type": "code",
   "execution_count": null,
   "metadata": {
    "scrolled": false
   },
   "outputs": [],
   "source": [
    "# H0 true. \n",
    "msd_h0_fname = 'ex5-msd50000_std_h0-me6_rs300_nmi500_nma2000_a0.010_trp0.50.p'\n",
    "msd_h0_results = load_plot_vs_n(msd_h0_fname, h1_true=False, show_legend=True)\n",
    "plt.xticks(range(500, 2000+1, 500))\n",
    "#plt.ylim([0.00, 0.023])\n",
    "plt.legend(bbox_to_anchor=(1.70, 1.45), ncol=6, prop={'size': 20})\n",
    "plt.savefig(msd_h0_fname.replace('.p', '.pdf', 1), bbox_inches='tight')"
   ]
  },
  {
   "cell_type": "code",
   "execution_count": null,
   "metadata": {
    "scrolled": true
   },
   "outputs": [],
   "source": [
    "msd_fname = 'ex5-msd50000_std-me6_rs300_nmi500_nma2000_a0.010_trp0.50.p'\n",
    "msd_results = load_plot_vs_n(msd_fname, h1_true=True, show_legend=False)\n",
    "plt.ylim([0.25, 1.02])\n",
    "plt.xticks(range(500, 2000+1, 500))\n",
    "plt.savefig(msd_fname.replace('.p', '.pdf', 1), bbox_inches='tight')"
   ]
  },
  {
   "cell_type": "code",
   "execution_count": null,
   "metadata": {},
   "outputs": [],
   "source": [
    "# H0 true\n",
    "vdo_h0_fname = 'ex5-data_n10000_td1878_vd2000_std_h0-me6_rs300_nmi2000_nma8000_a0.010_trp0.50.p'\n",
    "load_plot_vs_n(vdo_h0_fname, h1_true=False, show_legend=False);\n",
    "plt.xticks([2000, 4000, 6000, 8000])\n",
    "plt.savefig(vdo_h0_fname.replace('.p', '.pdf', 1), bbox_inches='tight')"
   ]
  },
  {
   "cell_type": "code",
   "execution_count": null,
   "metadata": {
    "scrolled": false
   },
   "outputs": [],
   "source": [
    "vdo_fname = 'ex5-data_n10000_td1878_vd2000_std-me6_rs300_nmi2000_nma8000_a0.010_trp0.50.p'\n",
    "load_plot_vs_n(vdo_fname, show_legend=False);\n",
    "plt.xticks([2000, 4000, 6000, 8000])\n",
    "#plt.legend(bbox_to_anchor=(1.70, 1.35), ncol=5, prop={'size': 20})\n",
    "plt.savefig(vdo_fname.replace('.p', '.pdf', 1), bbox_inches='tight')"
   ]
  },
  {
   "cell_type": "code",
   "execution_count": null,
   "metadata": {
    "scrolled": false
   },
   "outputs": [],
   "source": [
    "load_runtime_vs_n(vdo_fname, show_legend=False, \n",
    "                 # yscale='linear'\n",
    "                 );\n",
    "plt.legend(bbox_to_anchor=(1.7, 1))\n",
    "# plt.grid()\n",
    "plt.xticks([2000, 4000, 6000, 8000])"
   ]
  },
  {
   "cell_type": "markdown",
   "metadata": {},
   "source": [
    "# plot the two vdo results together\n",
    "plt.figure(figsize=(12, 4))\n",
    "plt.subplot(1, 2, 1)\n",
    "load_plot_vs_n(vdo_h0_fname, h1_true=False, show_legend=False);\n",
    "plt.xticks([2000, 4000, 6000, 8000])\n",
    "\n",
    "plt.subplot(1, 2, 2)\n",
    "load_plot_vs_n(vdo_fname, show_legend=False);\n",
    "#plt.legend(ncol=5)\n",
    "plt.xticks([2000, 4000, 6000, 8000])\n",
    "plt.legend(ncol=5, prop={'size': 16})\n",
    "\n"
   ]
  },
  {
   "cell_type": "markdown",
   "metadata": {},
   "source": [
    "----------------"
   ]
  },
  {
   "cell_type": "code",
   "execution_count": null,
   "metadata": {
    "scrolled": true
   },
   "outputs": [],
   "source": [
    "# H0 true\n",
    "wine_h0_fname = 'ex5-white_wine_std_h0-me6_rs100_nmi100_nma500_a0.010_trp0.50.p'\n",
    "#wine_h0_fname = 'ex5-white_wine_ndx5_ndy5_std_h0-me5_rs100_nmi200_nma500_a0.010_trp0.50.p'\n",
    "wine_h0_results = load_plot_vs_n(wine_h0_fname, h1_true=False, show_legend=True)\n",
    "#plt.ylim([0.00, 0.23])\n",
    "#plt.savefig(gmd_fname.replace('.p', '.pdf', 1))"
   ]
  },
  {
   "cell_type": "code",
   "execution_count": null,
   "metadata": {
    "scrolled": true
   },
   "outputs": [],
   "source": [
    "wine_fname = 'ex5-white_wine_std-me6_rs100_nmi100_nma500_a0.010_trp0.50.p'\n",
    "#wine_fname = 'ex5-white_wine_ndx5_ndy5_std-me5_rs100_nmi200_nma500_a0.010_trp0.50.p'\n",
    "wine_results = load_plot_vs_n(wine_fname, h1_true=True, show_legend=True)\n",
    "#plt.ylim([0.00, 0.23])\n",
    "#plt.savefig(gmd_fname.replace('.p', '.pdf', 1))"
   ]
  },
  {
   "cell_type": "code",
   "execution_count": null,
   "metadata": {},
   "outputs": [],
   "source": [
    "# H0 true\n",
    "news_h0_fname = 'ex5-news_popularity_std_h0-me6_rs100_nmi500_nma2000_a0.010_trp0.50.p'\n",
    "#news_h0_fname = 'ex5-news_popularity_ndx5_ndy5_std_h0-me5_rs100_nmi500_nma2000_a0.010_trp0.50.p'\n",
    "#news_h0_results = load_plot_vs_n(news_h0_fname, h1_true=False, show_legend=True)\n",
    "#plt.ylim([0.00, 0.23])\n",
    "#plt.savefig(gmd_fname.replace('.p', '.pdf', 1))"
   ]
  },
  {
   "cell_type": "code",
   "execution_count": null,
   "metadata": {
    "scrolled": true
   },
   "outputs": [],
   "source": [
    "news_fname = 'ex5-news_popularity_std-me6_rs100_nmi500_nma2000_a0.010_trp0.50.p'\n",
    "#news_fname = 'ex5-news_popularity_ndx5_ndy5_std-me5_rs100_nmi500_nma2000_a0.010_trp0.50.p'\n",
    "news_results = load_plot_vs_n(news_fname, h1_true=True, show_legend=True)\n",
    "#plt.ylim([0.00, 0.23])\n",
    "#plt.savefig(gmd_fname.replace('.p', '.pdf', 1))"
   ]
  },
  {
   "cell_type": "code",
   "execution_count": null,
   "metadata": {},
   "outputs": [],
   "source": [
    "#craft_h0_fname = 'ex5-skillcraft1_std_h0-me6_rs100_nmi500_nma2000_a0.010_trp0.50.p'\n",
    "craft_h0_fname = 'ex5-skillcraft1_ndx10_ndy10_std_h0-me5_rs100_nmi200_nma500_a0.010_trp0.50.p'\n",
    "#craft_h0_results = load_plot_vs_n(craft_h0_fname, h1_true=False, show_legend=True)"
   ]
  },
  {
   "cell_type": "code",
   "execution_count": null,
   "metadata": {
    "scrolled": true
   },
   "outputs": [],
   "source": [
    "#craft_fname = 'ex5-skillcraft1_std-me6_rs100_nmi500_nma2000_a0.010_trp0.50.p'\n",
    "craft_fname = 'ex5-skillcraft1_ndx10_ndy10_std-me5_rs100_nmi200_nma500_a0.010_trp0.50.p'\n",
    "craft_results = load_plot_vs_n(craft_fname, h1_true=True, show_legend=True)"
   ]
  },
  {
   "cell_type": "code",
   "execution_count": null,
   "metadata": {},
   "outputs": [],
   "source": [
    "cmusic_h0_fname = 'ex5-chromatic_music_std_h0-me5_rs100_nmi200_nma500_a0.010_trp0.50.p'\n",
    "#cmusic_h0_results = load_plot_vs_n(cmusic_h0_fname, h1_true=True, show_legend=True)"
   ]
  },
  {
   "cell_type": "code",
   "execution_count": null,
   "metadata": {},
   "outputs": [],
   "source": [
    "music68_h0_fname = 'ex5-music68_std_h0-me5_rs100_nmi200_nma500_a0.010_trp0.50.p'\n",
    "#music68_h0_results = load_plot_vs_n(music68_fname, h1_true=False, show_legend=True)"
   ]
  },
  {
   "cell_type": "code",
   "execution_count": null,
   "metadata": {},
   "outputs": [],
   "source": [
    "music68_fname = 'ex5-music68_std-me5_rs100_nmi200_nma500_a0.010_trp0.50.p'\n",
    "music68_results = load_plot_vs_n(music68_fname, h1_true=True, show_legend=True)"
   ]
  },
  {
   "cell_type": "code",
   "execution_count": null,
   "metadata": {},
   "outputs": [],
   "source": [
    "mrating_fname = 'ex5-movie_rating_std-me5_rs100_nmi200_nma500_a0.010_trp0.50.p'\n",
    "#mrating_results = load_plot_vs_n(mrating_fname, h1_true=True)"
   ]
  },
  {
   "cell_type": "code",
   "execution_count": null,
   "metadata": {},
   "outputs": [],
   "source": [
    "llt_fname = 'ex5-latlong_temp_y2013_std-me6_rs100_nmi500_nma2000_a0.010_trp0.50.p'\n",
    "#llt_results = load_plot_vs_n(llt_fname, h1_true=True)"
   ]
  },
  {
   "cell_type": "code",
   "execution_count": null,
   "metadata": {},
   "outputs": [],
   "source": [
    "vgender_fname = 'ex5-voice_gender_c_std-me6_rs100_nmi200_nma500_a0.010_trp0.50.p'\n",
    "#vdender_results = load_plot_vs_n(vgender_fname, h1_true=True)"
   ]
  },
  {
   "cell_type": "code",
   "execution_count": null,
   "metadata": {
    "scrolled": true
   },
   "outputs": [],
   "source": [
    "lung_fname = 'ex5-lung_c_std-me5_rs100_nmi50_nma150_a0.010_trp0.50.p'\n",
    "#lung_results = load_plot_vs_n(lung_fname, h1_true=True)"
   ]
  },
  {
   "cell_type": "code",
   "execution_count": null,
   "metadata": {},
   "outputs": [],
   "source": [
    "carcinom_fname = 'ex5-carcinom_c_std-me5_rs100_nmi50_nma150_a0.010_trp0.50.p'\n",
    "#carcinom_results = load_plot_vs_n(carcinom_fname)"
   ]
  },
  {
   "cell_type": "code",
   "execution_count": null,
   "metadata": {},
   "outputs": [],
   "source": [
    "CCL_fname = 'ex5-CLL_SUB_111_c_std-me5_rs100_nmi50_nma100_a0.010_trp0.50.p'\n",
    "#CCL_results = load_plot_vs_n(CCL_fname)"
   ]
  },
  {
   "cell_type": "markdown",
   "metadata": {},
   "source": [
    "SMK_results = load_plot_vs_n('ex5-SMK_CAN_187_c_std-me5_rs100_nmi50_nma150_a0.010_trp0.50.p')"
   ]
  },
  {
   "cell_type": "markdown",
   "metadata": {},
   "source": [
    "TOX_results = load_plot_vs_n('ex5-TOX_171_c_std-me5_rs100_nmi50_nma150_a0.010_trp0.50.p')"
   ]
  },
  {
   "cell_type": "markdown",
   "metadata": {},
   "source": [
    "load_plot_vs_n('ex5-higgs_no_deriv_c_std-me5_rs100_nmi200_nma500_a0.010_trp0.50.p');"
   ]
  },
  {
   "cell_type": "markdown",
   "metadata": {},
   "source": [
    "## Check the learned locations of NFSIC in the Lat-Long data"
   ]
  },
  {
   "cell_type": "code",
   "execution_count": null,
   "metadata": {
    "collapsed": true
   },
   "outputs": [],
   "source": [
    "def load_tvm_table(results, func):\n",
    "    \"\"\"\n",
    "    Load a trials x varying values x methods numpy array of results.\n",
    "    The value to load is specified by the key.\n",
    "    job_result_func: a function to access the value of a job_result\n",
    "    \"\"\"\n",
    "    vf_val = np.vectorize(func)\n",
    "    # results['job_results'] is a dictionary: \n",
    "    # {'test_result': (dict from running perform_test(te) '...':..., }\n",
    "    vals = vf_val(results['job_results'])\n",
    "    #repeats, _, n_methods = results['job_results'].shape\n",
    "    met_job_funcs = results['method_job_funcs']\n",
    "    return vals, met_job_funcs   \n"
   ]
  },
  {
   "cell_type": "code",
   "execution_count": null,
   "metadata": {},
   "outputs": [],
   "source": [
    "dname = 'latlong_temp_y2013'\n",
    "fname = 'ex5-%s_std-me6_rs100_nmi500_nma2000_a0.010_trp0.50.p'%dname\n",
    "fpath = glo.ex_result_file(5, fname)\n",
    "results = glo.pickle_load(fpath)"
   ]
  },
  {
   "cell_type": "code",
   "execution_count": null,
   "metadata": {},
   "outputs": [],
   "source": [
    "#f_stat_val = lambda job_result: job_result['test_result']['test_stat']\n",
    "f_indtest = lambda jr: jr['indtest']\n",
    "#f_time = lambda jr: jr['time_secs']\n",
    "table, met_job_funcs = load_tvm_table(results, func=f_indtest)\n",
    "table.shape"
   ]
  },
  {
   "cell_type": "code",
   "execution_count": null,
   "metadata": {},
   "outputs": [],
   "source": [
    "met_job_funcs"
   ]
  },
  {
   "cell_type": "code",
   "execution_count": null,
   "metadata": {},
   "outputs": [],
   "source": [
    "met_ind = 0\n",
    "n_ind = 3\n",
    "ZVs = [t.V for t in table[:, n_ind, met_ind]]\n",
    "# each row of Vs is V learned in one trial. Assume J=1\n",
    "ZVs = np.vstack(ZVs)\n",
    "ZWs = [t.W for t in table[:, n_ind, met_ind]]\n",
    "ZWs = np.vstack(ZWs)"
   ]
  },
  {
   "cell_type": "code",
   "execution_count": null,
   "metadata": {},
   "outputs": [],
   "source": [
    "# load full data\n",
    "data_path = glo.data_file('earth_temperature', dname+'.p')\n",
    "pack = glo.pickle_load(data_path)\n",
    "\n",
    "X, Y = pack['X'], pack['Y']\n",
    "mx = np.mean(X)\n",
    "my = np.mean(Y)\n",
    "stdx = np.std(X, axis=0)\n",
    "stdy = np.std(Y, axis=0)\n",
    "Dx = np.diag(stdx)\n",
    "Dy = np.diag(stdy)"
   ]
  },
  {
   "cell_type": "code",
   "execution_count": null,
   "metadata": {},
   "outputs": [],
   "source": [
    "# reverse the Z-transform\n",
    "#Vs = ZVs.dot(Dx) + mx\n",
    "#Ws = ZWs.dot(Dy) + my\n",
    "\n",
    "X = (X - mx)/stdx\n",
    "Y = (Y - my)/stdy\n",
    "Vs = ZVs\n",
    "Ws = ZWs"
   ]
  },
  {
   "cell_type": "code",
   "execution_count": null,
   "metadata": {
    "scrolled": true
   },
   "outputs": [],
   "source": [
    "# plot the map and the learned locations\n",
    "plt.figure(figsize=(10, 6))\n",
    "find, toind = 20, 50\n",
    "plt.plot(X[:, 1], X[:, 0], 'k.', alpha=0.3)\n",
    "plt.plot(Vs[find:toind, 1], Vs[find:toind, 0], 'r*', markersize=15)\n",
    "plt.xlabel('Longitude')\n",
    "plt.ylabel('Latitude')\n",
    "plt.grid()"
   ]
  },
  {
   "cell_type": "code",
   "execution_count": null,
   "metadata": {},
   "outputs": [],
   "source": [
    "plt.figure(figsize=(10, 5))\n",
    "plt.hist(Y, normed=True, bins=20);\n",
    "plt.xlabel('Temperature')\n",
    "plt.grid()"
   ]
  },
  {
   "cell_type": "code",
   "execution_count": null,
   "metadata": {
    "collapsed": true
   },
   "outputs": [],
   "source": []
  },
  {
   "cell_type": "code",
   "execution_count": null,
   "metadata": {
    "collapsed": true
   },
   "outputs": [],
   "source": []
  },
  {
   "cell_type": "code",
   "execution_count": null,
   "metadata": {
    "collapsed": true
   },
   "outputs": [],
   "source": []
  }
 ],
 "metadata": {
  "kernelspec": {
   "display_name": "Python 3 (ipykernel)",
   "language": "python",
   "name": "python3"
  },
  "language_info": {
   "codemirror_mode": {
    "name": "ipython",
    "version": 3
   },
   "file_extension": ".py",
   "mimetype": "text/x-python",
   "name": "python",
   "nbconvert_exporter": "python",
   "pygments_lexer": "ipython3",
   "version": "3.9.7"
  }
 },
 "nbformat": 4,
 "nbformat_minor": 1
}
