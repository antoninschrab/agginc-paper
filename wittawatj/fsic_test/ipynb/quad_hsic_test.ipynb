{
 "cells": [
  {
   "cell_type": "markdown",
   "metadata": {},
   "source": [
    "This notebook is to test the implementation of QuadHSIC."
   ]
  },
  {
   "cell_type": "code",
   "execution_count": null,
   "metadata": {},
   "outputs": [],
   "source": [
    "%load_ext autoreload\n",
    "%autoreload 2\n",
    "%matplotlib inline\n",
    "import numpy as np\n",
    "import matplotlib.pyplot as plt\n",
    "import fsic.util as util\n",
    "import fsic.data as data\n",
    "import fsic.kernel as kernel\n",
    "import fsic.indtest as it\n",
    "import fsic.glo as glo\n",
    "import scipy.stats as stats"
   ]
  },
  {
   "cell_type": "code",
   "execution_count": null,
   "metadata": {},
   "outputs": [],
   "source": [
    "# font options\n",
    "font = {\n",
    "    #'family' : 'normal',\n",
    "    #'weight' : 'bold',\n",
    "    'size'   : 16\n",
    "}\n",
    "\n",
    "plt.rc('font', **font)\n",
    "plt.rc('lines', linewidth=2)\n",
    "#matplotlib.rc('text', usetex=True)\n",
    "#matplotlib.rcParams['text.latex.preamble']=[r\"\\usepackage{amsmath}\"]"
   ]
  },
  {
   "cell_type": "code",
   "execution_count": null,
   "metadata": {},
   "outputs": [],
   "source": [
    "def get_quad_psfunc():\n",
    "    \"\"\"\n",
    "    Return a PairedSource to generate y = x^2 + Gaussian noise.\n",
    "    \"\"\"\n",
    "    px = lambda n: np.random.rand(n, 1)*8 - 4\n",
    "    f = lambda x: 0.2*x**2 + np.random.randn(x.shape[0], 1)\n",
    "    return data.PSFunc(f, px)\n",
    "    "
   ]
  },
  {
   "cell_type": "code",
   "execution_count": null,
   "metadata": {},
   "outputs": [],
   "source": [
    "# paired source \n",
    "alpha = 0.05\n",
    "n = 800\n",
    "seed = 15\n",
    "\n",
    "dx = 10 \n",
    "dy = 5\n",
    "ps = data.PSIndSameGauss(dx, dy)\n",
    "#ps = get_quad_psfunc()\n",
    "#ps = data.PSIndUnif(xlb=[0, 3], xub=[1, 10], ylb=[-5, 5], yub=[8, 10])\n",
    "\n",
    "pdata = ps.sample(n, seed=seed)\n",
    "tr, te = pdata.split_tr_te(tr_proportion=0.5, seed=10)"
   ]
  },
  {
   "cell_type": "code",
   "execution_count": null,
   "metadata": {},
   "outputs": [],
   "source": [
    "def kl_median(pdata):\n",
    "    \"\"\"\n",
    "    Get two Gaussian kernels constructed with the median heuristic.\n",
    "    \"\"\"\n",
    "    xtr, ytr = pdata.xy()\n",
    "    dx = xtr.shape[1]\n",
    "    dy = ytr.shape[1]\n",
    "    medx2 = util.meddistance(xtr, subsample=1000)**2\n",
    "    medy2 = util.meddistance(ytr, subsample=1000)**2\n",
    "    k = kernel.KGauss(medx2)\n",
    "    l = kernel.KGauss(medy2)\n",
    "    return k, l\n"
   ]
  },
  {
   "cell_type": "code",
   "execution_count": null,
   "metadata": {},
   "outputs": [],
   "source": [
    "# number of test locations\n",
    "k, l = kl_median(tr)\n",
    "\n",
    "# perform test\n",
    "n_permute = 20\n",
    "qhsic = it.QuadHSIC(k, l, n_permute=n_permute, alpha=alpha)\n",
    "qhsic.perform_test(te)"
   ]
  },
  {
   "cell_type": "markdown",
   "metadata": {},
   "source": [
    "## Check type-I errors, power"
   ]
  },
  {
   "cell_type": "code",
   "execution_count": null,
   "metadata": {},
   "outputs": [],
   "source": [
    "alpha = 0.05\n",
    "n = 800\n",
    "n_permute = 100\n",
    "repeats = 100\n",
    "# data\n",
    "ps = data.PSIndSameGauss(dx=2, dy=3)\n",
    "pdata = ps.sample(n, seed=398)\n",
    "\n",
    "#ps = get_quad_psfunc()\n",
    "#pdata = ps.sample(n, seed=938)\n",
    "\n",
    "tr, te = pdata.split_tr_te(tr_proportion=0.5, seed=11)\n",
    "k, l = kl_median(tr)\n",
    "# the test \n",
    "\n",
    "qhsic = it.QuadHSIC(k, l, n_permute=n_permute, alpha=alpha)"
   ]
  },
  {
   "cell_type": "code",
   "execution_count": null,
   "metadata": {
    "scrolled": true
   },
   "outputs": [],
   "source": [
    "nte = 400\n",
    "all_results = []\n",
    "for r in range(repeats):\n",
    "    if (r+1)%10==0:\n",
    "        print('starting trial: %d'%(r+1))\n",
    "    te = ps.sample(nte, seed=r+2389)\n",
    "    test_result = qhsic.perform_test(te)\n",
    "    all_results.append(test_result)"
   ]
  },
  {
   "cell_type": "code",
   "execution_count": null,
   "metadata": {},
   "outputs": [],
   "source": [
    "pvalues = np.array([result['pvalue'] for result in all_results])\n",
    "stats = np.array([result['test_stat'] for result in all_results])\n",
    "prob_reject = np.mean(pvalues < alpha)\n",
    "print('prob(reject H0) = %.4g'%prob_reject)"
   ]
  },
  {
   "cell_type": "markdown",
   "metadata": {},
   "source": [
    "## Permutation time"
   ]
  },
  {
   "cell_type": "code",
   "execution_count": null,
   "metadata": {},
   "outputs": [],
   "source": [
    "n_permute = 200\n",
    "pdata = ps.sample(800, seed=29)\n",
    "X, Y = pdata.xy()\n",
    "#with util.ContextTimer() as t1:\n",
    "#    arr_hsic_naive = it.QuadHSIC._list_permute_generic(X, Y, k, l, n_permute)\n",
    "#print 'naive permutations took %.3g s'%t1.secs\n",
    "\n",
    "with util.ContextTimer() as t2:\n",
    "    arr_hsic = it.QuadHSIC.list_permute(X, Y, k, l, n_permute)\n",
    "print('permutations with precomputed K,L took %.3g'%t2.secs)"
   ]
  },
  {
   "cell_type": "code",
   "execution_count": null,
   "metadata": {},
   "outputs": [],
   "source": []
  },
  {
   "cell_type": "code",
   "execution_count": null,
   "metadata": {},
   "outputs": [],
   "source": []
  }
 ],
 "metadata": {
  "kernelspec": {
   "display_name": "Python 3 (ipykernel)",
   "language": "python",
   "name": "python3"
  },
  "language_info": {
   "codemirror_mode": {
    "name": "ipython",
    "version": 3
   },
   "file_extension": ".py",
   "mimetype": "text/x-python",
   "name": "python",
   "nbconvert_exporter": "python",
   "pygments_lexer": "ipython3",
   "version": "3.9.7"
  }
 },
 "nbformat": 4,
 "nbformat_minor": 1
}
