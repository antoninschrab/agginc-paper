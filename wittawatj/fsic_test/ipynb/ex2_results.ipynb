{
 "cells": [
  {
   "cell_type": "markdown",
   "metadata": {
    "collapsed": true
   },
   "source": [
    "A notebook to process experimental results of ex2_prob_params.py. p(reject) as problem parameters are varied."
   ]
  },
  {
   "cell_type": "code",
   "execution_count": null,
   "metadata": {},
   "outputs": [],
   "source": [
    "%load_ext autoreload\n",
    "%autoreload 2\n",
    "%matplotlib inline\n",
    "#%config InlineBackend.figure_format = 'svg'\n",
    "#%config InlineBackend.figure_format = 'pdf'\n",
    "\n",
    "import numpy as np\n",
    "import matplotlib\n",
    "import matplotlib.pyplot as plt\n",
    "import fsic.data as data\n",
    "import fsic.glo as glo\n",
    "import fsic.indtest as it\n",
    "import fsic.kernel as kernel\n",
    "import fsic.plot as plot\n",
    "import fsic.util as util\n",
    "\n",
    "import scipy.stats as stats"
   ]
  },
  {
   "cell_type": "code",
   "execution_count": null,
   "metadata": {},
   "outputs": [],
   "source": [
    "plot.set_default_matplotlib_options()\n",
    "\"\"\"\n",
    "# font options\n",
    "font = {\n",
    "    #'family' : 'normal',\n",
    "    #'weight' : 'bold',\n",
    "    'size'   : 18\n",
    "}\n",
    "plt.rc('font', **font)\n",
    "\"\"\"\n"
   ]
  },
  {
   "cell_type": "code",
   "execution_count": null,
   "metadata": {
    "collapsed": true
   },
   "outputs": [],
   "source": [
    "def load_plot_vs_params(fname, h1_true=True, xlabel='Problem parameter', show_legend=True):\n",
    "    func_xvalues = lambda agg_results: agg_results['prob_params']\n",
    "    ex = 2\n",
    "    def func_title(agg_results):\n",
    "        repeats, _, n_methods = agg_results['job_results'].shape\n",
    "        alpha = agg_results['alpha']\n",
    "        test_size = (1.0 - agg_results['tr_proportion'])*agg_results['sample_size']\n",
    "        title = '%s. %d trials. test size: %d. $\\\\alpha$ = %.2g.'%\\\n",
    "            ( agg_results['prob_label'], repeats, test_size, alpha)\n",
    "        return title\n",
    "    #plt.figure(figsize=(10,5))\n",
    "    results = plot.plot_prob_reject(\n",
    "        ex, fname, h1_true, func_xvalues, xlabel=xlabel, func_title=func_title)\n",
    "    \n",
    "    plt.title('')\n",
    "    plt.gca().legend(loc='best').set_visible(show_legend)\n",
    "    #plt.grid(True)\n",
    "        \n",
    "    return results\n",
    "\n",
    "\n",
    "def load_runtime_vs_params(fname, h1_true=True, xlabel='Problem parameter', \n",
    "                      show_legend=True, xscale='linear', yscale='log'):\n",
    "    func_xvalues = lambda agg_results: agg_results['prob_params']\n",
    "    ex = 2\n",
    "    def func_title(agg_results):\n",
    "        repeats, _, n_methods = agg_results['job_results'].shape\n",
    "        alpha = agg_results['alpha']\n",
    "        title = '%s. %d trials. $\\\\alpha$ = %.2g.'%\\\n",
    "            ( agg_results['prob_label'], repeats, alpha)\n",
    "        return title\n",
    "    \n",
    "    #plt.figure(figsize=(10,6))\n",
    "    \n",
    "    results = plot.plot_runtime(ex, fname,  \n",
    "                                func_xvalues, xlabel=xlabel, func_title=func_title)\n",
    "    \n",
    "    plt.title('')\n",
    "    plt.gca().legend(loc='best').set_visible(show_legend)\n",
    "    #plt.grid(True)\n",
    "    if xscale is not None:\n",
    "        plt.xscale(xscale)\n",
    "    if yscale is not None:\n",
    "        plt.yscale(yscale)\n",
    "        \n",
    "    return results\n"
   ]
  },
  {
   "cell_type": "code",
   "execution_count": null,
   "metadata": {
    "scrolled": false
   },
   "outputs": [],
   "source": [
    "# H0 true. Same Gaussian.\n",
    "sg_fname = 'ex2-sg-me6_n4000_J1_rs300_pmi10.000_pma90.000_a0.050_trp0.50.p'\n",
    "#sg_fname = 'ex2-sg-me5_n4000_J1_rs300_pmi10.000_pma90.000_a0.050_trp0.50.p'\n",
    "#g_results = load_plot_vs_params(\n",
    "#   sg_fname, h1_true=False, xlabel='$d_x$ and $d_y$', show_legend=True)\n",
    "#lt.ylim([0.03, 0.1])\n",
    "#plt.savefig(gmd_fname.replace('.p', '.pdf', 1))"
   ]
  },
  {
   "cell_type": "code",
   "execution_count": null,
   "metadata": {
    "scrolled": false
   },
   "outputs": [],
   "source": [
    "# H0 true. Same Gaussian. Large dimensions\n",
    "#bsg_fname = 'ex2-bsg-me7_n4000_J1_rs300_pmi100.000_pma500.000_a0.050_trp0.50.p'\n",
    "bsg_fname = 'ex2-bsg-me6_n4000_J1_rs300_pmi100.000_pma400.000_a0.050_trp0.50.p'\n",
    "#bsg_results = load_plot_vs_params(bsg_fname, h1_true=False, xlabel='$d_x$ and $d_y$', \n",
    "#                                 show_legend=False)\n",
    "#plt.ylim([0.03, 0.1])\n",
    "#plt.savefig(bsg_fname.replace('.p', '.pdf', 1), bbox_inches='tight')"
   ]
  },
  {
   "cell_type": "code",
   "execution_count": null,
   "metadata": {
    "scrolled": true
   },
   "outputs": [],
   "source": [
    "# sin frequency problem\n",
    "sin_fname = 'ex2-sin-me6_n4000_J1_rs300_pmi1.000_pma6.000_a0.050_trp0.50.p'\n",
    "# sin_fname = 'ex2-sin-me6_n4000_J1_rs100_pmi1.000_pma6.000_a0.050_trp0.20.p'\n",
    "#sin_fname = 'ex2-sin-me7_n4000_J1_rs300_pmi1.000_pma6.000_a0.050_trp0.50.p'\n",
    "sin_results = load_plot_vs_params(\n",
    "    sin_fname, h1_true=True, xlabel=r'$\\omega$ in $1+\\sin(\\omega x)\\sin(\\omega y)$', \n",
    "    show_legend=False)\n",
    "plt.savefig(sin_fname.replace('.p', '.pdf', 1), bbox_inches='tight')"
   ]
  },
  {
   "cell_type": "code",
   "execution_count": null,
   "metadata": {
    "scrolled": false
   },
   "outputs": [],
   "source": [
    "# Gaussian sign problem \n",
    "gsign_fname = 'ex2-gsign-me6_n4000_J1_rs300_pmi1.000_pma6.000_a0.050_trp0.50.p'\n",
    "#gsign_fname = 'ex2-gsign-me7_n4000_J1_rs300_pmi1.000_pma6.000_a0.050_trp0.50.p'\n",
    "#gsign_fname = 'ex2-gsign-me10_n4000_J1_rs100_pmi1.000_pma5.000_a0.050_trp0.50.p'\n",
    "gsign_results = load_plot_vs_params(gsign_fname, h1_true=True, \n",
    "                                   xlabel='$d_x$', show_legend=False)\n",
    "# plt.legend(bbox_to_anchor=(1.1, 1.05))\n",
    "plt.savefig(gsign_fname.replace('.p', '.pdf', 1), bbox_inches='tight')"
   ]
  },
  {
   "cell_type": "markdown",
   "metadata": {},
   "source": [
    "A toy problem where X follows the standard multivariate Gaussian, \n",
    "and Y = sign(product(X))*|Z| where Z ~ N(0, 1). \n"
   ]
  },
  {
   "cell_type": "markdown",
   "metadata": {},
   "source": [
    "----------------"
   ]
  },
  {
   "cell_type": "code",
   "execution_count": null,
   "metadata": {},
   "outputs": [],
   "source": [
    "# H0 true. Same Gaussian. medium-sized dimensions\n",
    "#msg_fname = 'ex2-msg-me10_n4000_J1_rs100_pmi100.000_pma500.000_a0.050_trp0.50.p'\n",
    "msg_fname = 'ex2-msg-me6_n4000_J1_rs300_pmi50.000_pma250.000_a0.050_trp0.50.p'\n",
    "msg_results = load_plot_vs_params(msg_fname, h1_true=False, xlabel='$d_x$ and $d_y$', \n",
    "                                 show_legend=False)\n",
    "plt.savefig(msg_fname.replace('.p', '.pdf', 1), bbox_inches='tight')\n",
    "#plt.ylim([0.03, 0.1])"
   ]
  },
  {
   "cell_type": "code",
   "execution_count": null,
   "metadata": {},
   "outputs": [],
   "source": [
    "load_runtime_vs_params(msg_fname, h1_true=False, show_legend=False, \n",
    "                       yscale='log', xlabel='$d_x$ and $d_y$');\n",
    "plt.savefig(msg_fname.replace('.p', '', 1)+'_time.pdf', bbox_inches='tight')"
   ]
  },
  {
   "cell_type": "code",
   "execution_count": null,
   "metadata": {},
   "outputs": [],
   "source": [
    "# pairwise sign problem\n",
    "pws_fname = 'ex2-pwsign-me6_n4000_J1_rs200_pmi20.000_pma100.000_a0.050_trp0.50.p'\n",
    "#pwd_results = load_plot_vs_params(\n",
    "#    pws_fname, h1_true=True, xlabel=r'$d$', \n",
    "#    show_legend=True)\n",
    "#plt.ylim([0, 1.1])"
   ]
  },
  {
   "cell_type": "code",
   "execution_count": null,
   "metadata": {
    "scrolled": true
   },
   "outputs": [],
   "source": [
    "# uniform rotate with noise dimensions\n",
    "urot_noise_fname = 'ex2-urot_noise-me6_n4000_J1_rs200_pmi0.000_pma6.000_a0.050_trp0.50.p'\n",
    "#urot_noise_results = load_plot_vs_params(\n",
    "#    urot_noise_fname, h1_true=True, xlabel='Noise dimensions for X and Y', \n",
    "#    show_legend=True)"
   ]
  },
  {
   "cell_type": "code",
   "execution_count": null,
   "metadata": {
    "collapsed": true
   },
   "outputs": [],
   "source": [
    "# Vary the rotation angle\n",
    "#u2drot_fname = 'ex2-u2drot-me8_n4000_J1_rs200_pmi0.000_pma10.000_a0.010_trp0.50.p'\n",
    "u2drot_fname = 'ex2-u2drot-me6_n4000_J1_rs200_pmi0.000_pma10.000_a0.050_trp0.50.p'\n",
    "#u2drot_fname = 'ex2-u2drot-me5_n4000_J1_rs300_pmi0.000_pma10.000_a0.050_trp0.50.p'\n",
    "#u2drot_results = load_plot_vs_params(\n",
    "#    u2drot_fname, h1_true=True, xlabel='Rotation angle (in degrees)', show_legend=True)\n",
    "#plt.ylim([0, 0.05])"
   ]
  },
  {
   "cell_type": "markdown",
   "metadata": {
    "collapsed": true
   },
   "source": [
    "## Examine a trial file"
   ]
  },
  {
   "cell_type": "code",
   "execution_count": null,
   "metadata": {},
   "outputs": [],
   "source": [
    "#fname = 'sin-job_nfsicJ10_opt-n4000_J1_r220_p5.000_a0.010_trp0.50.p'\n",
    "#fname = 'sg-job_nfsicJ10_perm_med-n4000_J1_r8_p50.000_a0.050_trp0.50.p'\n",
    "#fpath = glo.ex_result_file(2, 'sg', fname)\n",
    "#result = glo.pickle_load(fpath)"
   ]
  },
  {
   "cell_type": "markdown",
   "metadata": {},
   "source": [
    "## Examine a result file"
   ]
  },
  {
   "cell_type": "code",
   "execution_count": null,
   "metadata": {},
   "outputs": [],
   "source": [
    "#fname = 'ex2-sin-me7_n4000_J1_rs200_pmi1.000_pma5.000_a0.010_trp0.50.p'\n",
    "fname = 'ex2-sg-me6_n4000_J1_rs100_pmi10.000_pma90.000_a0.050_trp0.50.p'\n",
    "#fname = 'ex2-u2drot-me7_n4000_J1_rs200_pmi0.000_pma10.000_a0.010_trp0.50.p'\n",
    "fpath = glo.ex_result_file(2, fname)\n",
    "result = glo.pickle_load(fpath)"
   ]
  },
  {
   "cell_type": "code",
   "execution_count": null,
   "metadata": {
    "scrolled": true
   },
   "outputs": [],
   "source": [
    "def load_tpm_table(ex, fname, key):\n",
    "    \"\"\"\n",
    "    Load a trials x parameters x methods numpy array of results.\n",
    "    The value to load is specified by the key.\n",
    "    \"\"\"\n",
    "    results = glo.ex_load_result(ex, fname)\n",
    "    f_val = lambda job_results: job_results['test_result'][key]\n",
    "    vf_val = np.vectorize(f_val)\n",
    "    # results['job_results'] is a dictionary: \n",
    "    # {'test_result': (dict from running perform_test(te) '...':..., }\n",
    "    vals = vf_val(results['job_results'])\n",
    "    #repeats, _, n_methods = results['job_results'].shape\n",
    "    met_job_funcs = results['method_job_funcs']\n",
    "    return vals, met_job_funcs\n",
    "    \n"
   ]
  },
  {
   "cell_type": "code",
   "execution_count": null,
   "metadata": {},
   "outputs": [],
   "source": [
    "sta, met_job_funcs = load_tpm_table(ex=2, fname=fname, key='test_stat')\n",
    "sta.shape"
   ]
  },
  {
   "cell_type": "code",
   "execution_count": null,
   "metadata": {},
   "outputs": [],
   "source": [
    "met_job_funcs"
   ]
  },
  {
   "cell_type": "code",
   "execution_count": null,
   "metadata": {
    "scrolled": true
   },
   "outputs": [],
   "source": [
    "nfsicJ10_stats = sta[:, :, 1]\n",
    "plt.figure(figsize=(12, 5))\n",
    "plt.imshow(nfsicJ10_stats.T, interpolation='none')\n",
    "plt.colorbar(orientation='horizontal')"
   ]
  },
  {
   "cell_type": "code",
   "execution_count": null,
   "metadata": {},
   "outputs": [],
   "source": [
    "J = 10\n",
    "thresh = stats.chi2.isf(0.05, df=J)\n",
    "np.mean(nfsicJ10_stats > thresh, 0)"
   ]
  },
  {
   "cell_type": "code",
   "execution_count": null,
   "metadata": {},
   "outputs": [],
   "source": [
    "param_stats = nfsicJ10_stats[:, 3]\n",
    "plt.hist(param_stats, normed=True)\n",
    "\n",
    "dom = np.linspace(1e-1, np.max(param_stats)+2, 500)\n",
    "chi2_den = stats.chi2.pdf(dom, df=J)\n",
    "plt.plot(dom, chi2_den, '-')"
   ]
  },
  {
   "cell_type": "markdown",
   "metadata": {},
   "source": [
    "## "
   ]
  }
 ],
 "metadata": {
  "kernelspec": {
   "display_name": "Python 3 (ipykernel)",
   "language": "python",
   "name": "python3"
  },
  "language_info": {
   "codemirror_mode": {
    "name": "ipython",
    "version": 3
   },
   "file_extension": ".py",
   "mimetype": "text/x-python",
   "name": "python",
   "nbconvert_exporter": "python",
   "pygments_lexer": "ipython3",
   "version": "3.9.7"
  }
 },
 "nbformat": 4,
 "nbformat_minor": 1
}
