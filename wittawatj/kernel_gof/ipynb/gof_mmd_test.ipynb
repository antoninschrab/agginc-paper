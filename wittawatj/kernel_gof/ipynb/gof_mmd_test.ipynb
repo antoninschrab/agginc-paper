{
 "cells": [
  {
   "cell_type": "markdown",
   "metadata": {},
   "source": [
    "A notebook to test and demonstrate the `MMD test` of Gretton et al., 2012 used as a goodness-of-fit test. Require the ability to sample from the density `p`."
   ]
  },
  {
   "cell_type": "code",
   "execution_count": null,
   "metadata": {},
   "outputs": [],
   "source": [
    "%load_ext autoreload\n",
    "%autoreload 2\n",
    "%matplotlib inline\n",
    "#%config InlineBackend.figure_format = 'svg'\n",
    "#%config InlineBackend.figure_format = 'pdf'\n",
    "\n",
    "import freqopttest.tst as tst\n",
    "import kgof\n",
    "import kgof.data as data\n",
    "import kgof.density as density\n",
    "import kgof.goftest as gof\n",
    "import kgof.mmd as mgof\n",
    "import kgof.kernel as ker\n",
    "import kgof.util as util\n",
    "import matplotlib\n",
    "import matplotlib.pyplot as plt\n",
    "import numpy as np\n",
    "import scipy.stats as stats"
   ]
  },
  {
   "cell_type": "code",
   "execution_count": null,
   "metadata": {
    "collapsed": true
   },
   "outputs": [],
   "source": [
    "# font options\n",
    "font = {\n",
    "    #'family' : 'normal',\n",
    "    #'weight' : 'bold',\n",
    "    'size'   : 16\n",
    "}\n",
    "\n",
    "plt.rc('font', **font)\n",
    "plt.rc('lines', linewidth=2)\n",
    "matplotlib.rcParams['pdf.fonttype'] = 42\n",
    "matplotlib.rcParams['ps.fonttype'] = 42"
   ]
  },
  {
   "cell_type": "markdown",
   "metadata": {},
   "source": [
    "## MMD test (as a goodness-of-fit test)"
   ]
  },
  {
   "cell_type": "code",
   "execution_count": null,
   "metadata": {
    "collapsed": true
   },
   "outputs": [],
   "source": [
    "# true p\n",
    "seed = 20\n",
    "d = 2\n",
    "# sample\n",
    "n = 400\n",
    "alpha = 0.05\n",
    "\n",
    "mean = np.zeros(d)\n",
    "variance = 1"
   ]
  },
  {
   "cell_type": "code",
   "execution_count": null,
   "metadata": {
    "collapsed": true
   },
   "outputs": [],
   "source": [
    "p = density.IsotropicNormal(mean, variance)\n",
    "q_mean = mean.copy()\n",
    "q_variance = variance\n",
    "# q_mean[0] = 1\n",
    "\n",
    "ds = data.DSIsotropicNormal(q_mean+1, q_variance)\n",
    "# q_means = np.array([ [0], [0]])\n",
    "# q_variances = np.array([0.01, 1])\n",
    "# ds = data.DSIsoGaussianMixture(q_means, q_variances, pmix=[0.2, 0.8])"
   ]
  },
  {
   "cell_type": "code",
   "execution_count": null,
   "metadata": {
    "collapsed": true
   },
   "outputs": [],
   "source": [
    "# Test\n",
    "dat = ds.sample(n, seed=seed+2)\n",
    "X = dat.data()\n",
    "# Use median heuristic to determine the Gaussian kernel width\n",
    "sig2 = util.meddistance(X, subsample=1000)**2\n",
    "k = ker.KGauss(sig2)\n"
   ]
  },
  {
   "cell_type": "code",
   "execution_count": null,
   "metadata": {
    "scrolled": true
   },
   "outputs": [],
   "source": [
    "mmd_test = mgof.QuadMMDGof(p, k, n_permute=300, alpha=alpha, seed=seed)\n",
    "mmd_result = mmd_test.perform_test(dat)\n",
    "mmd_result"
   ]
  },
  {
   "cell_type": "code",
   "execution_count": null,
   "metadata": {
    "scrolled": false
   },
   "outputs": [],
   "source": [
    "print('Reject H0?: {0}'.format(mmd_result['h0_rejected']))\n",
    "\n",
    "sim_stats = mmd_result['list_permuted_mmd2']\n",
    "stat = mmd_result['test_stat']\n",
    "unif_weights = np.ones_like(sim_stats)/float(len(sim_stats))\n",
    "plt.hist(sim_stats, label='Simulated', weights=unif_weights)\n",
    "plt.plot([stat, stat], [0, 0], 'r*', markersize=30, label='Stat')\n",
    "plt.legend(loc='best')\n"
   ]
  },
  {
   "cell_type": "markdown",
   "metadata": {
    "collapsed": true
   },
   "source": [
    "## MMD test with parameter search"
   ]
  },
  {
   "cell_type": "code",
   "execution_count": null,
   "metadata": {
    "collapsed": true
   },
   "outputs": [],
   "source": [
    "def gbrbm_perturb(std_perturb_B, dx=50, dh=10):\n",
    "    \"\"\"\n",
    "    Get a Gaussian-Bernoulli RBM problem where the first entry of the B matrix\n",
    "    (the matrix linking the latent and the observation) is perturbed.\n",
    "\n",
    "    - var_perturb_B: Gaussian noise variance for perturbing B.\n",
    "    - dx: observed dimension\n",
    "    - dh: latent dimension\n",
    "\n",
    "    Return p (density), data source\n",
    "    \"\"\"\n",
    "    with util.NumpySeedContext(seed=10):\n",
    "        B = np.random.randint(0, 2, (dx, dh))*2 - 1.0\n",
    "        b = np.random.randn(dx)\n",
    "        c = np.random.randn(dh)\n",
    "        p = density.GaussBernRBM(B, b, c)\n",
    "\n",
    "        B_perturb = B.copy()\n",
    "        if std_perturb_B > 1e-7:\n",
    "            B_perturb[0, 0] = B_perturb[0, 0] + \\\n",
    "                np.random.randn(1)*std_perturb_B\n",
    "        ds = data.DSGaussBernRBM(B_perturb, b, c, burnin=2000)\n",
    "\n",
    "    return p, ds\n",
    "\n",
    "def gbrbm_perturb_all(std_perturb_B, dx=50, dh=10):\n",
    "    \"\"\"\n",
    "    Get a Gaussian-Bernoulli RBM problem where all entries of B\n",
    "    (the matrix linking the latent and the observation) are perturbed.\n",
    "\n",
    "    - var_perturb_B: Gaussian noise variance for perturbing B.\n",
    "    - dx: observed dimension\n",
    "    - dh: latent dimension\n",
    "\n",
    "    Return p (density), data source\n",
    "    \"\"\"\n",
    "    with util.NumpySeedContext(seed=11):\n",
    "        B = np.random.randint(0, 2, (dx, dh))*2 - 1.0\n",
    "        b = np.random.randn(dx)\n",
    "        c = np.random.randn(dh)\n",
    "        p = density.GaussBernRBM(B, b, c)\n",
    "\n",
    "        if std_perturb_B > 1e-7:\n",
    "            B_perturb = B + np.random.randn(dx, dh)*std_perturb_B\n",
    "        ds = data.DSGaussBernRBM(B_perturb, b, c, burnin=2000)\n",
    "\n",
    "    return p, ds\n"
   ]
  },
  {
   "cell_type": "code",
   "execution_count": null,
   "metadata": {
    "collapsed": true
   },
   "outputs": [],
   "source": [
    "n = 1000\n",
    "d = 50\n",
    "seed = 991\n",
    "# p, qds = gbrbm_perturb_all(0.06, dx=d, dh=10)\n",
    "p, qds = gbrbm_perturb(np.sqrt(0.1), dx=d, dh=10)\n",
    "qdat = qds.sample(n, seed=seed+3)\n",
    "Y = qdat.data()\n",
    "\n",
    "pds = p.get_datasource()\n",
    "datX = pds.sample(n, seed=seed+1)\n",
    "X = datX.data()\n",
    "XY = np.vstack((X, Y))"
   ]
  },
  {
   "cell_type": "code",
   "execution_count": null,
   "metadata": {},
   "outputs": [],
   "source": [
    "np.var(X, 0)"
   ]
  },
  {
   "cell_type": "code",
   "execution_count": null,
   "metadata": {},
   "outputs": [],
   "source": [
    "np.var(Y, 0)"
   ]
  },
  {
   "cell_type": "code",
   "execution_count": null,
   "metadata": {},
   "outputs": [],
   "source": [
    "# Get the median heuristic for each dimension\n",
    "med_factors = 2.0**np.linspace(-5, 5, 30)\n",
    "meds = np.zeros(d)\n",
    "for i in range(d):\n",
    "    medi = util.meddistance(XY[:, [i]], subsample=1000)\n",
    "    meds[i] = medi\n",
    "\n",
    "candidate_kernels = []\n",
    "for i in range(len(med_factors)):\n",
    "    ki = ker.KDiagGauss( (meds**2)*med_factors[i] )\n",
    "    candidate_kernels.append(ki)\n",
    "    \n",
    "# k = ker.KDiagGauss(2*meds**2)\n",
    "\n",
    "# Construct a list of kernels to try based on multiples of the median\n",
    "# heuristic\n",
    "\n",
    "# med = util.meddistance(XY, subsample=1000)\n",
    "# candidate_kernels = [ker.KGauss(f*med**2) for f in med_factors]\n",
    "# k = ker.KGauss((2.0**-1)*med**2)\n",
    "# candidate_kernels = [k]"
   ]
  },
  {
   "cell_type": "code",
   "execution_count": null,
   "metadata": {
    "scrolled": true
   },
   "outputs": [],
   "source": [
    "mmd_opt = mgof.QuadMMDGofOpt(p, n_permute=300, alpha=alpha, seed=seed+3)\n",
    "mmd_result = mmd_opt.perform_test(qdat,\n",
    "        candidate_kernels=candidate_kernels,\n",
    "        tr_proportion=0.2, reg=1e-3)\n",
    "mmd_result"
   ]
  },
  {
   "cell_type": "markdown",
   "metadata": {},
   "source": [
    "------------"
   ]
  },
  {
   "cell_type": "code",
   "execution_count": null,
   "metadata": {
    "collapsed": true,
    "scrolled": false
   },
   "outputs": [],
   "source": [
    "Kxy = k.eval(X, Y)\n",
    "Kxx = k.eval(X, X)\n",
    "Kyy = k.eval(Y, Y)\n",
    "plt.figure(figsize=(8, 8))\n",
    "plt.imshow(Kxy)\n",
    "plt.title('Kxy')\n",
    "plt.colorbar()"
   ]
  },
  {
   "cell_type": "code",
   "execution_count": null,
   "metadata": {
    "collapsed": true,
    "scrolled": false
   },
   "outputs": [],
   "source": [
    "plt.hist(Kxy.ravel(), bins=50)"
   ]
  },
  {
   "cell_type": "code",
   "execution_count": null,
   "metadata": {
    "collapsed": true
   },
   "outputs": [],
   "source": [
    "plt.figure(figsize=(8, 8))\n",
    "plt.imshow(Kxx)\n",
    "plt.title('Kxx')\n",
    "plt.colorbar()"
   ]
  },
  {
   "cell_type": "code",
   "execution_count": null,
   "metadata": {
    "collapsed": true
   },
   "outputs": [],
   "source": [
    "plt.figure(figsize=(8, 8))\n",
    "plt.imshow(Kyy)\n",
    "plt.title('Kyy')\n",
    "plt.colorbar()"
   ]
  },
  {
   "cell_type": "code",
   "execution_count": null,
   "metadata": {
    "collapsed": true
   },
   "outputs": [],
   "source": [
    "mmd = np.mean(Kxx+Kyy-2*Kxy)\n",
    "mmd"
   ]
  },
  {
   "cell_type": "code",
   "execution_count": null,
   "metadata": {
    "collapsed": true
   },
   "outputs": [],
   "source": []
  },
  {
   "cell_type": "code",
   "execution_count": null,
   "metadata": {
    "collapsed": true
   },
   "outputs": [],
   "source": []
  },
  {
   "cell_type": "code",
   "execution_count": null,
   "metadata": {
    "collapsed": true
   },
   "outputs": [],
   "source": []
  }
 ],
 "metadata": {
  "kernelspec": {
   "display_name": "Python 3",
   "language": "python",
   "name": "python3"
  },
  "language_info": {
   "codemirror_mode": {
    "name": "ipython",
    "version": 3
   },
   "file_extension": ".py",
   "mimetype": "text/x-python",
   "name": "python",
   "nbconvert_exporter": "python",
   "pygments_lexer": "ipython3",
   "version": "3.6.3"
  }
 },
 "nbformat": 4,
 "nbformat_minor": 1
}
