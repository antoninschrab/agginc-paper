{
 "cells": [
  {
   "cell_type": "markdown",
   "metadata": {
    "collapsed": true
   },
   "source": [
    "The first notebook to test the idea. "
   ]
  },
  {
   "cell_type": "code",
   "execution_count": null,
   "metadata": {},
   "outputs": [],
   "source": [
    "%load_ext autoreload\n",
    "%autoreload 2\n",
    "%matplotlib inline\n",
    "#%config InlineBackend.figure_format = 'svg'\n",
    "#%config InlineBackend.figure_format = 'pdf'\n",
    "\n",
    "import kgof\n",
    "import kgof.data as data\n",
    "import kgof.density as density\n",
    "import kgof.goftest as gof\n",
    "import kgof.kernel as kernel\n",
    "import kgof.util as util\n",
    "import matplotlib\n",
    "import matplotlib.pyplot as plt\n",
    "import autograd.numpy as np\n",
    "import scipy.stats as stats"
   ]
  },
  {
   "cell_type": "code",
   "execution_count": null,
   "metadata": {
    "collapsed": true
   },
   "outputs": [],
   "source": [
    "# font options\n",
    "font = {\n",
    "    #'family' : 'normal',\n",
    "    #'weight' : 'bold',\n",
    "    'size'   : 18\n",
    "}\n",
    "\n",
    "plt.rc('font', **font)\n",
    "plt.rc('lines', linewidth=2)\n",
    "matplotlib.rcParams['pdf.fonttype'] = 42\n",
    "matplotlib.rcParams['ps.fonttype'] = 42"
   ]
  },
  {
   "cell_type": "markdown",
   "metadata": {
    "collapsed": true
   },
   "source": [
    "## Isotropic normal distribution"
   ]
  },
  {
   "cell_type": "code",
   "execution_count": null,
   "metadata": {
    "collapsed": true
   },
   "outputs": [],
   "source": [
    "# true p\n",
    "seed = 22\n",
    "d = 40\n",
    "mean = np.zeros(d)\n",
    "variance = 1"
   ]
  },
  {
   "cell_type": "code",
   "execution_count": null,
   "metadata": {
    "collapsed": true
   },
   "outputs": [],
   "source": [
    "# sample\n",
    "n = 700\n",
    "\n",
    "# only one dimension of the mean is shifted\n",
    "#draw_mean = mean + np.hstack((1, np.zeros(d-1)))\n",
    "\n",
    "p = density.IsotropicNormal(mean, variance)\n",
    "qvariance = 2.5\n",
    "ds = data.DSIsotropicNormal(mean+0, qvariance)\n",
    "\n",
    "# # Gaussian mixture\n",
    "# p_means = np.array([ [0], [3.0]])\n",
    "# p_variances = np.array([1, 0.01])\n",
    "# # p = density.IsoGaussianMixture(p_means, p_variances)\n",
    "# p = density.IsotropicNormal(np.zeros(1), 1)\n",
    "\n",
    "# q_means = np.array([ [0], [0]])\n",
    "# q_variances = np.array([0.01, 1])\n",
    "# ds = data.DSIsoGaussianMixture(q_means, q_variances, pmix=[0.2, 0.8])\n",
    "# # ds = data.DSIsoGaussianMixture(p_means, p_variances)\n",
    "dat = ds.sample(n, seed=seed+1)\n",
    "\n",
    "X = dat.data()\n",
    "tr, te = dat.split_tr_te(tr_proportion=0.2, seed=seed+1)"
   ]
  },
  {
   "cell_type": "code",
   "execution_count": null,
   "metadata": {
    "collapsed": true
   },
   "outputs": [],
   "source": [
    "# Plot the density and generated data\n",
    "if p.dim()==1:\n",
    "#     dat2 = ds.sample(2000, seed=seed+2)\n",
    "#     X2 = dat2.X\n",
    "    sd = np.std(X)\n",
    "    dom = np.linspace(np.min(X)-sd, np.max(X)+sd, 500)\n",
    "    unden = np.exp(p.log_normalized_den(dom[:, np.newaxis]))\n",
    "    plt.figure(figsize=(10, 5))\n",
    "    plt.hist(X, bins=40, normed=True, label='Data', color='r')\n",
    "    plt.plot(dom, unden, 'b-', label='p')\n",
    "    plt.legend(loc='best')"
   ]
  },
  {
   "cell_type": "code",
   "execution_count": null,
   "metadata": {},
   "outputs": [],
   "source": [
    "# Test\n",
    "J = 5\n",
    "alpha = 0.01\n",
    "\n",
    "X = dat.X\n",
    "gwidth0 = util.meddistance(X, subsample=1000)**2\n",
    "# random test locations\n",
    "V0 = util.fit_gaussian_draw(X, J, seed=seed+1)\n",
    "# V0[0, 0] = 3\n",
    "# print V0\n",
    "print('Gaussian width^2: {0}'.format(gwidth0))"
   ]
  },
  {
   "cell_type": "code",
   "execution_count": null,
   "metadata": {
    "scrolled": true
   },
   "outputs": [],
   "source": [
    "k0 = kernel.KGauss(gwidth0)\n",
    "null_sim = gof.FSSDH0SimCovObs(n_simulate=2000, seed=10)\n",
    "# null_sim = gof.FSSDH0SimCovDraw(n_simulate=2000, seed=10)\n",
    "\n",
    "fssd = gof.FSSD(p, k0, V0, null_sim=null_sim, alpha=alpha)\n",
    "fssd.perform_test(te)"
   ]
  },
  {
   "cell_type": "code",
   "execution_count": null,
   "metadata": {
    "scrolled": true
   },
   "outputs": [],
   "source": [
    "fssd.get_H1_mean_variance(te)"
   ]
  },
  {
   "cell_type": "markdown",
   "metadata": {},
   "source": [
    "----------------"
   ]
  },
  {
   "cell_type": "markdown",
   "metadata": {},
   "source": [
    "## Optimized Gaussian FSSD"
   ]
  },
  {
   "cell_type": "code",
   "execution_count": null,
   "metadata": {
    "scrolled": false
   },
   "outputs": [],
   "source": [
    "opts = {\n",
    "    'reg': 1e-3,\n",
    "    'max_iter': 30, \n",
    "    'tol_fun':1e-9, \n",
    "#     'disp':True\n",
    "}\n",
    "\n",
    "V_opt, gw_opt, opt_result = gof.GaussFSSD.optimize_locs_widths(p, tr, gwidth0, V0, **opts)\n",
    "del(opt_result['jac'])\n",
    "del(opt_result['x'])\n",
    "opt_result"
   ]
  },
  {
   "cell_type": "code",
   "execution_count": null,
   "metadata": {
    "scrolled": true
   },
   "outputs": [],
   "source": [
    "gw_opt"
   ]
  },
  {
   "cell_type": "code",
   "execution_count": null,
   "metadata": {
    "scrolled": true
   },
   "outputs": [],
   "source": [
    "# construct a test\n",
    "k_opt = kernel.KGauss(gw_opt)\n",
    "null_sim = gof.FSSDH0SimCovObs(n_simulate=2000, seed=10)\n",
    "# null_sim = gof.FSSDH0SimCovDraw(n_simulate=2000, seed=10)\n",
    "fssd_opt = gof.FSSD(p, k_opt, V_opt, null_sim=null_sim, alpha=alpha)\n",
    "fssd_opt_result = fssd_opt.perform_test(te, return_simulated_stats=True)\n",
    "fssd_opt_result"
   ]
  },
  {
   "cell_type": "code",
   "execution_count": null,
   "metadata": {
    "scrolled": true
   },
   "outputs": [],
   "source": [
    "# get the mean and variance under H1 of the test statistic\n",
    "fssd_opt.get_H1_mean_variance(te)"
   ]
  },
  {
   "cell_type": "code",
   "execution_count": null,
   "metadata": {},
   "outputs": [],
   "source": [
    "sim_stats = fssd_opt_result['sim_stats']\n",
    "plt.hist(sim_stats, bins=20, normed=True);\n",
    "plt.stem([fssd_opt_result['test_stat']], [0.03], 'r-o', label='Stat')\n",
    "plt.legend()"
   ]
  },
  {
   "cell_type": "code",
   "execution_count": null,
   "metadata": {},
   "outputs": [],
   "source": [
    "gof.GaussFSSD.optimize_auto_init(p, tr, J, **opts)"
   ]
  },
  {
   "cell_type": "markdown",
   "metadata": {
    "collapsed": true
   },
   "source": [
    "## Analyze Gaussian-Bernoulli RBM"
   ]
  },
  {
   "cell_type": "code",
   "execution_count": null,
   "metadata": {
    "collapsed": true
   },
   "outputs": [],
   "source": [
    "def gbrbm_perturb(var_perturb_B, dx=50, dh=10):\n",
    "    \"\"\"\n",
    "    Get a Gaussian-Bernoulli RBM problem where the first entry of the B matrix\n",
    "    (the matrix linking the latent and the observation) is perturbed.\n",
    "\n",
    "    - var_perturb_B: Gaussian noise variance for perturbing B.\n",
    "    - dx: observed dimension\n",
    "    - dh: latent dimension\n",
    "\n",
    "    Return p (density), data source\n",
    "    \"\"\"\n",
    "    with util.NumpySeedContext(seed=10):\n",
    "        B = np.random.randint(0, 2, (dx, dh))*2 - 1.0\n",
    "        b = np.random.randn(dx)\n",
    "        c = np.random.randn(dh)\n",
    "        p = density.GaussBernRBM(B, b, c)\n",
    "\n",
    "        B_perturb = np.copy(B)\n",
    "        B_perturb[0, 0] = B_perturb[0, 0] + \\\n",
    "            np.random.randn(1)*np.sqrt(var_perturb_B)\n",
    "        ds = data.DSGaussBernRBM(B_perturb, b, c, burnin=50)\n",
    "\n",
    "    return p, ds\n"
   ]
  },
  {
   "cell_type": "code",
   "execution_count": null,
   "metadata": {
    "collapsed": true
   },
   "outputs": [],
   "source": [
    "p, ds_per =  gbrbm_perturb(1e-1, dx=2, dh=8)\n",
    "ds = p.get_datasource()\n",
    "dat = ds.sample(n=200, seed=5)\n",
    "dat_per = ds_per.sample(n=200, seed=4)\n"
   ]
  },
  {
   "cell_type": "code",
   "execution_count": null,
   "metadata": {},
   "outputs": [],
   "source": [
    "X = dat.data()\n",
    "X_per = dat_per.data()\n",
    "plt.plot(X[:, 0], X[:, 1], 'bx')\n",
    "plt.plot(X_per[:, 0], X_per[:, 1], 'rx')"
   ]
  },
  {
   "cell_type": "markdown",
   "metadata": {
    "collapsed": true
   },
   "source": [
    "## Visually compare IMQ and Gaussian kernels"
   ]
  },
  {
   "cell_type": "code",
   "execution_count": null,
   "metadata": {},
   "outputs": [],
   "source": [
    "b = -0.5\n",
    "k_imq = kernel.KIMQ(b=b, c=1)\n",
    "k_g = kernel.KGauss(sigma2=1.0)\n",
    "\n",
    "dom = np.linspace(-8, 8, 100)[:, np.newaxis]\n",
    "v = 0\n",
    "plt.plot(dom, k_imq.eval(dom, np.array([[v]])), 'b-', label='IMQ kernel')\n",
    "plt.plot(dom, k_g.eval(dom, np.array([[v]])), 'r-', label='Gaussian kernel')\n",
    "\n",
    "plt.legend()"
   ]
  },
  {
   "cell_type": "code",
   "execution_count": null,
   "metadata": {
    "collapsed": true
   },
   "outputs": [],
   "source": []
  },
  {
   "cell_type": "code",
   "execution_count": null,
   "metadata": {
    "collapsed": true
   },
   "outputs": [],
   "source": []
  },
  {
   "cell_type": "code",
   "execution_count": null,
   "metadata": {
    "collapsed": true
   },
   "outputs": [],
   "source": []
  },
  {
   "cell_type": "code",
   "execution_count": null,
   "metadata": {
    "collapsed": true
   },
   "outputs": [],
   "source": []
  },
  {
   "cell_type": "code",
   "execution_count": null,
   "metadata": {
    "collapsed": true
   },
   "outputs": [],
   "source": []
  },
  {
   "cell_type": "code",
   "execution_count": null,
   "metadata": {
    "collapsed": true
   },
   "outputs": [],
   "source": []
  },
  {
   "cell_type": "code",
   "execution_count": null,
   "metadata": {
    "collapsed": true
   },
   "outputs": [],
   "source": []
  }
 ],
 "metadata": {
  "kernelspec": {
   "display_name": "Python 3",
   "language": "python",
   "name": "python3"
  },
  "language_info": {
   "codemirror_mode": {
    "name": "ipython",
    "version": 3
   },
   "file_extension": ".py",
   "mimetype": "text/x-python",
   "name": "python",
   "nbconvert_exporter": "python",
   "pygments_lexer": "ipython3",
   "version": "3.6.3"
  }
 },
 "nbformat": 4,
 "nbformat_minor": 1
}
