{
 "cells": [
  {
   "cell_type": "markdown",
   "metadata": {
    "collapsed": true
   },
   "source": [
    "A notebook to process experimental results of ex2_prob_params.py. p(reject) as problem parameters are varied."
   ]
  },
  {
   "cell_type": "code",
   "execution_count": null,
   "metadata": {
    "collapsed": false
   },
   "outputs": [],
   "source": [
    "%load_ext autoreload\n",
    "%autoreload 2\n",
    "%matplotlib inline\n",
    "#%config InlineBackend.figure_format = 'svg'\n",
    "#%config InlineBackend.figure_format = 'pdf'\n",
    "\n",
    "import numpy as np\n",
    "\n",
    "import matplotlib\n",
    "import matplotlib.pyplot as plt\n",
    "import kgof.data as data\n",
    "import kgof.glo as glo\n",
    "import kgof.goftest as gof\n",
    "import kgof.kernel as kernel\n",
    "import kgof.plot as plot\n",
    "import kgof.util as util\n",
    "\n",
    "import scipy.stats as stats"
   ]
  },
  {
   "cell_type": "code",
   "execution_count": null,
   "metadata": {
    "collapsed": false
   },
   "outputs": [],
   "source": [
    "import kgof.plot\n",
    "kgof.plot.set_default_matplotlib_options()"
   ]
  },
  {
   "cell_type": "code",
   "execution_count": null,
   "metadata": {
    "collapsed": true
   },
   "outputs": [],
   "source": [
    "def load_plot_vs_params(fname, xlabel='Problem parameter', show_legend=True):\n",
    "    func_xvalues = lambda agg_results: agg_results['prob_params']\n",
    "    ex = 2\n",
    "    def func_title(agg_results):\n",
    "        repeats, _, n_methods = agg_results['job_results'].shape\n",
    "        alpha = agg_results['alpha']\n",
    "        test_size = (1.0 - agg_results['tr_proportion'])*agg_results['sample_size']\n",
    "        title = '%s. %d trials. test size: %d. $\\\\alpha$ = %.2g.'%\\\n",
    "            ( agg_results['prob_label'], repeats, test_size, alpha)\n",
    "        return title\n",
    "    #plt.figure(figsize=(10,5))\n",
    "    results = plot.plot_prob_reject(\n",
    "        ex, fname, func_xvalues, xlabel, func_title=func_title)\n",
    "    \n",
    "    plt.title('')\n",
    "    plt.gca().legend(loc='best').set_visible(show_legend)\n",
    "    if show_legend:\n",
    "        plt.legend(bbox_to_anchor=(1.80, 1.08))\n",
    "    \n",
    "    plt.grid(False)\n",
    "        \n",
    "    return results\n",
    "\n",
    "\n",
    "def load_runtime_vs_params(fname, xlabel='Problem parameter', \n",
    "                      show_legend=True, xscale='linear', yscale='linear'):\n",
    "    func_xvalues = lambda agg_results: agg_results['prob_params']\n",
    "    ex = 2\n",
    "    def func_title(agg_results):\n",
    "        repeats, _, n_methods = agg_results['job_results'].shape\n",
    "        alpha = agg_results['alpha']\n",
    "        title = '%s. %d trials. $\\\\alpha$ = %.2g.'%\\\n",
    "            ( agg_results['prob_label'], repeats, alpha)\n",
    "        return title\n",
    "    \n",
    "    #plt.figure(figsize=(10,6))\n",
    "    \n",
    "    results = plot.plot_runtime(ex, fname,  \n",
    "                                func_xvalues, xlabel=xlabel, func_title=func_title)\n",
    "    \n",
    "    plt.title('')\n",
    "    plt.gca().legend(loc='best').set_visible(show_legend)\n",
    "    if show_legend:\n",
    "        plt.legend(bbox_to_anchor=(1.80, 1.05))\n",
    "    \n",
    "    plt.grid(False)\n",
    "    if xscale is not None:\n",
    "        plt.xscale(xscale)\n",
    "    if yscale is not None:\n",
    "        plt.yscale(yscale)\n",
    "        \n",
    "    return results\n"
   ]
  },
  {
   "cell_type": "code",
   "execution_count": null,
   "metadata": {
    "collapsed": false
   },
   "outputs": [],
   "source": [
    "# # Gaussian mean difference. Fix dimension. Vary the mean\n",
    "# #gmd_fname = 'ex2-gmd_d10_ms-me5_n1000_rs100_pmi0.000_pma0.600_a0.050_trp0.50.p'\n",
    "# gmd_fname = 'ex2-gmd_d10_ms-me4_n2000_rs50_pmi0.000_pma0.060_a0.050_trp0.50.p'\n",
    "# gmd_results = load_plot_vs_params(gmd_fname, xlabel='$m$', show_legend=True)\n",
    "# #plt.ylim([0.03, 0.1])\n",
    "# #plt.savefig(bsg_fname.replace('.p', '.pdf', 1), bbox_inches='tight')"
   ]
  },
  {
   "cell_type": "markdown",
   "metadata": {},
   "source": [
    "$$p(x) = \\mathcal{N}(0, I) \\\\\n",
    "q(x) = \\mathcal{N}((m,0,\\ldots), I)$$"
   ]
  },
  {
   "cell_type": "code",
   "execution_count": null,
   "metadata": {
    "collapsed": true
   },
   "outputs": [],
   "source": [
    "# # Gaussian increasing variance. Variance below 1.\n",
    "# gvsub1_d1_fname = 'ex2-gvsub1_d1_vs-me8_n1000_rs100_pmi0.100_pma0.700_a0.050_trp0.50.p'\n",
    "# gvsub1_d1_results = load_plot_vs_params(gvsub1_d1_fname, xlabel='$v$')\n",
    "# plt.title('d=1')\n",
    "# # plt.ylim([0.02, 0.08])\n",
    "# # plt.xlim([0, 4])\n",
    "# #plt.legend(bbox_to_anchor=(1.70, 1.05))\n",
    "# #plt.savefig(gsign_fname.replace('.p', '.pdf', 1), bbox_inches='tight')"
   ]
  },
  {
   "cell_type": "code",
   "execution_count": null,
   "metadata": {
    "collapsed": false,
    "scrolled": true
   },
   "outputs": [],
   "source": [
    "# # Gaussian increasing variance\n",
    "# gvinc_d5_fname = 'ex2-gvinc_d5-me8_n1000_rs100_pmi1.000_pma2.500_a0.050_trp0.50.p'\n",
    "# gvinc_d5_results = load_plot_vs_params(gvinc_d5_fname, xlabel='$v$', \n",
    "#     show_legend=True)\n",
    "# plt.title('d=5')\n",
    "# # plt.ylim([0.02, 0.08])\n",
    "# # plt.xlim([0, 4])\n",
    "# #plt.legend(bbox_to_anchor=(1.70, 1.05))\n",
    "# #plt.savefig(gsign_fname.replace('.p', '.pdf', 1), bbox_inches='tight')"
   ]
  },
  {
   "cell_type": "markdown",
   "metadata": {},
   "source": [
    "$$p(x)=\\mathcal{N}(0, I) \\\\\n",
    "q(x)=\\mathcal{N}(0, vI)$$"
   ]
  },
  {
   "cell_type": "code",
   "execution_count": null,
   "metadata": {
    "collapsed": false,
    "scrolled": false
   },
   "outputs": [],
   "source": [
    "# # Gaussian variance diffenece (GVD)\n",
    "# gvd_fname = 'ex2-gvd-me4_n1000_rs100_pmi1.000_pma15.000_a0.050_trp0.50.p'\n",
    "# # gvd_fname = 'ex2-gvd-me4_n1000_rs50_pmi1.000_pma15.000_a0.050_trp0.80.p'\n",
    "# gvd_results = load_plot_vs_params(gvd_fname, xlabel='$d$', show_legend=True)\n",
    "# plt.figure()\n",
    "# load_runtime_vs_params(gvd_fname);\n"
   ]
  },
  {
   "cell_type": "markdown",
   "metadata": {},
   "source": [
    "$$p(x)=\\mathcal{N}(0, I) \\\\\n",
    "q(x)=\\mathcal{N}(0, \\mathrm{diag}(2,1,1,\\ldots))$$"
   ]
  },
  {
   "cell_type": "code",
   "execution_count": null,
   "metadata": {
    "collapsed": false,
    "scrolled": false
   },
   "outputs": [],
   "source": [
    "# Gauss-Bernoulli RBM\n",
    "# gb_rbm_fname = 'ex2-gbrbm_dx50_dh10-me4_n1000_rs200_pmi0.000_pma0.001_a0.050_trp0.20.p'\n",
    "# gb_rbm_fname = 'ex2-gbrbm_dx50_dh10-me4_n1000_rs200_pmi0.000_pma0.000_a0.050_trp0.20.p'\n",
    "# gb_rbm_fname = 'ex2-gbrbm_dx50_dh10-me6_n1000_rs300_pmi0.000_pma0.001_a0.050_trp0.20.p'\n",
    "gb_rbm_fname = 'ex2-gbrbm_dx50_dh10-me6_n1000_rs200_pmi0_pma0.06_a0.050_trp0.20.p'\n",
    "gb_rbm_results = load_plot_vs_params(gb_rbm_fname, xlabel='Perturbation SD $\\sigma_{per}$', \n",
    "                                     show_legend=False)\n",
    "plt.savefig(gb_rbm_fname.replace('.p', '.pdf', 1), bbox_inches='tight')\n",
    "# plt.xlim([-0.1, -0.2])"
   ]
  },
  {
   "cell_type": "code",
   "execution_count": null,
   "metadata": {
    "collapsed": false,
    "scrolled": true
   },
   "outputs": [],
   "source": [
    "load_runtime_vs_params(gb_rbm_fname,  xlabel='Perturbation SD $\\sigma_{per}$', yscale='linear', show_legend=False);\n",
    "plt.savefig(gb_rbm_fname.replace('.p', '_time.pdf', 1), bbox_inches='tight')"
   ]
  },
  {
   "cell_type": "code",
   "execution_count": null,
   "metadata": {
    "collapsed": false
   },
   "outputs": [],
   "source": [
    "# gbrbm_highd_fname = 'ex2-gbrbm_dx50_dh40-me6_n1000_rs200_pmi0_pma0.06_a0.050_trp0.20.p'\n",
    "# gbrbm_highd_fname = 'ex2-gbrbm_dx50_dh40-me2_n1000_rs200_pmi0_pma0.06_a0.050_trp0.20.p'\n",
    "gbrbm_highd_fname = 'ex2-gbrbm_dx50_dh40-me1_n1000_rs200_pmi0_pma0.06_a0.050_trp0.20.p'\n",
    "gbrbm_highd_results = load_plot_vs_params(\n",
    "    gbrbm_highd_fname, \n",
    "#     xlabel='Perturbation SD $\\sigma_{per}$', \n",
    "    xlabel='Perturbation noise', \n",
    "                                          show_legend=False)\n",
    "plt.xticks([0, 0.02, 0.04, 0.06])\n",
    "plt.yticks([0, 0.5, 1])\n",
    "plt.ylim([0, 1.05])\n",
    "plt.ylabel('P(detect difference)', fontsize=26)\n",
    "plt.box(True)\n",
    "plt.savefig(gbrbm_highd_fname.replace('.p', '.pdf', 1), bbox_inches='tight')"
   ]
  },
  {
   "cell_type": "code",
   "execution_count": null,
   "metadata": {
    "collapsed": false
   },
   "outputs": [],
   "source": [
    "load_runtime_vs_params(gbrbm_highd_fname,  xlabel='Perturbation SD $\\sigma_{per}$', \n",
    "                       yscale='linear', show_legend=False);\n",
    "plt.savefig(gbrbm_highd_fname.replace('.p', '_time.pdf', 1), bbox_inches='tight')"
   ]
  },
  {
   "cell_type": "code",
   "execution_count": null,
   "metadata": {
    "collapsed": false,
    "scrolled": false
   },
   "outputs": [],
   "source": [
    "## p: Gaussian, q: Laplace. Vary d\n",
    "# glaplace_fname = 'ex2-glaplace-me4_n1000_rs100_pmi1.000_pma15.000_a0.050_trp0.50.p'\n",
    "# glaplace_fname = 'ex2-glaplace-me4_n1000_rs200_pmi1.000_pma15.000_a0.050_trp0.20.p'\n",
    "# glaplace_fname = 'ex2-glaplace-me5_n1000_rs400_pmi1.000_pma15.000_a0.050_trp0.20.p'\n",
    "glaplace_fname = 'ex2-glaplace-me6_n1000_rs200_pmi1_pma15_a0.050_trp0.20.p'\n",
    "glaplace_results = load_plot_vs_params(glaplace_fname, xlabel='dimension $d$', show_legend=False)\n",
    "plt.savefig(glaplace_fname.replace('.p', '.pdf', 1), bbox_inches='tight')"
   ]
  },
  {
   "cell_type": "code",
   "execution_count": null,
   "metadata": {
    "collapsed": false
   },
   "outputs": [],
   "source": [
    "load_runtime_vs_params(glaplace_fname, xlabel='dimension $d$', show_legend=False, yscale='linear');\n",
    "plt.savefig(glaplace_fname.replace('.p', '_time.pdf', 1), bbox_inches='tight')"
   ]
  },
  {
   "cell_type": "markdown",
   "metadata": {},
   "source": [
    "$$p(x)=\\mathcal{N}(0, 1) \\\\\n",
    "q(x)=\\mathrm{Laplace}(0, 1/\\sqrt{2})$$\n",
    "\n",
    "q has the same unit variance as p."
   ]
  },
  {
   "cell_type": "code",
   "execution_count": null,
   "metadata": {
    "collapsed": false
   },
   "outputs": [],
   "source": []
  },
  {
   "cell_type": "code",
   "execution_count": null,
   "metadata": {
    "collapsed": true
   },
   "outputs": [],
   "source": []
  },
  {
   "cell_type": "code",
   "execution_count": null,
   "metadata": {
    "collapsed": true
   },
   "outputs": [],
   "source": []
  }
 ],
 "metadata": {
  "kernelspec": {
   "display_name": "Python 2",
   "language": "python",
   "name": "python2"
  },
  "language_info": {
   "codemirror_mode": {
    "name": "ipython",
    "version": 2
   },
   "file_extension": ".py",
   "mimetype": "text/x-python",
   "name": "python",
   "nbconvert_exporter": "python",
   "pygments_lexer": "ipython2",
   "version": "2.7.13"
  }
 },
 "nbformat": 4,
 "nbformat_minor": 0
}
