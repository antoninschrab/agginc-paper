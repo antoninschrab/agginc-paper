{
 "cells": [
  {
   "cell_type": "markdown",
   "metadata": {},
   "source": [
    "A notebook to test and demonstrate the `METest` of Jitkrittum et al., 2016 (NIPS 2016) used as a goodness-of-fit test"
   ]
  },
  {
   "cell_type": "code",
   "execution_count": null,
   "metadata": {},
   "outputs": [],
   "source": [
    "%load_ext autoreload\n",
    "%autoreload 2\n",
    "%matplotlib inline\n",
    "#%config InlineBackend.figure_format = 'svg'\n",
    "#%config InlineBackend.figure_format = 'pdf'\n",
    "\n",
    "import freqopttest.tst as tst\n",
    "import kgof\n",
    "import kgof.data as data\n",
    "import kgof.density as density\n",
    "import kgof.goftest as gof\n",
    "import kgof.intertst as tgof\n",
    "import kgof.kernel as ker\n",
    "import kgof.util as util\n",
    "import matplotlib\n",
    "import matplotlib.pyplot as plt\n",
    "import numpy as np\n",
    "import scipy.stats as stats"
   ]
  },
  {
   "cell_type": "code",
   "execution_count": null,
   "metadata": {
    "collapsed": true
   },
   "outputs": [],
   "source": [
    "# font options\n",
    "font = {\n",
    "    #'family' : 'normal',\n",
    "    #'weight' : 'bold',\n",
    "    'size'   : 18\n",
    "}\n",
    "\n",
    "plt.rc('font', **font)\n",
    "plt.rc('lines', linewidth=2)\n",
    "matplotlib.rcParams['pdf.fonttype'] = 42\n",
    "matplotlib.rcParams['ps.fonttype'] = 42"
   ]
  },
  {
   "cell_type": "markdown",
   "metadata": {},
   "source": [
    "## Test with random test locations"
   ]
  },
  {
   "cell_type": "code",
   "execution_count": null,
   "metadata": {
    "collapsed": true
   },
   "outputs": [],
   "source": [
    "# true p\n",
    "seed = 20\n",
    "d = 1\n",
    "# sample\n",
    "n = 800\n",
    "alpha = 0.05\n",
    "# number of test locations to use\n",
    "J = 2\n",
    "\n",
    "mean = np.zeros(d)\n",
    "variance = 1"
   ]
  },
  {
   "cell_type": "code",
   "execution_count": null,
   "metadata": {
    "collapsed": true
   },
   "outputs": [],
   "source": [
    "p = density.IsotropicNormal(mean, variance)\n",
    "q_mean = mean.copy()\n",
    "q_variance = variance\n",
    "# q_mean[0] = 1\n",
    "\n",
    "# ds = data.DSIsotropicNormal(q_mean, q_variance)\n",
    "q_means = np.array([ [0], [0]])\n",
    "q_variances = np.array([0.01, 1])\n",
    "ds = data.DSIsoGaussianMixture(q_means, q_variances, pmix=[0.2, 0.8])\n",
    "# ds = data.DSIsoGaussianMixture(p_means, p_variances)"
   ]
  },
  {
   "cell_type": "code",
   "execution_count": null,
   "metadata": {
    "collapsed": true
   },
   "outputs": [],
   "source": [
    "dat = ds.sample(n, seed=seed+2)\n",
    "tr, te = dat.split_tr_te(tr_proportion=0.5, seed=2)"
   ]
  },
  {
   "cell_type": "code",
   "execution_count": null,
   "metadata": {
    "collapsed": true
   },
   "outputs": [],
   "source": [
    "# Test\n",
    "Xtr = tr.data()\n",
    "sig2 = util.meddistance(Xtr, subsample=1000)**2\n",
    "\n",
    "# random test locations\n",
    "V0 = util.fit_gaussian_draw(Xtr, J, seed=seed+1)\n",
    "me_rand = tgof.GaussMETest(p, sig2, V0, alpha=alpha, seed=seed)"
   ]
  },
  {
   "cell_type": "code",
   "execution_count": null,
   "metadata": {},
   "outputs": [],
   "source": [
    "me_rand_result = me_rand.perform_test(te)\n",
    "me_rand_result\n",
    "#kstein.compute_stat(dat)"
   ]
  },
  {
   "cell_type": "markdown",
   "metadata": {
    "collapsed": true
   },
   "source": [
    "## Test with optimized test locations"
   ]
  },
  {
   "cell_type": "code",
   "execution_count": null,
   "metadata": {
    "collapsed": true
   },
   "outputs": [],
   "source": [
    "op = {'n_test_locs': J, 'seed': seed+5, 'max_iter': 200, \n",
    "     'batch_proportion': 1.0, 'locs_step_size': 1.0, \n",
    "      'gwidth_step_size': 0.1, 'tol_fun': 1e-4}\n",
    "# optimize on the training set\n",
    "me_opt = tgof.GaussMETestOpt(p, n_locs=J, tr_proportion=0.5, alpha=alpha, seed=seed+1)"
   ]
  },
  {
   "cell_type": "code",
   "execution_count": null,
   "metadata": {},
   "outputs": [],
   "source": [
    "# Give the ME test the full data. Internally the data are divided into tr and te.\n",
    "me_opt_result = me_opt.perform_test(dat, op)\n",
    "me_opt_result"
   ]
  },
  {
   "cell_type": "code",
   "execution_count": null,
   "metadata": {
    "collapsed": true
   },
   "outputs": [],
   "source": []
  },
  {
   "cell_type": "code",
   "execution_count": null,
   "metadata": {
    "collapsed": true
   },
   "outputs": [],
   "source": []
  },
  {
   "cell_type": "code",
   "execution_count": null,
   "metadata": {
    "collapsed": true
   },
   "outputs": [],
   "source": []
  },
  {
   "cell_type": "code",
   "execution_count": null,
   "metadata": {
    "collapsed": true
   },
   "outputs": [],
   "source": []
  }
 ],
 "metadata": {
  "kernelspec": {
   "display_name": "Python 3",
   "language": "python",
   "name": "python3"
  },
  "language_info": {
   "codemirror_mode": {
    "name": "ipython",
    "version": 3
   },
   "file_extension": ".py",
   "mimetype": "text/x-python",
   "name": "python",
   "nbconvert_exporter": "python",
   "pygments_lexer": "ipython3",
   "version": "3.6.3"
  }
 },
 "nbformat": 4,
 "nbformat_minor": 1
}
