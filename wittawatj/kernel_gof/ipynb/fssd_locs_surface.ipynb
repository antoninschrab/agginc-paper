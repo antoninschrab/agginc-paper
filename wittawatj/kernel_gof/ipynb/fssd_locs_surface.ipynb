{
 "cells": [
  {
   "cell_type": "markdown",
   "metadata": {
    "collapsed": true
   },
   "source": [
    "Plot the Stein witness function, and the mean/std objective as a function of the test locations."
   ]
  },
  {
   "cell_type": "code",
   "execution_count": null,
   "metadata": {},
   "outputs": [],
   "source": [
    "%load_ext autoreload\n",
    "%autoreload 2\n",
    "%matplotlib inline\n",
    "#%config InlineBackend.figure_format = 'svg'\n",
    "#%config InlineBackend.figure_format = 'pdf'\n",
    "\n",
    "import kgof\n",
    "import kgof.data as data\n",
    "import kgof.density as density\n",
    "import kgof.goftest as gof\n",
    "import kgof.kernel as kernel\n",
    "import kgof.util as util\n",
    "import matplotlib\n",
    "import matplotlib.pyplot as plt\n",
    "import autograd.numpy as np\n",
    "import scipy.stats as stats"
   ]
  },
  {
   "cell_type": "code",
   "execution_count": null,
   "metadata": {},
   "outputs": [],
   "source": [
    "# # font options\n",
    "# font = {\n",
    "#     #'family' : 'normal',\n",
    "#     #'weight' : 'bold',\n",
    "#     'size'   : 18\n",
    "# }\n",
    "\n",
    "# plt.rc('font', **font)\n",
    "# plt.rc('lines', linewidth=2)\n",
    "# matplotlib.rcParams['pdf.fonttype'] = 42\n",
    "# matplotlib.rcParams['ps.fonttype'] = 42\n",
    "\n",
    "import kgof.plot\n",
    "kgof.plot.set_default_matplotlib_options()"
   ]
  },
  {
   "cell_type": "markdown",
   "metadata": {},
   "source": [
    "## Surface plots in 2d"
   ]
  },
  {
   "cell_type": "code",
   "execution_count": null,
   "metadata": {},
   "outputs": [],
   "source": [
    "def generic_contourf(p, dat, k, func):\n",
    "    \"\"\"\n",
    "    func: (p, dat, k, V) |-> value. A function computing the values to plot.\n",
    "    \"\"\"\n",
    "    # should be an n x 2 matrix. 2d data.\n",
    "    X = dat.data()\n",
    "    max0, max1 = np.max(X, 0)\n",
    "    min0, min1 = np.min(X, 0)\n",
    "    \n",
    "    #sd1, sd2 = np.std(XY, 0)\n",
    "    margin_scale = 0.2\n",
    "    sd0, sd1 = ((max0-min0)*margin_scale, (max1-min1)*margin_scale)\n",
    "    # form a test location grid to try \n",
    "    nd0 = 50\n",
    "    nd1 = 50\n",
    "    loc0_cands = np.linspace(min0-sd0/2, max0+sd0/2, nd0)\n",
    "    loc1_cands = np.linspace(min1-sd1/2, max1+sd1/2, nd1)\n",
    "    lloc0, lloc1 = np.meshgrid(loc0_cands, loc1_cands)\n",
    "    # nd1 x nd0 x 2\n",
    "    loc3d = np.dstack((lloc0, lloc1))\n",
    "    # #candidates x 2\n",
    "    all_loc2s = np.reshape(loc3d, (-1, 2) )\n",
    "\n",
    "    # all_locs = #candidates x J x 2\n",
    "    #all_locs = np.array( [np.vstack((c, loc1)) for c in all_loc2s] )\n",
    "    \n",
    "    # evaluate the function on each candidate T on the grid. Size = (#candidates, )\n",
    "    stat_grid = np.array([func(p, dat, k, np.array([T])) for T in all_loc2s])\n",
    "    stat_grid = np.reshape(stat_grid, (nd1, nd0) )\n",
    "\n",
    "    den_grid = np.exp(p.log_normalized_den(all_loc2s))\n",
    "    den_grid = np.reshape(den_grid, (nd1, nd0))\n",
    "    #ax = fig.gca(projection='3d')\n",
    "    #ax.plot_surface(lloc1, lloc2, stat_grid, rstride=8, cstride=8, alpha=0.3)\n",
    "    #cset = ax.contourf(lloc1, lloc2, stat_grid, zdir='z', offset=0, cmap=cm.coolwarm)\n",
    "    plt.figure(figsize=(10, 6))\n",
    "    # Plot the unnormalized density\n",
    "    CS = plt.contour(\n",
    "        lloc0, lloc1, den_grid, alpha=0.9, \n",
    "        #colors=('#500000', '#900000', '#d00000'),\n",
    "        cmap=plt.cm.Reds,\n",
    "        \n",
    "    )\n",
    "    #plt.clabel(CS, fontsize=12, inline=1, fmt='%1.1f', colors='k')\n",
    "    plt.contourf(lloc0, lloc1, stat_grid, cmap=plt.cm.Greys, alpha=0.7)\n",
    "    \n",
    "    #plt.gca().get_xaxis().set_visible(False)\n",
    "    #plt.gca().get_yaxis().set_visible(False)\n",
    "    #plt.axis('off')\n",
    "    #plt.colorbar()\n",
    "\n",
    "    max_stat = np.max(stat_grid)\n",
    "   \n",
    "    n = X.shape[0]\n",
    "    #ax.view_init(elev=max_stat*2, azim=90)\n",
    "\n",
    "    # plot the data\n",
    "    plt.plot(X[:, 0], X[:, 1], '.b', markeredgecolor='b', markersize=3, alpha=0.7)\n",
    "    ax = plt.gca()\n",
    "#     ax.set_aspect('auto')\n",
    "    plt.xlim([-4, 4]);\n",
    "    plt.ylim([-4, 4]);\n",
    "    \n",
    "    # return the locations V\n",
    "    \n",
    "    max_ind = np.argmax(stat_grid.reshape(-1))\n",
    "    V = all_loc2s[max_ind]\n",
    "    print('V: %s'%V)\n",
    "    \n",
    "    # put a star at the highest location\n",
    "    plt.plot(V[0], V[1], '*', color='#EC008C', markersize=30)\n",
    "    return V\n",
    " \n",
    "def func_fssd(p, dat, k, V):\n",
    "    \"\"\"\n",
    "    Return the value of FSSD test statistic.\n",
    "    \"\"\"\n",
    "    fssd = gof.FSSD(p, k, V, alpha=0.01, null_sim=None)\n",
    "    return fssd.compute_stat(dat)\n",
    "\n",
    "def func_fssd_power_criterion(p, dat, k, V):\n",
    "    \"\"\"\n",
    "    Return the value of the power criterion of FSSD.\n",
    "    \"\"\"\n",
    "    return gof.FSSD.power_criterion(p, dat, k, V, reg=1e-6, use_unbiased=False)\n",
    "    \n",
    "def func_fssd_ustat_std(p, dat, k, V):\n",
    "    \"\"\"\n",
    "    Return the standard deviation of the U-statistic\n",
    "    \"\"\"\n",
    "    fssd = gof.FSSD(p, k, V, alpha=0.01, null_sim=None)\n",
    "    X = dat.data()\n",
    "    fea_tensor = fssd.feature_tensor(X)\n",
    "    _, variance = gof.FSSD.ustat_h1_mean_variance(fea_tensor, return_variance=True)\n",
    "    return np.sqrt(variance)"
   ]
  },
  {
   "cell_type": "code",
   "execution_count": null,
   "metadata": {},
   "outputs": [],
   "source": [
    "# sample\n",
    "n = 2000\n",
    "# true p\n",
    "seed = 20\n",
    "d = 2\n",
    "mean = np.zeros(d)\n",
    "variance = 1\n",
    "isonorm = density.IsotropicNormal(mean, variance)\n",
    "#------------------------------\n",
    "\n",
    "# only one dimension of the mean is shifted\n",
    "#draw_mean = mean + np.hstack((1, np.zeros(d-1)))\n",
    "draw_mean = mean + 0\n",
    "draw_variance = np.diag([variance+1, variance])\n",
    "X = util.randn(n, d, seed=seed+3).dot(np.sqrt(draw_variance)) + draw_mean\n",
    "dat = data.Data(X)\n",
    "\n",
    "\n",
    "# Scaling of 1/sqrt(2) will make the variance 1.\n",
    "ds_laplace = data.DSLaplace(d=d, loc=0, scale=1.0/np.sqrt(2))\n",
    "dat = ds_laplace.sample(n, seed=seed)\n",
    "\n",
    "# problem_name = 'pgauss_qgauss'\n",
    "problem_name = 'pgauss_qlaplace'"
   ]
  },
  {
   "cell_type": "code",
   "execution_count": null,
   "metadata": {
    "scrolled": false
   },
   "outputs": [],
   "source": [
    "# Kernel\n",
    "X = dat.data()\n",
    "sig2 = util.meddistance(X, subsample=1000)**2\n",
    "k = kernel.KGauss(sig2/2)\n",
    "\n",
    "# Test\n",
    "J = 1\n",
    "alpha = 0.01\n",
    "\n",
    "# random test locations\n",
    "V = util.fit_gaussian_draw(X, J, seed=seed+1)\n",
    "null_sim = gof.FSSDH0SimCovObs(n_simulate=1000, seed=10)\n",
    "fssd = gof.FSSD(isonorm, k, V, null_sim=null_sim, alpha=alpha)\n",
    "\n",
    "fssd.perform_test(dat)"
   ]
  },
  {
   "cell_type": "code",
   "execution_count": null,
   "metadata": {
    "collapsed": true
   },
   "outputs": [],
   "source": [
    "p = isonorm"
   ]
  },
  {
   "cell_type": "code",
   "execution_count": null,
   "metadata": {
    "scrolled": false
   },
   "outputs": [],
   "source": [
    "generic_contourf(p, dat, k, func_fssd)\n",
    "plt.title('Stein witness')\n",
    "#plt.colorbar()\n",
    "#plt.grid()\n",
    "plt.savefig('{}_witness.pdf'.format(problem_name), bbox_inches='tight')"
   ]
  },
  {
   "cell_type": "code",
   "execution_count": null,
   "metadata": {
    "scrolled": false
   },
   "outputs": [],
   "source": [
    "generic_contourf(p, dat, k, func_fssd_power_criterion)\n",
    "plt.title(r'$\\widehat{\\mathrm{FSSD^2}}/\\widehat{\\sigma_{H_1}}$')\n",
    "# plt.colorbar()\n",
    "# plt.grid()\n",
    "plt.savefig('{}_optobj.pdf'.format(problem_name), bbox_inches='tight')"
   ]
  },
  {
   "cell_type": "markdown",
   "metadata": {},
   "source": [
    "--------------"
   ]
  },
  {
   "cell_type": "code",
   "execution_count": null,
   "metadata": {
    "scrolled": false
   },
   "outputs": [],
   "source": [
    "generic_contourf(p, dat, k, func_fssd_ustat_std)\n",
    "plt.title('U-statistic standard deviation')\n",
    "plt.colorbar()\n",
    "plt.grid()\n",
    "plt.savefig('{}_h1sd.pdf'.format(problem_name), bbox_inches='tight')"
   ]
  },
  {
   "cell_type": "markdown",
   "metadata": {},
   "source": [
    "## Plots in 1D"
   ]
  },
  {
   "cell_type": "code",
   "execution_count": null,
   "metadata": {
    "collapsed": true
   },
   "outputs": [],
   "source": [
    "def generic_1d_locs_plot(p, dat, k, func, func_label=None, cond_locs=None, \n",
    "                         noise_level=None, qden_func=None, n_max_stats=0):\n",
    "    \"\"\"\n",
    "    func: (p, dat, k, V) |-> value. A function computing the values to plot.\n",
    "    cond_locs: J'xd matrix of test locations to condition on\n",
    "    func_label: plot label for the function \n",
    "    qden_func: a function taking an array and producing the density values of q\n",
    "    \n",
    "    - n_max_stats: a count to show top few locations of the highest stats.\n",
    "    \"\"\"\n",
    "    \n",
    "    # should be an n x 1 matrix. 1d data.\n",
    "    X = dat.data()\n",
    "    max0 = np.max(X, 0)\n",
    "    min0 = np.min(X, 0)\n",
    "    \n",
    "    sd0  = (max0-min0)*0.3\n",
    "    # form a test location grid to try \n",
    "    nd0 = 600\n",
    "    loc0_cands = np.hstack((\n",
    "        np.linspace(min0-sd0/2, max0+sd0/2, nd0),\n",
    "        np.linspace(-1e-4, 1e-4, 100),\n",
    "        [0, -1e-6, 1e-6]\n",
    "    ))\n",
    "    \n",
    "    loc0_cands.sort()\n",
    "    # #candidates x 1\n",
    "    all_locs = np.reshape(loc0_cands, (-1, 1) )\n",
    "    \n",
    "    # evaluate the function on each candidate on the grid. Size = (#candidates, )\n",
    "    n_cand = len(loc0_cands)\n",
    "    stat_grid = np.zeros(n_cand)\n",
    "    \n",
    "    for i in range(n_cand):\n",
    "        vi = np.reshape(all_locs[i], (-1, 1))\n",
    "        V = vi if cond_locs is None else np.vstack((vi, cond_locs))\n",
    "        stat_grid[i] = func(p, dat, k, V)\n",
    "    den_grid = np.exp(p.log_normalized_den(all_locs))\n",
    "    \n",
    "    plt.figure(figsize=(8, 4))\n",
    "    # Plot the unnormalized density\n",
    "    max_func = np.max(stat_grid)\n",
    "    max_den = np.max(den_grid)\n",
    "    #abs_max = max(max_func, max_den)\n",
    "    abs_max = max_func\n",
    "    \n",
    "    rescaled_den = den_grid/max_den*abs_max\n",
    "    rescaled_stat = stat_grid/np.max(stat_grid)*np.max(den_grid)*1.2\n",
    "#     rescaled_stat = stat_grid\n",
    "    if n_max_stats > 0:\n",
    "        I = np.argsort(-rescaled_stat)\n",
    "        for i in range(n_max_stats):\n",
    "            best_loc_i = all_locs[I[i]]\n",
    "            plt.plot([best_loc_i, best_loc_i], [0, rescaled_stat[I[i]]], 'k--')\n",
    "\n",
    "    plt.plot(all_locs, den_grid, 'b-', \n",
    "#              label='$p(\\mathbf{x})$'\n",
    "              label='$p$'\n",
    "            )\n",
    "    if qden_func is not None:\n",
    "        qden = qden_func(all_locs)\n",
    "        plt.plot(all_locs, qden, 'r-', \n",
    "#                  label='$q(\\mathbf{x})$'\n",
    "                 label='$q$'\n",
    "                )\n",
    "    plt.plot(all_locs, rescaled_stat, 'g-', label=func_label)\n",
    "    # plot the data\n",
    "    n = X.shape[0]\n",
    "    if noise_level is None:\n",
    "        noise_level = max(rescaled_den)*0.01\n",
    "    with util.NumpySeedContext(seed=20):\n",
    "        noise = np.random.randn(n)*noise_level\n",
    "#         plt.plot(X[:, 0], noise, 'm.', \n",
    "#                  markeredgecolor='m', markersize=4, alpha=0.7, label='data')\n",
    "    \n",
    "    # plot the conditioning test locations\n",
    "    if cond_locs is not None:\n",
    "        for i in range(len(cond_locs)):\n",
    "            loci = cond_locs[i]\n",
    "            plt.stem(loci, [abs_max/2.0], 'g-', label='Cond. features')\n",
    "    \n",
    "    maxi = np.argmax(stat_grid)\n",
    "    # plot the location achieving the peak of the function\n",
    "#     plt.plot([all_locs[maxi], all_locs[maxi]], [0, stat_grid[maxi]], 'k--')\n",
    "#     plt.plot(all_locs[maxi], 0., 'k^', markersize=20, label='arg max')\n",
    "    plt.tight_layout()\n",
    "    plt.legend(\n",
    "#         bbox_to_anchor=(1.5, 1)\n",
    "    )\n",
    "    #plt.xlabel('$X$')\n",
    "    #plt.ylabelel('$Y$')\n",
    "    \n",
    "    "
   ]
  },
  {
   "cell_type": "code",
   "execution_count": null,
   "metadata": {},
   "outputs": [],
   "source": [
    "# true p\n",
    "seed = 21\n",
    "d = 1\n",
    "mean = np.zeros(d)\n",
    "variance = 1\n",
    "p = density.IsotropicNormal(mean, variance)\n",
    "\n",
    "# sample\n",
    "n = 3000\n",
    "\n",
    "# only one dimension of the mean is shifted\n",
    "#draw_mean = mean + np.hstack((1, np.zeros(d-1)))\n",
    "# draw_mean = mean + 1\n",
    "# draw_variance = variance + 0\n",
    "# X = util.randn(n, d, seed=seed+3)*np.sqrt(draw_variance) + draw_mean\n",
    "# dat = data.Data(X)\n",
    "\n",
    "# ds = data.DSIsotropicNormal(mean=mean, variance=variance)\n",
    "# dat = ds.sample(n, seed=seed+3)\n",
    "# X = dat.data()\n",
    "\n",
    "ds = data.DSLaplace(d=1, loc=0, scale=1.0/np.sqrt(2))\n",
    "qden_func = lambda x: stats.laplace.pdf(x, loc=0, scale=1.0/np.sqrt(2))\n",
    "dat = ds.sample(n, seed=seed+9)\n",
    "\n",
    "# tdf = 7\n",
    "# qden_func = lambda x: stats.t.pdf(x, df=tdf)\n",
    "# dst = data.DSTDistribution(df=tdf)\n",
    "# dat = dst.sample(n, seed=21)\n",
    "\n",
    "X = dat.data()"
   ]
  },
  {
   "cell_type": "code",
   "execution_count": null,
   "metadata": {},
   "outputs": [],
   "source": [
    "# Kernel\n",
    "sig2 = util.meddistance(X, subsample=1000)**2\n",
    "k = kernel.KGauss(sig2)\n",
    "\n",
    "# Test\n",
    "J = 1\n",
    "alpha = 0.01\n",
    "\n",
    "# random test locations\n",
    "V = util.fit_gaussian_draw(X, J, seed=seed+1)\n",
    "null_sim = gof.FSSDH0SimCovObs(n_simulate=2000, seed=10)\n",
    "fssd = gof.FSSD(isonorm, k, V, null_sim=null_sim, alpha=alpha)\n",
    "fssd.perform_test(dat)"
   ]
  },
  {
   "cell_type": "markdown",
   "metadata": {},
   "source": [
    "### Plot"
   ]
  },
  {
   "cell_type": "code",
   "execution_count": null,
   "metadata": {},
   "outputs": [],
   "source": [
    "generic_1d_locs_plot(p, dat, k, \n",
    "                     func_fssd_power_criterion, \n",
    "#                      func_fssd,\n",
    "#                      func_fssd_ustat_std,\n",
    "                     func_label=r'$\\frac{\\mathrm{FSSD^2}}{\\sigma_{H_1}}$', \n",
    "                    cond_locs=None, qden_func=qden_func, n_max_stats=0)\n",
    "# plt.title('mean/sd')\n",
    "plt.legend(loc='best', fontsize=26)\n",
    "plt.gca().get_yaxis().set_visible(False)\n",
    "plt.box(False)\n",
    "# plt.xlabel('$v$', fontsize=30)\n",
    "xax = plt.gca().get_xaxis()\n",
    "xax.set_ticks_position('bottom')\n",
    "plt.xlim([-5, 5])\n",
    "# plt.tick_params(\n",
    "#     axis='x',          # changes apply to the x-axis\n",
    "#     which='both',      # both major and minor ticks are affected\n",
    "#     bottom='on',      # ticks along the bottom edge are off\n",
    "#     top='off',         # ticks along the top edge are off\n",
    "#     labelbottom='on') # labels along the bottom edge are off\n",
    "# plt.grid()\n",
    "# plt.savefig('gauss_vs_t_obj.pdf', bbox_inches='tight')\n",
    "ax = plt.gca()\n",
    "\n",
    "# plot with n =100000, seed=30\n",
    "# loc1 = -0.895\n",
    "# loc2 = 0.92\n",
    "# plt.plot([loc1, loc1], [0, 0.46], 'k--')\n",
    "# plt.plot([loc2, loc2], [0, 0.46], 'k--')\n",
    "# ax.annotate('$v^*$', xy=(185, 26), xycoords='figure pixels' , fontsize=38)\n",
    "# ax.annotate('$v^*$', xy=(275, 26), xycoords='figure pixels' , fontsize=38)\n",
    "\n",
    "plt.savefig('gauss_vs_laplace_obj.pdf', bbox_inches='tight')"
   ]
  },
  {
   "cell_type": "code",
   "execution_count": null,
   "metadata": {
    "scrolled": false
   },
   "outputs": [],
   "source": [
    "generic_1d_locs_plot(p, dat, k, func_fssd, func_label=None, cond_locs=None)\n",
    "plt.title('$\\mathrm{FSSD}^2$')\n",
    "plt.grid()"
   ]
  },
  {
   "cell_type": "code",
   "execution_count": null,
   "metadata": {},
   "outputs": [],
   "source": [
    "generic_1d_locs_plot(p, dat, k, func_fssd_ustat_std, func_label=None, cond_locs=None)\n",
    "plt.title('FSSD standard deviation')\n",
    "plt.grid()"
   ]
  },
  {
   "cell_type": "code",
   "execution_count": null,
   "metadata": {},
   "outputs": [],
   "source": [
    "from ipywidgets import interact, interactive, fixed\n",
    "from IPython.display import display\n",
    "import ipywidgets as widgets\n",
    "import math\n",
    "\n",
    "def interactive_1d_locs_plot(f, func_label=None, cond_loc=None):\n",
    "    cond_locs = np.array([[cond_loc]])\n",
    "    generic_1d_locs_plot(p, dat, k, f, func_label=func_label, \n",
    "                    cond_locs=cond_locs, noise_level=1)\n",
    "    plt.grid()\n",
    "\n",
    "X = dat.data()\n",
    "minx = np.min(X)\n",
    "maxx = np.max(X)\n",
    "sdx = np.std(X)\n",
    "gap = 1\n",
    "vs = interactive(interactive_1d_locs_plot,\n",
    "    f=fixed(func_fssd_power_criterion), func_label=fixed('mean/std'), \n",
    "    cond_loc=(math.floor(minx-gap), math.ceil(maxx+gap), 0.2)\n",
    ")\n",
    "display(vs)"
   ]
  },
  {
   "cell_type": "code",
   "execution_count": null,
   "metadata": {
    "collapsed": true
   },
   "outputs": [],
   "source": []
  },
  {
   "cell_type": "code",
   "execution_count": null,
   "metadata": {
    "collapsed": true
   },
   "outputs": [],
   "source": []
  },
  {
   "cell_type": "code",
   "execution_count": null,
   "metadata": {
    "collapsed": true
   },
   "outputs": [],
   "source": []
  },
  {
   "cell_type": "code",
   "execution_count": null,
   "metadata": {
    "collapsed": true
   },
   "outputs": [],
   "source": []
  },
  {
   "cell_type": "code",
   "execution_count": null,
   "metadata": {
    "collapsed": true
   },
   "outputs": [],
   "source": []
  },
  {
   "cell_type": "raw",
   "metadata": {},
   "source": []
  },
  {
   "cell_type": "code",
   "execution_count": null,
   "metadata": {
    "collapsed": true
   },
   "outputs": [],
   "source": []
  },
  {
   "cell_type": "code",
   "execution_count": null,
   "metadata": {
    "collapsed": true
   },
   "outputs": [],
   "source": []
  },
  {
   "cell_type": "code",
   "execution_count": null,
   "metadata": {
    "collapsed": true
   },
   "outputs": [],
   "source": []
  }
 ],
 "metadata": {
  "anaconda-cloud": {},
  "kernelspec": {
   "display_name": "Python 3",
   "language": "python",
   "name": "python3"
  },
  "language_info": {
   "codemirror_mode": {
    "name": "ipython",
    "version": 3
   },
   "file_extension": ".py",
   "mimetype": "text/x-python",
   "name": "python",
   "nbconvert_exporter": "python",
   "pygments_lexer": "ipython3",
   "version": "3.6.3"
  }
 },
 "nbformat": 4,
 "nbformat_minor": 1
}
