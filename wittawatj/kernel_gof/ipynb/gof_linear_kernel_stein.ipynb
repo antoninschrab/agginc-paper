{
 "cells": [
  {
   "cell_type": "markdown",
   "metadata": {},
   "source": [
    "A notebook to test and demonstrate `LinearKernelSteinTest`."
   ]
  },
  {
   "cell_type": "code",
   "execution_count": null,
   "metadata": {},
   "outputs": [],
   "source": [
    "%load_ext autoreload\n",
    "%autoreload 2\n",
    "%matplotlib inline\n",
    "#%config InlineBackend.figure_format = 'svg'\n",
    "#%config InlineBackend.figure_format = 'pdf'\n",
    "\n",
    "import kgof\n",
    "import kgof.data as data\n",
    "import kgof.density as density\n",
    "import kgof.goftest as gof\n",
    "import kgof.kernel as ker\n",
    "import kgof.util as util\n",
    "import matplotlib\n",
    "import matplotlib.pyplot as plt\n",
    "import numpy as np\n",
    "import scipy.stats as stats"
   ]
  },
  {
   "cell_type": "code",
   "execution_count": null,
   "metadata": {
    "collapsed": true
   },
   "outputs": [],
   "source": [
    "# font options\n",
    "font = {\n",
    "    #'family' : 'normal',\n",
    "    #'weight' : 'bold',\n",
    "    'size'   : 18\n",
    "}\n",
    "\n",
    "plt.rc('font', **font)\n",
    "plt.rc('lines', linewidth=2)\n",
    "matplotlib.rcParams['pdf.fonttype'] = 42\n",
    "matplotlib.rcParams['ps.fonttype'] = 42"
   ]
  },
  {
   "cell_type": "markdown",
   "metadata": {},
   "source": [
    "## Problem: p = Isotropic normal distribution"
   ]
  },
  {
   "cell_type": "code",
   "execution_count": null,
   "metadata": {
    "collapsed": true
   },
   "outputs": [],
   "source": [
    "# true p\n",
    "seed = 20\n",
    "d = 1\n",
    "mean = np.zeros(d)\n",
    "variance = 1\n",
    "isonorm = density.IsotropicNormal(mean, variance)"
   ]
  },
  {
   "cell_type": "code",
   "execution_count": null,
   "metadata": {
    "collapsed": true
   },
   "outputs": [],
   "source": [
    "# sample\n",
    "n = 1000\n",
    "\n",
    "# only one dimension of the mean is shifted\n",
    "#draw_mean = mean + np.hstack((1, np.zeros(d-1)))\n",
    "draw_mean = mean + 0\n",
    "draw_variance = variance + 0\n",
    "X = util.randn(n, d, seed=seed+2)*np.sqrt(draw_variance) + draw_mean\n",
    "dat = data.Data(X)"
   ]
  },
  {
   "cell_type": "code",
   "execution_count": null,
   "metadata": {},
   "outputs": [],
   "source": [
    "# Test\n",
    "alpha = 0.01\n",
    "\n",
    "sig2 = util.meddistance(X, subsample=1000)**2\n",
    "k = ker.KGauss(sig2)\n",
    "#k = ker.KGauss(1)\n",
    "\n",
    "lin_kstein = gof.LinearKernelSteinTest(isonorm, k, alpha=alpha, seed=seed+1)"
   ]
  },
  {
   "cell_type": "code",
   "execution_count": null,
   "metadata": {},
   "outputs": [],
   "source": [
    "lin_kstein_result = lin_kstein.perform_test(dat)\n",
    "lin_kstein_result\n",
    "#kstein.compute_stat(dat)"
   ]
  },
  {
   "cell_type": "code",
   "execution_count": null,
   "metadata": {
    "collapsed": true
   },
   "outputs": [],
   "source": []
  },
  {
   "cell_type": "code",
   "execution_count": null,
   "metadata": {
    "collapsed": true
   },
   "outputs": [],
   "source": []
  }
 ],
 "metadata": {
  "kernelspec": {
   "display_name": "Python 3",
   "language": "python",
   "name": "python3"
  },
  "language_info": {
   "codemirror_mode": {
    "name": "ipython",
    "version": 3
   },
   "file_extension": ".py",
   "mimetype": "text/x-python",
   "name": "python",
   "nbconvert_exporter": "python",
   "pygments_lexer": "ipython3",
   "version": "3.6.3"
  }
 },
 "nbformat": 4,
 "nbformat_minor": 1
}
