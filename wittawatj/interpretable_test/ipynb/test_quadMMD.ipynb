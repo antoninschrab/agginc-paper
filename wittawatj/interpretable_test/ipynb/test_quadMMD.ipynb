{
 "cells": [
  {
   "cell_type": "markdown",
   "metadata": {},
   "source": [
    "Test quadratic MMD two-sample test"
   ]
  },
  {
   "cell_type": "code",
   "execution_count": null,
   "metadata": {
    "collapsed": false
   },
   "outputs": [],
   "source": [
    "%load_ext autoreload\n",
    "%autoreload 2\n",
    "%matplotlib inline\n",
    "import numpy as np\n",
    "import matplotlib.pyplot as plt\n",
    "import freqopttest.util as util\n",
    "import freqopttest.data as data\n",
    "import freqopttest.kernel as kernel\n",
    "import freqopttest.tst as tst\n",
    "import freqopttest.glo as glo\n",
    "import scipy.stats as stats\n",
    "import sys"
   ]
  },
  {
   "cell_type": "code",
   "execution_count": null,
   "metadata": {
    "collapsed": false
   },
   "outputs": [],
   "source": [
    "# sample source \n",
    "n = 500\n",
    "dim = 10\n",
    "alpha = 0.01\n",
    "seed = 22\n",
    "\n",
    "ss = data.SSGaussMeanDiff(dim, my=0.5)\n",
    "#ss = data.SSSameGauss(d=dim)\n",
    "#ss = data.SSGaussVarDiff(dim)\n",
    "#ss = data.SSBlobs()\n",
    "tst_data = ss.sample(n, seed=seed)\n",
    "tr, te = tst_data.split_tr_te(tr_proportion=0.5, seed=10)\n"
   ]
  },
  {
   "cell_type": "markdown",
   "metadata": {},
   "source": [
    "## Test Quadratic MMD"
   ]
  },
  {
   "cell_type": "code",
   "execution_count": null,
   "metadata": {
    "collapsed": true
   },
   "outputs": [],
   "source": [
    "med = util.meddistance(tr.stack_xy(), 1000)\n",
    "list_gwidth = np.hstack( ( (med**2) *(2.0**np.linspace(-4, 4, 20) ) ) )\n",
    "list_gwidth.sort()\n",
    "list_kernels = [kernel.KGauss(gw2) for gw2 in list_gwidth]\n",
    "besti, powers = tst.QuadMMDTest.grid_search_kernel(tr, list_kernels, alpha)"
   ]
  },
  {
   "cell_type": "code",
   "execution_count": null,
   "metadata": {
    "collapsed": false,
    "scrolled": true
   },
   "outputs": [],
   "source": [
    "print 'med^2: %.3f'%med**2\n",
    "print 'best width^2: %.3f'%(list_gwidth[besti])\n",
    "plt.plot(list_gwidth, powers, 'o-')\n",
    "plt.xlabel('Gaussian width^2')\n",
    "plt.ylabel('Approx. test power')"
   ]
  },
  {
   "cell_type": "code",
   "execution_count": null,
   "metadata": {
    "collapsed": false,
    "scrolled": true
   },
   "outputs": [],
   "source": [
    "k = kernel.KGauss(list_gwidth[besti])\n",
    "mmd_test = tst.QuadMMDTest(k, n_permute=200, alpha=alpha)\n",
    "test_result = mmd_test.perform_test(te)\n",
    "test_result"
   ]
  },
  {
   "cell_type": "code",
   "execution_count": null,
   "metadata": {
    "collapsed": false,
    "scrolled": false
   },
   "outputs": [],
   "source": [
    "permuted_mmd2s = test_result['list_permuted_mmd2']\n",
    "stat = test_result['test_stat']\n",
    "bins = plt.hist(permuted_mmd2s, 10, normed=True, label='H0 Permuted MMD2');\n",
    "plt.xlabel('Permuted MMD^2 values')\n",
    "plt.ylabel('Normalized frequency')\n",
    "plt.stem([stat], [max(bins[0])/2], 'or-', label='Observed stat.')\n",
    "plt.legend()\n"
   ]
  },
  {
   "cell_type": "code",
   "execution_count": null,
   "metadata": {
    "collapsed": false
   },
   "outputs": [],
   "source": []
  },
  {
   "cell_type": "code",
   "execution_count": null,
   "metadata": {
    "collapsed": true
   },
   "outputs": [],
   "source": []
  },
  {
   "cell_type": "code",
   "execution_count": null,
   "metadata": {
    "collapsed": true
   },
   "outputs": [],
   "source": []
  }
 ],
 "metadata": {
  "kernelspec": {
   "display_name": "Python [Root]",
   "language": "python",
   "name": "Python [Root]"
  },
  "language_info": {
   "codemirror_mode": {
    "name": "ipython",
    "version": 2
   },
   "file_extension": ".py",
   "mimetype": "text/x-python",
   "name": "python",
   "nbconvert_exporter": "python",
   "pygments_lexer": "ipython2",
   "version": "2.7.12"
  }
 },
 "nbformat": 4,
 "nbformat_minor": 0
}
