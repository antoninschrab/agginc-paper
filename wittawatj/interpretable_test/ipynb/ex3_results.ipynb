{
 "cells": [
  {
   "cell_type": "code",
   "execution_count": null,
   "metadata": {
    "collapsed": false
   },
   "outputs": [],
   "source": [
    "%load_ext autoreload\n",
    "%autoreload 2\n",
    "%matplotlib inline\n",
    "#%config InlineBackend.figure_format = 'svg'\n",
    "#%config InlineBackend.figure_format = 'pdf'\n",
    "import freqopttest.util as util\n",
    "import freqopttest.data as data\n",
    "import freqopttest.ex.exglobal as exglo\n",
    "import freqopttest.kernel as kernel\n",
    "import freqopttest.tst as tst\n",
    "import freqopttest.glo as glo\n",
    "import freqopttest.plot as plot\n",
    "import matplotlib.pyplot as plt\n",
    "import numpy as np\n",
    "import scipy.stats as stats\n",
    "import sys"
   ]
  },
  {
   "cell_type": "code",
   "execution_count": null,
   "metadata": {
    "collapsed": true
   },
   "outputs": [],
   "source": [
    "def load_plot_vs_J(fname, h1_true, show_legend=True):\n",
    "    ex = 3\n",
    "    func_xvalues = lambda results: results['list_J']\n",
    "    def func_title(results):\n",
    "        repeats, _, n_methods = results['test_results'].shape\n",
    "        alpha = results['alpha']\n",
    "        test_size = (1.0 - results['tr_proportion'])*results['sample_size']\n",
    "        title = '%s. %d trials. test size: %d. $\\\\alpha$ = %.2g.'%\\\n",
    "            ( results['prob_label'], repeats, test_size, alpha)\n",
    "        return title\n",
    "   \n",
    "    results = plot.plot_prob_stat_above_thresh(\n",
    "        ex, fname, h1_true, func_xvalues, 'J', func_title)\n",
    "    plt.title('')\n",
    "    plt.legend().set_visible(show_legend)\n",
    "    return results\n"
   ]
  },
  {
   "cell_type": "code",
   "execution_count": null,
   "metadata": {
    "collapsed": true
   },
   "outputs": [],
   "source": [
    "# font options\n",
    "font = {\n",
    "    #'family' : 'normal',\n",
    "    #'weight' : 'bold',\n",
    "    'size'   : 18\n",
    "}\n",
    "\n",
    "plt.rc('font', **font)\n",
    "plt.rc('lines', linewidth=2)"
   ]
  },
  {
   "cell_type": "code",
   "execution_count": null,
   "metadata": {
    "collapsed": false
   },
   "outputs": [],
   "source": [
    "# H0 true. Same Gauss. \n",
    "#sg_fname = 'ex3-sg_d50-me4_rs100_jmi5_jma25_a0.010_trp0.50.p'\n",
    "#sg_fname = 'ex3-sg_d50-me4_rs500_n20000_jmi2_jma6_a0.010_trp0.50.p'\n",
    "sg_fname = 'ex3-sg_d50-me4_rs100_n10000_jmi2_jma6_a0.010_trp0.50.p'\n",
    "sg_results = load_plot_vs_J(sg_fname, False, show_legend=False)\n",
    "plt.savefig(sg_fname.replace('.p', '.pdf', 1))"
   ]
  },
  {
   "cell_type": "code",
   "execution_count": null,
   "metadata": {
    "collapsed": false,
    "scrolled": true
   },
   "outputs": [],
   "source": [
    "# H1 true. Blobs\n",
    "#blobs_fname = 'ex3-SSBlobs-me4_rs500_n20000_jmi2_jma6_a0.010_trp0.50.p'\n",
    "blobs_fname = 'ex3-SSBlobs-me4_rs100_n10000_jmi2_jma6_a0.010_trp0.50.p'\n",
    "blobs_results = load_plot_vs_J(blobs_fname, True, show_legend=False)\n",
    "plt.savefig(blobs_fname.replace('.p', '.pdf', 1))"
   ]
  },
  {
   "cell_type": "code",
   "execution_count": null,
   "metadata": {
    "collapsed": false
   },
   "outputs": [],
   "source": [
    "# H1 true. Gaussian mean diff\n",
    "#gmd_fname = 'ex3-gmd_d100-me4_rs100_jmi5_jma25_a0.010_trp0.50.p'\n",
    "#gmd_fname = 'ex3-gmd_d100-me4_rs500_n20000_jmi2_jma6_a0.010_trp0.50.p'\n",
    "gmd_fname = 'ex3-gmd_d100-me4_rs100_n10000_jmi2_jma6_a0.010_trp0.50.p'\n",
    "gmd_results = load_plot_vs_J(gmd_fname, True, show_legend=True)\n",
    "plt.ylim([0.2, 1.03])\n",
    "plt.legend(loc='best')\n",
    "plt.savefig(gmd_fname.replace('.p', '.pdf', 1))"
   ]
  },
  {
   "cell_type": "code",
   "execution_count": null,
   "metadata": {
    "collapsed": false
   },
   "outputs": [],
   "source": [
    "# H1 true. Gaussian variance diff\n",
    "#gvd50_fname = 'ex3-gvd_d50-me4_rs100_jmi5_jma25_a0.010_trp0.50.p'\n",
    "#gvd50_fname = 'ex3-gvd_d50-me4_rs500_n20000_jmi2_jma6_a0.010_trp0.50.p'\n",
    "gvd50_fname = 'ex3-gvd_d50-me4_rs100_n10000_jmi2_jma6_a0.010_trp0.50.p'\n",
    "gvd50_results = load_plot_vs_J(gvd50_fname, True)\n",
    "plt.savefig(gvd50_fname.replace('.p', '.pdf', 1))"
   ]
  },
  {
   "cell_type": "code",
   "execution_count": null,
   "metadata": {
    "collapsed": false
   },
   "outputs": [],
   "source": [
    "# gmd d=2 with very large J\n",
    "gmd2_fname = 'ex3-gmd_d2-me1_rs100_n2000_jmi300_jma500_a0.010_trp0.50.p'\n",
    "gmd2_results = load_plot_vs_J(gmd2_fname, True, show_legend=True)\n",
    "#plt.ylim([0.2, 1.03])\n",
    "plt.legend(loc='best')\n",
    "plt.grid(True)\n"
   ]
  },
  {
   "cell_type": "code",
   "execution_count": null,
   "metadata": {
    "collapsed": true
   },
   "outputs": [],
   "source": []
  }
 ],
 "metadata": {
  "kernelspec": {
   "display_name": "Python [Root]",
   "language": "python",
   "name": "Python [Root]"
  },
  "language_info": {
   "codemirror_mode": {
    "name": "ipython",
    "version": 2
   },
   "file_extension": ".py",
   "mimetype": "text/x-python",
   "name": "python",
   "nbconvert_exporter": "python",
   "pygments_lexer": "ipython2",
   "version": "2.7.12"
  }
 },
 "nbformat": 4,
 "nbformat_minor": 0
}
