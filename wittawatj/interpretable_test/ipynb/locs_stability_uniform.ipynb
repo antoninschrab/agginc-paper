{
 "cells": [
  {
   "cell_type": "markdown",
   "metadata": {},
   "source": [
    "This notebook investigates the stability of the learned test location. We consider the case where P is a mixture of two uniform distributions on 1D, one of which has small height, and the second component has a much larger height. Here Q is a uniform distribution whose mass strongly overlaps with the second component of P. \n",
    "\n",
    "The idea is that if the sample size n is low, we will have very few to no points from the first component of P, and the learned location will be at the second component. If n is high, the learned location will be at the first component since the difference is larger."
   ]
  },
  {
   "cell_type": "code",
   "execution_count": null,
   "metadata": {},
   "outputs": [],
   "source": [
    "%load_ext autoreload\n",
    "%autoreload 2\n",
    "%matplotlib inline\n",
    "#%config InlineBackend.figure_format = 'svg'\n",
    "#%config InlineBackend.figure_format = 'pdf'\n",
    "import freqopttest.util as util\n",
    "import freqopttest.data as data\n",
    "import freqopttest.ex.exglobal as exglo\n",
    "import freqopttest.kernel as kernel\n",
    "import freqopttest.tst as tst\n",
    "import freqopttest.glo as glo\n",
    "import freqopttest.plot as plot\n",
    "import matplotlib.pyplot as plt\n",
    "import numpy as np\n",
    "import scipy.stats as stats\n",
    "import scipy.signal as sig\n",
    "import sys"
   ]
  },
  {
   "cell_type": "code",
   "execution_count": null,
   "metadata": {
    "collapsed": true
   },
   "outputs": [],
   "source": [
    "# font options\n",
    "font = {\n",
    "    #'family' : 'normal',\n",
    "    #'weight' : 'bold',\n",
    "    'size'   : 18\n",
    "}\n",
    "\n",
    "plt.rc('font', **font)\n",
    "plt.rc('lines', linewidth=2)"
   ]
  },
  {
   "cell_type": "code",
   "execution_count": null,
   "metadata": {
    "collapsed": true
   },
   "outputs": [],
   "source": [
    "class SSMix2Unif(data.SampleSource):\n",
    "    \"\"\"\n",
    "    1-d problem.\n",
    "    \n",
    "    P: U(m_p - w_p/2, mp+w_p/2) where w_p is the width of the uniform distribution, \n",
    "        m_p is the mean\n",
    "    Q: w*U(m_q-w_q/2, mq+w_q/2) + (1-w)*p(x) where p(x) is the density of \n",
    "    \"\"\"\n",
    "    def __init__(self, w, mp, wp, mq, wq):\n",
    "        if not (w>=0 and w<=1):\n",
    "            raise RuntimeError('w must be in [0, 1]')\n",
    "           \n",
    "        self.w = w\n",
    "        self.mp = mp\n",
    "        self.wp = wp\n",
    "        self.mq = mq\n",
    "        self.wq = wq\n",
    "\n",
    "    def dim(self):\n",
    "        return 1\n",
    "\n",
    "    def sample(self, n, seed):\n",
    "        \n",
    "        rstate = np.random.get_state()\n",
    "        np.random.seed(seed)\n",
    "        \n",
    "        w = self.w\n",
    "        mp = self.mp\n",
    "        wp = self.wp\n",
    "        mq = self.mq\n",
    "        wq = self.wq\n",
    "        \n",
    "        disc_var = stats.rv_discrete(values=([0, 1], [w, 1-w]) )\n",
    "        ind = disc_var.rvs(size=n)\n",
    "        \n",
    "        ind0 = ind==0\n",
    "        #print ind0\n",
    "        ind1 = ind==1\n",
    "        # draw from Q\n",
    "        ys = stats.uniform.rvs(loc=mq-wq/2.0, scale=wq, size=np.sum(ind0))\n",
    "        yb = stats.uniform.rvs(loc=mp-wp/2.0, scale=wp, size=np.sum(ind1))\n",
    "        y = np.hstack((ys, yb))\n",
    "        y = y[:, np.newaxis]\n",
    "                \n",
    "        # draw from P\n",
    "        x = stats.uniform.rvs(loc=mp-wp/2.0, scale=wp, size=n)\n",
    "        x = x[:, np.newaxis]\n",
    "        np.random.set_state(rstate)\n",
    "        return data.TSTData(x, y, label='mix2unif')"
   ]
  },
  {
   "cell_type": "code",
   "execution_count": null,
   "metadata": {},
   "outputs": [],
   "source": [
    "# sample source \n",
    "n = 4000\n",
    "alpha = 0.01\n",
    "w = 0.4\n",
    "seed = 43\n",
    "prob_params = {'w': w, 'mp': 25, 'wp': 5, 'mq': 0, 'wq': 0.2}\n",
    "ss = SSMix2Unif(**prob_params)"
   ]
  },
  {
   "cell_type": "code",
   "execution_count": null,
   "metadata": {},
   "outputs": [],
   "source": [
    "tst_data = ss.sample(n, seed=seed)\n",
    "tr = ss.sample(n//2, seed=seed)\n",
    "te = ss.sample(n//2, seed=seed+1)\n",
    "#tr, te = tst_data.split_tr_te(tr_proportion=0.5, seed=10)\n",
    "nte = te.X.shape[0]"
   ]
  },
  {
   "cell_type": "code",
   "execution_count": null,
   "metadata": {},
   "outputs": [],
   "source": [
    "xtr, ytr = tr.xy()\n",
    "xytr = tr.stack_xy()\n",
    "bins = np.linspace(np.min(xytr), np.max(xytr), 30)\n",
    "normed_hist = True\n",
    "plt.hist(xtr, bins, label='X', alpha=0.5, normed=normed_hist)\n",
    "plt.hist(ytr, bins, label='Y', alpha=0.5, normed=normed_hist)\n",
    "plt.legend(loc='best')"
   ]
  },
  {
   "cell_type": "markdown",
   "metadata": {},
   "source": [
    "## Check stability of the two modes. Triangular kernel"
   ]
  },
  {
   "cell_type": "code",
   "execution_count": null,
   "metadata": {
    "collapsed": true
   },
   "outputs": [],
   "source": [
    "alpha = 0.01\n",
    "nte = 400\n",
    "rep = 400"
   ]
  },
  {
   "cell_type": "code",
   "execution_count": null,
   "metadata": {
    "collapsed": true
   },
   "outputs": [],
   "source": [
    "# repeat many trials to see the value of the optimized location\n",
    "def two_locations_test_results(nte, k):\n",
    "    \"\"\"\n",
    "    k: an instance of Kernel\n",
    "    \"\"\"\n",
    "    Tp_results = []\n",
    "    Tq_results = []\n",
    "    shift_seed = 1000\n",
    "    \n",
    "    for r in range(shift_seed, shift_seed+rep):    \n",
    "        #tst_data = ss.sample(n, seed=r)\n",
    "        #tr, te = tst_data.split_tr_te(tr_proportion=0.5, seed=10)\n",
    "        te = ss.sample(nte, seed=r+1)\n",
    "       \n",
    "        # test loc at the small bump\n",
    "        Tq = np.array([[prob_params['mq']]])\n",
    "        # test loc at the big bump\n",
    "        Tp = np.array([[prob_params['mp'] ]])\n",
    "        #Tp = np.array([[ 2 ]])\n",
    "\n",
    "        # actual test \n",
    "        q_met = tst.METest(Tq, k, alpha)\n",
    "        Tq_results.append(q_met.perform_test(te))\n",
    "        p_met = tst.METest(Tp, k, alpha)\n",
    "        Tp_results.append(p_met.perform_test(te))\n",
    "    return Tp_results, Tq_results\n",
    "\n",
    "def prob_tq_better(nte, k):\n",
    "    \"\"\"\n",
    "    k: an instance of Kernel\n",
    "    \"\"\"\n",
    "    Tp_results, Tq_results = two_locations_test_results(nte, k)\n",
    "    tp_lambs = np.array([r['test_stat'] for r in Tp_results ])\n",
    "    tq_lambs = np.array([r['test_stat'] for r in Tq_results ])\n",
    "    n_left_high = np.sum(tq_lambs>tp_lambs)\n",
    "    return float(n_left_high)/rep, tp_lambs, tq_lambs\n",
    "\n",
    "def plot_tup_stats(tup_ntes):\n",
    "    ps_small_better = np.array([t[0] for t in tup_ntes])\n",
    "\n",
    "    plt.plot(ntes, ps_small_better, 'ob-')\n",
    "    plt.xlabel('nte')\n",
    "    plt.ylabel('p(loc at small bump gives high $\\hat{\\lambda}_n$)')\n",
    "    \n",
    "    plt.figure()\n",
    "    tp_lamb_means = np.array([np.mean(l) for l in [t[1] for t in tup_ntes]])\n",
    "    tp_lamb_stds = np.array([np.std(l) for l in [t[1] for t in tup_ntes]])\n",
    "    tq_lamb_means = np.array([np.mean(l) for l in [t[2] for t in tup_ntes]])\n",
    "    tq_lamb_stds = np.array([np.std(l) for l in [t[2] for t in tup_ntes]])\n",
    "\n",
    "    print('mq is the mean of the small bump')\n",
    "    plt.errorbar(ntes, tp_lamb_means, tp_lamb_stds, \n",
    "                 label=r'$\\hat{\\mathbb{E}}[\\hat{\\lambda}_n \\mid \\mathrm{at }\\,\\, m_p]$')\n",
    "    plt.errorbar(ntes, tq_lamb_means, tq_lamb_stds, \n",
    "                 label=r'$\\hat{\\mathbb{E}}[\\hat{\\lambda}_n \\mid \\mathrm{at }\\,\\, m_q]$')\n",
    "    plt.xlabel('test sample size')\n",
    "    plt.ylabel('$\\hat{\\lambda}_n$')\n",
    "    plt.legend(loc='best')"
   ]
  },
  {
   "cell_type": "code",
   "execution_count": null,
   "metadata": {},
   "outputs": [],
   "source": [
    "ntes = np.linspace(5, 200, num=7, dtype=np.int64)\n",
    "#ntes = np.array([ 25, 50, 75, 100, 150, 200, 250])\n",
    "\n",
    "tri_width = 3\n",
    "ktri = kernel.KTriangle(tri_width)\n",
    "ktri_tup_ntes = [prob_tq_better(nte, ktri) for nte in ntes]\n",
    "plot_tup_stats(ktri_tup_ntes)"
   ]
  },
  {
   "cell_type": "code",
   "execution_count": null,
   "metadata": {
    "collapsed": true
   },
   "outputs": [],
   "source": [
    "\n",
    "tp_lamb_means = np.array([np.mean(l) for l in [t[1] for t in ktri_tup_ntes]])\n",
    "tp_lamb_stds = np.array([np.std(l) for l in [t[1] for t in ktri_tup_ntes]])\n",
    "tq_lamb_means = np.array([np.mean(l) for l in [t[2] for t in ktri_tup_ntes]])\n",
    "tq_lamb_stds = np.array([np.std(l) for l in [t[2] for t in ktri_tup_ntes]])"
   ]
  },
  {
   "cell_type": "markdown",
   "metadata": {},
   "source": [
    "## Check stability of the two modes. Gaussian kernel"
   ]
  },
  {
   "cell_type": "markdown",
   "metadata": {},
   "source": [
    "Here we fix the test location to either on the left or the right bump and compare the objective function value."
   ]
  },
  {
   "cell_type": "code",
   "execution_count": null,
   "metadata": {
    "collapsed": true
   },
   "outputs": [],
   "source": [
    "alpha = 0.01\n",
    "nte = 400\n",
    "rep = 300"
   ]
  },
  {
   "cell_type": "code",
   "execution_count": null,
   "metadata": {},
   "outputs": [],
   "source": [
    "#ntes = np.linspace(50, 300, num=7, dtype=np.int64)\n",
    "ntes = np.array([ 25, 50, 75, 100, 150, 200, 250])\n",
    "\n",
    "#gwidth0 = 1\n",
    "med_data = ss.sample(1000, seed=10)\n",
    "gwidth0 = util.meddistance(med_data.stack_xy(), subsample=1000)**2\n",
    "\n",
    "kgauss = kernel.KGauss(gwidth0)\n",
    "tup_ntes = [prob_tq_better(nte, kgauss) for nte in ntes]"
   ]
  },
  {
   "cell_type": "code",
   "execution_count": null,
   "metadata": {
    "scrolled": true
   },
   "outputs": [],
   "source": [
    "plot_tup_stats(tup_ntes)"
   ]
  },
  {
   "cell_type": "markdown",
   "metadata": {},
   "source": [
    "## test B-spline"
   ]
  },
  {
   "cell_type": "code",
   "execution_count": null,
   "metadata": {},
   "outputs": [],
   "source": [
    "dom = np.linspace(-3, 3, 200)\n",
    "for order in [0, 1, 2]:\n",
    "    bspline_vals = sig.bspline(dom, order)\n",
    "    plt.plot(dom, bspline_vals, label='order=%d'%order)\n",
    "plt.legend()\n",
    "plt.title('B-spline')"
   ]
  },
  {
   "cell_type": "code",
   "execution_count": null,
   "metadata": {
    "collapsed": true
   },
   "outputs": [],
   "source": []
  },
  {
   "cell_type": "code",
   "execution_count": null,
   "metadata": {
    "collapsed": true
   },
   "outputs": [],
   "source": []
  },
  {
   "cell_type": "code",
   "execution_count": null,
   "metadata": {
    "collapsed": true
   },
   "outputs": [],
   "source": []
  },
  {
   "cell_type": "code",
   "execution_count": null,
   "metadata": {
    "collapsed": true
   },
   "outputs": [],
   "source": []
  }
 ],
 "metadata": {
  "kernelspec": {
   "display_name": "Python 3",
   "language": "python",
   "name": "python3"
  },
  "language_info": {
   "codemirror_mode": {
    "name": "ipython",
    "version": 3
   },
   "file_extension": ".py",
   "mimetype": "text/x-python",
   "name": "python",
   "nbconvert_exporter": "python",
   "pygments_lexer": "ipython3",
   "version": "3.6.3"
  }
 },
 "nbformat": 4,
 "nbformat_minor": 1
}
