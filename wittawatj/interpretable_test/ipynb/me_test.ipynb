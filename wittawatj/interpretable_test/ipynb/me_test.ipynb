{
 "cells": [
  {
   "cell_type": "code",
   "execution_count": null,
   "metadata": {},
   "outputs": [],
   "source": [
    "%load_ext autoreload\n",
    "%autoreload 2\n",
    "%matplotlib inline\n",
    "import numpy as np\n",
    "import matplotlib.pyplot as plt\n",
    "import freqopttest.util as util\n",
    "import freqopttest.data as data\n",
    "import freqopttest.kernel as kernel\n",
    "import freqopttest.tst as tst\n",
    "import freqopttest.glo as glo\n",
    "import sys"
   ]
  },
  {
   "cell_type": "code",
   "execution_count": null,
   "metadata": {
    "collapsed": true
   },
   "outputs": [],
   "source": [
    "# sample source \n",
    "n = 3000\n",
    "dim = 10\n",
    "seed = 17\n",
    "#ss = data.SSGaussMeanDiff(dim, my=1)\n",
    "#ss = data.SSGaussVarDiff(dim)\n",
    "#ss = data.SSSameGauss(dim)\n",
    "ss = data.SSBlobs()\n",
    "dim = ss.dim()\n",
    "tst_data = ss.sample(n, seed=seed)\n",
    "tr, te = tst_data.split_tr_te(tr_proportion=0.5, seed=10)"
   ]
  },
  {
   "cell_type": "markdown",
   "metadata": {
    "collapsed": true
   },
   "source": [
    "## grid search for Gaussian width. Random test features"
   ]
  },
  {
   "cell_type": "code",
   "execution_count": null,
   "metadata": {
    "collapsed": true
   },
   "outputs": [],
   "source": [
    "J = 5\n",
    "alpha = 0.01"
   ]
  },
  {
   "cell_type": "code",
   "execution_count": null,
   "metadata": {
    "scrolled": true
   },
   "outputs": [],
   "source": [
    "T = tst.MeanEmbeddingTest.init_locs_2randn(tr, J, seed=seed+1)\n",
    "#T = np.random.randn(J, dim)\n",
    "\n",
    "med = util.meddistance(tr.stack_xy(), 1000)\n",
    "list_gwidth = np.hstack( ( (med**2) *(2.0**np.linspace(-5, 5, 40) ) ) )\n",
    "list_gwidth.sort()\n",
    "besti, powers = tst.MeanEmbeddingTest.grid_search_gwidth(tr, T, list_gwidth, alpha)\n",
    "\n",
    "# plot\n",
    "plt.plot(list_gwidth, powers, 'o-')\n",
    "plt.xscale('log', basex=2)\n",
    "plt.xlabel('Gaussian width')\n",
    "plt.ylabel('Test power')\n",
    "plt.title('Median dist: %.3g. Best gwidth2**0.5: %.3g'%(med, list_gwidth[besti]**0.5) )"
   ]
  },
  {
   "cell_type": "code",
   "execution_count": null,
   "metadata": {},
   "outputs": [],
   "source": [
    "# test with the best Gaussian width\n",
    "best_width = list_gwidth[besti]\n",
    "met_grid = tst.MeanEmbeddingTest(T, best_width, alpha)\n",
    "met_grid.perform_test(te)"
   ]
  },
  {
   "cell_type": "markdown",
   "metadata": {},
   "source": [
    "## optimize the test locations and Gaussian width"
   ]
  },
  {
   "cell_type": "code",
   "execution_count": null,
   "metadata": {
    "scrolled": true
   },
   "outputs": [],
   "source": [
    "op = {'n_test_locs': J, 'seed': seed+5, 'max_iter': 200, \n",
    "     'batch_proportion': 1.0, 'locs_step_size': 1.0, \n",
    "      'gwidth_step_size': 0.1, 'tol_fun': 1e-4}\n",
    "# optimize on the training set\n",
    "test_locs, gwidth, info = tst.MeanEmbeddingTest.optimize_locs_width(tr, alpha, **op)"
   ]
  },
  {
   "cell_type": "code",
   "execution_count": null,
   "metadata": {},
   "outputs": [],
   "source": [
    "# Plot evolution of the test locations, Gaussian width\n",
    "\n",
    "# trajectories of the Gaussian width\n",
    "gwidths = info['gwidths']\n",
    "fig, axs = plt.subplots(2, 2, figsize=(10, 9))\n",
    "axs[0, 0].plot(gwidths)\n",
    "axs[0, 0].set_xlabel('iteration')\n",
    "axs[0, 0].set_ylabel('Gaussian width')\n",
    "axs[0, 0].set_title('Gaussian width evolution')\n",
    "\n",
    "# evolution of objective values\n",
    "objs = info['obj_values']\n",
    "axs[0, 1].plot(objs)\n",
    "axs[0, 1].set_title('Objective $\\lambda(T)$')\n",
    "\n",
    "# trajectories of the test locations\n",
    "# iters x J. X Coordinates of all test locations\n",
    "locs = info['test_locs']\n",
    "for coord in [0, 1]:\n",
    "    locs_d0 = locs[:, :, coord]\n",
    "    J = locs_d0.shape[1]\n",
    "    axs[1, coord].plot(locs_d0)\n",
    "    axs[1, coord].set_xlabel('iteration')\n",
    "    axs[1, coord].set_ylabel('index %d of test_locs'%(coord))\n",
    "    axs[1, coord].set_title('evolution of %d test locations'%J)\n",
    "\n",
    "print('optimized width: %.3f'%gwidth)\n"
   ]
  },
  {
   "cell_type": "code",
   "execution_count": null,
   "metadata": {},
   "outputs": [],
   "source": [
    "# test with the best optimized test features, and optimized Gaussian width\n",
    "met_opt = tst.MeanEmbeddingTest(test_locs, gwidth, alpha)\n",
    "met_opt.perform_test(te)"
   ]
  },
  {
   "cell_type": "code",
   "execution_count": null,
   "metadata": {
    "collapsed": true
   },
   "outputs": [],
   "source": []
  },
  {
   "cell_type": "code",
   "execution_count": null,
   "metadata": {
    "collapsed": true
   },
   "outputs": [],
   "source": []
  }
 ],
 "metadata": {
  "kernelspec": {
   "display_name": "Python 3",
   "language": "python",
   "name": "python3"
  },
  "language_info": {
   "codemirror_mode": {
    "name": "ipython",
    "version": 3
   },
   "file_extension": ".py",
   "mimetype": "text/x-python",
   "name": "python",
   "nbconvert_exporter": "python",
   "pygments_lexer": "ipython3",
   "version": "3.6.3"
  }
 },
 "nbformat": 4,
 "nbformat_minor": 1
}
