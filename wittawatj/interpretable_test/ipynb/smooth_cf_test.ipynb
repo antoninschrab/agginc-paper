{
 "cells": [
  {
   "cell_type": "code",
   "execution_count": null,
   "metadata": {},
   "outputs": [],
   "source": [
    "%load_ext autoreload\n",
    "%autoreload 2\n",
    "%matplotlib inline\n",
    "import numpy as np\n",
    "import matplotlib.pyplot as plt\n",
    "import freqopttest.util as util\n",
    "import freqopttest.data as data\n",
    "import freqopttest.kernel as kernel\n",
    "import freqopttest.tst as tst\n",
    "import freqopttest.glo as glo\n",
    "import sys"
   ]
  },
  {
   "cell_type": "code",
   "execution_count": null,
   "metadata": {},
   "outputs": [],
   "source": [
    "# sample source \n",
    "m = 2000\n",
    "dim = 200\n",
    "n = m\n",
    "seed = 11\n",
    "#ss = data.SSGaussMeanDiff(dim, my=1.0)\n",
    "ss = data.SSGaussVarDiff(dim)\n",
    "#ss = data.SSBlobs()\n",
    "dim = ss.dim()\n",
    "tst_data = ss.sample(m, seed=seed+1)\n",
    "tr, te = tst_data.split_tr_te(tr_proportion=0.5, seed=100)\n",
    "#te = tst_data"
   ]
  },
  {
   "cell_type": "markdown",
   "metadata": {},
   "source": [
    "## smooth CF test"
   ]
  },
  {
   "cell_type": "code",
   "execution_count": null,
   "metadata": {},
   "outputs": [],
   "source": [
    "J = 7\n",
    "alpha = 0.01\n",
    "smooth_cf = tst.SmoothCFTest.create_randn(te, J, alpha=alpha, seed=seed)\n",
    "smooth_cf.perform_test(te)"
   ]
  },
  {
   "cell_type": "markdown",
   "metadata": {},
   "source": [
    "## grid search to choose the best Gaussian width"
   ]
  },
  {
   "cell_type": "code",
   "execution_count": null,
   "metadata": {},
   "outputs": [],
   "source": [
    "def randn(J, d, seed):\n",
    "    rand_state = np.random.get_state()\n",
    "    np.random.seed(seed)\n",
    "    M = np.random.randn(J, d)\n",
    "    np.random.set_state(rand_state)\n",
    "    return M\n",
    "\n",
    "T_randn = randn(J, dim, seed)\n",
    "mean_sd = tr.mean_std()\n",
    "scales = 2.0**np.linspace(-4, 4, 30)\n",
    "#list_gwidth = mean_sd*scales*(dim**0.5)\n",
    "list_gwidth = np.hstack( (mean_sd*scales*(dim**0.5), 2**np.linspace(-8, 8, 20) ))\n",
    "list_gwidth.sort()\n",
    "\n",
    "besti, powers = tst.SmoothCFTest.grid_search_gwidth(tr, T_randn, list_gwidth, alpha)\n",
    "\n",
    "# plot\n",
    "plt.plot(list_gwidth, powers, 'o-')\n",
    "plt.xscale('log', basex=2)\n",
    "plt.xlabel('Gaussian width')\n",
    "plt.ylabel('Test power')\n",
    "plt.title('Mean std: %.3g. Best chosen: %.2g'%(mean_sd, list_gwidth[besti]) )\n",
    "med = util.meddistance(tr.stack_xy())\n",
    "print('med distance xy: %.3g'%med)\n"
   ]
  },
  {
   "cell_type": "code",
   "execution_count": null,
   "metadata": {},
   "outputs": [],
   "source": [
    "# actual test \n",
    "best_width = list_gwidth[besti]\n",
    "scf_grid = tst.SmoothCFTest(T_randn, best_width, alpha)\n",
    "scf_grid.perform_test(te)"
   ]
  },
  {
   "cell_type": "markdown",
   "metadata": {
    "collapsed": true
   },
   "source": [
    "## optimize test frequencies"
   ]
  },
  {
   "cell_type": "code",
   "execution_count": null,
   "metadata": {},
   "outputs": [],
   "source": [
    "op = {'n_test_freqs': J, 'seed': seed, 'max_iter': 300, \n",
    "     'batch_proportion': 1.0, 'freqs_step_size': 0.1, \n",
    "      'gwidth_step_size': 0.01, 'tol_fun': 1e-4}\n",
    "# optimize on the training set\n",
    "test_freqs, gwidth, info = tst.SmoothCFTest.optimize_freqs_width(tr, alpha, **op)\n",
    "scf_opt = tst.SmoothCFTest(test_freqs, gwidth, alpha=alpha)\n",
    "scf_opt_test = scf_opt.perform_test(te)\n",
    "scf_opt_test"
   ]
  },
  {
   "cell_type": "code",
   "execution_count": null,
   "metadata": {},
   "outputs": [],
   "source": [
    "# plot optimization results\n",
    "\n",
    "# trajectories of the Gaussian width\n",
    "gwidths = info['gwidths']\n",
    "fig, axs = plt.subplots(2, 2, figsize=(10, 9))\n",
    "axs[0, 0].plot(gwidths)\n",
    "axs[0, 0].set_xlabel('iteration')\n",
    "axs[0, 0].set_ylabel('Gaussian width')\n",
    "axs[0, 0].set_title('Gaussian width evolution')\n",
    "\n",
    "# evolution of objective values\n",
    "objs = info['obj_values']\n",
    "axs[0, 1].plot(objs)\n",
    "axs[0, 1].set_title('Objective $\\lambda(T)$')\n",
    "\n",
    "# trajectories of the test locations\n",
    "# iters x J. X Coordinates of all test locations\n",
    "locs = info['test_freqs']\n",
    "for coord in [0, 1]:\n",
    "    locs_d0 = locs[:, :, coord]\n",
    "    J = locs_d0.shape[1]\n",
    "    axs[1, coord].plot(locs_d0)\n",
    "    axs[1, coord].set_xlabel('iteration')\n",
    "    axs[1, coord].set_ylabel('index %d of test_locs'%(coord))\n",
    "    axs[1, coord].set_title('evolution of %d test locations'%J)\n",
    "\n",
    "print('optimized width: %.3f'%gwidth)"
   ]
  },
  {
   "cell_type": "markdown",
   "metadata": {},
   "source": [
    "## SCF: optimize just the Gaussian width"
   ]
  },
  {
   "cell_type": "code",
   "execution_count": null,
   "metadata": {},
   "outputs": [],
   "source": [
    "op_gwidth = {'max_iter': 300,'gwidth_step_size': 0.1,  \n",
    "             'batch_proportion': 1.0, 'tol_fun': 1e-4}\n",
    "# optimize on the training set\n",
    "rand_state = np.random.get_state()\n",
    "np.random.seed(seed=seed)\n",
    "T0_randn = np.random.randn(J, dim)\n",
    "np.random.set_state(rand_state)\n",
    "\n",
    "med = util.meddistance(tr.stack_xy())\n",
    "gwidth, info = tst.SmoothCFTest.optimize_gwidth(tr, T0_randn, med**2, **op_gwidth)"
   ]
  },
  {
   "cell_type": "code",
   "execution_count": null,
   "metadata": {},
   "outputs": [],
   "source": [
    "# trajectories of the Gaussian width\n",
    "gwidths = info['gwidths']\n",
    "fig, axs = plt.subplots(1, 2, figsize=(10, 4))\n",
    "axs[0].plot(gwidths)\n",
    "axs[0].set_xlabel('iteration')\n",
    "axs[0].set_ylabel('Gaussian width')\n",
    "axs[0].set_title('Gaussian width evolution')\n",
    "\n",
    "# evolution of objective values\n",
    "objs = info['obj_values']\n",
    "axs[1].plot(objs)\n",
    "axs[1].set_title('Objective $\\lambda(T)$')\n"
   ]
  },
  {
   "cell_type": "code",
   "execution_count": null,
   "metadata": {
    "collapsed": true
   },
   "outputs": [],
   "source": []
  },
  {
   "cell_type": "code",
   "execution_count": null,
   "metadata": {
    "collapsed": true
   },
   "outputs": [],
   "source": []
  }
 ],
 "metadata": {
  "kernelspec": {
   "display_name": "Python 3",
   "language": "python",
   "name": "python3"
  },
  "language_info": {
   "codemirror_mode": {
    "name": "ipython",
    "version": 3
   },
   "file_extension": ".py",
   "mimetype": "text/x-python",
   "name": "python",
   "nbconvert_exporter": "python",
   "pygments_lexer": "ipython3",
   "version": "3.6.3"
  }
 },
 "nbformat": 4,
 "nbformat_minor": 1
}
