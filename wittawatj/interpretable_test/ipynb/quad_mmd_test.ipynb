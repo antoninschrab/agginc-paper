{
 "cells": [
  {
   "cell_type": "markdown",
   "metadata": {
    "collapsed": true
   },
   "source": [
    "A notebook to test quadratic MMD two-sample test"
   ]
  },
  {
   "cell_type": "code",
   "execution_count": null,
   "metadata": {
    "collapsed": true
   },
   "outputs": [],
   "source": [
    "%load_ext autoreload\n",
    "%autoreload 2\n",
    "%matplotlib inline\n",
    "import numpy as np\n",
    "import matplotlib.pyplot as plt\n",
    "import freqopttest.util as util\n",
    "import freqopttest.data as data\n",
    "import freqopttest.kernel as kernel\n",
    "import freqopttest.tst as tst\n",
    "import freqopttest.glo as glo\n",
    "import sys\n",
    "import time"
   ]
  },
  {
   "cell_type": "code",
   "execution_count": null,
   "metadata": {
    "collapsed": true
   },
   "outputs": [],
   "source": [
    "# sample source \n",
    "n = 800\n",
    "dim = 1\n",
    "seed = 14\n",
    "alpha = 0.01\n",
    "ss = data.SSGaussMeanDiff(dim, my=1)\n",
    "ss = data.SSGaussVarDiff(dim)\n",
    "#ss = data.SSSameGauss(dim)\n",
    "#ss = data.SSBlobs()\n",
    "dim = ss.dim()\n",
    "tst_data = ss.sample(n, seed=seed)\n",
    "tr, te = tst_data.split_tr_te(tr_proportion=0.5, seed=10)"
   ]
  },
  {
   "cell_type": "markdown",
   "metadata": {},
   "source": [
    "## Test permutations"
   ]
  },
  {
   "cell_type": "code",
   "execution_count": null,
   "metadata": {
    "collapsed": true
   },
   "outputs": [],
   "source": [
    "xtr, ytr = tr.xy()\n",
    "xytr = tr.stack_xy()\n",
    "sig2 = util.meddistance(xytr, subsample=1000)\n",
    "k = kernel.KGauss(sig2)"
   ]
  },
  {
   "cell_type": "code",
   "execution_count": null,
   "metadata": {
    "scrolled": true
   },
   "outputs": [],
   "source": [
    "start = time.time()\n",
    "\n",
    "perm_mmds1 = tst.QuadMMDTest.permutation_list_mmd2(xtr, ytr, k, n_permute=200)\n",
    "\n",
    "end = time.time()\n",
    "print('permutations took: %.4f s'%(end-start))\n",
    "print('perm_mmds1', perm_mmds1)"
   ]
  },
  {
   "cell_type": "code",
   "execution_count": null,
   "metadata": {
    "collapsed": true
   },
   "outputs": [],
   "source": [
    "def chi_square_weights_H0(k, X):\n",
    "    \"\"\"\n",
    "    Return a numpy array of the weights to be used as the weights in the\n",
    "    weighted sum of chi-squares for the null distribution of MMD^2.\n",
    "    - k: a Kernel\n",
    "    - X: n x d number array of n data points\n",
    "    \"\"\"\n",
    "    n = X.shape[0]\n",
    "    # Gram matrix\n",
    "    K = k.eval(X, X)\n",
    "    # centring matrix. Not the most efficient way.\n",
    "    H = np.eye(n) - np.ones((n, n))/float(n)\n",
    "    HKH = H.dot(K).dot(H)\n",
    "    #https://docs.scipy.org/doc/numpy-1.14.0/reference/generated/numpy.linalg.eigvals.html\n",
    "    evals = np.linalg.eigvals(HKH)\n",
    "    evals = np.real(evals)\n",
    "    # sort in decreasing order \n",
    "    evals = -np.sort(-evals)\n",
    "    weights = evals/float(n)**2\n",
    "    return weights"
   ]
  },
  {
   "cell_type": "code",
   "execution_count": null,
   "metadata": {
    "collapsed": true
   },
   "outputs": [],
   "source": [
    "def simulate_null_spectral(weights, n_simulate=1000, seed=275):\n",
    "    \"\"\"\n",
    "    weights: chi-square weights (for the infinite weigted sum of chi squares)    \n",
    "    Return the values of MMD^2 (NOT n*MMD^2) simulated from the null distribution by\n",
    "    the spectral method.\n",
    "    \"\"\"\n",
    "     # draw at most block_size values at a time\n",
    "    block_size = 400\n",
    "    D = len(weights)\n",
    "    mmds = np.zeros(n_simulate)\n",
    "    from_ind = 0\n",
    "\n",
    "    with util.NumpySeedContext(seed=seed):\n",
    "        while from_ind < n_simulate:\n",
    "            to_draw = min(block_size, n_simulate-from_ind)\n",
    "            # draw chi^2 random variables. \n",
    "            chi2 = np.random.randn(D, to_draw)**2\n",
    "            # an array of length to_draw \n",
    "            sim_mmds = 2.0*weights.dot(chi2-1.0)\n",
    "            # store \n",
    "            end_ind = from_ind+to_draw\n",
    "            mmds[from_ind:end_ind] = sim_mmds\n",
    "            from_ind = end_ind\n",
    "    return mmds"
   ]
  },
  {
   "cell_type": "code",
   "execution_count": null,
   "metadata": {},
   "outputs": [],
   "source": [
    "xytr = np.vstack((xtr, ytr))\n",
    "chi2_weights = chi_square_weights_H0(k, xytr)\n",
    "sim_mmds = simulate_null_spectral(chi2_weights, n_simulate=2000)\n",
    "a = 0.6\n",
    "\n",
    "plt.figure(figsize=(8, 5))\n",
    "plt.hist(perm_mmds1,20, color='blue', normed=True, label='Permutation', alpha=a)\n",
    "plt.hist(sim_mmds, 20, color='red', normed=True, label='Spectral', alpha=a)\n",
    "plt.legend()"
   ]
  },
  {
   "cell_type": "code",
   "execution_count": null,
   "metadata": {},
   "outputs": [],
   "source": [
    "# test h1_mean_var\n",
    "start = time.time()\n",
    "mean, var = tst.QuadMMDTest.h1_mean_var(xtr, ytr, k, is_var_computed=True)\n",
    "end = time.time()\n",
    "print('h1_mean_var took: %.3f'%(end - start))\n",
    "print('mean: %.3g, var: %.3g'%(mean, var))"
   ]
  },
  {
   "cell_type": "code",
   "execution_count": null,
   "metadata": {},
   "outputs": [],
   "source": [
    "# test h1_mean_var_gram\n",
    "start = time.time()\n",
    "Kx = k.eval(xtr, xtr)\n",
    "Ky = k.eval(ytr, ytr)\n",
    "Kxy = k.eval(xtr, ytr)\n",
    "mean, var = tst.QuadMMDTest.h1_mean_var_gram(Kx, Ky, Kxy, k, True)\n",
    "end = time.time()\n",
    "print('h1_mean_var took: %.3f'%(end - start))\n",
    "print('mean: %.3g, var: %.3g'%(mean, var))"
   ]
  },
  {
   "cell_type": "code",
   "execution_count": null,
   "metadata": {
    "scrolled": false
   },
   "outputs": [],
   "source": [
    "# choose the best parameter and perform a test with permutations\n",
    "med = util.meddistance(tr.stack_xy(), 1000)\n",
    "list_gwidth = np.hstack( ( (med**2) *(2.0**np.linspace(-4, 4, 20) ) ) )\n",
    "list_gwidth.sort()\n",
    "list_kernels = [kernel.KGauss(gw2) for gw2 in list_gwidth]\n",
    "\n",
    "# grid search to choose the best Gaussian width\n",
    "besti, powers = tst.QuadMMDTest.grid_search_kernel(tr, list_kernels, alpha)\n",
    "# perform test \n",
    "best_ker = list_kernels[besti]"
   ]
  },
  {
   "cell_type": "code",
   "execution_count": null,
   "metadata": {
    "scrolled": false
   },
   "outputs": [],
   "source": [
    "start = time.time()\n",
    "mmd_test = tst.QuadMMDTest(best_ker, n_permute=200, alpha=alpha)\n",
    "test_result = mmd_test.perform_test(te)\n",
    "end = time.time()\n",
    "print('MMD test took: %s seconds'%(end-start))\n",
    "test_result"
   ]
  },
  {
   "cell_type": "markdown",
   "metadata": {
    "collapsed": true
   },
   "source": [
    "## New permutation"
   ]
  },
  {
   "cell_type": "code",
   "execution_count": null,
   "metadata": {
    "collapsed": true
   },
   "outputs": [],
   "source": [
    "# # @staticmethod\n",
    "# def permutation_list_mmd2_rahul(X, Y, k, n_permute=400, seed=8273):\n",
    "#     \"\"\" Permutation by maintaining inverse indices. This approach is due to\n",
    "#     Rahul (Soumyajit De) briefly described in \"Generative Models and Model\n",
    "#     Criticism via Optimized Maximum Mean Discrepancy\" \n",
    "    \n",
    "#     X: m x d matrix\n",
    "#     Y: n x d matrix of data\n",
    "#     k: a Kernel\n",
    "#     \"\"\"\n",
    "    \n",
    "#     def which_term(I, J, m):\n",
    "#         \"\"\"\n",
    "#         There are three terms in MMD computation.\n",
    "#         MMD^2 = \\sum_{i=1}^m \\sum_{j \\neq i} k(x_i, x_j)/(m*(m-1))\n",
    "#             \\sum_{i=1}^n \\sum_{j \\neq i} k(y_i, y_j)/(n*(n-1))\n",
    "#             -2*\\sum_{i=1}^m \\sum_{j=1}^n k(x_i, y_j)/(m*n)\n",
    "            \n",
    "#             Return 0 if (i,j) should participate in the first term\n",
    "#             1 for the second term\n",
    "#             2 for the third term\n",
    "            \n",
    "#         - I, J 1d arrays of indices.\n",
    "#         \"\"\"\n",
    "#         assert len(I)==len(J)\n",
    "#         t1 = np.logical_and(I<m , J<m)\n",
    "#         t2 = np.logical_and(I>=m, J>=m)\n",
    "# #         t3 = np.logical_not(np.logical_or(t1, t2))\n",
    "#         t3 = np.logical_or(np.logical_and(I>=m, J<m), np.logical_and(I<m, J>=m))\n",
    "#         term_inds = -np.ones(len(I))\n",
    "#         term_inds = term_inds.astype(int)\n",
    "#         term_inds[t1] = 0\n",
    "#         term_inds[t2] = 1\n",
    "#         term_inds[t3] = 2\n",
    "# #         assert np.all(term_inds >= 0)\n",
    "#         return term_inds\n",
    "        \n",
    "        \n",
    "#     XY = np.vstack((X, Y))\n",
    "#     m = X.shape[0]\n",
    "#     n = Y.shape[0]\n",
    "#     KZ = k.eval(XY, XY)\n",
    "#     terms = np.zeros((n_permute, 3))\n",
    "#     # a matrix of indices of size n_permute x mn\n",
    "#     perm_inds = np.zeros((n_permute, m+n))\n",
    "#     R = range(n_permute)\n",
    "#     with util.NumpySeedContext(seed=seed):\n",
    "#         for i in range(n_permute):\n",
    "#             perm_inds[i] = np.random.permutation(m+n)\n",
    "#     for i in range(m+n):\n",
    "#         for j in range(m+n):\n",
    "#             if i!=j:\n",
    "#                 # ij is a number array of length 2\n",
    "#                 IJ = perm_inds[:, [i, j]]\n",
    "#                 term_inds = which_term(IJ[:, 0], IJ[:, 1], m)\n",
    "#                 # !!! I hope the sum will not cause an overflow..\n",
    "#                 terms[R, term_inds] =terms[R, term_inds] + KZ[i, j]\n",
    "                \n",
    "#     n_mmds = terms[:, 0]/float(m*(m-1)) + terms[:, 1]/float(n*(n-1)) - terms[:, 2]*2.0/(m*n)\n",
    "#     return mmds, terms\n",
    " "
   ]
  },
  {
   "cell_type": "code",
   "execution_count": null,
   "metadata": {
    "collapsed": true,
    "scrolled": false
   },
   "outputs": [],
   "source": [
    "# xte, yte = te.xy()\n",
    "# perm_mmds2, terms = permutation_list_mmd2_rahul(xte, yte, best_ker, n_permute=30, seed=399)"
   ]
  },
  {
   "cell_type": "code",
   "execution_count": null,
   "metadata": {
    "collapsed": true
   },
   "outputs": [],
   "source": [
    "# terms"
   ]
  },
  {
   "cell_type": "code",
   "execution_count": null,
   "metadata": {
    "collapsed": true
   },
   "outputs": [],
   "source": [
    "# perm_mmds = test_result['list_permuted_mmd2']\n",
    "# plt.hist(perm_mmds, alpha=0.5, label='Current', bins=20)\n",
    "# plt.hist(perm_mmds2, alpha=0.5, label='New version', bins=20)\n",
    "# plt.legend(loc='best')"
   ]
  },
  {
   "cell_type": "code",
   "execution_count": null,
   "metadata": {
    "collapsed": true
   },
   "outputs": [],
   "source": []
  },
  {
   "cell_type": "code",
   "execution_count": null,
   "metadata": {
    "collapsed": true
   },
   "outputs": [],
   "source": []
  }
 ],
 "metadata": {
  "kernelspec": {
   "display_name": "Python 3",
   "language": "python",
   "name": "python3"
  },
  "language_info": {
   "codemirror_mode": {
    "name": "ipython",
    "version": 3
   },
   "file_extension": ".py",
   "mimetype": "text/x-python",
   "name": "python",
   "nbconvert_exporter": "python",
   "pygments_lexer": "ipython3",
   "version": "3.6.3"
  }
 },
 "nbformat": 4,
 "nbformat_minor": 1
}
