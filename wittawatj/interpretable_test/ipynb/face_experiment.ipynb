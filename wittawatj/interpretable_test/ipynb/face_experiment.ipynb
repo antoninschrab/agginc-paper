{
 "cells": [
  {
   "cell_type": "code",
   "execution_count": null,
   "metadata": {
    "collapsed": false
   },
   "outputs": [],
   "source": [
    "%load_ext autoreload\n",
    "%autoreload 2\n",
    "%matplotlib inline\n",
    "#%config InlineBackend.figure_format = 'svg'\n",
    "#%config InlineBackend.figure_format = 'pdf'\n",
    "import freqopttest.util as util\n",
    "import freqopttest.data as data\n",
    "import freqopttest.ex.exglobal as exglo\n",
    "from freqopttest.ex.ex4_text import load_nips_TSTData\n",
    "import freqopttest.kernel as kernel\n",
    "import freqopttest.tst as tst\n",
    "import freqopttest.glo as glo\n",
    "import freqopttest.plot as plot\n",
    "import matplotlib.pyplot as plt\n",
    "import numpy as np\n",
    "import os\n",
    "import scipy.stats as stats\n",
    "\n",
    "import skimage.io as io\n",
    "import skimage as ski\n",
    "import skimage.filters as filters\n",
    "\n",
    "try:\n",
    "    import cPickle as pickle\n",
    "except:\n",
    "    import pickle"
   ]
  },
  {
   "cell_type": "code",
   "execution_count": null,
   "metadata": {
    "collapsed": true
   },
   "outputs": [],
   "source": [
    "def showim(img):\n",
    "    plt.imshow(img, cmap=plt.cm.gray, interpolation='Nearest')"
   ]
  },
  {
   "cell_type": "code",
   "execution_count": null,
   "metadata": {
    "collapsed": false
   },
   "outputs": [],
   "source": [
    "# http://www.scipy-lectures.org/advanced/image_processing/\n",
    "img = io.imread('../freqopttest/data/karolinska/S_48/AF01AFS.JPG')\n",
    "showim(img)"
   ]
  },
  {
   "cell_type": "markdown",
   "metadata": {
    "collapsed": true
   },
   "source": [
    "## Generate data\n"
   ]
  },
  {
   "cell_type": "code",
   "execution_count": null,
   "metadata": {
    "collapsed": true
   },
   "outputs": [],
   "source": [
    "def read_gen_ndarray(dir_path):\n",
    "    ld = os.listdir(dir_path)\n",
    "    list_imgs = []\n",
    "    for fname in sorted(ld):\n",
    "        fpath = os.path.join(dir_path, fname)\n",
    "        img = io.imread(fpath)\n",
    "        flat = img.flatten()\n",
    "        #if flat.shape[0] != 3008:\n",
    "        if flat.shape[0] != 34*48:\n",
    "            print '#pixels: %d. %s'%(flat.shape[0], fpath)\n",
    "        list_imgs.append(flat)\n",
    "    ndarray = np.vstack(list_imgs)\n",
    "    return ndarray"
   ]
  },
  {
   "cell_type": "code",
   "execution_count": null,
   "metadata": {
    "collapsed": false,
    "scrolled": true
   },
   "outputs": [],
   "source": [
    "# path to the folder containing images for X\n",
    "img_height = 48\n",
    "x_path = glo.data_file('karolinska/crop_%d_group/HA_NE_SU'%img_height)\n",
    "y_path = glo.data_file('karolinska/crop_%d_group/AF_AN_DI'%img_height)\n",
    "X = read_gen_ndarray(x_path)\n",
    "Y = read_gen_ndarray(y_path)"
   ]
  },
  {
   "cell_type": "code",
   "execution_count": null,
   "metadata": {
    "collapsed": false
   },
   "outputs": [],
   "source": [
    "# make the sizes of the two samples the same\n",
    "n_min = min(X.shape[0], Y.shape[0])\n",
    "X = X[:n_min]\n",
    "Y = Y[:n_min]\n",
    "assert(X.shape[0] == Y.shape[0])"
   ]
  },
  {
   "cell_type": "code",
   "execution_count": null,
   "metadata": {
    "collapsed": false
   },
   "outputs": [],
   "source": [
    "# normalize range to be [0, 1] to avoid overflow\n",
    "#img_shape = (32, 24)\n",
    "img_shape = (48, 34)\n",
    "X_norm = X/256.0\n",
    "Y_norm = Y/256.0\n",
    "print X[0].shape\n",
    "showim(np.reshape(X_norm[0], img_shape ))\n",
    "plt.colorbar()"
   ]
  },
  {
   "cell_type": "code",
   "execution_count": null,
   "metadata": {
    "collapsed": false
   },
   "outputs": [],
   "source": [
    "# write the data as a TSTData\n",
    "tst_label = 'crop%d_HANESU_AFANDI'%img_height\n",
    "tst_data = tst.TSTData(X_norm, Y_norm, tst_label)\n",
    "data_dest = glo.data_file('karolinska', '%s.p'%tst_label)\n",
    "with open(data_dest, 'w') as f:\n",
    "    pickle.dump(tst_data, f)\n",
    "    \n",
    "# write another set combining X, Y. H0 holds\n",
    "null_dest = glo.data_file('karolinska', 'crop%d_h0.p'%img_height)\n",
    "with open(null_dest, 'w') as f2:\n",
    "    pickle.dump(tst_data.stack_xy(), f2)"
   ]
  },
  {
   "cell_type": "markdown",
   "metadata": {
    "collapsed": true
   },
   "source": [
    "## ME two-sample test"
   ]
  },
  {
   "cell_type": "code",
   "execution_count": null,
   "metadata": {
    "collapsed": true
   },
   "outputs": [],
   "source": [
    "# sample source\n",
    "seed = 20\n",
    "ss = data.SSResample(tst_data)\n",
    "tr, te = tst_data.split_tr_te(tr_proportion=0.5, seed=seed+1)"
   ]
  },
  {
   "cell_type": "code",
   "execution_count": null,
   "metadata": {
    "collapsed": false,
    "scrolled": true
   },
   "outputs": [],
   "source": [
    "# parameter optimization\n",
    "alpha = 0.01\n",
    "\n",
    "op = {'n_test_locs': 2, 'seed': seed+11, 'max_iter': 200, \n",
    "     'batch_proportion': 1.0, 'locs_step_size': 5.0, \n",
    "      'gwidth_step_size': 0.1, 'tol_fun': 1e-4}\n",
    "# optimize on the training set\n",
    "test_locs, gwidth, info = tst.MeanEmbeddingTest.optimize_locs_width(tr, alpha, **op)"
   ]
  },
  {
   "cell_type": "code",
   "execution_count": null,
   "metadata": {
    "collapsed": false,
    "scrolled": true
   },
   "outputs": [],
   "source": [
    "# plot evolution of objective values\n",
    "plt.plot(info['obj_values'])\n",
    "plt.xlabel('iteration')\n",
    "plt.ylabel('Objective')"
   ]
  },
  {
   "cell_type": "code",
   "execution_count": null,
   "metadata": {
    "collapsed": false
   },
   "outputs": [],
   "source": [
    "# actual test\n",
    "met = tst.MeanEmbeddingTest(test_locs, gwidth, alpha)\n",
    "met.perform_test(te)"
   ]
  },
  {
   "cell_type": "markdown",
   "metadata": {},
   "source": [
    "## Visualize learned test locations"
   ]
  },
  {
   "cell_type": "code",
   "execution_count": null,
   "metadata": {
    "collapsed": false
   },
   "outputs": [],
   "source": [
    "loc = test_locs[1]\n",
    "loc_img = np.reshape(loc, img_shape)\n",
    "plt.imshow( loc_img, interpolation='Nearest', cmap='gray')\n",
    "plt.colorbar()"
   ]
  },
  {
   "cell_type": "markdown",
   "metadata": {},
   "source": [
    "## Test samples under H0"
   ]
  },
  {
   "cell_type": "code",
   "execution_count": null,
   "metadata": {
    "collapsed": false
   },
   "outputs": [],
   "source": [
    "one_sample = glo.load_data_file('crop48_h0.p')\n",
    "ss = data.SSNullResample(one_sample)\n",
    "ss.sample(10, seed=4)"
   ]
  },
  {
   "cell_type": "code",
   "execution_count": null,
   "metadata": {
    "collapsed": true
   },
   "outputs": [],
   "source": []
  }
 ],
 "metadata": {
  "kernelspec": {
   "display_name": "Python 2",
   "language": "python",
   "name": "python2"
  },
  "language_info": {
   "codemirror_mode": {
    "name": "ipython",
    "version": 2
   },
   "file_extension": ".py",
   "mimetype": "text/x-python",
   "name": "python",
   "nbconvert_exporter": "python",
   "pygments_lexer": "ipython2",
   "version": "2.7.11"
  }
 },
 "nbformat": 4,
 "nbformat_minor": 0
}
