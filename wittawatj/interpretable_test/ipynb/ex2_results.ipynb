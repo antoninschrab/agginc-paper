{
 "cells": [
  {
   "cell_type": "markdown",
   "metadata": {
    "collapsed": true
   },
   "source": [
    "## Experiment: type-I, type-II errors as d increases"
   ]
  },
  {
   "cell_type": "code",
   "execution_count": null,
   "metadata": {
    "collapsed": false
   },
   "outputs": [],
   "source": [
    "%load_ext autoreload\n",
    "%autoreload 2\n",
    "%matplotlib inline\n",
    "#%config InlineBackend.figure_format = 'svg'\n",
    "#%config InlineBackend.figure_format = 'pdf'\n",
    "import freqopttest.util as util\n",
    "import freqopttest.data as data\n",
    "import freqopttest.ex.exglobal as exglo\n",
    "import freqopttest.kernel as kernel\n",
    "import freqopttest.tst as tst\n",
    "import freqopttest.glo as glo\n",
    "import freqopttest.plot as plot\n",
    "import matplotlib\n",
    "import matplotlib.pyplot as plt\n",
    "import numpy as np\n",
    "import scipy.stats as stats\n",
    "import sys"
   ]
  },
  {
   "cell_type": "code",
   "execution_count": null,
   "metadata": {
    "collapsed": false
   },
   "outputs": [],
   "source": [
    "def load_plot_vs_d(fname, h1_true, show_legend=True):\n",
    "    func_xvalues = lambda results: results['dimensions']\n",
    "    def func_title(results):\n",
    "        repeats, _, n_methods = results['test_results'].shape\n",
    "        alpha = results['alpha']\n",
    "        test_size = (1.0 - results['tr_proportion'])*results['sample_size']\n",
    "        title = '%s. %d trials. test size: %d. $\\\\alpha$ = %.2g.'%\\\n",
    "            ( results['prob_label'], repeats, test_size, alpha)\n",
    "        return title\n",
    "    results = plot.plot_prob_stat_above_thresh(2, fname, h1_true, func_xvalues, 'Dimension', func_title)\n",
    "    \n",
    "    plt.title('')\n",
    "    plt.gca().legend().set_visible(show_legend)\n",
    "        \n",
    "    return results\n",
    "\n",
    "\n",
    "\n",
    "def load_runtime_vs_d(fname, h1_true=True, xlabel='Dimension', \n",
    "                      show_legend=True, xscale='linear', yscale='log'):\n",
    "    func_xvalues = lambda agg_results: agg_results['dimensions']\n",
    "    ex = 2\n",
    "    def func_title(agg_results):\n",
    "        repeats, _, n_methods = agg_results['test_results'].shape\n",
    "        alpha = agg_results['alpha']\n",
    "        title = '%s. %d trials. $\\\\alpha$ = %.2g.'%\\\n",
    "            ( agg_results['prob_label'], repeats, alpha)\n",
    "        return title\n",
    "    \n",
    "    #plt.figure(figsize=(10,6))\n",
    "    \n",
    "    results = plot.plot_runtime(ex, fname,  \n",
    "                                func_xvalues, xlabel=xlabel, func_title=func_title)\n",
    "    \n",
    "    plt.title('')\n",
    "    plt.gca().legend(loc='best').set_visible(show_legend)\n",
    "    #plt.grid(True)\n",
    "    if xscale is not None:\n",
    "        plt.xscale(xscale)\n",
    "    if yscale is not None:\n",
    "        plt.yscale(yscale)\n",
    "    \n",
    "    xvalues = func_xvalues(results)\n",
    "    plt.xticks(xvalues)\n",
    "    plt.autoscale(tight=True)\n",
    "    \n",
    "    return results"
   ]
  },
  {
   "cell_type": "code",
   "execution_count": null,
   "metadata": {
    "collapsed": true
   },
   "outputs": [],
   "source": [
    "# font options\n",
    "font = {\n",
    "    #'family' : 'normal',\n",
    "    #'weight' : 'bold',\n",
    "    'size'   : 18\n",
    "}\n",
    "\n",
    "plt.rc('font', **font)\n",
    "plt.rc('lines', linewidth=2)\n",
    "matplotlib.rcParams['pdf.fonttype'] = 42\n",
    "matplotlib.rcParams['ps.fonttype'] = 42"
   ]
  },
  {
   "cell_type": "code",
   "execution_count": null,
   "metadata": {
    "collapsed": false
   },
   "outputs": [],
   "source": [
    "# H0 true. Same Gauss. \n",
    "sg_fname = 'ex2-sg-me6_J5_rs200_n20000_dmi5_dma1500_a0.010_trp0.50.p'\n",
    "#sg_fname = 'ex2-sg-me6_J5_rs50_n20000_dmi5_dma1500_a0.010_trp0.50.p'\n",
    "sg_results = load_plot_vs_d(sg_fname, False, show_legend=False)\n",
    "plt.ylim([0, 0.025])\n",
    "plt.savefig(sg_fname.replace('.p', '.pdf', 1), bbox_inches='tight')"
   ]
  },
  {
   "cell_type": "code",
   "execution_count": null,
   "metadata": {
    "collapsed": false
   },
   "outputs": [],
   "source": [
    "load_runtime_vs_d(sg_fname, xscale='linear', yscale='log', show_legend=False);\n",
    "#plt.legend(bbox_to_anchor=(1.7, 1))\n",
    "plt.savefig(sg_fname.replace('.p', '', 1) + '_time.pdf', bbox_inches='tight')"
   ]
  },
  {
   "cell_type": "code",
   "execution_count": null,
   "metadata": {
    "collapsed": false
   },
   "outputs": [],
   "source": [
    "# H1 true. Gaussian. mean diff\n",
    "gmd_fname = 'ex2-gmd-me6_J5_rs200_n20000_dmi5_dma1500_a0.010_trp0.50.p'\n",
    "#gmd_fname = 'ex2-gmd-me6_J5_rs50_n20000_dmi5_dma1500_a0.010_trp0.50.p'\n",
    "gmd_results = load_plot_vs_d(gmd_fname, True, show_legend=False)\n",
    "plt.ylim([0, 1.03])\n",
    "plt.savefig(gmd_fname.replace('.p', '.pdf', 1), bbox_inches='tight')"
   ]
  },
  {
   "cell_type": "code",
   "execution_count": null,
   "metadata": {
    "collapsed": false
   },
   "outputs": [],
   "source": [
    "load_runtime_vs_d(gmd_fname, xscale='linear', yscale='log', show_legend=False);\n",
    "#plt.legend(bbox_to_anchor=(1.7, 1))\n",
    "plt.savefig(gmd_fname.replace('.p', '', 1) + '_time.pdf', bbox_inches='tight')"
   ]
  },
  {
   "cell_type": "code",
   "execution_count": null,
   "metadata": {
    "collapsed": false
   },
   "outputs": [],
   "source": [
    "# H1 true. Gaussian. variance diff\n",
    "gvd_fname = 'ex2-gvd-me6_J5_rs200_n20000_dmi5_dma500_a0.010_trp0.50.p'\n",
    "gvd_results = load_plot_vs_d(gvd_fname, True, show_legend=False)\n",
    "plt.legend(bbox_to_anchor=(1.7, 0.95))\n",
    "plt.savefig(gvd_fname.replace('.p', '.pdf', 1),  bbox_inches='tight')"
   ]
  },
  {
   "cell_type": "code",
   "execution_count": null,
   "metadata": {
    "collapsed": false
   },
   "outputs": [],
   "source": [
    "load_runtime_vs_d(gvd_fname, xscale='linear', yscale='log', show_legend=False);\n",
    "plt.legend(bbox_to_anchor=(1.7, 1))\n",
    "plt.savefig(gvd_fname.replace('.p', '', 1) + '_time.pdf', bbox_inches='tight')"
   ]
  },
  {
   "cell_type": "code",
   "execution_count": null,
   "metadata": {
    "collapsed": true
   },
   "outputs": [],
   "source": []
  }
 ],
 "metadata": {
  "kernelspec": {
   "display_name": "Python [Root]",
   "language": "python",
   "name": "Python [Root]"
  },
  "language_info": {
   "codemirror_mode": {
    "name": "ipython",
    "version": 2
   },
   "file_extension": ".py",
   "mimetype": "text/x-python",
   "name": "python",
   "nbconvert_exporter": "python",
   "pygments_lexer": "ipython2",
   "version": "2.7.12"
  }
 },
 "nbformat": 4,
 "nbformat_minor": 0
}
