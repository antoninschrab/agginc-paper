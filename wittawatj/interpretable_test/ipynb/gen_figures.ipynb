{
 "cells": [
  {
   "cell_type": "markdown",
   "metadata": {
    "collapsed": true
   },
   "source": [
    "This notebook contains code used to generate figures that are not from experimental results. \n",
    "These figures are used in, for instance, the paper and presentation slides."
   ]
  },
  {
   "cell_type": "code",
   "execution_count": null,
   "metadata": {},
   "outputs": [],
   "source": [
    "%load_ext autoreload\n",
    "%autoreload 2\n",
    "%matplotlib inline\n",
    "#%config InlineBackend.figure_format = 'svg'\n",
    "#%config InlineBackend.figure_format = 'pdf'\n",
    "import freqopttest.util as util\n",
    "import freqopttest.data as data\n",
    "import freqopttest.ex.exglobal as exglo\n",
    "import freqopttest.kernel as kernel\n",
    "import freqopttest.tst as tst\n",
    "import freqopttest.glo as glo\n",
    "import freqopttest.plot as plot\n",
    "import matplotlib \n",
    "import matplotlib.pyplot as plt\n",
    "import numpy as np\n",
    "import scipy.stats as stats\n",
    "import sys"
   ]
  },
  {
   "cell_type": "markdown",
   "metadata": {},
   "source": [
    "## Plot simple 2d data"
   ]
  },
  {
   "cell_type": "code",
   "execution_count": null,
   "metadata": {},
   "outputs": [],
   "source": [
    "ss = data.SSGaussVarDiff(d=2)\n",
    "sam = ss.sample(n=200, seed=7)\n",
    "x, y = sam.xy()\n",
    "\n",
    "plt.plot(x[:, 0], x[:, 1], 'ob', label='$\\mathsf{X}$', alpha=0.9, markeredgecolor='b')\n",
    "plt.plot(y[:, 0], y[:, 1], 'or', label='$\\mathsf{Y}$', alpha=0.7, markeredgecolor='r')\n",
    "plt.gca().get_xaxis().set_visible(False)\n",
    "plt.gca().get_yaxis().set_visible(False)\n",
    "plt.box(False)\n",
    "plt.legend(loc='best')\n",
    "plt.savefig('gvd_demo.pdf')"
   ]
  },
  {
   "cell_type": "markdown",
   "metadata": {},
   "source": [
    "## Plot blobs dataset"
   ]
  },
  {
   "cell_type": "code",
   "execution_count": null,
   "metadata": {},
   "outputs": [],
   "source": [
    "# font options\n",
    "font = {\n",
    "    #'family' : 'normal',\n",
    "    #'weight' : 'bold',\n",
    "    'size'   : 32\n",
    "}\n",
    "\n",
    "plt.rc('font', **font)\n",
    "plt.rc('lines', linewidth=3)\n",
    "matplotlib.rcParams['pdf.fonttype'] = 42\n",
    "matplotlib.rcParams['ps.fonttype'] = 42\n",
    "\n",
    "\n",
    "matplotlib.rc('font', **{'family': 'serif', 'serif': ['Computer Modern']})\n",
    "\n",
    "# matplotlib.use('cairo')\n",
    "matplotlib.rc('text', usetex=True)\n",
    "matplotlib.rcParams['image.cmap'] = 'jet'\n",
    "matplotlib.rcParams['text.usetex'] = True\n",
    "plt.rc('font', **font)\n",
    "\n",
    "\n",
    "# params = {'legend.fontsize': 'large',\n",
    "#           #'figure.figsize': (15, 5),\n",
    "#          'axes.labelsize': 'x-large',\n",
    "#          'axes.titlesize':'x-large',\n",
    "#          'xtick.labelsize':'x-large',\n",
    "#          'ytick.labelsize':'x-large'}\n",
    "# plt.rcParams.update(params)\n"
   ]
  },
  {
   "cell_type": "code",
   "execution_count": null,
   "metadata": {
    "collapsed": true
   },
   "outputs": [],
   "source": [
    "import os\n",
    "def oral_save_path(rel_path):\n",
    "    return os.path.join('..', 'text', 'nips2016', 'oral_img', rel_path)\n",
    "\n",
    "def prefix_path(rel_path):\n",
    "    return oral_save_path(rel_path)"
   ]
  },
  {
   "cell_type": "code",
   "execution_count": null,
   "metadata": {
    "scrolled": false
   },
   "outputs": [],
   "source": [
    "ss_blobs = data.SSBlobs()\n",
    "sam = ss_blobs.sample(n=2000, seed=2)\n",
    "bx, by = sam.xy()\n",
    "\n",
    "plt.figure()\n",
    "plt.plot(by[:, 0], by[:, 1], 'ob', markersize=3, markeredgecolor='b')\n",
    "plt.xlim([-12, 12])\n",
    "plt.ylim([-10, 10])\n",
    "plt.title('Blobs data. Sample from P.')\n",
    "plt.savefig('blobs_p.pdf')\n",
    "\n",
    "plt.figure()\n",
    "plt.plot(bx[:, 0], bx[:, 1], 'or', markersize=3, markeredgecolor='r')\n",
    "plt.xlim([-12, 12])\n",
    "plt.ylim([-10, 10])\n",
    "plt.title('Blobs data. Sample from Q.')\n",
    "plt.savefig('blobs_q.pdf')"
   ]
  },
  {
   "cell_type": "markdown",
   "metadata": {
    "collapsed": true
   },
   "source": [
    "## Oral presentation\n",
    "\n",
    "Figures used in the slides for NIPS 2016 oral presentation."
   ]
  },
  {
   "cell_type": "code",
   "execution_count": null,
   "metadata": {
    "collapsed": true
   },
   "outputs": [],
   "source": [
    "# # font options\n",
    "# font = {\n",
    "#     #'family' : 'normal',\n",
    "#     #'weight' : 'bold',\n",
    "#     'size'   : 18\n",
    "# }\n",
    "\n",
    "# plt.rc('font', **font)\n",
    "# plt.rc('lines', linewidth=3)\n",
    "# matplotlib.rcParams['pdf.fonttype'] = 42\n",
    "# matplotlib.rcParams['ps.fonttype'] = 42"
   ]
  },
  {
   "cell_type": "code",
   "execution_count": null,
   "metadata": {},
   "outputs": [],
   "source": [
    "def plot_data_2d(x, y, title, dest_fname):\n",
    "    plt.plot(x[:, 0], x[:, 1], 'ob', label='$\\mathsf{X}$', alpha=0.8, markeredgecolor='b')\n",
    "    plt.plot(y[:, 0], y[:, 1], 'or', label='$\\mathsf{Y}$', alpha=0.7, markeredgecolor='r')\n",
    "    plt.gca().get_xaxis().set_visible(False)\n",
    "    plt.gca().get_yaxis().set_visible(False)\n",
    "    plt.box(False)\n",
    "    plt.legend()\n",
    "    plt.title(title)\n",
    "    plt.savefig(dest_fname, bbox_inches='tight')"
   ]
  },
  {
   "cell_type": "code",
   "execution_count": null,
   "metadata": {
    "scrolled": true
   },
   "outputs": [],
   "source": [
    "with util.NumpySeedContext(seed=6):\n",
    "    n = 200\n",
    "    x = np.random.rand(n, 2)\n",
    "    y = np.random.rand(n, 2)\n",
    "plot_data_2d(x, y, '$P=Q$', oral_save_path('uniform_2d_data.pdf'))"
   ]
  },
  {
   "cell_type": "code",
   "execution_count": null,
   "metadata": {},
   "outputs": [],
   "source": [
    "with util.NumpySeedContext(seed=9):\n",
    "    n = 400\n",
    "    x = np.random.randn(n, 2)\n",
    "    y = np.random.randn(n, 2).dot(np.diag([1, 4]))\n",
    "plot_data_2d(x, y, r'$P \\neq Q$', oral_save_path('h1_true_data.pdf'))"
   ]
  },
  {
   "cell_type": "markdown",
   "metadata": {},
   "source": [
    "## $H_0/H_1$ distributions"
   ]
  },
  {
   "cell_type": "code",
   "execution_count": null,
   "metadata": {
    "scrolled": false
   },
   "outputs": [],
   "source": [
    "J = 5\n",
    "alpha = 0.03\n",
    "\n",
    "# plot the null distribution\n",
    "h0_xmin = stats.chi2.ppf(0.0001, J)\n",
    "h0_xmax = stats.chi2.ppf(0.9999, J)\n",
    "domain = np.linspace(h0_xmin, h0_xmax, 300)\n",
    "# noncentrality parameter\n",
    "nc = 20\n",
    "h1_dom = np.linspace(stats.ncx2.ppf(0.0001, J, nc), stats.ncx2.ppf(0.9999, J, nc), 200)\n",
    "\n",
    "dom = np.sort(np.hstack((domain, h1_dom)))\n",
    "plt.figure(figsize=(10,4))\n",
    "plt.plot(dom, stats.chi2.pdf(dom, J), 'b-', \n",
    "        label='$\\mathbb{P}_{H_0}(\\hat{\\lambda}_n)$'\n",
    "#           label='$\\chi^2(J)$'\n",
    "        )\n",
    "\n",
    "# rejection threshold\n",
    "thresh = stats.chi2.isf(alpha, J)\n",
    "plt.plot([thresh, thresh], [0, stats.chi2.pdf(J, J)/2], '*g-', label=r'$T_\\alpha$')\n",
    "\n",
    "# plot H1 distribution. Say a noncentral Chi2\n",
    "# plt.plot(dom, stats.ncx2.pdf(dom, J, nc), 'r-', label='$\\mathbb{P}_{H_1}(\\hat{\\lambda}_n)$')\n",
    "\n",
    "# actual test statistic\n",
    "stat = 36\n",
    "#plt.plot([stat, stat], [0, stats.chi2.pdf(J, J)/3], '*m-', label='$\\hat{\\lambda}_n$', linewidth=2)\n",
    "\n",
    "# p-value\n",
    "pval_x = np.linspace(stat, h0_xmax, 400)\n",
    "pval_y = stats.chi2.pdf(pval_x, J)\n",
    "#plt.fill_between(pval_x, np.zeros(len(pval_x)), pval_y, color='gray', alpha='0.5', label='a')\n",
    "\n",
    "p1 = plt.Rectangle((0, 0), 1, 1, fc='gray')\n",
    "#shade_leg = plt.legend([p1], ['p-val.'], loc='upper right', \n",
    "#                       bbox_to_anchor=(0.96, 0.53), frameon=False)\n",
    "#plt.gca().add_artist(shade_leg)\n",
    "plt.legend(loc='best', frameon=True)\n",
    "plt.box(False)\n",
    "plt.axhline(0, color='black')\n",
    "plt.gca().get_yaxis().set_visible(False)\n",
    "plt.gca().xaxis.set_ticks_position('bottom')\n",
    "plt.xlabel(r'$\\hat{\\lambda}_n$')\n",
    "\n",
    "#plt.savefig('h0_dist.pdf', bbox_inches='tight')\n",
    "plt.savefig('h0_dist_thresh.pdf', bbox_inches='tight')\n",
    "# plt.savefig('h0_h1_dists.pdf', bbox_inches='tight')\n"
   ]
  },
  {
   "cell_type": "markdown",
   "metadata": {
    "collapsed": true
   },
   "source": [
    "## Test power highlight\n"
   ]
  },
  {
   "cell_type": "code",
   "execution_count": null,
   "metadata": {
    "scrolled": true
   },
   "outputs": [],
   "source": [
    "\n",
    "plt.figure(figsize=(10,4))\n",
    "plt.plot(dom, stats.chi2.pdf(dom, J), 'b-', label=r'$\\chi^2(J)$')\n",
    "plt.plot([thresh, thresh], [0, stats.chi2.pdf(J, J)/2], '*g-', label=r'$T_\\alpha$')\n",
    "plt.plot(dom, stats.ncx2.pdf(dom, J, nc), 'r-', label='$\\mathbb{P}_{H_1}(\\hat{\\lambda}_n)$')\n",
    "\n",
    "#plt.stem([stat], [stats.chi2.pdf(J, J)/3], 'om-', label='$\\hat{\\lambda}$')\n",
    "# test power \n",
    "pow_x = np.linspace(thresh, max(h1_dom), 400)\n",
    "pow_y = stats.ncx2.pdf(pow_x, J, nc)\n",
    "plt.fill_between(pow_x, np.zeros(len(pow_x)), pow_y, color='magenta', alpha=0.2)\n",
    "\n",
    "p2 = plt.Rectangle((0, 0), 1, 1, fc='magenta', alpha=0.2)\n",
    "shade_pow = plt.legend([p2], ['power'], loc='upper right',\n",
    "                       bbox_to_anchor=(0.97, 0.53), frameon=False)\n",
    "#plt.gca().add_artist(shade_pow)\n",
    "plt.box(False)\n",
    "plt.legend(frameon=True)\n",
    "plt.gca().get_yaxis().set_visible(False)\n",
    "#plt.gca().xaxis.set_visible(True)\n",
    "plt.axhline(0, color='black')\n",
    "plt.gca().xaxis.set_ticks_position('bottom')\n",
    "plt.xlabel(r'$\\hat{\\lambda}_n$')\n",
    "plt.savefig('test_power_demo.pdf',  bbox_inches='tight')\n",
    "#plt.savefig('test_power_demo2.pdf',  bbox_inches='tight')\n"
   ]
  },
  {
   "cell_type": "markdown",
   "metadata": {},
   "source": [
    "## Type-1 error"
   ]
  },
  {
   "cell_type": "code",
   "execution_count": null,
   "metadata": {},
   "outputs": [],
   "source": [
    "plt.figure(figsize=(10,4))\n",
    "plt.plot(domain, stats.chi2.pdf(domain, J), 'b-', label=r'$\\mathbb{P}_{H_0}(\\hat{\\lambda}_n)$')\n",
    "plt.plot(h1_dom, stats.ncx2.pdf(h1_dom, J, nc), 'r-', label=r'$\\mathbb{P}_{H_1}(\\hat{\\lambda}_n)$')\n",
    "plt.plot([thresh, thresh], [0, stats.chi2.pdf(J, J)/2], '*g-', label=r'$T_\\alpha$', linewidth=2)\n",
    "#plt.stem([stat], [stats.chi2.pdf(J, J)/3], 'om-', label='$\\hat{\\lambda}$')\n",
    "# type-1 error\n",
    "t1_x = np.linspace(thresh, max(domain), 400)\n",
    "t1_y = stats.chi2.pdf(t1_x, J)\n",
    "plt.fill_between(t1_x, np.zeros(len(t1_x)), t1_y, color='brown', alpha=0.4)\n",
    "\n",
    "p2 = plt.Rectangle((0, 0), 1, 1, fc='brown', alpha=0.4)\n",
    "shade_pow = plt.legend([p2], ['type-I'], loc='upper right', \n",
    "                       bbox_to_anchor=(0.96, 0.53), frameon=False)\n",
    "plt.box(False)\n",
    "plt.gca().add_artist(shade_pow)\n",
    "plt.legend(loc='best', frameon=False)\n",
    "plt.gca().get_yaxis().set_visible(False)\n",
    "plt.xlabel(r'$\\hat{\\lambda}_n$')\n",
    "plt.savefig('type1_error_demo.pdf')"
   ]
  },
  {
   "cell_type": "markdown",
   "metadata": {},
   "source": [
    "## Noncentral chi-square / power"
   ]
  },
  {
   "cell_type": "code",
   "execution_count": null,
   "metadata": {
    "scrolled": true
   },
   "outputs": [],
   "source": [
    "J = 5\n",
    "dom = np.linspace(1e-5, 95, 500)\n",
    "thresh = 27\n",
    "ncs = [10, 30, 50]\n",
    "pow_colors = ['blue', 'green', 'red']\n",
    "\n",
    "plt.figure(figsize=(10,4))\n",
    "for i, nc in enumerate(ncs):\n",
    "    plt.plot(dom, stats.ncx2.pdf(dom, J, nc), label=r'$\\chi^2(J, \\, %.2g)$'%( nc),\n",
    "            linewidth=2)\n",
    "    # plot the test powers\n",
    "    pow_dom = np.linspace(thresh, max(dom), 500)\n",
    "    plt.fill_between(pow_dom, np.zeros(len(dom)), \n",
    "                     stats.ncx2.pdf(pow_dom, J, nc), color=pow_colors[i], alpha=0.2)\n",
    "    \n",
    "    \n",
    "plt.plot([thresh, thresh], [0, stats.ncx2.pdf(ncs[0]+J, J, ncs[0])/3], \n",
    "         '*m-', label='$T_\\\\alpha$')\n",
    "plt.legend(loc='best', frameon=False)\n",
    "plt.title('$J = %d$'%J)\n",
    "plt.savefig('ncx2_pow_inc.pdf')"
   ]
  },
  {
   "cell_type": "markdown",
   "metadata": {
    "collapsed": true
   },
   "source": [
    "## Visualize mean embeddings "
   ]
  },
  {
   "cell_type": "code",
   "execution_count": null,
   "metadata": {
    "scrolled": true
   },
   "outputs": [],
   "source": [
    "sigma2 = 1\n",
    "def kgauss_me(Xte, X):\n",
    "    \"\"\"Inputs are 2d arrays\"\"\"\n",
    "    kg = kernel.KGauss(sigma2=sigma2)\n",
    "    K_dom_x = kg.eval(Xte, X)\n",
    "    me_xte = np.mean(K_dom_x, 1)\n",
    "    return me_xte\n",
    "    \n",
    "X = np.array([[2, 3.2, 4]]).T\n",
    "Y = np.array([[4.5, 4.9, 6]]).T\n",
    "xy = np.vstack((X, Y))\n",
    "\n",
    "dom = np.linspace(min(xy)-3*sigma2, max(xy)+3*sigma2, 300)\n",
    "dom_mat = dom[:, np.newaxis]\n",
    "\n",
    "me_x = kgauss_me(dom_mat, X)\n",
    "me_y = kgauss_me(dom_mat, Y)\n",
    "me_diff = 1*(me_x - me_y)\n",
    "# plot mean embedding as a function\n",
    "\n",
    "# data X\n",
    "markersize = 9\n",
    "plt.figure(figsize=(10, 5))\n",
    "plt.plot(X[:, 0], np.zeros(X.shape[0]) + 5e-3, 'ob', \n",
    "         markersize=markersize\n",
    "        # , label='$\\mathsf{X}$'\n",
    "        )\n",
    "# mu_x \n",
    "plt.plot(dom, me_x, 'b-', label='$\\hat{\\mu}_P(\\mathbf{v})$')\n",
    "\n",
    "# data Y\n",
    "plt.plot(Y[:, 0], np.zeros(Y.shape[0]) + 5e-3, 'or', \n",
    "         markersize=markersize\n",
    "        # , label='$\\mathsf{Y}$'\n",
    "        )\n",
    "# mu_y\n",
    "plt.plot(dom, me_y, 'r-', label=r'$\\hat{\\mu}_Q(\\mathbf{v})$')\n",
    "# diff\n",
    "#plt.plot(dom, me_diff, '-g', label='$\\hat{\\mu}_P(\\mathbf{v}) - \\hat{\\mu}_Q(\\mathbf{v})$')\n",
    "\n",
    "# diff^2\n",
    "maxheight = np.max(np.maximum(me_x, me_y))\n",
    "max_diff2 = np.max(me_diff**2)\n",
    "plt.plot(dom, me_diff**2/max_diff2*maxheight*1.2, '-g', \n",
    "         label='$(\\hat{\\mu}_P(\\mathbf{v}) - \\hat{\\mu}_Q(\\mathbf{v}))^2$')\n",
    "\n",
    "self_me_x = kgauss_me(X, X)\n",
    "for i in range(X.shape[0]):\n",
    "    plt.plot([X[i, 0], X[i, 0]], [0, self_me_x[i]], '--', color='blue', alpha=0.4)\n",
    "self_me_y = kgauss_me(Y, Y)\n",
    "for i in range(Y.shape[0]):\n",
    "    plt.plot([Y[i, 0], Y[i, 0]], [0, self_me_y[i]], '--', color='red', alpha=0.4)\n",
    "    \n",
    "plt.xlabel('$\\mathbf{v}$')\n",
    "#plt.title('$\\mathsf{X}$ = blue points. $\\mathsf{Y}$ = red points.')\n",
    "plt.legend(loc='best')\n",
    "plt.gca().get_xaxis().set_visible(False)\n",
    "plt.gca().get_yaxis().set_visible(False)\n",
    "plt.box(False)\n",
    "#plt.title('ME Test')\n",
    "plt.savefig('mean_embeddings_diff.pdf')"
   ]
  },
  {
   "cell_type": "markdown",
   "metadata": {},
   "source": [
    "## Densities in the frequency domain"
   ]
  },
  {
   "cell_type": "code",
   "execution_count": null,
   "metadata": {
    "scrolled": false
   },
   "outputs": [],
   "source": [
    "import scipy as sp\n",
    "import scipy.signal as sig\n",
    "\n",
    "def tri_fun(x, w=1.0):\n",
    "    return sig.bspline(x/w, 1)\n",
    "\n",
    "def smooth_ker(x, w=1.0):\n",
    "    return stats.norm.pdf(x, loc=0, scale=w)\n",
    "    \n",
    "v1 = 3\n",
    "dom = np.linspace(-4, 4, 1000)\n",
    "x = tri_fun(dom, w=1)\n",
    "y = tri_fun(dom, w=2)\n",
    "\n",
    "k = smooth_ker(dom, w=1.3)\n",
    "x_k = np.convolve(x, k, 'same')\n",
    "y_k = np.convolve(y, k, 'same')\n",
    "\n",
    "plt_scale = 1.0/20\n",
    "plt.figure(figsize=(7, 4))\n",
    "# plot v\n",
    "plt.plot([v1, v1], [0, np.max(x)/3.0], '--og', label=r'$\\mathbf{v}_1$')\n",
    "plt.plot(dom, x, 'b-', label=r'$\\hat{p}(\\mathbf{\\omega})$')\n",
    "plt.plot(dom, y, 'r-', label=r'$\\hat{q}(\\mathbf{\\omega})$')\n",
    "plt.legend(loc='best')\n",
    "plt.title('Characteristic functions $\\hat{p}(\\mathbf{\\omega}), \\hat{q}(\\mathbf{\\omega})$')\n",
    "#plt.gca().get_xaxis().set_visible(False)\n",
    "plt.gca().get_yaxis().set_visible(False)\n",
    "plt.box(False)\n",
    "plt.savefig('characteristic_funcs.pdf')\n",
    "#plt.plot(dom, plt_scale*x_k, '-r')\n"
   ]
  },
  {
   "cell_type": "code",
   "execution_count": null,
   "metadata": {
    "scrolled": true
   },
   "outputs": [],
   "source": [
    "plt.figure(figsize=(7, 4))\n",
    "# plot v\n",
    "plt.plot([v1, v1], [0, np.max(y_k)/3.0], '--og', label=r'$\\mathbf{v}_1$')\n",
    "plt.plot(dom, x_k, 'b-', label=r'$(l \\ast \\hat{p})(\\mathbf{\\omega})$')\n",
    "plt.plot(dom, y_k, 'r-', label=r'$(l \\ast \\hat{p})(\\mathbf{\\omega})$')\n",
    "plt.legend()\n",
    "plt.title('Smoothed characteristic functions')\n",
    "plt.gca().get_yaxis().set_visible(False)\n",
    "plt.box(False)\n",
    "plt.savefig('smooth_cfs.pdf')"
   ]
  },
  {
   "cell_type": "markdown",
   "metadata": {},
   "source": [
    "## ME test: interactive test locations"
   ]
  },
  {
   "cell_type": "code",
   "execution_count": null,
   "metadata": {
    "collapsed": true
   },
   "outputs": [],
   "source": [
    "from mpl_toolkits.mplot3d import axes3d\n",
    "from matplotlib import cm\n",
    "\n",
    "def best_loc2_testpower(X, Y, gamma, loc1):\n",
    "    \"\"\"Show a heatmap of Lambda(T) on many locations of the test points. \n",
    "    J=2 (two locations). Assume loc1 is given. Vary loc2 (2d). \n",
    "    * loc1 can be None, in which case, use only one test location.\"\"\"\n",
    "    \n",
    "    # For simplicity, we will assume that J=2 (two frequencies) \n",
    "    # and that one (loc1) is fixed. We will optimize loc2 (2-dimensional).\n",
    "    XY = np.vstack((X,Y))\n",
    "    max1, max2 = np.max(XY, 0)\n",
    "    min1, min2 = np.min(XY, 0)\n",
    "    #sd1, sd2 = np.std(XY, 0)\n",
    "    sd1, sd2 = (0, 0)\n",
    "    # form a frequency grid to try \n",
    "    nd1 = 60\n",
    "    nd2 = 60\n",
    "    loc1_cands = np.linspace(min1-sd1/2, max1+sd1/2, nd1)\n",
    "    loc2_cands = np.linspace(min2-sd2/2, max2+sd2/2, nd2)\n",
    "    lloc1, lloc2 = np.meshgrid(loc1_cands, loc2_cands)\n",
    "    # nd2 x nd1 x 2\n",
    "    loc3d = np.dstack((lloc1, lloc2))\n",
    "    # #candidates x 2\n",
    "    all_loc2s = np.reshape(loc3d, (-1, 2) )\n",
    "    \n",
    "    # all_locs = #candidates x J x 2\n",
    "    if loc1 is not None:\n",
    "        all_locs = np.array( [np.vstack((c, loc1)) for c in all_loc2s] )\n",
    "    else:\n",
    "        all_locs = np.array( [ c[np.newaxis, :] for c in all_loc2s] )\n",
    "\n",
    "    # evaluate Lambda(T) on each candidate T on the grid. Size = (#candidates, )\n",
    "    stat_grid = np.array([t2_stat(X, Y, T, gamma) for T in all_locs])\n",
    "    stat_grid = np.reshape(stat_grid, (nd2, nd1) )\n",
    "    \n",
    "    #ax = fig.gca(projection='3d')\n",
    "    #ax.plot_surface(lloc1, lloc2, stat_grid, rstride=8, cstride=8, alpha=0.3)\n",
    "    #cset = ax.contourf(lloc1, lloc2, stat_grid, zdir='z', offset=0, cmap=cm.coolwarm)\n",
    "    #plt.figure(figsize=(7, 4))\n",
    "    plt.contourf(lloc1, lloc2, stat_grid, alpha=0.28)\n",
    "#     plt.gca().get_xaxis().set_visible(False)\n",
    "#     plt.gca().get_yaxis().set_visible(False)\n",
    "    plt.colorbar()\n",
    "\n",
    "    max_stat = np.max(stat_grid)\n",
    "    #plt.xlabel('')\n",
    "    #plt.ylabel('')\n",
    "    plt.title('$\\mathbf{v}_2 \\mapsto \\hat{\\lambda}_{n}^{tr}(\\mathbf{v}_1, \\mathbf{v}_2)$')\n",
    "    #ax.view_init(elev=max_stat*2, azim=90)\n",
    "\n",
    "    \n",
    "    # plot the data\n",
    "    #plt.figure(figsize=(12, 4))\n",
    "    plt.plot(X[:, 0], X[:, 1], 'ob', label='$\\mathsf{X}$', \n",
    "             markeredgecolor='b', markersize=4, alpha=0.9)\n",
    "    plt.plot(Y[:, 0], Y[:, 1], 'or', label='$\\mathsf{Y}$', \n",
    "             markeredgecolor='r', markersize=4, alpha=0.9)\n",
    "    if loc1 is not None:\n",
    "        loc1x, loc1y = loc1\n",
    "        plt.plot(loc1x, loc1y, '^k', markersize=20, label='$\\mathbf{v}_1$')\n",
    "    #plt.legend(loc='best')\n",
    "    plt.savefig('lambda_t2_surface.pdf')\n"
   ]
  },
  {
   "cell_type": "code",
   "execution_count": null,
   "metadata": {},
   "outputs": [],
   "source": [
    "def t2_stat(X, Y, locs, gamma):\n",
    "    \"\"\"\n",
    "    locs: J x d\n",
    "    \"\"\"\n",
    "    tst_data = data.TSTData(X, Y)\n",
    "    me = tst.MeanEmbeddingTest(locs, gamma, alpha=alpha)\n",
    "    result = me.perform_test(tst_data)\n",
    "    return result['test_stat']\n",
    "\n",
    "\n",
    "alpha = 0.01    \n",
    "# locations to test\n",
    "ss = data.SSGaussMeanDiff(d=2, my=1.0)\n",
    "#ss = data.SSGaussVarDiff(d=2)\n",
    "#ss = data.SSBlobs()\n",
    "n = 500\n",
    "tst_data = ss.sample(n=n, seed=6)\n",
    "#locs = tst.MeanEmbeddingTest.init_locs_2randn(tst_data, n_test_locs=2, seed=39)\n",
    "\n",
    "X, Y = tst_data.xy()\n"
   ]
  },
  {
   "cell_type": "code",
   "execution_count": null,
   "metadata": {},
   "outputs": [],
   "source": [
    "from __future__ import print_function\n",
    "from ipywidgets import interact, interactive, fixed\n",
    "from IPython.display import display\n",
    "import ipywidgets as widgets\n",
    "\n",
    "# interactively select test locations\n",
    "def me_test_plot_interact(X, Y, loc1x=0, loc1y=0, gamma=1):\n",
    "    #locs = np.array([[loc1x, loc1y], [loc2x, loc2y]])\n",
    "    \n",
    "    # compute the test statistic\n",
    "    loc1 = np.array([loc1x, loc1y])\n",
    "    best_loc2_testpower(X, Y, gamma, loc1)\n",
    "\n",
    "\n",
    "loc1_bnd = (-5, 5, 0.1)\n",
    "# loc1_bnd = (np.min(counts), np.max(counts), 1)\n",
    "loc2_bnd = loc1_bnd\n",
    "vs = interactive(me_test_plot_interact, X=fixed(X), Y=fixed(Y), loc1x=loc1_bnd, \n",
    "        loc1y=loc2_bnd, gamma=(0.1, 10, 0.1));\n",
    "display(vs)"
   ]
  },
  {
   "cell_type": "code",
   "execution_count": null,
   "metadata": {},
   "outputs": [],
   "source": [
    "# Another dataset\n",
    "\n",
    "with util.NumpySeedContext(seed=74):\n",
    "    # match count of each of the n players\n",
    "    #counts = stats.poisson.rvs(mu, size=n)\n",
    "#     counts = stats.uniform.rvs(loc=2, scale=30, size=n).astype(int)\n",
    "    counts = 1+stats.expon.rvs(scale=15, size=n).astype(int)\n",
    "\n",
    "    A = stats.uniform.rvs(loc=10*counts, scale=4, size=n)\n",
    "    B = stats.uniform.rvs(loc=7*counts**0.6, scale=4, size=n)\n",
    "    pobs = stats.beta.rvs(a=A, b=B)\n",
    "    rand_signs = stats.bernoulli.rvs(0.5, size=n)*2-1\n",
    "    pmodel = pobs + 0.5*np.random.randn(n)/counts**1.5 + rand_signs*np.random.rand(n)*0.03\n",
    "    pmodel = np.maximum(np.minimum(pmodel, 1), 0)\n",
    "\n",
    "X = np.vstack((counts, pobs)).T\n",
    "Y = np.vstack((counts, pmodel)).T\n",
    "\n",
    "plt.plot(pobs, pmodel, 'ko')\n",
    "plt.xlabel('P obs')\n",
    "plt.ylabel('P model')"
   ]
  },
  {
   "cell_type": "code",
   "execution_count": null,
   "metadata": {},
   "outputs": [],
   "source": [
    "gw2 = util.meddistance(np.vstack((X, Y)), subsample=1000)\n",
    "print('Gaussian width^2: {0}'.format(gw2))\n",
    "plt.figure(figsize=(10, 5))\n",
    "best_loc2_testpower(X, Y, gw2, loc1=None)\n",
    "plt.title('Test criterion')\n",
    "plt.xlabel('Match count')\n",
    "plt.ylabel('P(win)')\n",
    "plt.xlim([1, 40])\n",
    "plt.savefig('tomminka_game_problem.pdf', bbox_inches='tight')"
   ]
  },
  {
   "cell_type": "markdown",
   "metadata": {},
   "source": [
    "## ME test vs MMD witness function"
   ]
  },
  {
   "cell_type": "code",
   "execution_count": null,
   "metadata": {
    "collapsed": true
   },
   "outputs": [],
   "source": [
    "# sample source \n",
    "m = 3000\n",
    "#dim = 2\n",
    "n = m\n",
    "#ss = data.SSGaussMeanDiff(dim, my=0.5)\n",
    "#ss = data.SSUnif(plb=[-2, -2], pub=[0, 2], qlb=[-2, -2], qub=[2, 2])\n",
    "#ss = data.SSUnif(plb=[-2], pub=[0], qlb=[-2], qub=[2])\n",
    "\n",
    "pbs = np.array([[-2, 0]])\n",
    "slack = 0.0\n",
    "qbs = np.array([[-2+slack, 0-slack], [2, 4]])\n",
    "ss = data.SSMixUnif1D(pbs, qbs)\n",
    "\n",
    "#ss = data.SSGaussVarDiff(d=dim)\n",
    "#ss = data.SSBlobs()\n",
    "tst_data = ss.sample(m, seed=9)\n",
    "tr, te = tst_data.split_tr_te(tr_proportion=0.5, seed=11)"
   ]
  },
  {
   "cell_type": "code",
   "execution_count": null,
   "metadata": {},
   "outputs": [],
   "source": [
    "alpha = 0.01\n",
    "#gwidth = util.meddistance(tr.stack_xy(), subsample=1000)**2\n",
    "gwidth = 0.3\n",
    "reg = 0.0\n",
    "\n",
    "dom = np.linspace(-6, 6, 400)\n",
    "# add an x very close to 0\n",
    "#dom = np.append(dom, [1e-9])\n",
    "dom.sort()\n",
    "xtr, ytr = tr.xy()\n",
    "\n",
    "test_stats = np.zeros(len(dom))\n",
    "# unnormalized stats\n",
    "sigs = np.zeros(len(dom))\n",
    "un_stats = np.zeros(len(dom))\n",
    "witness = np.zeros(len(dom))\n",
    "varx = np.zeros(len(dom))\n",
    "vary = np.zeros(len(dom))\n",
    "for i, t1x in enumerate(dom):\n",
    "    t1 = np.array([t1x])\n",
    "    T = t1[np.newaxis, :]\n",
    "    #met_i = tst.MeanEmbeddingTest(T, gwidth, alpha)\n",
    "    #test_i = met_i.perform_test(te)\n",
    "    #stats[i] = test_i['test_stat']\n",
    "    g = tst.MeanEmbeddingTest.gauss_kernel(xtr, T, gwidth)\n",
    "    h = tst.MeanEmbeddingTest.gauss_kernel(ytr, T, gwidth)\n",
    "    varx[i] = np.cov(g.T)\n",
    "    vary[i] = np.cov(h.T)\n",
    " \n",
    "    Z = g-h\n",
    "    #Sig = np.cov(Z.T)\n",
    "    Sig = varx[i] + vary[i]\n",
    "    W = np.mean(Z, 0)\n",
    "    stat = n*(W[0]**2)/(Sig + reg)\n",
    "    \n",
    "    test_stats[i] = stat\n",
    "    sigs[i] = Sig\n",
    "    un_stats[i] = n*W[0]**2\n",
    "    witness[i] = W[0]\n",
    "    \n",
    "print('gwidth**2: %.3f'%gwidth)"
   ]
  },
  {
   "cell_type": "code",
   "execution_count": null,
   "metadata": {},
   "outputs": [],
   "source": [
    "# plot location shift vs. test stat\n",
    "plt.figure(figsize=(10, 5))\n",
    "plt.plot(dom, test_stats, 'g-', label=r'$\\hat{\\lambda}_n(\\mathbf{v})$')\n",
    "#plt.plot(t1x_list, sigs, label=r'$\\sigma_n^2 $')\n",
    "# renormalized variance to match the scaling of the statistics\n",
    "norm_sigs = sigs/np.max(sigs)*np.max(test_stats)/2\n",
    "plt.plot(dom, norm_sigs, 'm-', label=r'$\\propto \\mathbf{S}_n(\\mathbf{v})$')\n",
    "norm_un_stats = un_stats/np.max(un_stats)*np.max(test_stats)\n",
    "plt.plot(dom, norm_un_stats, 'k-', \n",
    "         label=r'$(\\hat{\\mu}_P(\\mathbf{v}) - \\hat{\\mu}_Q(\\mathbf{v}))^2$')\n",
    "\n",
    "#plt.title(r'$\\mathbf{v}_1 = [v, 0]$, $\\gamma_n = %.2f$, $n=%d$'%(reg, xte.shape[0]))\n",
    "plt.legend(bbox_to_anchor=(1.2, 1))\n",
    "#plt.xlabel('$v$ in $1^{st}$ dim. of $\\mathbf{v}_1$')\n",
    "plt.xlabel(r'$\\mathbf{v}$', fontsize=40)\n",
    "#plt.xlim([-10, 6])\n",
    "plt.gca().get_yaxis().set_visible(False)\n",
    "plt.gca().xaxis.set_ticks_position('bottom')\n",
    "plt.box(False)\n",
    "plt.savefig('witness_vs_normalized_stat.pdf')\n",
    "#plt.ylabel('Test statistic')"
   ]
  },
  {
   "cell_type": "code",
   "execution_count": null,
   "metadata": {
    "scrolled": true
   },
   "outputs": [],
   "source": [
    "# sigs = varx + vary\n",
    "plt.figure(figsize=(10, 4))\n",
    "plt.plot(dom, varx, 'b--', label=r'$\\hat{s}_\\mathbf{x}(\\mathbf{v})$')\n",
    "plt.plot(dom, vary, 'r--', label=r'$\\hat{s}_\\mathbf{y}(\\mathbf{v})$')\n",
    "plt.plot(dom, sigs, 'm-', label=r'$\\hat{s}(\\mathbf{v})$', alpha=0.5)\n",
    "# r'$\\hat{s}(\\mathbf{v}) = \\hat{s}_\\mathbf{x}(\\mathbf{v}) + \\hat{s}_\\mathbf{y}(\\mathbf{v})$'\n",
    "#plt.title('(unnormalized) variances')\n",
    "plt.xlabel('$\\mathbf{v}$', fontsize=40)\n",
    "plt.ylim([0, np.max(sigs)+5e-3])\n",
    "plt.gca().get_yaxis().set_visible(False)\n",
    "plt.gca().xaxis.set_ticks_position('bottom')\n",
    "plt.box(False)\n",
    "plt.legend(bbox_to_anchor=(0.3, 1))\n",
    "#plt.legend()\n",
    "\n",
    "#plt.savefig('me_var_x.pdf', bbox_inches='tight')\n",
    "#plt.savefig('me_var_xy.pdf', bbox_inches='tight')\n",
    "plt.savefig('me_var.pdf', bbox_inches='tight')"
   ]
  },
  {
   "cell_type": "markdown",
   "metadata": {},
   "source": [
    "In the above figure, $\\sigma_n^2 = \\mathbf{S}_n$ because this is a one-dimensional example. It is easily seen from the independence of $X$ and $Y$ that $\\sigma_n^2 = \\sigma^2_x + \\sigma^2_y$, where $\\sigma^2_x(v) = \\frac{1}{n}\\sum_{i=1}^n \\left( k(x_i, v) - \\frac{1}{n} \\sum_{j=1}^n k(x_j, v)\\right)^2$ and $\\sigma^2_y(v) = \\frac{1}{n}\\sum_{i=1}^n \\left( k(y_i, v) - \\frac{1}{n} \\sum_{j=1}^n k(y_j, v)\\right)^2$."
   ]
  },
  {
   "cell_type": "code",
   "execution_count": null,
   "metadata": {
    "scrolled": false
   },
   "outputs": [],
   "source": [
    "plt.figure(figsize=(10, 4))\n",
    "plt.plot(dom, witness, 'k-')\n",
    "plt.title('MMD witness function')\n",
    "plt.grid(True)"
   ]
  },
  {
   "cell_type": "code",
   "execution_count": null,
   "metadata": {},
   "outputs": [],
   "source": [
    "def plot_witness( px_label=r'$P$', py_label=r'$Q$'):\n",
    "    \"\"\"\n",
    "    plot_var: A list of 'x', 'y', or 'total'. Not plotting if [].\n",
    "    \"\"\"\n",
    "    # plot as 1d. Take the first dimension\n",
    "    plt.figure(figsize=(8, 4))\n",
    "    zthresh = 1e-2\n",
    "    pden = ss.density_p(dom)\n",
    "    qden = ss.density_q(dom)\n",
    "    pden[pden<=zthresh] = zthresh\n",
    "   \n",
    "    plt.plot(dom, pden, 'b-', alpha=1,label=px_label,)\n",
    "    plt.plot(dom, qden, 'r-', alpha=0.99, label=py_label,)\n",
    "    max_den = np.max(np.maximum(pden, qden))\n",
    "    max_witness = np.max(witness)*1\n",
    "    #toplot_witness = witness/max_witness*max_den\n",
    "    toplot_witness = witness\n",
    "    plt.plot(dom, toplot_witness, 'k-', \n",
    "            # label=r'$(\\hat{\\mu}_P(\\mathbf{v}) - \\hat{\\mu}_Q(\\mathbf{v}))^2$'\n",
    "             label=r'$\\mathrm{witness}$'\n",
    "            )\n",
    "    #plt.xlabel(r'$\\mathbf{v}$', fontsize=40)\n",
    "    #plt.legend(loc='upper left')\n",
    "    plt.legend(\n",
    "        fontsize=18, \n",
    "        bbox_to_anchor=(0.32, 1.00),\n",
    "        #loc='lower left'\n",
    "        )\n",
    "    plt.xlim([np.min(dom), np.max(dom)])\n",
    "    plt.ylim([-0.4, 0.55])\n",
    "    plt.yticks([ -0.25, 0, 0.25, 0.5], fontsize=18)\n",
    "    plt.xticks(fontsize=18)\n",
    "    #plt.gca().yaxis.set_visible(False)\n",
    "    plt.gca().xaxis.set_ticks_position('bottom')\n",
    "    plt.grid()\n",
    "    #plt.box(False)\n",
    "    #plt.axis('off')\n",
    "    \n",
    "    \n",
    "######\n",
    "plot_witness()\n",
    "plt.savefig(prefix_path('unif_overlap_unsquared_witness.pdf'), \n",
    "            bbox_inches='tight'\n",
    "           )\n"
   ]
  },
  {
   "cell_type": "markdown",
   "metadata": {
    "collapsed": true
   },
   "source": [
    "### Variances for the two-uniform problem"
   ]
  },
  {
   "cell_type": "code",
   "execution_count": null,
   "metadata": {},
   "outputs": [],
   "source": [
    "alpha = 0.01\n",
    "#gwidth = util.meddistance(tr.stack_xy(), subsample=1000)**2\n",
    "gwidth = 1.0\n",
    "reg = 0.0\n",
    "\n",
    "t1x_list = np.linspace(-6, 6, 200)\n",
    "# add an x very close to 0\n",
    "#t1x_list = np.append(t1x_list, [1e-9])\n",
    "#t1x_list.sort()\n",
    "\n",
    "test_stats = np.zeros(len(t1x_list))\n",
    "# unnormalized stats\n",
    "sigs = np.zeros(len(t1x_list))\n",
    "un_stats = np.zeros(len(t1x_list))\n",
    "witness = np.zeros(len(t1x_list))\n",
    "varx = np.zeros(len(t1x_list))\n",
    "vary = np.zeros(len(t1x_list))\n",
    "for i, t1x in enumerate(t1x_list):\n",
    "    t1 = np.array([t1x])\n",
    "    T = t1[np.newaxis, :]\n",
    "    #met_i = tst.MeanEmbeddingTest(T, gwidth, alpha)\n",
    "    #test_i = met_i.perform_test(te)\n",
    "    #stats[i] = test_i['test_stat']\n",
    "    g = tst.MeanEmbeddingTest.gauss_kernel(xtr, T, gwidth)\n",
    "    h = tst.MeanEmbeddingTest.gauss_kernel(ytr, T, gwidth)\n",
    "    Z = g-h\n",
    "    Sig = np.cov(Z.T)\n",
    "    W = np.mean(Z, 0)\n",
    "    stat = n*(W[0]**2)/(Sig + reg)\n",
    "    \n",
    "    test_stats[i] = stat\n",
    "    sigs[i] = Sig\n",
    "    un_stats[i] = n*W[0]**2\n",
    "    witness[i] = W[0]\n",
    "    varx[i] = np.cov(g.T)\n",
    "    vary[i] = np.cov(h.T)\n",
    "    \n",
    "print('gwidth**2: %.3f'%gwidth)"
   ]
  },
  {
   "cell_type": "code",
   "execution_count": null,
   "metadata": {
    "collapsed": true
   },
   "outputs": [],
   "source": []
  },
  {
   "cell_type": "code",
   "execution_count": null,
   "metadata": {
    "collapsed": true
   },
   "outputs": [],
   "source": []
  },
  {
   "cell_type": "code",
   "execution_count": null,
   "metadata": {
    "collapsed": true
   },
   "outputs": [],
   "source": []
  },
  {
   "cell_type": "code",
   "execution_count": null,
   "metadata": {
    "collapsed": true
   },
   "outputs": [],
   "source": []
  },
  {
   "cell_type": "code",
   "execution_count": null,
   "metadata": {
    "collapsed": true
   },
   "outputs": [],
   "source": []
  }
 ],
 "metadata": {
  "kernelspec": {
   "display_name": "Python 3",
   "language": "python",
   "name": "python3"
  },
  "language_info": {
   "codemirror_mode": {
    "name": "ipython",
    "version": 3
   },
   "file_extension": ".py",
   "mimetype": "text/x-python",
   "name": "python",
   "nbconvert_exporter": "python",
   "pygments_lexer": "ipython3",
   "version": "3.6.3"
  }
 },
 "nbformat": 4,
 "nbformat_minor": 1
}
