{
 "cells": [
  {
   "cell_type": "markdown",
   "metadata": {},
   "source": [
    "A notebook to demonstrate how to use the UME (unnormalized mean embeddings) test."
   ]
  },
  {
   "cell_type": "code",
   "execution_count": null,
   "metadata": {},
   "outputs": [],
   "source": [
    "%load_ext autoreload\n",
    "%autoreload 2\n",
    "%matplotlib inline\n",
    "import autograd.numpy as np\n",
    "import matplotlib\n",
    "import matplotlib.pyplot as plt\n",
    "import freqopttest.util as util\n",
    "import freqopttest.data as data\n",
    "import freqopttest.kernel as kernel\n",
    "import freqopttest.tst as tst\n",
    "import freqopttest.glo as glo"
   ]
  },
  {
   "cell_type": "code",
   "execution_count": null,
   "metadata": {},
   "outputs": [],
   "source": [
    "# font options\n",
    "font = {\n",
    "    #'family' : 'normal',\n",
    "    #'weight' : 'bold',\n",
    "    'size'   : 18\n",
    "}\n",
    "\n",
    "plt.rc('font', **font)\n",
    "plt.rc('lines', linewidth=2)\n",
    "matplotlib.rcParams['pdf.fonttype'] = 42\n",
    "matplotlib.rcParams['ps.fonttype'] = 42"
   ]
  },
  {
   "cell_type": "markdown",
   "metadata": {},
   "source": [
    "## Test with random hyperparameters"
   ]
  },
  {
   "cell_type": "code",
   "execution_count": null,
   "metadata": {
    "collapsed": true
   },
   "outputs": [],
   "source": [
    "# sample source \n",
    "n = 600\n",
    "dim = 1\n",
    "seed = 17\n",
    "\n",
    "ss = data.SSGaussMeanDiff(dim, my=1.0)\n",
    "#ss = data.SSGaussVarDiff(dim)\n",
    "#ss = data.SSSameGauss(dim)\n",
    "# ss = data.SSBlobs()\n",
    "dim = ss.dim()\n",
    "\n",
    "dat = ss.sample(n, seed=seed)\n",
    "xy = dat.stack_xy()\n",
    "# tr, te = tst_data.split_tr_te(tr_proportion=0.5, seed=10)"
   ]
  },
  {
   "cell_type": "markdown",
   "metadata": {},
   "source": [
    "Draw a random set of test locations, and create a Gaussian kernel using the median heuristic."
   ]
  },
  {
   "cell_type": "code",
   "execution_count": null,
   "metadata": {},
   "outputs": [],
   "source": [
    "# number of test locations\n",
    "J = 3\n",
    "V = util.fit_gaussian_draw(xy, J, seed=seed+1)\n",
    "med = util.meddistance(xy, subsample=1000)\n",
    "k = kernel.KGauss(sigma2=med**2)"
   ]
  },
  {
   "cell_type": "markdown",
   "metadata": {},
   "source": [
    "Test with the chosen parameters."
   ]
  },
  {
   "cell_type": "code",
   "execution_count": null,
   "metadata": {},
   "outputs": [],
   "source": [
    "# significance level\n",
    "alpha = 0.01\n",
    "ume = tst.UMETest(V, k, n_simulate=2000, alpha=alpha)\n",
    "ume.perform_test(dat)"
   ]
  },
  {
   "cell_type": "markdown",
   "metadata": {},
   "source": [
    "## Optimized UME test"
   ]
  },
  {
   "cell_type": "code",
   "execution_count": null,
   "metadata": {},
   "outputs": [],
   "source": [
    "# sample source \n",
    "n = 800\n",
    "dim = 2\n",
    "seed = 18\n",
    "\n",
    "ss = data.SSGaussMeanDiff(dim, my=1.0)\n",
    "# ss = data.SSGaussVarDiff(dim)\n",
    "# ss = data.SSSameGauss(dim)\n",
    "# ss = data.SSBlobs()\n",
    "dim = ss.dim()\n",
    "\n",
    "dat = ss.sample(n, seed=seed)\n",
    "tr, te = dat.split_tr_te(tr_proportion=0.5, seed=10)\n",
    "xy_tr = tr.stack_xy()"
   ]
  },
  {
   "cell_type": "code",
   "execution_count": null,
   "metadata": {},
   "outputs": [],
   "source": [
    "# initialize test_locs by drawing the a Gaussian fitted to the data\n",
    "# number of test locations\n",
    "J = 2\n",
    "V0 = util.fit_gaussian_draw(xy_tr, J, seed=seed+7)\n",
    "med = util.meddistance(xy_tr, subsample=1000)\n",
    "gwidth0 = med**2\n",
    "\n",
    "V_opt, gw2_opt, opt_info = tst.GaussUMETest.optimize_locs_width(tr, V0, gwidth0, reg=1e-3,\n",
    "    max_iter=100,  tol_fun=1e-6, disp=False, locs_bounds_frac=100,\n",
    "    gwidth_lb=None, gwidth_ub=None)\n",
    "\n",
    "display(opt_info)"
   ]
  },
  {
   "cell_type": "code",
   "execution_count": null,
   "metadata": {},
   "outputs": [],
   "source": [
    "# perform the test using the optimized parameters on the test set\n",
    "alpha = 0.01\n",
    "ume_opt = tst.GaussUMETest(V_opt, gw2_opt, n_simulate=2000, alpha=alpha)\n",
    "ume_opt.perform_test(te)"
   ]
  },
  {
   "cell_type": "code",
   "execution_count": null,
   "metadata": {},
   "outputs": [],
   "source": [
    "xtr, ytr = tr.xy()\n",
    "plt.figure(figsize=(8, 5))\n",
    "plt.plot(xtr[:, 0], xtr[:, 1], 'bo', alpha=0.6, label='X')\n",
    "plt.plot(ytr[:, 0], ytr[:, 1], 'ro', alpha=0.6, label='Y')\n",
    "for j in range(J):\n",
    "    v = V_opt[j, :]\n",
    "    plt.plot(v[0], v[1], 'k*', markersize=30, label='Test locations' if j==0 else '')\n",
    "plt.legend()\n"
   ]
  },
  {
   "cell_type": "code",
   "execution_count": null,
   "metadata": {
    "collapsed": true
   },
   "outputs": [],
   "source": []
  },
  {
   "cell_type": "code",
   "execution_count": null,
   "metadata": {
    "collapsed": true
   },
   "outputs": [],
   "source": []
  },
  {
   "cell_type": "code",
   "execution_count": null,
   "metadata": {
    "collapsed": true
   },
   "outputs": [],
   "source": []
  },
  {
   "cell_type": "code",
   "execution_count": null,
   "metadata": {
    "collapsed": true
   },
   "outputs": [],
   "source": []
  },
  {
   "cell_type": "markdown",
   "metadata": {},
   "source": [
    "-------------------\n"
   ]
  },
  {
   "cell_type": "markdown",
   "metadata": {},
   "source": [
    "# Debugging\n",
    "\n",
    "Normal usage will not need the following code. The following code is here for checking the implementation during the development."
   ]
  },
  {
   "cell_type": "markdown",
   "metadata": {},
   "source": [
    "## Check the asymptotic null distribution"
   ]
  },
  {
   "cell_type": "code",
   "execution_count": null,
   "metadata": {},
   "outputs": [],
   "source": [
    "# create a problem where H0 is true (P=Q)\n",
    "seed = 278\n",
    "dim = 4\n",
    "n = 500\n",
    "# ss = data.SSGaussMeanDiff(d=dim, my=0.0)\n",
    "# ss = data.SSGaussVarDiff(d=dim)\n",
    "ss_h1 = data.SSGaussMeanDiff(d=dim, my=1.0)\n",
    "ss = data.SSNullResample(ss_h1.sample(5000, seed=seed+93).stack_xy())\n",
    "\n",
    "dat = ss.sample(n, seed=8)\n",
    "xy = dat.stack_xy()"
   ]
  },
  {
   "cell_type": "code",
   "execution_count": null,
   "metadata": {
    "collapsed": true
   },
   "outputs": [],
   "source": [
    "# create some hyperparameters of the test\n",
    "J = 5\n",
    "V = util.fit_gaussian_draw(xy, J, seed=seed+82)\n",
    "med = util.meddistance(xy, subsample=1000)\n",
    "k = kernel.KGauss(sigma2=med**2)\n",
    "\n",
    "ume = tst.UMETest(V, k, n_simulate=4000, seed=seed+3)"
   ]
  },
  {
   "cell_type": "code",
   "execution_count": null,
   "metadata": {},
   "outputs": [],
   "source": [
    "# number of times to create a new problem (draw new samples)\n",
    "trials = 1000\n",
    "null_stats = np.zeros(trials)\n",
    "\n",
    "for t in range(trials):\n",
    "    dat = ss.sample(n, seed=seed+t+1)\n",
    "    null_stats[t] = ume.compute_stat(dat)\n",
    "\n",
    "# use the data in the last trial to perform test\n",
    "results = ume.perform_test(dat, return_simulated_stats=True)\n",
    "sim_stats = results['sim_stats']\n",
    "\n",
    "display(results)"
   ]
  },
  {
   "cell_type": "code",
   "execution_count": null,
   "metadata": {},
   "outputs": [],
   "source": [
    "# histogram of the null stats\n",
    "plt.figure(figsize=(8, 5))\n",
    "plt.hist(null_stats, label='Empirical ground truth', alpha=0.7, bins=15, normed=True);\n",
    "plt.hist(sim_stats, label='Asymptotic', alpha=0.7, bins=15, normed=True)\n",
    "plt.legend()"
   ]
  },
  {
   "cell_type": "code",
   "execution_count": null,
   "metadata": {
    "collapsed": true
   },
   "outputs": [],
   "source": []
  },
  {
   "cell_type": "code",
   "execution_count": null,
   "metadata": {
    "collapsed": true
   },
   "outputs": [],
   "source": []
  },
  {
   "cell_type": "code",
   "execution_count": null,
   "metadata": {
    "collapsed": true
   },
   "outputs": [],
   "source": []
  },
  {
   "cell_type": "code",
   "execution_count": null,
   "metadata": {
    "collapsed": true
   },
   "outputs": [],
   "source": []
  },
  {
   "cell_type": "code",
   "execution_count": null,
   "metadata": {
    "collapsed": true
   },
   "outputs": [],
   "source": []
  },
  {
   "cell_type": "code",
   "execution_count": null,
   "metadata": {
    "collapsed": true
   },
   "outputs": [],
   "source": []
  },
  {
   "cell_type": "code",
   "execution_count": null,
   "metadata": {
    "collapsed": true
   },
   "outputs": [],
   "source": []
  },
  {
   "cell_type": "code",
   "execution_count": null,
   "metadata": {
    "collapsed": true
   },
   "outputs": [],
   "source": []
  },
  {
   "cell_type": "code",
   "execution_count": null,
   "metadata": {
    "collapsed": true
   },
   "outputs": [],
   "source": []
  }
 ],
 "metadata": {
  "kernelspec": {
   "display_name": "Python 3",
   "language": "python",
   "name": "python3"
  },
  "language_info": {
   "codemirror_mode": {
    "name": "ipython",
    "version": 3
   },
   "file_extension": ".py",
   "mimetype": "text/x-python",
   "name": "python",
   "nbconvert_exporter": "python",
   "pygments_lexer": "ipython3",
   "version": "3.6.3"
  }
 },
 "nbformat": 4,
 "nbformat_minor": 2
}
