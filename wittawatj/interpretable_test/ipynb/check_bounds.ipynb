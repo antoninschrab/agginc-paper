{
 "cells": [
  {
   "cell_type": "markdown",
   "metadata": {},
   "source": [
    "This notebook is for checking the tightness of theoretical lower/upper bounds. "
   ]
  },
  {
   "cell_type": "code",
   "execution_count": null,
   "metadata": {
    "collapsed": true
   },
   "outputs": [],
   "source": [
    "%load_ext autoreload\n",
    "%autoreload 2\n",
    "%matplotlib inline\n",
    "#%config InlineBackend.figure_format = 'svg'\n",
    "#%config InlineBackend.figure_format = 'pdf'\n",
    "import freqopttest.util as util\n",
    "import freqopttest.data as data\n",
    "import freqopttest.ex.exglobal as exglo\n",
    "import freqopttest.kernel as kernel\n",
    "import freqopttest.tst as tst\n",
    "import freqopttest.glo as glo\n",
    "import freqopttest.plot as plot\n",
    "import matplotlib.pyplot as plt\n",
    "import numpy as np\n",
    "import scipy.stats as stats\n",
    "import sys"
   ]
  },
  {
   "cell_type": "code",
   "execution_count": null,
   "metadata": {
    "collapsed": true
   },
   "outputs": [],
   "source": [
    "# font options\n",
    "font = {\n",
    "    #'family' : 'normal',\n",
    "    #'weight' : 'bold',\n",
    "    'size'   : 18\n",
    "}\n",
    "\n",
    "plt.rc('font', **font)\n",
    "plt.rc('lines', linewidth=2)"
   ]
  },
  {
   "cell_type": "markdown",
   "metadata": {},
   "source": [
    "## lower bound on the power of ME test"
   ]
  },
  {
   "cell_type": "code",
   "execution_count": null,
   "metadata": {
    "collapsed": false
   },
   "outputs": [],
   "source": [
    "def me_pow_lb(lamb, thresh, B, ctilde, J, n, gamma):\n",
    "    \"\"\"\n",
    "    ctilde: bound on the Fro. norm of the inverse of the population covariance\n",
    "    gamma: regularization parameter\n",
    "    \"\"\"\n",
    "    c1 = 4*B**2*J*J**0.5*ctilde\n",
    "    c2 = 4*B*J**0.5*ctilde\n",
    "    c3 = 4*B**2*J*ctilde**2\n",
    "    assert(gamma > 0)\n",
    "    t1_arg = (lamb-thresh)**2.0/(72*B**2 * c2**2 * J * n)\n",
    "    t2_arg = (gamma*(lamb-thresh)*(n-1) - 24.0*B**2 * c1 * J * n)**2/(9.0*32*B**4 *c1**2 * J**2 *n*(2*n-1)**2)\n",
    "    t3_arg = ((lamb-thresh)/3 - c3*n*gamma)**2 * gamma**2/(32.0*B**4* J**2 * c1**2 *n)\n",
    "    L = 1.0-2*np.exp(-t1_arg) - 2*np.exp(-t2_arg) - 2*np.exp(-t3_arg)\n",
    "    return L\n",
    "\n",
    "J = 3\n",
    "n = 300\n",
    "alpha = 0.01\n",
    "thresh = stats.chi2.isf(alpha, df=J)\n",
    "B = 1.0\n",
    "A = np.random.randn(500, J)\n",
    "#ctilde = np.linalg.norm(np.linalg.inv(A.T.dot(A)), 'fro')\n",
    "ctilde = 1e-1\n",
    "gamma = 0.1\n",
    "lb_func = lambda lamb: me_pow_lb(lamb, thresh=thresh, B=B, ctilde=ctilde, J=J, n=n, gamma=gamma )"
   ]
  },
  {
   "cell_type": "code",
   "execution_count": null,
   "metadata": {
    "collapsed": false,
    "scrolled": false
   },
   "outputs": [],
   "source": [
    "# plot\n",
    "print('Rejection threshold: %.3f'%thresh)\n",
    "lambs = np.linspace(thresh, 100, 200)\n",
    "lbs = lb_func(lambs)\n",
    "plt.plot(lambs, lbs, label='Lower bound')\n",
    "plt.xlabel('$\\lambda_n$')\n",
    "plt.ylabel('lower bound')\n",
    "plt.legend(loc='best')"
   ]
  },
  {
   "cell_type": "code",
   "execution_count": null,
   "metadata": {
    "collapsed": true
   },
   "outputs": [],
   "source": []
  }
 ],
 "metadata": {
  "kernelspec": {
   "display_name": "Python 2",
   "language": "python",
   "name": "python2"
  },
  "language_info": {
   "codemirror_mode": {
    "name": "ipython",
    "version": 2
   },
   "file_extension": ".py",
   "mimetype": "text/x-python",
   "name": "python",
   "nbconvert_exporter": "python",
   "pygments_lexer": "ipython2",
   "version": "2.7.11"
  }
 },
 "nbformat": 4,
 "nbformat_minor": 0
}
