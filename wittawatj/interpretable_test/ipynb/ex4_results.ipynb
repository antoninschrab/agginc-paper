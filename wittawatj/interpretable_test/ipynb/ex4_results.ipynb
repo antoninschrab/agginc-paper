{
 "cells": [
  {
   "cell_type": "markdown",
   "metadata": {},
   "source": [
    "Process results of experiments on text data"
   ]
  },
  {
   "cell_type": "code",
   "execution_count": null,
   "metadata": {
    "collapsed": false,
    "scrolled": true
   },
   "outputs": [],
   "source": [
    "%load_ext autoreload\n",
    "%autoreload 2\n",
    "%matplotlib inline\n",
    "#%config InlineBackend.figure_format = 'svg'\n",
    "#%config InlineBackend.figure_format = 'pdf'\n",
    "import freqopttest.util as util\n",
    "import freqopttest.data as data\n",
    "import freqopttest.ex.exglobal as exglo\n",
    "from freqopttest.ex.ex4_text import load_nips_TSTData\n",
    "import freqopttest.kernel as kernel\n",
    "import freqopttest.tst as tst\n",
    "import freqopttest.glo as glo\n",
    "import freqopttest.plot as plot\n",
    "import matplotlib.pyplot as plt\n",
    "import numpy as np\n",
    "import scipy.stats as stats\n",
    "import sys"
   ]
  },
  {
   "cell_type": "code",
   "execution_count": null,
   "metadata": {
    "collapsed": false
   },
   "outputs": [],
   "source": [
    "result_fnames = [\n",
    "    'ex4-bayes_bayes_d2000_rnoun-me3_J1_rs1000_nma430_d2000_a0.010_trp0.50.p', #0\n",
    "    'ex4-bayes_deep_d2000_rnoun-me3_J1_rs1000_nma433_d2000_a0.010_trp0.50.p', #1\n",
    "    'ex4-bayes_learning_d2000_rnoun-me3_J1_rs1000_nma276_d2000_a0.010_trp0.50.p',#2\n",
    "    'ex4-bayes_neuro_d2000_rnoun-me3_J1_rs1000_nma788_d2000_a0.010_trp0.50.p', #3\n",
    "    'ex4-deep_learning_d2000_rnoun-me3_J1_rs1000_nma299_d2000_a0.010_trp0.50.p', #4\n",
    "    'ex4-neuro_learning_d2000_rnoun-me3_J1_rs1000_nma293_d2000_a0.010_trp0.50.p' #5\n",
    "]\n",
    "result_fnames = [\n",
    "    'ex4-bayes_bayes_d2000_rnoun-me3_J1_rs500_nma430_d2000_a0.010_trp0.50.p', #0\n",
    "    'ex4-bayes_deep_d2000_rnoun-me3_J1_rs500_nma433_d2000_a0.010_trp0.50.p', #1\n",
    "    'ex4-bayes_learning_d2000_rnoun-me3_J1_rs500_nma276_d2000_a0.010_trp0.50.p',#2\n",
    "    'ex4-bayes_neuro_d2000_rnoun-me3_J1_rs500_nma788_d2000_a0.010_trp0.50.p', #3\n",
    "    'ex4-deep_learning_d2000_rnoun-me3_J1_rs500_nma299_d2000_a0.010_trp0.50.p', #4\n",
    "    'ex4-neuro_learning_d2000_rnoun-me3_J1_rs500_nma293_d2000_a0.010_trp0.50.p' #5\n",
    "]\n",
    "result_fnames = [\n",
    "    'ex4-bayes_bayes_d2000_rnoun-me6_J1_rs500_nma430_d2000_a0.010_trp0.50.p', #0\n",
    "    'ex4-bayes_deep_d2000_rnoun-me6_J1_rs500_nma433_d2000_a0.010_trp0.50.p', #1\n",
    "    'ex4-bayes_learning_d2000_rnoun-me6_J1_rs500_nma276_d2000_a0.010_trp0.50.p',#2\n",
    "    'ex4-bayes_neuro_d2000_rnoun-me6_J1_rs500_nma788_d2000_a0.010_trp0.50.p', #3\n",
    "    'ex4-deep_learning_d2000_rnoun-me6_J1_rs500_nma299_d2000_a0.010_trp0.50.p', #4\n",
    "    'ex4-neuro_learning_d2000_rnoun-me6_J1_rs500_nma293_d2000_a0.010_trp0.50.p' #5\n",
    "]\n",
    "\"\"\"\n",
    "result_fnames = [\n",
    "    'ex4-bayes_bayes_d2000_rnoun-me6_J1_rs200_nma430_d2000_a0.010_trp0.50.p', #0\n",
    "    'ex4-bayes_deep_d2000_rnoun-me6_J1_rs200_nma433_d2000_a0.010_trp0.50.p', #1\n",
    "    'ex4-bayes_learning_d2000_rnoun-me6_J1_rs200_nma276_d2000_a0.010_trp0.50.p',#2\n",
    "    'ex4-bayes_neuro_d2000_rnoun-me6_J1_rs200_nma788_d2000_a0.010_trp0.50.p', #3\n",
    "    'ex4-deep_learning_d2000_rnoun-me6_J1_rs200_nma299_d2000_a0.010_trp0.50.p', #4\n",
    "    'ex4-neuro_learning_d2000_rnoun-me6_J1_rs200_nma293_d2000_a0.010_trp0.50.p' #5\n",
    "]\n",
    "\"\"\"\n",
    "fname_labels = [\n",
    "    'Bayes-Bayes',\n",
    "    'Bayes-Deep',\n",
    "    'Bayes-Learn',\n",
    "    'Bayes-Neuro',\n",
    "    'Learn-Deep',\n",
    "    'Learn-Neuro'\n",
    "]\n",
    "\n",
    "#result_fnames = ['ex4-bayes_bayes_d2000_rnoun-me4_J1_rs500_nma430_d2000_a0.010_trp0.50.p']\n",
    "fname = result_fnames[3]\n",
    "repeats = 500\n",
    "print('set #repeats to %d'%repeats)\n",
    "ex = 4\n",
    "results = glo.ex_load_result(ex, fname)\n"
   ]
  },
  {
   "cell_type": "code",
   "execution_count": null,
   "metadata": {
    "collapsed": false
   },
   "outputs": [],
   "source": [
    "data_fname = results['data_fname']\n",
    "#labels = ['ME-full', 'ME-opt-0.5', 'ME-full', 'ME-gw-opt', \n",
    "#        'ME-grid', 'SCF-full', 'SCF-full', 'SCF-gw-opt', 'SCF-grid',\n",
    "#        'MMD-lin', '$T^2$']\n",
    "\n",
    "method = 'ME-full'\n",
    "method_job_funcs = results['method_job_funcs']\n",
    "func_names = [f.__name__ for f in method_job_funcs]\n",
    "func2labels = exglo.get_func2label_map()\n",
    "method_labels = [func2labels[f] for f in func_names if f in func2labels]\n",
    "method_index = method_labels.index(method)\n",
    "\n",
    "results0 = results['results'] \n",
    "method_results = results0[:, method_index]\n",
    "\n",
    "alpha = 0.01\n",
    "reps = len(method_results)"
   ]
  },
  {
   "cell_type": "code",
   "execution_count": null,
   "metadata": {
    "collapsed": false
   },
   "outputs": [],
   "source": [
    "def methods_powers(R, reps=repeats):\n",
    "    \"\"\"Return the powers of all methods\"\"\"\n",
    "    n_methods = len(R['method_job_funcs'])\n",
    "    met_powers = np.zeros(n_methods)\n",
    "    results0 = R['results'] \n",
    "    for mi in range(n_methods):\n",
    "        method_results = results0[:, mi]\n",
    "        pvals = np.array([method_results[r]['test_result']['pvalue'] for r in range(reps)] )\n",
    "        met_powers[mi] = np.mean(pvals < alpha)\n",
    "    return met_powers\n",
    "\n",
    "def methods_runtimes(R, reps=repeats):\n",
    "    \"\"\"Return the runtimes of all methods\"\"\"\n",
    "    n_methods = len(R['method_job_funcs'])\n",
    "    times = np.zeros(n_methods)\n",
    "    results0 = R['results'] \n",
    "    for mi in range(n_methods):\n",
    "        method_results = results0[:, mi]\n",
    "        ts = np.array([method_results[r]['time_secs'] for r in range(reps)] )\n",
    "        times[mi] = np.mean(ts)\n",
    "    return times"
   ]
  },
  {
   "cell_type": "code",
   "execution_count": null,
   "metadata": {
    "collapsed": false,
    "scrolled": true
   },
   "outputs": [],
   "source": [
    "met_pows = methods_powers(results)\n",
    "met_times = methods_runtimes(results)\n",
    "print('fname: %s'%fname)\n",
    "print(method_labels)\n",
    "print('test powers: ')\n",
    "print(met_pows)\n",
    "print('runtimes: ')\n",
    "print(met_times)\n"
   ]
  },
  {
   "cell_type": "code",
   "execution_count": null,
   "metadata": {
    "collapsed": false
   },
   "outputs": [],
   "source": [
    "def table_powers(result_fnames, fname_labels, reps=repeats):\n",
    "    \"\"\"print a table showing test powers of all methods in all the result files.\"\"\"\n",
    "    met_pows = []\n",
    "    ntes = []\n",
    "    for fi, fname in enumerate(result_fnames):\n",
    "        results = glo.ex_load_result(ex, fname)\n",
    "        tr_proportion = results['tr_proportion']\n",
    "        te_proportion = 1-tr_proportion\n",
    "        data_fname = results['data_fname']\n",
    "        # load data to get the sample size\n",
    "        #tst_data, n = load_nips_TSTData(data_fname)\n",
    "        n = results['n']\n",
    "        nte = int(te_proportion*n)\n",
    "        ntes.append(nte)\n",
    "        met_pows.append(methods_powers(results, reps))\n",
    "        \n",
    "    method_labels = results['method_labels']\n",
    "    print(method_labels)\n",
    "    for fnlabel, mps, n in zip(fname_labels, met_pows, ntes):\n",
    "        mps_str = [('%.3f'%p).lstrip('0') for p in mps]\n",
    "        str_row = [fnlabel] + ['%d'%n] + mps_str\n",
    "        print(' & '.join(str_row))\n",
    "        print(' \\\\\\\\ \\n')\n",
    "\n",
    "#------------\n",
    "def table_runtimes(result_fnames, fname_labels, reps=repeats):    \n",
    "    \"\"\"print a table showing runtimes of all methods in all the result files.\"\"\"\n",
    "    met_pows = []\n",
    "    ntes = []\n",
    "    for fi, fname in enumerate(result_fnames):\n",
    "        results = glo.ex_load_result(ex, fname)\n",
    "        tr_proportion = results['tr_proportion']\n",
    "        te_proportion = 1-tr_proportion\n",
    "        data_fname = results['data_fname']\n",
    "        # load data to get the sample size\n",
    "        #tst_data, n = load_nips_TSTData(data_fname)\n",
    "        n = results['n']\n",
    "        nte = int(te_proportion*n)\n",
    "        ntes.append(nte)\n",
    "        met_pows.append(methods_runtimes(results, reps))\n",
    "        \n",
    "    method_labels = results['method_labels']\n",
    "    print(method_labels)\n",
    "    for fnlabel, mps, n in zip(fname_labels, met_pows, ntes):\n",
    "        # https://pyformat.info/\n",
    "        mps_str = [('{0:.4g}'.format(p)).lstrip('0') for p in mps]\n",
    "        str_row = [fnlabel] + ['%d'%n] + mps_str\n",
    "        print(' & '.join(str_row))\n",
    "        print(' \\\\\\\\ \\n')"
   ]
  },
  {
   "cell_type": "code",
   "execution_count": null,
   "metadata": {
    "collapsed": false,
    "scrolled": true
   },
   "outputs": [],
   "source": [
    "table_powers(result_fnames, fname_labels, repeats)"
   ]
  },
  {
   "cell_type": "code",
   "execution_count": null,
   "metadata": {
    "collapsed": false,
    "scrolled": false
   },
   "outputs": [],
   "source": [
    "table_runtimes(result_fnames, fname_labels, repeats)"
   ]
  },
  {
   "cell_type": "markdown",
   "metadata": {},
   "source": [
    "## Examine learned discriminative words"
   ]
  },
  {
   "cell_type": "code",
   "execution_count": null,
   "metadata": {
    "collapsed": false,
    "scrolled": true
   },
   "outputs": [],
   "source": [
    "# load terms \n",
    "data = glo.load_data_file(data_fname)\n",
    "terms = data['words']"
   ]
  },
  {
   "cell_type": "code",
   "execution_count": null,
   "metadata": {
    "collapsed": false
   },
   "outputs": [],
   "source": [
    "pvals = np.zeros(reps)\n",
    "test_methods = []\n",
    "locs = []\n",
    "test_stats = np.zeros(reps)\n",
    "for r in xrange(reps):\n",
    "    test = method_results[r]['test_method']\n",
    "    test_methods.append(test)\n",
    "    test_result = method_results[r]['test_result']\n",
    "    pvals[r] = test_result['pvalue']\n",
    "    test_stats[r] = test_result['test_stat']"
   ]
  },
  {
   "cell_type": "code",
   "execution_count": null,
   "metadata": {
    "collapsed": false
   },
   "outputs": [],
   "source": [
    "test_power = np.mean(pvals < alpha)\n",
    "plt.plot(pvals)\n",
    "plt.xlabel('trial')\n",
    "plt.ylabel('pvalue')\n",
    "plt.title('test power: %.3g'%(test_power))"
   ]
  },
  {
   "cell_type": "code",
   "execution_count": null,
   "metadata": {
    "collapsed": false
   },
   "outputs": [],
   "source": [
    "J = 1\n",
    "dom = np.linspace(stats.chi2.ppf(0.2, J), stats.chi2.ppf(0.99, J), 300)\n",
    "#weights = np.ones_like(test_stats)/len(test_stats)\n",
    "nonan = test_stats[np.logical_not(np.isnan(test_stats))]\n",
    "ns, bins, patches = plt.hist(nonan, bins=30, normed=True)\n",
    "plt.plot(dom, stats.chi2.pdf(dom, J), 'r-', linewidth=2, label='$\\chi^2(%d)$'%J)\n",
    "plt.xlabel('test stats')\n",
    "plt.ylabel('normalized frequencies')\n",
    "plt.legend()"
   ]
  },
  {
   "cell_type": "code",
   "execution_count": null,
   "metadata": {
    "collapsed": false,
    "scrolled": true
   },
   "outputs": [],
   "source": [
    "from __future__ import print_function\n",
    "# learned test locations from all trials. reps x d\n",
    "if method == 'ME-full':\n",
    "    k = 5\n",
    "    sort_sign = -1\n",
    "    locs = np.array( [test_methods[r].test_locs[0] for r in range(reps)] )\n",
    "    scores = np.array([ np.abs(row) for row in locs])\n",
    "    topk_ind = np.array([ np.argsort(sort_sign*s)[:k] for s in scores])\n",
    "    ind_count = np.bincount(topk_ind.flatten())\n",
    "    eff_wind = np.where(ind_count)[0]\n",
    "    eff_count = ind_count[eff_wind]\n",
    "\n",
    "    # sort by occurrence frequencies in descending order\n",
    "    sind = np.argsort(-eff_count)\n",
    "    seff_wind = eff_wind[sind]\n",
    "    seff_count = eff_count[sind]\n",
    "    plt.stem(seff_count)\n",
    "    for t in terms[seff_wind]:\n",
    "        #print('\"%s\", '%t, end='')\n",
    "        print('%s, '%t, end='')\n"
   ]
  },
  {
   "cell_type": "code",
   "execution_count": null,
   "metadata": {
    "collapsed": true
   },
   "outputs": [],
   "source": []
  }
 ],
 "metadata": {
  "kernelspec": {
   "display_name": "Python 2",
   "language": "python",
   "name": "python2"
  },
  "language_info": {
   "codemirror_mode": {
    "name": "ipython",
    "version": 2
   },
   "file_extension": ".py",
   "mimetype": "text/x-python",
   "name": "python",
   "nbconvert_exporter": "python",
   "pygments_lexer": "ipython2",
   "version": "2.7.13"
  }
 },
 "nbformat": 4,
 "nbformat_minor": 0
}
