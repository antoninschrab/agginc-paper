{
 "cells": [
  {
   "cell_type": "code",
   "execution_count": null,
   "metadata": {
    "collapsed": false
   },
   "outputs": [],
   "source": [
    "%load_ext autoreload\n",
    "%autoreload 2\n",
    "%matplotlib inline\n",
    "import numpy as np\n",
    "import matplotlib.pyplot as plt\n",
    "import freqopttest.util as util\n",
    "import scipy.stats as stats\n",
    "import sys"
   ]
  },
  {
   "cell_type": "markdown",
   "metadata": {},
   "source": [
    "## load data"
   ]
  },
  {
   "cell_type": "code",
   "execution_count": null,
   "metadata": {
    "collapsed": false
   },
   "outputs": [],
   "source": [
    "import freqopttest.data as data"
   ]
  },
  {
   "cell_type": "code",
   "execution_count": null,
   "metadata": {
    "collapsed": false,
    "scrolled": true
   },
   "outputs": [],
   "source": [
    "nx = 500\n",
    "seed = 22\n",
    "mean_shift = [0.0, 0]\n",
    "D = data.toy_2d_gauss_mean_diff(nx, mean_shift, seed=seed)\n",
    "#D = data.toy_2d_gauss_variance_diff(nx, 1.35, seed=seed)\n",
    "# split train/test data \n",
    "tr_data, te_data = D.split_tr_te(tr_proportion=0.5)\n",
    "#data.plot_2d_data(D)"
   ]
  },
  {
   "cell_type": "markdown",
   "metadata": {},
   "source": [
    "## optimize the test locations on the training set"
   ]
  },
  {
   "cell_type": "code",
   "execution_count": null,
   "metadata": {
    "collapsed": false,
    "scrolled": true
   },
   "outputs": [],
   "source": [
    "import freqopttest.tst as tst\n",
    "alpha = 0.01\n",
    "op = {'n_test_locs': 6, 'seed': seed+5, 'max_iter': 300, \n",
    "     'batch_proportion': 1.0, 'locs_step_size': 0.5, \n",
    "      'gwidth_step_size': 0.01, 'tol_fun': 1e-4}\n",
    "# optimize on the training set\n",
    "test_locs, gwidth, info = tst.MeanEmbeddingTest.optimize_locs_width(tr_data, alpha, **op)"
   ]
  },
  {
   "cell_type": "code",
   "execution_count": null,
   "metadata": {
    "collapsed": false,
    "scrolled": false
   },
   "outputs": [],
   "source": [
    "\n",
    "fig, axs = plt.subplots(1, 2, figsize=(10, 4))\n",
    "xtr, ytr = tr_data.xy()\n",
    "#data.plot_2d_data(tr_data)\n",
    "T0 = info['test_locs0']\n",
    "# plot training data\n",
    "axs[0].plot(xtr[:, 0], xtr[:, 1], 'xr', label='X tr')\n",
    "axs[0].plot(ytr[:, 0], ytr[:, 1], 'xb', label='Y tr')\n",
    "axs[0].plot(T0[:, 0], T0[:, 1], 'vy', markersize=10, label='T0')\n",
    "axs[0].plot(test_locs[:, 0], test_locs[:, 1], '*k', markersize=10, label='test locs')\n",
    "axs[0].legend(loc='best')\n",
    "axs[0].set_title('Training set')\n",
    "\n",
    "xte, yte = te_data.xy()\n",
    "# plot test data\n",
    "axs[1].plot(xte[:, 0], xte[:, 1], 'xr', label='X te')\n",
    "axs[1].plot(yte[:, 0], yte[:, 1], 'xb', label='Y te')\n",
    "axs[1].plot(T0[:, 0], T0[:, 1], 'vy', markersize=10, label='T0')\n",
    "axs[1].plot(test_locs[:, 0], test_locs[:, 1], '*k', markersize=10, label='test locs')\n",
    "axs[1].legend(loc='best')\n",
    "axs[1].set_title('Test set')\n"
   ]
  },
  {
   "cell_type": "code",
   "execution_count": null,
   "metadata": {
    "collapsed": false,
    "scrolled": false
   },
   "outputs": [],
   "source": [
    "# trajectories of the Gaussian width\n",
    "gwidths = info['gwidths']\n",
    "fig, axs = plt.subplots(2, 2, figsize=(10, 9))\n",
    "axs[0, 0].plot(gwidths)\n",
    "axs[0, 0].set_xlabel('iteration')\n",
    "axs[0, 0].set_ylabel('Gaussian width')\n",
    "axs[0, 0].set_title('Gaussian width evolution')\n",
    "\n",
    "# evolution of objective values\n",
    "objs = info['obj_values']\n",
    "axs[0, 1].plot(objs)\n",
    "axs[0, 1].set_title('Objective $\\lambda(T)$')\n",
    "\n",
    "# trajectories of the test locations\n",
    "# iters x J. X Coordinates of all test locations\n",
    "locs = info['test_locs']\n",
    "for coord in [0, 1]:\n",
    "    locs_d0 = locs[:, :, coord]\n",
    "    J = locs_d0.shape[1]\n",
    "    axs[1, coord].plot(locs_d0)\n",
    "    axs[1, coord].set_xlabel('iteration')\n",
    "    axs[1, coord].set_ylabel('index %d of test_locs'%(coord))\n",
    "    axs[1, coord].set_title('evolution of %d test locations'%J)\n",
    "\n",
    "X, Y = D.xy()\n",
    "xy = np.vstack((X, Y))\n",
    "print('optimized width: %.3f'%gwidth)"
   ]
  },
  {
   "cell_type": "markdown",
   "metadata": {},
   "source": [
    "## ME: Optimize just the Gaussian width"
   ]
  },
  {
   "cell_type": "code",
   "execution_count": null,
   "metadata": {
    "collapsed": false
   },
   "outputs": [],
   "source": [
    "op_gwidth = {'max_iter': 200,'gwidth_step_size': 0.1,  \n",
    "             'batch_proportion': 1.0, 'tol_fun': 1e-4}\n",
    "# optimize on the training set\n",
    "T0_randn = tst.MeanEmbeddingTest.init_locs_randn(tr_data, J, seed=seed)\n",
    "med = util.meddistance(tr_data.stack_xy())\n",
    "gwidth, info = tst.MeanEmbeddingTest.optimize_gwidth(tr_data, T0_randn, med**2, **op_gwidth)"
   ]
  },
  {
   "cell_type": "code",
   "execution_count": null,
   "metadata": {
    "collapsed": false
   },
   "outputs": [],
   "source": [
    "# trajectories of the Gaussian width\n",
    "gwidths = info['gwidths']\n",
    "fig, axs = plt.subplots(1, 2, figsize=(10, 4))\n",
    "axs[0].plot(gwidths)\n",
    "axs[0].set_xlabel('iteration')\n",
    "axs[0].set_ylabel('Gaussian width')\n",
    "axs[0].set_title('Gaussian width evolution')\n",
    "\n",
    "# evolution of objective values\n",
    "objs = info['obj_values']\n",
    "axs[1].plot(objs)\n",
    "axs[1].set_title('Objective $\\lambda(T)$')\n"
   ]
  },
  {
   "cell_type": "code",
   "execution_count": null,
   "metadata": {
    "collapsed": true
   },
   "outputs": [],
   "source": []
  },
  {
   "cell_type": "code",
   "execution_count": null,
   "metadata": {
    "collapsed": true
   },
   "outputs": [],
   "source": []
  }
 ],
 "metadata": {
  "kernelspec": {
   "display_name": "Python 2",
   "language": "python",
   "name": "python2"
  },
  "language_info": {
   "codemirror_mode": {
    "name": "ipython",
    "version": 2
   },
   "file_extension": ".py",
   "mimetype": "text/x-python",
   "name": "python",
   "nbconvert_exporter": "python",
   "pygments_lexer": "ipython2",
   "version": "2.7.11"
  }
 },
 "nbformat": 4,
 "nbformat_minor": 0
}
