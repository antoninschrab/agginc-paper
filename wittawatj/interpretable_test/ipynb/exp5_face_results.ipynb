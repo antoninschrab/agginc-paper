{
 "cells": [
  {
   "cell_type": "code",
   "execution_count": null,
   "metadata": {
    "collapsed": false
   },
   "outputs": [],
   "source": [
    "%load_ext autoreload\n",
    "%autoreload 2\n",
    "%matplotlib inline\n",
    "#%config InlineBackend.figure_format = 'svg'\n",
    "#%config InlineBackend.figure_format = 'pdf'\n",
    "import freqopttest.util as util\n",
    "import freqopttest.data as data\n",
    "import freqopttest.ex.exglobal as exglo\n",
    "from freqopttest.ex.ex4_text import load_nips_TSTData\n",
    "import freqopttest.kernel as kernel\n",
    "import freqopttest.tst as tst\n",
    "import freqopttest.glo as glo\n",
    "import freqopttest.plot as plot\n",
    "import matplotlib.pyplot as plt\n",
    "import numpy as np\n",
    "import scipy.stats as stats\n",
    "import sys"
   ]
  },
  {
   "cell_type": "code",
   "execution_count": null,
   "metadata": {
    "collapsed": false
   },
   "outputs": [],
   "source": [
    "#fname = 'ex5-S48_HANESU_AFANDI-me3_J2_rs300_nma419_d1680_a0.010_trp0.50.p'\n",
    "\n",
    "#fname = 'ex5-crop48_HANESU_AFANDI-me6_J1_rs500_nma402_d1632_a0.010_trp0.50.p'\n",
    "#fname = 'ex5-crop48_h0-me6_J1_rs500_nma402_d1632_a0.010_trp0.50.p'\n",
    "#fname = 'ex5-crop48_h0-me6_J1_rs200_nma402_d1632_a0.010_trp0.50.p'\n",
    "fname = 'ex5-crop48_HANESU_AFANDI-me6_J1_rs200_nma402_d1632_a0.010_trp0.50.p'\n",
    "\n",
    "ex = 5\n",
    "results = glo.ex_load_result(ex, fname)"
   ]
  },
  {
   "cell_type": "code",
   "execution_count": null,
   "metadata": {
    "collapsed": false
   },
   "outputs": [],
   "source": [
    "data_fname = results['data_fname']\n",
    "#labels = ['ME-full', 'ME-opt-0.5', 'ME-full', 'ME-gw-opt', \n",
    "#        'ME-grid', 'SCF-full', 'SCF-full', 'SCF-gw-opt', 'SCF-grid',\n",
    "#        'MMD-lin', '$T^2$']\n",
    "\n",
    "method = 'ME-full'\n",
    "method_job_funcs = results['method_job_funcs']\n",
    "func_names = [f.__name__ for f in method_job_funcs]\n",
    "func2labels = exglo.get_func2label_map()\n",
    "method_labels = [func2labels[f] for f in func_names if f in func2labels]\n",
    "\n",
    "method_index = method_labels.index(method)\n",
    "\n",
    "results0 = results['results'] \n",
    "method_results = results0[:, method_index]\n",
    "\n",
    "alpha = 0.01\n",
    "reps = len(method_results)"
   ]
  },
  {
   "cell_type": "code",
   "execution_count": null,
   "metadata": {
    "collapsed": false
   },
   "outputs": [],
   "source": [
    "def methods_powers(R, reps):\n",
    "    \"\"\"Return the powers of all methods\"\"\"\n",
    "    #n_methods = len(R['method_labels'])\n",
    "    n_methods = len(R['method_job_funcs'])\n",
    "    met_powers = np.zeros(n_methods)\n",
    "    results0 = R['results'] \n",
    "    for mi in range(n_methods):\n",
    "        method_results = results0[:, mi]\n",
    "        pvals = np.array([method_results[r]['test_result']['pvalue'] for r in range(reps)] )\n",
    "        met_powers[mi] = np.mean(pvals < alpha)\n",
    "    return met_powers\n",
    "\n",
    "def methods_runtimes(R, reps):\n",
    "    \"\"\"Return the runtimes of all methods\"\"\"\n",
    "    n_methods = len(R['method_job_funcs'])\n",
    "    times = np.zeros(n_methods)\n",
    "    results0 = R['results'] \n",
    "    for mi in range(n_methods):\n",
    "        method_results = results0[:, mi]\n",
    "        ts = np.array([method_results[r]['time_secs'] for r in range(reps)] )\n",
    "        times[mi] = np.mean(ts)\n",
    "    return times"
   ]
  },
  {
   "cell_type": "code",
   "execution_count": null,
   "metadata": {
    "collapsed": false,
    "scrolled": false
   },
   "outputs": [],
   "source": [
    "met_pows = methods_powers(results, reps)\n",
    "met_times = methods_runtimes(results, reps)\n",
    "print('fname: %s'%fname)\n",
    "print(method_labels)\n",
    "print('test powers: ')\n",
    "print(met_pows)\n",
    "print('runtimes: ')\n",
    "print(met_times)\n"
   ]
  },
  {
   "cell_type": "code",
   "execution_count": null,
   "metadata": {
    "collapsed": false
   },
   "outputs": [],
   "source": [
    "img_height = 48\n",
    "\n",
    "# Get all learned test locations\n",
    "def collect_test_locations(method_results, loc_ind):\n",
    "    return np.array([method_results[r]['test_method'].test_locs[loc_ind] for r in range(reps) ])\n",
    "\n",
    "def show_loc_img(loc, vmin=0, vmax=1):\n",
    "    loc_img = np.reshape(loc, (img_height, -1))\n",
    "    # cmap reference: http://matplotlib.org/examples/color/colormaps_reference.html\n",
    "    return plt.imshow(loc_img, \n",
    "                      #cmap='seismic',\n",
    "                      #cmap='gray',\n",
    "                      #cmap='Greys',\n",
    "                      cmap='afmhot',\n",
    "                     vmin=vmin, vmax=vmax, \n",
    "                      #interpolation='mitchell')\n",
    "                      interpolation='None')\n",
    "    \n",
    "locs0 = collect_test_locations(method_results, 0)\n",
    "mean_loc0 = np.mean(np.abs(locs0), 0)\n"
   ]
  },
  {
   "cell_type": "code",
   "execution_count": null,
   "metadata": {
    "collapsed": false,
    "scrolled": true
   },
   "outputs": [],
   "source": [
    "plt.figure(figsize=(12, 5))\n",
    "plt.subplot(1, 2, 1)\n",
    "#show_loc_img(mean_loc0, vmin=np.min(mean_loc0), vmax=np.max(mean_loc0))\n",
    "show_loc_img( np.abs(mean_loc0), vmin=0.25, vmax=np.max(mean_loc0))\n",
    "#plt.colorbar()\n",
    "plt.gca().get_xaxis().set_visible(False)\n",
    "plt.gca().get_yaxis().set_visible(False)\n",
    "plt.gca().set_frame_on(False)\n",
    "\n",
    "plt.savefig('learned_face.pdf', bbox_inches='tight')"
   ]
  },
  {
   "cell_type": "code",
   "execution_count": null,
   "metadata": {
    "collapsed": false
   },
   "outputs": [],
   "source": [
    "\"\"\"\n",
    "locs1 = collect_test_locations(method_results, 1)\n",
    "mean_loc1 = np.mean(locs1, 0)\n",
    "\n",
    "plt.subplot(1, 2, 2)\n",
    "show_loc_img(mean_loc1, vmin=0, vmax=0.6)\n",
    "plt.colorbar()\n",
    "\"\"\""
   ]
  },
  {
   "cell_type": "code",
   "execution_count": null,
   "metadata": {
    "collapsed": false
   },
   "outputs": [],
   "source": [
    "plt.figure(figsize=(12, 10))\n",
    "n_imgs = 15\n",
    "n_cols = 5\n",
    "for i in range(n_imgs): \n",
    "    plt.subplot(n_imgs/n_cols, n_cols, i+1)\n",
    "    imgplot = show_loc_img(np.abs(locs0[i]), vmin=0, vmax=1)\n",
    "plt.colorbar()\n"
   ]
  },
  {
   "cell_type": "markdown",
   "metadata": {},
   "source": [
    "## Data analysis"
   ]
  },
  {
   "cell_type": "code",
   "execution_count": null,
   "metadata": {
    "collapsed": false
   },
   "outputs": [],
   "source": [
    "loaded = glo.load_data_file(results['data_fname'])\n",
    "if isinstance(loaded, np.ndarray):\n",
    "    ss = data.SSNullResample(loaded)\n",
    "    tst_data = ss.sample(loaded.shape[0]/2, seed=29)\n",
    "    X, Y = tst_data.xy()\n",
    "elif isinstance(loaded, tst.TSTData):\n",
    "    X, Y  = loaded.xy()\n",
    "    "
   ]
  },
  {
   "cell_type": "code",
   "execution_count": null,
   "metadata": {
    "collapsed": false
   },
   "outputs": [],
   "source": [
    "# plot samples of the data\n",
    "inds = np.array([0, 1, 3])\n",
    "plt.figure(figsize=(12, 10))\n",
    "n_imgs = 6\n",
    "n_cols = 3\n",
    "for i in range(n_imgs): \n",
    "    plt.subplot(n_imgs/n_cols, n_cols, i+1)\n",
    "    show_loc_img(X[i], vmin=0, vmax=np.max(X[i]))\n",
    "    plt.gca().get_xaxis().set_visible(False)\n",
    "    plt.gca().get_yaxis().set_visible(False)\n",
    "    plt.gca().set_frame_on(False)\n",
    "\n"
   ]
  },
  {
   "cell_type": "code",
   "execution_count": null,
   "metadata": {
    "collapsed": false
   },
   "outputs": [],
   "source": [
    "mean_x = np.mean(X, 0)\n",
    "mean_y = np.mean(Y, 0)\n",
    "\n",
    "plt.figure(figsize=(8, 4))\n",
    "plt.subplot(1, 2, 1)\n",
    "show_loc_img(mean_x, vmax=0.5)\n",
    "plt.title('positive emotion')\n",
    "\n",
    "plt.subplot(1, 2, 2)\n",
    "show_loc_img(mean_y, vmax=0.5)\n",
    "plt.title('negative emotion')"
   ]
  },
  {
   "cell_type": "code",
   "execution_count": null,
   "metadata": {
    "collapsed": false,
    "scrolled": true
   },
   "outputs": [],
   "source": [
    "# classify each location according to the distance to X (0) or Y (1)\n",
    "centroids = np.vstack((mean_x, mean_y))\n",
    "#def nearest_centroid(centroids, locs):\n",
    "D = util.dist_matrix(locs0, centroids)\n",
    "\n"
   ]
  },
  {
   "cell_type": "code",
   "execution_count": null,
   "metadata": {
    "collapsed": false
   },
   "outputs": [],
   "source": [
    "show_loc_img(mean_x - mean_y, vmin=0, vmax=0.1)"
   ]
  },
  {
   "cell_type": "code",
   "execution_count": null,
   "metadata": {
    "collapsed": true
   },
   "outputs": [],
   "source": []
  }
 ],
 "metadata": {
  "kernelspec": {
   "display_name": "Python [Root]",
   "language": "python",
   "name": "Python [Root]"
  },
  "language_info": {
   "codemirror_mode": {
    "name": "ipython",
    "version": 2
   },
   "file_extension": ".py",
   "mimetype": "text/x-python",
   "name": "python",
   "nbconvert_exporter": "python",
   "pygments_lexer": "ipython2",
   "version": "2.7.12"
  }
 },
 "nbformat": 4,
 "nbformat_minor": 0
}
