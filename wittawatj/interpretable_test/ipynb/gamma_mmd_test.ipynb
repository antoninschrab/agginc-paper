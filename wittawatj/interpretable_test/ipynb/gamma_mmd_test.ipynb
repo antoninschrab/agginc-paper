{
 "cells": [
  {
   "cell_type": "code",
   "execution_count": null,
   "metadata": {
    "collapsed": false
   },
   "outputs": [],
   "source": [
    "%load_ext autoreload\n",
    "%autoreload 2\n",
    "%matplotlib inline\n",
    "import numpy as np\n",
    "import matplotlib.pyplot as plt\n",
    "import freqopttest.util as util\n",
    "import freqopttest.data as data\n",
    "import freqopttest.kernel as kernel\n",
    "import freqopttest.tst as tst\n",
    "import freqopttest.glo as glo\n",
    "import sys"
   ]
  },
  {
   "cell_type": "code",
   "execution_count": null,
   "metadata": {
    "collapsed": false
   },
   "outputs": [],
   "source": [
    "# sample source \n",
    "m = 500\n",
    "dim = 2\n",
    "n = m\n",
    "ss = data.SSGaussMeanDiff(dim, my=3.5)\n",
    "tst_data = ss.sample(m, seed=2)\n",
    "tr, te = tst_data.split_tr_te(tr_proportion=0.5, seed=10)"
   ]
  },
  {
   "cell_type": "code",
   "execution_count": null,
   "metadata": {
    "collapsed": false
   },
   "outputs": [],
   "source": [
    "# Gamma MMD test \n",
    "alpha = 0.01\n",
    "sig2 = util.meddistance(te.stack_xy())\n",
    "ker = kernel.KGauss(sig2)\n",
    "gam_test = tst.GammaMMDKGaussTest(sig2, alpha=alpha)"
   ]
  },
  {
   "cell_type": "code",
   "execution_count": null,
   "metadata": {
    "collapsed": false
   },
   "outputs": [],
   "source": [
    "gam_test.perform_test(te)"
   ]
  },
  {
   "cell_type": "markdown",
   "metadata": {},
   "source": [
    "## grid search for the best Gaussian width"
   ]
  },
  {
   "cell_type": "code",
   "execution_count": null,
   "metadata": {
    "collapsed": false
   },
   "outputs": [],
   "source": [
    "#med = util.meddistance(tr.stack_xy())\n",
    "#list_gwidth2 = (med*(2.0**np.linspace(-5, 5, 11)))**2\n",
    "#tst.GammaMMDKGaussTest.grid_search_gwidth2(tr, list_gwidth2, alpha)"
   ]
  },
  {
   "cell_type": "code",
   "execution_count": null,
   "metadata": {
    "collapsed": true
   },
   "outputs": [],
   "source": []
  }
 ],
 "metadata": {
  "kernelspec": {
   "display_name": "Python 2",
   "language": "python",
   "name": "python2"
  },
  "language_info": {
   "codemirror_mode": {
    "name": "ipython",
    "version": 2
   },
   "file_extension": ".py",
   "mimetype": "text/x-python",
   "name": "python",
   "nbconvert_exporter": "python",
   "pygments_lexer": "ipython2",
   "version": "2.7.10"
  }
 },
 "nbformat": 4,
 "nbformat_minor": 0
}
