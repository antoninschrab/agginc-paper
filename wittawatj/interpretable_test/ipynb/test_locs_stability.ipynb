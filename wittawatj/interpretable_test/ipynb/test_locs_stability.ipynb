{
 "cells": [
  {
   "cell_type": "markdown",
   "metadata": {
    "collapsed": true
   },
   "source": [
    "This notebook investigates the stability of the learned test location. We consider the case where P is a Gaussian mixture with two components, one of which has very small mixing proporiton, and the second component has a much larger weight. Here Q is a standard Gaussian whose mass strongly overlaps with the second component of P. \n",
    "\n",
    "The idea is that if the sample size n is low, we will have very few to no points from the first component of P, and the learned location will be at the second component. If n is high, the learned location will be at the first component since the difference is larger."
   ]
  },
  {
   "cell_type": "code",
   "execution_count": null,
   "metadata": {
    "collapsed": false
   },
   "outputs": [],
   "source": [
    "%load_ext autoreload\n",
    "%autoreload 2\n",
    "%matplotlib inline\n",
    "#%config InlineBackend.figure_format = 'svg'\n",
    "#%config InlineBackend.figure_format = 'pdf'\n",
    "import freqopttest.util as util\n",
    "import freqopttest.data as data\n",
    "import freqopttest.ex.exglobal as exglo\n",
    "import freqopttest.kernel as kernel\n",
    "import freqopttest.tst as tst\n",
    "import freqopttest.glo as glo\n",
    "import freqopttest.plot as plot\n",
    "import matplotlib.pyplot as plt\n",
    "import numpy as np\n",
    "import scipy.stats as stats\n",
    "import sys"
   ]
  },
  {
   "cell_type": "code",
   "execution_count": null,
   "metadata": {
    "collapsed": false
   },
   "outputs": [],
   "source": [
    "# font options\n",
    "font = {\n",
    "    #'family' : 'normal',\n",
    "    #'weight' : 'bold',\n",
    "    'size'   : 18\n",
    "}\n",
    "\n",
    "plt.rc('font', **font)\n",
    "plt.rc('lines', linewidth=2)"
   ]
  },
  {
   "cell_type": "code",
   "execution_count": null,
   "metadata": {
    "collapsed": false
   },
   "outputs": [],
   "source": [
    "class SS2GMM(data.SampleSource):\n",
    "    \"\"\"\n",
    "    P: N(0, I)\n",
    "    Q: w*N(qmean, 0.5*I) + (1-w)*N(0, I)\n",
    "    \"\"\"\n",
    "    def __init__(self, d, w, qmean):\n",
    "        \"\"\"\n",
    "        d: dimension of the data \n",
    "        qmean: d-dimensional vector\n",
    "        \"\"\"\n",
    "        if not (w>=0 and w<=1):\n",
    "            raise RuntimeError('w must be in [0, 1]')\n",
    "        self.d = d        \n",
    "        self.w = w\n",
    "        self.qmean = qmean\n",
    "\n",
    "    def dim(self):\n",
    "        return self.d\n",
    "\n",
    "    def sample(self, n, seed):\n",
    "        rstate = np.random.get_state()\n",
    "        np.random.seed(seed)\n",
    "        \n",
    "        w = self.w\n",
    "        d = self.d\n",
    "        qmean = self.qmean\n",
    "        disc_var = stats.rv_discrete(values=([0, 1], [w, 1-w]) )\n",
    "        ind = disc_var.rvs(size=n)\n",
    "        \n",
    "        #y = np.zeros((n, d))\n",
    "        ind0 = ind==0\n",
    "        #print ind0\n",
    "        ind1 = ind==1\n",
    "        # draw from Q\n",
    "        y1 = stats.multivariate_normal.rvs(mean=qmean, cov=0.5*np.eye(d), size=np.sum(ind0))\n",
    "        y2 = stats.multivariate_normal.rvs(mean=np.zeros(d), cov=np.eye(d), size=np.sum(ind1))\n",
    "        if d == 1:\n",
    "            y = np.hstack((y1, y2))\n",
    "            y = y[:, np.newaxis]\n",
    "        else:\n",
    "            y = np.vstack((y1, y2))\n",
    "                \n",
    "        \"\"\"\n",
    "        if np.isscalar(y1):\n",
    "            y1 = np.array([y1])\n",
    "        if np.isscalar(y2):\n",
    "            y2 = np.array([y2])\n",
    "        if d==1:            \n",
    "            if np.any(ind0):\n",
    "                y1 = y1[:, np.newaxis]\n",
    "            if np.any(ind1):\n",
    "                y2 = y2[:, np.newaxis]\n",
    "        y[ind0, :] = y1\n",
    "        y[ind1, :] = y2\n",
    "        \"\"\"\n",
    "        \n",
    "        # draw from P\n",
    "        x = stats.multivariate_normal.rvs(mean=np.zeros(d), cov=np.eye(d), size=n)\n",
    "        if d==1:\n",
    "            x = x[:, np.newaxis]\n",
    "        np.random.set_state(rstate)\n",
    "        return data.TSTData(x, y, label='2gmm_d%d'%self.d)\n"
   ]
  },
  {
   "cell_type": "code",
   "execution_count": null,
   "metadata": {
    "collapsed": false
   },
   "outputs": [],
   "source": [
    "# sample source \n",
    "n = 2000\n",
    "alpha = 0.01\n",
    "d = 1\n",
    "w = 0.2\n",
    "seed = 39\n",
    "rep = 1\n",
    "qmean = np.hstack((-5, np.zeros(d-1)))\n",
    "ss = SS2GMM(d, w, qmean)"
   ]
  },
  {
   "cell_type": "code",
   "execution_count": null,
   "metadata": {
    "collapsed": false
   },
   "outputs": [],
   "source": [
    "tst_data = ss.sample(n, seed=seed)\n",
    "tr = ss.sample(n/2, seed=seed)\n",
    "te = ss.sample(n/2, seed=seed+1)\n",
    "#tr, te = tst_data.split_tr_te(tr_proportion=0.5, seed=10)\n",
    "nte = te.X.shape[0]"
   ]
  },
  {
   "cell_type": "code",
   "execution_count": null,
   "metadata": {
    "collapsed": false
   },
   "outputs": [],
   "source": [
    "xtr, ytr = tr.xy()\n",
    "xytr = tr.stack_xy()\n",
    "bins = np.linspace(np.min(xytr), np.max(xytr), 30)\n",
    "plt.hist(xtr, bins, label='X', normed=True, alpha=0.5)\n",
    "plt.hist(ytr, bins, label='Y', normed=True, alpha=0.5)\n",
    "plt.legend(loc='best')"
   ]
  },
  {
   "cell_type": "code",
   "execution_count": null,
   "metadata": {
    "collapsed": false,
    "scrolled": true
   },
   "outputs": [],
   "source": [
    "# repeat many trials to see the value of the optimized location\n",
    "locs = np.zeros(rep)\n",
    "rejs = np.zeros(rep)\n",
    "for r in range(rep):    \n",
    "    #tst_data = ss.sample(n, seed=r)\n",
    "    #tr, te = tst_data.split_tr_te(tr_proportion=0.5, seed=10)\n",
    "    tr = ss.sample(n/2, seed=r)\n",
    "    te = ss.sample(n/2, seed=r+1)\n",
    "    # optimize the test locations and Gaussian width\n",
    "    op = {'max_iter': 200, 'batch_proportion': 1.0, 'T_step_size': 2.0, \n",
    "          'gwidth_step_size': 0.5, 'tol_fun': 1e-3}\n",
    "    # optimize on the training set\n",
    "    #T0 = np.zeros(d)[np.newaxis, :]\n",
    "    T0 = np.hstack((qmean[0]/2.0, np.zeros(d-1)))[np.newaxis, :]\n",
    "    #T0 = np.hstack((qmean[0], np.zeros(d-1)))[np.newaxis, :]\n",
    "\n",
    "    gwidth0 = util.meddistance(tr.stack_xy())**2\n",
    "    test_locs, gwidth, info = tst.optimize_T_gaussian_width(\n",
    "        tr, T0, gwidth0, tst.MeanEmbeddingTest.construct_z_theano, **op)\n",
    "    print r\n",
    "    locs[r] = test_locs[0, 0]\n",
    "    \n",
    "    # actual test \n",
    "    met = tst.MeanEmbeddingTest(test_locs, gwidth, alpha)\n",
    "    result = met.perform_test(te)\n",
    "    rejs[r] = result['h0_rejected']"
   ]
  },
  {
   "cell_type": "code",
   "execution_count": null,
   "metadata": {
    "collapsed": false,
    "scrolled": true
   },
   "outputs": [],
   "source": [
    "plt.plot(locs, rejs, 'o')"
   ]
  },
  {
   "cell_type": "code",
   "execution_count": null,
   "metadata": {
    "collapsed": false
   },
   "outputs": [],
   "source": [
    "thresh = qmean[0]/2\n",
    "print '#times loc < thresh = %.3f: %d/%d'%(thresh, np.sum(locs<qmean[0]/2), rep )\n",
    "print 'overall power: %.3f'%np.mean(rejs)\n",
    "n_left = np.sum(locs<thresh)\n",
    "n_right = np.sum(locs>thresh)\n",
    "left_rej = np.sum(rejs[locs<thresh])\n",
    "right_rej = np.sum(rejs[locs>thresh])\n",
    "print '#rejs with loc < thresh: %d/%d. power: %.3f'%(left_rej, n_left, left_rej/n_left)\n",
    "print '#rejs with loc > thresh: %d/%d. power: %.3f'%(right_rej, n_right, right_rej/n_right)\n",
    "\n"
   ]
  },
  {
   "cell_type": "code",
   "execution_count": null,
   "metadata": {
    "collapsed": false
   },
   "outputs": [],
   "source": [
    "# optimize the test locations and Gaussian width\n",
    "op = {'max_iter': 400, 'batch_proportion': 1.0, 'T_step_size': 4.0, \n",
    "      'gwidth_step_size': 0.5, 'tol_fun': 1e-4}\n",
    "# optimize on the training set\n",
    "#T0 = np.zeros(d)[np.newaxis, :]\n",
    "T0 = np.hstack((qmean[0]/2.0, np.zeros(d-1)))[np.newaxis, :]\n",
    "#T0 = np.hstack((qmean[0], np.zeros(d-1)))[np.newaxis, :]\n",
    "\n",
    "gwidth0 = util.meddistance(tr.stack_xy())**2\n",
    "test_locs, gwidth, info = tst.optimize_T_gaussian_width(\n",
    "    tr, T0, gwidth0, tst.MeanEmbeddingTest.construct_z_theano, **op)\n",
    "#test_locs, gwidth, info = tst.MeanEmbeddingTest.optimize_locs_width(tr, alpha, **op)"
   ]
  },
  {
   "cell_type": "code",
   "execution_count": null,
   "metadata": {
    "collapsed": false
   },
   "outputs": [],
   "source": [
    "test_locs"
   ]
  },
  {
   "cell_type": "code",
   "execution_count": null,
   "metadata": {
    "collapsed": false
   },
   "outputs": [],
   "source": [
    "me = tst.MeanEmbeddingTest(test_locs, gwidth, alpha)\n",
    "me.perform_test(te)"
   ]
  },
  {
   "cell_type": "code",
   "execution_count": null,
   "metadata": {
    "collapsed": false
   },
   "outputs": [],
   "source": [
    "# plot testing data\n",
    "xte, yte = te.xy()\n",
    "if d>1:\n",
    "    plt.plot(xte[:, 0], xte[:, 1], 'ob')\n",
    "    plt.plot(yte[:, 0], yte[:, 1], 'or')\n",
    "else:\n",
    "    plt.plot(xte[:, 0], np.zeros(nte), 'ob', label='X')\n",
    "    plt.plot(yte[:, 0], np.zeros(nte), 'or', label='Y')\n",
    "    plt.legend()\n"
   ]
  },
  {
   "cell_type": "markdown",
   "metadata": {},
   "source": [
    "## Checking the criterion"
   ]
  },
  {
   "cell_type": "markdown",
   "metadata": {},
   "source": [
    "Here we fix the test location to either on the left or the right bump and compare the objective function value."
   ]
  },
  {
   "cell_type": "code",
   "execution_count": null,
   "metadata": {
    "collapsed": true
   },
   "outputs": [],
   "source": [
    "# sample source \n",
    "nte = 300\n",
    "alpha = 0.01\n",
    "d = 1\n",
    "w = 0.01\n",
    "seed = 39\n",
    "rep = 200\n",
    "qmean = np.hstack((-5, np.zeros(d-1)))\n",
    "ss = SS2GMM(d, w, qmean)\n"
   ]
  },
  {
   "cell_type": "code",
   "execution_count": null,
   "metadata": {
    "collapsed": false,
    "scrolled": false
   },
   "outputs": [],
   "source": [
    "# repeat many trials to see the value of the optimized location\n",
    "def two_locations_test_results(nte):\n",
    "    Tp_results = []\n",
    "    Tq_results = []\n",
    "    shift_seed = 800\n",
    "    for r in range(shift_seed, shift_seed+rep):    \n",
    "        #tst_data = ss.sample(n, seed=r)\n",
    "        #tr, te = tst_data.split_tr_te(tr_proportion=0.5, seed=10)\n",
    "        te = ss.sample(nte, seed=r+1)\n",
    "\n",
    "        Tq = np.hstack((qmean[0], np.zeros(d-1)))[np.newaxis, :]\n",
    "        Tp = np.hstack((0, np.zeros(d-1)))[np.newaxis, :]\n",
    "\n",
    "        gwidth0 = util.meddistance(tr.stack_xy(), subsample=1000)**2\n",
    "\n",
    "        # actual test \n",
    "        q_met = tst.MeanEmbeddingTest(Tq, gwidth, alpha)\n",
    "        Tq_results.append(q_met.perform_test(te))\n",
    "        p_met = tst.MeanEmbeddingTest(Tp, gwidth, alpha)\n",
    "        Tp_results.append(p_met.perform_test(te))\n",
    "    return Tp_results, Tq_results\n",
    "\n",
    "def prob_tq_better(nte):\n",
    "    Tp_results, Tq_results = two_locations_test_results(nte)\n",
    "    tp_lambs = np.array([r['test_stat'] for r in Tp_results ])\n",
    "    tq_lambs = np.array([r['test_stat'] for r in Tq_results ])\n",
    "    n_left_high = np.sum(tq_lambs>tp_lambs)\n",
    "    return float(n_left_high)/rep"
   ]
  },
  {
   "cell_type": "code",
   "execution_count": null,
   "metadata": {
    "collapsed": false
   },
   "outputs": [],
   "source": [
    "Tp_results, Tq_results = two_locations_test_results(nte)\n",
    "tp_lambs = np.array([r['test_stat'] for r in Tp_results ])\n",
    "tq_lambs = np.array([r['test_stat'] for r in Tq_results ])"
   ]
  },
  {
   "cell_type": "code",
   "execution_count": null,
   "metadata": {
    "collapsed": false,
    "scrolled": true
   },
   "outputs": [],
   "source": [
    "plt.hist(tp_lambs, label='v on right')\n",
    "plt.hist(tq_lambs, label='v on left')\n",
    "plt.legend()"
   ]
  },
  {
   "cell_type": "code",
   "execution_count": null,
   "metadata": {
    "collapsed": false
   },
   "outputs": [],
   "source": [
    "n_left_high = np.sum(tq_lambs>tp_lambs)\n",
    "print '#trials where left higher: %d/%d (%.2f%%)'%(n_left_high, rep, 100*float(n_left_high)/rep)\n",
    "print 'std of left lambs: %.3f'%(np.std(tq_lambs))\n",
    "print 'std of right lambs: %.3f'%(np.std(tp_lambs))"
   ]
  },
  {
   "cell_type": "code",
   "execution_count": null,
   "metadata": {
    "collapsed": false
   },
   "outputs": [],
   "source": [
    "ntes = np.linspace(50, 850, num=9, dtype=np.int64)\n",
    "ps_left_better = [prob_tq_better(nte) for nte in ntes]\n",
    "\n",
    "plt.plot(ntes, ps_left_better, 'ob-')\n",
    "plt.xlabel('nte')\n",
    "plt.ylabel('p(left location gives higher lamb)')"
   ]
  },
  {
   "cell_type": "code",
   "execution_count": null,
   "metadata": {
    "collapsed": false,
    "scrolled": true
   },
   "outputs": [],
   "source": [
    "np.vstack((ntes, ps_left_better))[:, 5]"
   ]
  },
  {
   "cell_type": "code",
   "execution_count": null,
   "metadata": {
    "collapsed": false
   },
   "outputs": [],
   "source": [
    "ntes"
   ]
  },
  {
   "cell_type": "code",
   "execution_count": null,
   "metadata": {
    "collapsed": true
   },
   "outputs": [],
   "source": []
  }
 ],
 "metadata": {
  "kernelspec": {
   "display_name": "Python [Root]",
   "language": "python",
   "name": "Python [Root]"
  },
  "language_info": {
   "codemirror_mode": {
    "name": "ipython",
    "version": 2
   },
   "file_extension": ".py",
   "mimetype": "text/x-python",
   "name": "python",
   "nbconvert_exporter": "python",
   "pygments_lexer": "ipython2",
   "version": "2.7.12"
  }
 },
 "nbformat": 4,
 "nbformat_minor": 0
}
