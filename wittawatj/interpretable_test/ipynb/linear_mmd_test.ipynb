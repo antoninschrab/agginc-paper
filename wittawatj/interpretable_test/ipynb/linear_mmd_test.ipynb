{
 "cells": [
  {
   "cell_type": "markdown",
   "metadata": {},
   "source": [
    "# Two-sample test with linear mmd "
   ]
  },
  {
   "cell_type": "code",
   "execution_count": null,
   "metadata": {},
   "outputs": [],
   "source": [
    "%load_ext autoreload\n",
    "%autoreload 2\n",
    "%matplotlib inline\n",
    "import numpy as np\n",
    "import matplotlib.pyplot as plt\n",
    "import freqopttest.util as util\n",
    "import freqopttest.data as data\n",
    "import freqopttest.kernel as kernel\n",
    "import freqopttest.tst as tst\n",
    "import freqopttest.glo as glo\n",
    "import sys"
   ]
  },
  {
   "cell_type": "code",
   "execution_count": null,
   "metadata": {},
   "outputs": [],
   "source": [
    "# sample source \n",
    "m = 2000\n",
    "dim = 6\n",
    "alpha = 0.01\n",
    "seed = 22\n",
    "n = m\n",
    "#ss = data.SSGaussMeanDiff(dim, my=0)\n",
    "ss = data.SSSameGauss(d=dim)\n",
    "#ss = data.SSGaussVarDiff(dim)\n",
    "#ss = data.SSBlobs()\n",
    "tst_data = ss.sample(m, seed=seed)\n",
    "tr, te = tst_data.split_tr_te(tr_proportion=0.5, seed=10)"
   ]
  },
  {
   "cell_type": "code",
   "execution_count": null,
   "metadata": {},
   "outputs": [],
   "source": [
    "# choose the best kernel that maximizes the test power \n",
    "med = util.meddistance(tr.stack_xy())\n",
    "widths = [ (med*f) for f in 2.0**np.linspace(-1, 4, 20)]\n",
    "list_kernels = [kernel.KGauss( w**2 ) for w in widths]\n",
    "\n",
    "besti, powers = tst.LinearMMDTest.grid_search_kernel(tr, list_kernels, alpha)\n"
   ]
  },
  {
   "cell_type": "code",
   "execution_count": null,
   "metadata": {},
   "outputs": [],
   "source": [
    "plt.plot(widths, powers, 'o-')\n",
    "plt.xlabel('Gaussian width')\n",
    "plt.ylabel('test power')\n",
    "plt.title('median distance = %.3g. Best width: %.3g'%(med, widths[besti]) )"
   ]
  },
  {
   "cell_type": "code",
   "execution_count": null,
   "metadata": {},
   "outputs": [],
   "source": [
    "# The actual test \n",
    "best_ker = list_kernels[besti]\n",
    "lin_mmd_test = tst.LinearMMDTest(best_ker, alpha)\n",
    "test_result = lin_mmd_test.perform_test(te)\n",
    "test_result"
   ]
  },
  {
   "cell_type": "markdown",
   "metadata": {},
   "source": [
    "## Test type-1 error"
   ]
  },
  {
   "cell_type": "code",
   "execution_count": null,
   "metadata": {},
   "outputs": [],
   "source": [
    "rep = 500\n",
    "te_size = 5000\n",
    "alpha = 0.05\n",
    "lin_mmd_test = tst.LinearMMDTest(best_ker, alpha)\n",
    "pvals = np.zeros(rep)\n",
    "for r in range(rep):\n",
    "    te = ss.sample(te_size, seed=r+34000)\n",
    "    test_result = lin_mmd_test.perform_test(te)\n",
    "    pvals[r] = test_result['pvalue']\n",
    "  \n",
    "# plot\n",
    "type1 = np.sum(pvals < alpha)/float(rep)\n",
    "print('type1: %.4g'%type1)\n",
    "    \n",
    "    "
   ]
  },
  {
   "cell_type": "code",
   "execution_count": null,
   "metadata": {
    "collapsed": true
   },
   "outputs": [],
   "source": []
  }
 ],
 "metadata": {
  "kernelspec": {
   "display_name": "Python 3",
   "language": "python",
   "name": "python3"
  },
  "language_info": {
   "codemirror_mode": {
    "name": "ipython",
    "version": 3
   },
   "file_extension": ".py",
   "mimetype": "text/x-python",
   "name": "python",
   "nbconvert_exporter": "python",
   "pygments_lexer": "ipython3",
   "version": "3.6.3"
  }
 },
 "nbformat": 4,
 "nbformat_minor": 1
}
