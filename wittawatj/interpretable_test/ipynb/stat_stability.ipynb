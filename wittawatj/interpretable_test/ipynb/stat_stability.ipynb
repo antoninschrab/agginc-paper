{
 "cells": [
  {
   "cell_type": "markdown",
   "metadata": {},
   "source": [
    "# Overview\n",
    "This notebook is mainly for testing the stability of the $T^2$ statistic.\n",
    "\n",
    "1. What happens when the test locations/frequencies are the same?\n",
    "2. What is the effect on the test if the test locations are redundant? Will the test statistic blow up?"
   ]
  },
  {
   "cell_type": "code",
   "execution_count": null,
   "metadata": {},
   "outputs": [],
   "source": [
    "%load_ext autoreload\n",
    "%autoreload 2\n",
    "%matplotlib inline\n",
    "import freqopttest.util as util\n",
    "import freqopttest.data as data\n",
    "import freqopttest.kernel as kernel\n",
    "import freqopttest.tst as tst\n",
    "import freqopttest.glo as glo\n",
    "import matplotlib.pyplot as plt\n",
    "import numpy as np\n",
    "import scipy.stats as stats\n",
    "import sys"
   ]
  },
  {
   "cell_type": "code",
   "execution_count": null,
   "metadata": {
    "collapsed": true
   },
   "outputs": [],
   "source": [
    "# sample source \n",
    "m = 800\n",
    "dim = 2\n",
    "n = m\n",
    "ss = data.SSGaussMeanDiff(dim, my=0.5)\n",
    "#ss = data.SSBlobs()\n",
    "tst_data = ss.sample(m, seed=2)\n",
    "tr, te = tst_data.split_tr_te(tr_proportion=0.5, seed=10)"
   ]
  },
  {
   "cell_type": "code",
   "execution_count": null,
   "metadata": {
    "scrolled": true
   },
   "outputs": [],
   "source": [
    "# plot test data\n",
    "xte, yte = te.xy()\n",
    "plt.plot(xte[:, 0], xte[:, 1], 'xr', label='X te')\n",
    "plt.plot(yte[:, 0], yte[:, 1], 'xb', label='Y te')\n",
    "plt.legend(loc='best')\n",
    "plt.title('Test set')\n"
   ]
  },
  {
   "cell_type": "code",
   "execution_count": null,
   "metadata": {},
   "outputs": [],
   "source": [
    "print(te)"
   ]
  },
  {
   "cell_type": "markdown",
   "metadata": {},
   "source": [
    "## mean embedding test. J=2 locations"
   ]
  },
  {
   "cell_type": "code",
   "execution_count": null,
   "metadata": {},
   "outputs": [],
   "source": [
    "# test locations\n",
    "T = np.array([[0, 0], [1, 0]])\n",
    "gwidth = 1.0\n",
    "alpha = 0.01\n",
    "met = tst.MeanEmbeddingTest(T, gwidth, alpha)\n",
    "met.perform_test(te)"
   ]
  },
  {
   "cell_type": "code",
   "execution_count": null,
   "metadata": {},
   "outputs": [],
   "source": [
    "t1 = np.array([0, 0])\n",
    "t2x_list = np.linspace(-7, 7, 200)\n",
    "# add an x very close to 0\n",
    "t2x_list = np.append(t2x_list, [1e-9])\n",
    "t2x_list.sort()\n",
    "stats = np.zeros(len(t2x_list))\n",
    "for i, t2x in enumerate(t2x_list):\n",
    "    t2 = np.array([t2x, 0])\n",
    "    T = np.vstack((t1, t2))\n",
    "    met_i = tst.MeanEmbeddingTest(T, gwidth, alpha)\n",
    "    test_i = met_i.perform_test(te)\n",
    "    stats[i] = test_i['test_stat']\n",
    "    "
   ]
  },
  {
   "cell_type": "code",
   "execution_count": null,
   "metadata": {},
   "outputs": [],
   "source": [
    "# plot location shift vs. test stat\n",
    "plt.plot(t2x_list, stats)\n",
    "plt.title('t1 = %s, t2 = [x, 0]'%(str(t1)) )\n",
    "plt.xlabel('x in $1^{st}$ dim. of t2')\n",
    "plt.ylabel('Test statistic')"
   ]
  },
  {
   "cell_type": "markdown",
   "metadata": {},
   "source": [
    "This showed that if both the test locations are the same at [0, 0], then the covariance matrix is singular, and the test statistic cannot be computed. If $t_1 = [0, 0], t_2 = [x, 0]$ where $x$ approaches 0,  then test statistic drops significantly as shown."
   ]
  },
  {
   "cell_type": "markdown",
   "metadata": {},
   "source": [
    "## mean embedding test. J=3 locations"
   ]
  },
  {
   "cell_type": "code",
   "execution_count": null,
   "metadata": {},
   "outputs": [],
   "source": [
    "t1 = np.array([0, 0])\n",
    "t3 = np.array([1, 0])\n",
    "t2x_list = np.linspace(-7, 8, 200)\n",
    "# add an x very close to 0\n",
    "t2x_list = np.append(t2x_list, [1e-12, 1+1e-9])\n",
    "t2x_list.sort()\n",
    "stats = np.zeros(len(t2x_list))\n",
    "for i, t2x in enumerate(t2x_list):\n",
    "    t2 = np.array([t2x, 0])\n",
    "    T = np.vstack((t1, t2, t3))\n",
    "    met_i = tst.MeanEmbeddingTest(T, gwidth, alpha)\n",
    "    test_i = met_i.perform_test(te)\n",
    "    stats[i] = test_i['test_stat']\n",
    "    "
   ]
  },
  {
   "cell_type": "code",
   "execution_count": null,
   "metadata": {},
   "outputs": [],
   "source": [
    "# plot location shift vs. test stat\n",
    "plt.plot(t2x_list, stats)\n",
    "plt.title('t1 = %s, t2 = [x, 0], t3 = %s'%(str(t1), str(t3)) )\n",
    "plt.xlabel('x in $1^{st}$ dim. of t2')\n",
    "plt.ylabel('Test statistic')"
   ]
  },
  {
   "cell_type": "markdown",
   "metadata": {},
   "source": [
    "Same story as in the previous case of $J=2$. That is, there is a singularity at each point where two test locations are the same."
   ]
  },
  {
   "cell_type": "code",
   "execution_count": null,
   "metadata": {
    "collapsed": true
   },
   "outputs": [],
   "source": []
  }
 ],
 "metadata": {
  "kernelspec": {
   "display_name": "Python 3",
   "language": "python",
   "name": "python3"
  },
  "language_info": {
   "codemirror_mode": {
    "name": "ipython",
    "version": 3
   },
   "file_extension": ".py",
   "mimetype": "text/x-python",
   "name": "python",
   "nbconvert_exporter": "python",
   "pygments_lexer": "ipython3",
   "version": "3.6.3"
  }
 },
 "nbformat": 4,
 "nbformat_minor": 1
}
