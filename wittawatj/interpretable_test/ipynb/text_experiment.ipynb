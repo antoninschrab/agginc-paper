{
 "cells": [
  {
   "cell_type": "code",
   "execution_count": null,
   "metadata": {
    "collapsed": true
   },
   "outputs": [],
   "source": [
    "%load_ext autoreload\n",
    "%autoreload 2\n",
    "%matplotlib inline\n",
    "import numpy as np\n",
    "import matplotlib.pyplot as plt\n",
    "import freqopttest.util as util\n",
    "import freqopttest.data as data\n",
    "import freqopttest.kernel as kernel\n",
    "import freqopttest.tst as tst\n",
    "import freqopttest.glo as glo\n",
    "import os\n",
    "try:\n",
    "    import cPickle as pickle \n",
    "except:\n",
    "    import pickle\n",
    "import scipy.stats as stats\n",
    "import sys"
   ]
  },
  {
   "cell_type": "code",
   "execution_count": null,
   "metadata": {
    "collapsed": false
   },
   "outputs": [],
   "source": [
    "# load text data\n",
    "#fname = 'bayes_neuro_np794_nq788_d300.p'\n",
    "#fname = 'bayes_neuro_np794_nq788_d300_verb.p'\n",
    "#fname = 'bayes_neuro_np794_nq788_d300_random_verb.p'\n",
    "#fname = 'bayes_neuro_np794_nq788_d300_noun.p'\n",
    "#fname = 'bayes_neuro_np794_nq788_d400_noun.p'\n",
    "#fname = 'bayes_neuro_np794_nq788_d400_random_verb.p'\n",
    "#fname = 'bayes_neuro_np794_nq788_d800_random_verb.p'\n",
    "fname = 'bayes_neuro_np794_nq788_d2000_random_noun.p'\n",
    "\n",
    "#fname = 'bayes_neuro_np794_nq788_d400.p'\n",
    "\n",
    "np.random.seed(2984)\n",
    "fpath = glo.data_file(fname)\n",
    "with open(fpath, 'r') as f:\n",
    "    loaded = pickle.load(f)\n",
    "    \n",
    "#X = np.sign(loaded['P']) \n",
    "#Y = np.sign(loaded['Q']) \n",
    "X = loaded['P']\n",
    "Y = loaded['Q']\n",
    "terms = loaded['words']\n",
    "# Want X, Y to have the same sample size\n",
    "n_min = min(X.shape[0], Y.shape[0])\n",
    "X = X[:n_min, :]\n",
    "Y = Y[:n_min, :]\n",
    "assert(X.shape[0] == Y.shape[0])\n",
    "\n",
    "# add some noise\n",
    "#X = X + np.random.randn(X.shape[0], X.shape[1])*1e-2\n",
    "#Y = Y + np.random.randn(Y.shape[0], Y.shape[1])*1e-2"
   ]
  },
  {
   "cell_type": "code",
   "execution_count": null,
   "metadata": {
    "collapsed": false,
    "scrolled": true
   },
   "outputs": [],
   "source": [
    "np.sum(np.abs(X), 0)"
   ]
  },
  {
   "cell_type": "code",
   "execution_count": null,
   "metadata": {
    "collapsed": false
   },
   "outputs": [],
   "source": [
    "plt.figure(figsize=(3, 6))\n",
    "plt.imshow(X, interpolation='None')\n",
    "plt.ylabel('Docs')\n",
    "plt.xlabel('Terms')"
   ]
  },
  {
   "cell_type": "code",
   "execution_count": null,
   "metadata": {
    "collapsed": false
   },
   "outputs": [],
   "source": [
    "# sample source\n",
    "seed = 24\n",
    "\n",
    "tst_data = data.TSTData(X, Y)\n",
    "ss = data.SSResample(tst_data)\n",
    "tr, te = tst_data.split_tr_te(tr_proportion=0.5, seed=seed+1)"
   ]
  },
  {
   "cell_type": "markdown",
   "metadata": {},
   "source": [
    "## Parameter optimization"
   ]
  },
  {
   "cell_type": "code",
   "execution_count": null,
   "metadata": {
    "collapsed": false,
    "scrolled": false
   },
   "outputs": [],
   "source": [
    "alpha = 0.01\n",
    "\n",
    "op = {'n_test_locs': 1, 'seed': seed+11, 'max_iter': 500, \n",
    "     'batch_proportion': 1.0, 'locs_step_size': 50.0, \n",
    "      'gwidth_step_size': 0.1, 'tol_fun': 1e-4}\n",
    "# optimize on the training set\n",
    "test_locs, gwidth, info = tst.MeanEmbeddingTest.optimize_locs_width(tr, alpha, **op)"
   ]
  },
  {
   "cell_type": "code",
   "execution_count": null,
   "metadata": {
    "collapsed": false
   },
   "outputs": [],
   "source": [
    "plt.plot(info['obj_values'])\n",
    "plt.xlabel('iteration')\n",
    "plt.ylabel('Objective')"
   ]
  },
  {
   "cell_type": "code",
   "execution_count": null,
   "metadata": {
    "collapsed": false,
    "scrolled": true
   },
   "outputs": [],
   "source": [
    "xtr, ytr = tr.xy()\n",
    "xmean = np.mean(xtr, 0)\n",
    "ymean = np.mean(ytr, 0)\n",
    "mean = np.mean(tr.stack_xy(), 0)\n",
    "\n",
    "xm_norm = np.abs(xmean)/np.linalg.norm(xmean, ord=1)\n",
    "ym_norm = np.abs(ymean)/np.linalg.norm(ymean, ord=1)\n",
    "m_norm = np.abs(mean)/np.linalg.norm(mean, ord=1)\n",
    "\n",
    "plt.plot(mean)"
   ]
  },
  {
   "cell_type": "code",
   "execution_count": null,
   "metadata": {
    "collapsed": false,
    "scrolled": true
   },
   "outputs": [],
   "source": [
    "t = test_locs[0]\n",
    "#t_norm = t\n",
    "t_norm = t/np.linalg.norm(t, ord=1)\n",
    "score = np.abs(t_norm)\n",
    "#score = (t_norm)\n",
    "sind = np.argsort(-score)\n",
    "plt.plot(score[sind])"
   ]
  },
  {
   "cell_type": "code",
   "execution_count": null,
   "metadata": {
    "collapsed": false,
    "scrolled": true
   },
   "outputs": [],
   "source": [
    "for i, w in enumerate(terms[sind]):\n",
    "    if i%10==0:\n",
    "        print\n",
    "    print w,"
   ]
  },
  {
   "cell_type": "markdown",
   "metadata": {},
   "source": [
    "### Two-sample test"
   ]
  },
  {
   "cell_type": "code",
   "execution_count": null,
   "metadata": {
    "collapsed": false
   },
   "outputs": [],
   "source": [
    "# test with the best Gaussian with \n",
    "#test_locs = tst.MeanEmbeddingTest.init_locs_2randn(tr, 2, seed=28)\n",
    "#gwidth = 10\n",
    "met = tst.MeanEmbeddingTest(test_locs, gwidth, alpha)\n",
    "met.perform_test(te)"
   ]
  },
  {
   "cell_type": "code",
   "execution_count": null,
   "metadata": {
    "collapsed": false
   },
   "outputs": [],
   "source": []
  }
 ],
 "metadata": {
  "kernelspec": {
   "display_name": "Python 2",
   "language": "python",
   "name": "python2"
  },
  "language_info": {
   "codemirror_mode": {
    "name": "ipython",
    "version": 2
   },
   "file_extension": ".py",
   "mimetype": "text/x-python",
   "name": "python",
   "nbconvert_exporter": "python",
   "pygments_lexer": "ipython2",
   "version": "2.7.11"
  }
 },
 "nbformat": 4,
 "nbformat_minor": 0
}
