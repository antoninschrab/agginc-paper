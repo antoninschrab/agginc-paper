{
 "cells": [
  {
   "cell_type": "markdown",
   "id": "0cd15687-8197-42f7-a6fb-683850fdf198",
   "metadata": {},
   "source": [
    "# Demo"
   ]
  },
  {
   "cell_type": "code",
   "execution_count": 1,
   "id": "dd049d57-58a6-4285-b8b2-0782c6f8e6f4",
   "metadata": {},
   "outputs": [
    {
     "data": {
      "text/plain": [
       "StreamExecutorGpuDevice(id=0, process_index=0, slice_index=0)"
      ]
     },
     "execution_count": 1,
     "metadata": {},
     "output_type": "execute_result"
    }
   ],
   "source": [
    "# run for Jax GPU\n",
    "import numpy as np\n",
    "from agginc.jax import human_readable_dict\n",
    "from agginc.jax import agginc\n",
    "# from agginc.np import agginc\n",
    "from jax import random\n",
    "import jax.numpy as jnp\n",
    "X = jnp.array([1, 2])\n",
    "X.device()"
   ]
  },
  {
   "cell_type": "markdown",
   "id": "1f18c90f-d430-4b92-bde9-a98873e41775",
   "metadata": {
    "tags": []
   },
   "source": [
    "## MMDAggInc"
   ]
  },
  {
   "cell_type": "code",
   "execution_count": 2,
   "id": "78758346-9f95-4f80-81b4-5cbd7fdb903c",
   "metadata": {},
   "outputs": [],
   "source": [
    "key = random.PRNGKey(0)\n",
    "key, subkey = random.split(key)\n",
    "subkeys = random.split(subkey, num=2)\n",
    "X = random.uniform(subkeys[0], shape=(5000, 100))\n",
    "Y = random.uniform(subkeys[1], shape=(5000, 100)) + 1"
   ]
  },
  {
   "cell_type": "code",
   "execution_count": 3,
   "id": "5cbbce66-3028-462a-83f9-1eebf2b667e3",
   "metadata": {},
   "outputs": [],
   "source": [
    "# compile function\n",
    "output, dictionary = agginc(\"mmd\", X, Y, return_dictionary=True)\n",
    "# Numpy version (no compilation)\n",
    "# output, dictionary = agginc(\"mmd\", np.array(X), np.array(Y), return_dictionary=True)"
   ]
  },
  {
   "cell_type": "code",
   "execution_count": 4,
   "id": "024705e5-bc14-45a3-aaa1-875892f9dc0c",
   "metadata": {},
   "outputs": [
    {
     "name": "stdout",
     "output_type": "stream",
     "text": [
      "22.8 ms ± 25 µs per loop (mean ± std. dev. of 7 runs, 10 loops each)\n"
     ]
    }
   ],
   "source": [
    "# Now the function runs fast for any inputs X and Y of the compiled shaped (5000, 100)\n",
    "# If the shape is changed, the function will need to be compiled again\n",
    "key = random.PRNGKey(1) # different initialisation\n",
    "key, subkey = random.split(key)\n",
    "subkeys = random.split(subkey, num=2)\n",
    "X = random.uniform(subkeys[0], shape=(5000, 100))\n",
    "Y = random.uniform(subkeys[1], shape=(5000, 100)) + 1\n",
    "# see speed.ipynb for detailed speed comparision between numpy, jax cpu and jax gpu \n",
    "%timeit output, dictionary = agginc(\"mmd\", X, Y, return_dictionary=True)"
   ]
  },
  {
   "cell_type": "code",
   "execution_count": 5,
   "id": "4ab812d9-59f9-4a98-b996-8cb88b56cc29",
   "metadata": {},
   "outputs": [],
   "source": [
    "output, dictionary = agginc(\"mmd\", X, Y, return_dictionary=True)"
   ]
  },
  {
   "cell_type": "code",
   "execution_count": 6,
   "id": "08aef47c-090d-465e-bc1e-7ba366786476",
   "metadata": {},
   "outputs": [
    {
     "data": {
      "text/plain": [
       "Array(1, dtype=int32)"
      ]
     },
     "execution_count": 6,
     "metadata": {},
     "output_type": "execute_result"
    }
   ],
   "source": [
    "# output is a jax array consisting of either 0 or 1\n",
    "output "
   ]
  },
  {
   "cell_type": "code",
   "execution_count": 7,
   "id": "0336c8c4-9e2a-4699-9186-08921308e481",
   "metadata": {},
   "outputs": [
    {
     "data": {
      "text/plain": [
       "1"
      ]
     },
     "execution_count": 7,
     "metadata": {},
     "output_type": "execute_result"
    }
   ],
   "source": [
    "# to convert it to an int use: \n",
    "output.item()"
   ]
  },
  {
   "cell_type": "code",
   "execution_count": 8,
   "id": "dcb05ab2-ca49-498d-935c-a41881bc9db2",
   "metadata": {},
   "outputs": [
    {
     "data": {
      "text/plain": [
       "{'MMDAggInc test reject': True,\n",
       " 'Single test 1': {'Bandwidth': 4.58139181137085,\n",
       "  'Kernel Gaussian': True,\n",
       "  'MMD': 0.9013530611991882,\n",
       "  'MMD quantile': 0.0017263863701373339,\n",
       "  'Reject': True,\n",
       "  'p-value': 0.0019960079807788134,\n",
       "  'p-value threshold': 0.037924136966466904},\n",
       " 'Single test 10': {'Bandwidth': 24.66503143310547,\n",
       "  'Kernel Gaussian': True,\n",
       "  'MMD': 0.2951463460922241,\n",
       "  'MMD quantile': 0.0005236162105575204,\n",
       "  'Reject': True,\n",
       "  'p-value': 0.0019960079807788134,\n",
       "  'p-value threshold': 0.037924136966466904},\n",
       " 'Single test 2': {'Bandwidth': 5.523686408996582,\n",
       "  'Kernel Gaussian': True,\n",
       "  'MMD': 1.1168569326400757,\n",
       "  'MMD quantile': 0.0020746372174471617,\n",
       "  'Reject': True,\n",
       "  'p-value': 0.0019960079807788134,\n",
       "  'p-value threshold': 0.037924136966466904},\n",
       " 'Single test 3': {'Bandwidth': 6.659790992736816,\n",
       "  'Kernel Gaussian': True,\n",
       "  'MMD': 1.2296091318130493,\n",
       "  'MMD quantile': 0.0022286062594503164,\n",
       "  'Reject': True,\n",
       "  'p-value': 0.0019960079807788134,\n",
       "  'p-value threshold': 0.037924136966466904},\n",
       " 'Single test 4': {'Bandwidth': 8.029568672180176,\n",
       "  'Kernel Gaussian': True,\n",
       "  'MMD': 1.2161837816238403,\n",
       "  'MMD quantile': 0.0021603787317872047,\n",
       "  'Reject': True,\n",
       "  'p-value': 0.0019960079807788134,\n",
       "  'p-value threshold': 0.037924136966466904},\n",
       " 'Single test 5': {'Bandwidth': 9.681078910827637,\n",
       "  'Kernel Gaussian': True,\n",
       "  'MMD': 1.0973782539367676,\n",
       "  'MMD quantile': 0.0019419597228989005,\n",
       "  'Reject': True,\n",
       "  'p-value': 0.0019960079807788134,\n",
       "  'p-value threshold': 0.037924136966466904},\n",
       " 'Single test 6': {'Bandwidth': 11.672270774841309,\n",
       "  'Kernel Gaussian': True,\n",
       "  'MMD': 0.9198084473609924,\n",
       "  'MMD quantile': 0.0016288572223857045,\n",
       "  'Reject': True,\n",
       "  'p-value': 0.0019960079807788134,\n",
       "  'p-value threshold': 0.037924136966466904},\n",
       " 'Single test 7': {'Bandwidth': 14.073007583618164,\n",
       "  'Kernel Gaussian': True,\n",
       "  'MMD': 0.7287802696228027,\n",
       "  'MMD quantile': 0.0012915171682834625,\n",
       "  'Reject': True,\n",
       "  'p-value': 0.0019960079807788134,\n",
       "  'p-value threshold': 0.037924136966466904},\n",
       " 'Single test 8': {'Bandwidth': 16.967527389526367,\n",
       "  'Kernel Gaussian': True,\n",
       "  'MMD': 0.5539533495903015,\n",
       "  'MMD quantile': 0.000982005731202662,\n",
       "  'Reject': True,\n",
       "  'p-value': 0.0019960079807788134,\n",
       "  'p-value threshold': 0.037924136966466904},\n",
       " 'Single test 9': {'Bandwidth': 20.45738410949707,\n",
       "  'Kernel Gaussian': True,\n",
       "  'MMD': 0.40866121649742126,\n",
       "  'MMD quantile': 0.0007248069741763175,\n",
       "  'Reject': True,\n",
       "  'p-value': 0.0019960079807788134,\n",
       "  'p-value threshold': 0.037924136966466904}}"
      ]
     },
     "execution_count": 8,
     "metadata": {},
     "output_type": "execute_result"
    }
   ],
   "source": [
    "human_readable_dict(dictionary) # use to convert jax arrays to scalars\n",
    "dictionary"
   ]
  },
  {
   "cell_type": "markdown",
   "id": "6d7522d5-0e7b-4b1d-a8f0-9b299093ad9e",
   "metadata": {
    "tags": []
   },
   "source": [
    "## HSICAggInc"
   ]
  },
  {
   "cell_type": "code",
   "execution_count": 9,
   "id": "070629b8-a65c-4f20-b781-f53d2f4b9c9b",
   "metadata": {},
   "outputs": [],
   "source": [
    "key = random.PRNGKey(0)\n",
    "key, subkey = random.split(key)\n",
    "subkeys = random.split(subkey, num=2)\n",
    "X = random.uniform(subkeys[0], shape=(5000, 100))\n",
    "Y = 0.5 * X + random.uniform(subkeys[1], shape=(5000, 100))"
   ]
  },
  {
   "cell_type": "code",
   "execution_count": 10,
   "id": "1fd76cd1-6f07-47bf-8bb3-bf86021aac64",
   "metadata": {},
   "outputs": [],
   "source": [
    "# compile function\n",
    "output, dictionary = agginc(\"hsic\", X, Y, return_dictionary=True)\n",
    "# Numpy version (no compilation)\n",
    "# output, dictionary = agginc(\"hsic\", np.array(X), np.array(Y), return_dictionary=True)"
   ]
  },
  {
   "cell_type": "code",
   "execution_count": 11,
   "id": "e1c06b71-4072-4fea-ad24-4d44dc0b8150",
   "metadata": {},
   "outputs": [
    {
     "name": "stdout",
     "output_type": "stream",
     "text": [
      "17.9 ms ± 10.3 µs per loop (mean ± std. dev. of 7 runs, 100 loops each)\n"
     ]
    }
   ],
   "source": [
    "# Now the function runs fast for any inputs X and Y of the compiled shaped (5000, 100)\n",
    "# If the shape is changed, the function will need to be compiled again\n",
    "key = random.PRNGKey(1) # different initialisation\n",
    "key, subkey = random.split(key)\n",
    "subkeys = random.split(subkey, num=2)\n",
    "X = random.uniform(subkeys[0], shape=(5000, 100))\n",
    "Y = 0.5 * X + random.uniform(subkeys[1], shape=(5000, 100))\n",
    "# see speed.ipynb for detailed speed comparision between numpy, jax cpu and jax gpu \n",
    "%timeit output, dictionary = agginc(\"hsic\", X, Y, return_dictionary=True)"
   ]
  },
  {
   "cell_type": "code",
   "execution_count": 12,
   "id": "43d4ab2e-80a9-4302-b5e8-e581cd176d17",
   "metadata": {},
   "outputs": [],
   "source": [
    "output, dictionary = agginc(\"hsic\", X, Y, return_dictionary=True)"
   ]
  },
  {
   "cell_type": "code",
   "execution_count": 13,
   "id": "649add09-6c23-40f6-828b-0be1fa2ccae7",
   "metadata": {},
   "outputs": [
    {
     "data": {
      "text/plain": [
       "Array(1, dtype=int32)"
      ]
     },
     "execution_count": 13,
     "metadata": {},
     "output_type": "execute_result"
    }
   ],
   "source": [
    "output"
   ]
  },
  {
   "cell_type": "code",
   "execution_count": 14,
   "id": "6b0e4272-09d7-4b42-b226-478490b951e8",
   "metadata": {},
   "outputs": [
    {
     "data": {
      "text/plain": [
       "1"
      ]
     },
     "execution_count": 14,
     "metadata": {},
     "output_type": "execute_result"
    }
   ],
   "source": [
    "output.item()"
   ]
  },
  {
   "cell_type": "code",
   "execution_count": 15,
   "id": "53c588f5-48a7-4efb-ba88-7e115636140e",
   "metadata": {},
   "outputs": [
    {
     "data": {
      "text/plain": [
       "{'HSICAggInc test reject': True,\n",
       " 'Single test 1': {'Bandwidth X': 1.019727349281311,\n",
       "  'Bandwidth Y': 1.1367896795272827,\n",
       "  'HSIC': 7.2079468045258e-13,\n",
       "  'HSIC quantile': 9.377033519239117e-14,\n",
       "  'Kernel Gaussian': True,\n",
       "  'Reject': True,\n",
       "  'p-value': 0.0019960079807788134,\n",
       "  'p-value threshold': 0.011976033449172974},\n",
       " 'Single test 10': {'Bandwidth X': 16.315637588500977,\n",
       "  'Bandwidth Y': 2.2735793590545654,\n",
       "  'HSIC': 3.641161310952157e-05,\n",
       "  'HSIC quantile': 6.56685472222307e-07,\n",
       "  'Kernel Gaussian': True,\n",
       "  'Reject': True,\n",
       "  'p-value': 0.0019960079807788134,\n",
       "  'p-value threshold': 0.011976033449172974},\n",
       " 'Single test 11': {'Bandwidth X': 1.019727349281311,\n",
       "  'Bandwidth Y': 4.547158718109131,\n",
       "  'HSIC': 2.4181092683761563e-08,\n",
       "  'HSIC quantile': 9.870516626264703e-10,\n",
       "  'Kernel Gaussian': True,\n",
       "  'Reject': True,\n",
       "  'p-value': 0.0019960079807788134,\n",
       "  'p-value threshold': 0.011976033449172974},\n",
       " 'Single test 12': {'Bandwidth X': 2.039454698562622,\n",
       "  'Bandwidth Y': 4.547158718109131,\n",
       "  'HSIC': 0.0002333899901714176,\n",
       "  'HSIC quantile': 4.128140062675811e-06,\n",
       "  'Kernel Gaussian': True,\n",
       "  'Reject': True,\n",
       "  'p-value': 0.0019960079807788134,\n",
       "  'p-value threshold': 0.011976033449172974},\n",
       " 'Single test 13': {'Bandwidth X': 4.078909397125244,\n",
       "  'Bandwidth Y': 4.547158718109131,\n",
       "  'HSIC': 0.0010829539969563484,\n",
       "  'HSIC quantile': 1.7900614693644457e-05,\n",
       "  'Kernel Gaussian': True,\n",
       "  'Reject': True,\n",
       "  'p-value': 0.0019960079807788134,\n",
       "  'p-value threshold': 0.011976033449172974},\n",
       " 'Single test 14': {'Bandwidth X': 8.157818794250488,\n",
       "  'Bandwidth Y': 4.547158718109131,\n",
       "  'HSIC': 0.0005728186224587262,\n",
       "  'HSIC quantile': 9.249158210877795e-06,\n",
       "  'Kernel Gaussian': True,\n",
       "  'Reject': True,\n",
       "  'p-value': 0.0019960079807788134,\n",
       "  'p-value threshold': 0.011976033449172974},\n",
       " 'Single test 15': {'Bandwidth X': 16.315637588500977,\n",
       "  'Bandwidth Y': 4.547158718109131,\n",
       "  'HSIC': 0.00017292433767579496,\n",
       "  'HSIC quantile': 2.8243778160685906e-06,\n",
       "  'Kernel Gaussian': True,\n",
       "  'Reject': True,\n",
       "  'p-value': 0.0019960079807788134,\n",
       "  'p-value threshold': 0.011976033449172974},\n",
       " 'Single test 16': {'Bandwidth X': 1.019727349281311,\n",
       "  'Bandwidth Y': 9.094317436218262,\n",
       "  'HSIC': 1.2674378879751202e-08,\n",
       "  'HSIC quantile': 5.347521869758509e-10,\n",
       "  'Kernel Gaussian': True,\n",
       "  'Reject': True,\n",
       "  'p-value': 0.0019960079807788134,\n",
       "  'p-value threshold': 0.011976033449172974},\n",
       " 'Single test 17': {'Bandwidth X': 2.039454698562622,\n",
       "  'Bandwidth Y': 9.094317436218262,\n",
       "  'HSIC': 0.00012383383000269532,\n",
       "  'HSIC quantile': 2.244486722702277e-06,\n",
       "  'Kernel Gaussian': True,\n",
       "  'Reject': True,\n",
       "  'p-value': 0.0019960079807788134,\n",
       "  'p-value threshold': 0.011976033449172974},\n",
       " 'Single test 18': {'Bandwidth X': 4.078909397125244,\n",
       "  'Bandwidth Y': 9.094317436218262,\n",
       "  'HSIC': 0.0005767263937741518,\n",
       "  'HSIC quantile': 9.721346032165457e-06,\n",
       "  'Kernel Gaussian': True,\n",
       "  'Reject': True,\n",
       "  'p-value': 0.0019960079807788134,\n",
       "  'p-value threshold': 0.011976033449172974},\n",
       " 'Single test 19': {'Bandwidth X': 8.157818794250488,\n",
       "  'Bandwidth Y': 9.094317436218262,\n",
       "  'HSIC': 0.00030535217956639826,\n",
       "  'HSIC quantile': 5.026443432143424e-06,\n",
       "  'Kernel Gaussian': True,\n",
       "  'Reject': True,\n",
       "  'p-value': 0.0019960079807788134,\n",
       "  'p-value threshold': 0.011976033449172974},\n",
       " 'Single test 2': {'Bandwidth X': 2.039454698562622,\n",
       "  'Bandwidth Y': 1.1367896795272827,\n",
       "  'HSIC': 5.5444839830443016e-09,\n",
       "  'HSIC quantile': 3.700365014402962e-10,\n",
       "  'Kernel Gaussian': True,\n",
       "  'Reject': True,\n",
       "  'p-value': 0.0019960079807788134,\n",
       "  'p-value threshold': 0.011976033449172974},\n",
       " 'Single test 20': {'Bandwidth X': 16.315637588500977,\n",
       "  'Bandwidth Y': 9.094317436218262,\n",
       "  'HSIC': 9.220354695571586e-05,\n",
       "  'HSIC quantile': 1.5081523088156246e-06,\n",
       "  'Kernel Gaussian': True,\n",
       "  'Reject': True,\n",
       "  'p-value': 0.0019960079807788134,\n",
       "  'p-value threshold': 0.011976033449172974},\n",
       " 'Single test 21': {'Bandwidth X': 1.019727349281311,\n",
       "  'Bandwidth Y': 18.188634872436523,\n",
       "  'HSIC': 3.817863358790419e-09,\n",
       "  'HSIC quantile': 1.6044961193006912e-10,\n",
       "  'Kernel Gaussian': True,\n",
       "  'Reject': True,\n",
       "  'p-value': 0.0019960079807788134,\n",
       "  'p-value threshold': 0.011976033449172974},\n",
       " 'Single test 22': {'Bandwidth X': 2.039454698562622,\n",
       "  'Bandwidth Y': 18.188634872436523,\n",
       "  'HSIC': 3.74173469026573e-05,\n",
       "  'HSIC quantile': 6.824187721576891e-07,\n",
       "  'Kernel Gaussian': True,\n",
       "  'Reject': True,\n",
       "  'p-value': 0.0019960079807788134,\n",
       "  'p-value threshold': 0.011976033449172974},\n",
       " 'Single test 23': {'Bandwidth X': 4.078909397125244,\n",
       "  'Bandwidth Y': 18.188634872436523,\n",
       "  'HSIC': 0.00017442589160054922,\n",
       "  'HSIC quantile': 2.955106310764677e-06,\n",
       "  'Kernel Gaussian': True,\n",
       "  'Reject': True,\n",
       "  'p-value': 0.0019960079807788134,\n",
       "  'p-value threshold': 0.011976033449172974},\n",
       " 'Single test 24': {'Bandwidth X': 8.157818794250488,\n",
       "  'Bandwidth Y': 18.188634872436523,\n",
       "  'HSIC': 9.237410267814994e-05,\n",
       "  'HSIC quantile': 1.528176312604046e-06,\n",
       "  'Kernel Gaussian': True,\n",
       "  'Reject': True,\n",
       "  'p-value': 0.0019960079807788134,\n",
       "  'p-value threshold': 0.011976033449172974},\n",
       " 'Single test 25': {'Bandwidth X': 16.315637588500977,\n",
       "  'Bandwidth Y': 18.188634872436523,\n",
       "  'HSIC': 2.7894868253497407e-05,\n",
       "  'HSIC quantile': 4.584999260259792e-07,\n",
       "  'Kernel Gaussian': True,\n",
       "  'Reject': True,\n",
       "  'p-value': 0.0019960079807788134,\n",
       "  'p-value threshold': 0.011976033449172974},\n",
       " 'Single test 3': {'Bandwidth X': 4.078909397125244,\n",
       "  'Bandwidth Y': 1.1367896795272827,\n",
       "  'HSIC': 2.4212805982415375e-08,\n",
       "  'HSIC quantile': 1.3648044916436675e-09,\n",
       "  'Kernel Gaussian': True,\n",
       "  'Reject': True,\n",
       "  'p-value': 0.0019960079807788134,\n",
       "  'p-value threshold': 0.011976033449172974},\n",
       " 'Single test 4': {'Bandwidth X': 8.157818794250488,\n",
       "  'Bandwidth Y': 1.1367896795272827,\n",
       "  'HSIC': 1.2607524801921954e-08,\n",
       "  'HSIC quantile': 6.997136758890576e-10,\n",
       "  'Kernel Gaussian': True,\n",
       "  'Reject': True,\n",
       "  'p-value': 0.0019960079807788134,\n",
       "  'p-value threshold': 0.011976033449172974},\n",
       " 'Single test 5': {'Bandwidth X': 16.315637588500977,\n",
       "  'Bandwidth Y': 1.1367896795272827,\n",
       "  'HSIC': 3.790915137358297e-09,\n",
       "  'HSIC quantile': 2.1060644894710379e-10,\n",
       "  'Kernel Gaussian': True,\n",
       "  'Reject': True,\n",
       "  'p-value': 0.0019960079807788134,\n",
       "  'p-value threshold': 0.011976033449172974},\n",
       " 'Single test 6': {'Bandwidth X': 1.019727349281311,\n",
       "  'Bandwidth Y': 2.2735793590545654,\n",
       "  'HSIC': 5.4375148828000874e-09,\n",
       "  'HSIC quantile': 2.634679141522156e-10,\n",
       "  'Kernel Gaussian': True,\n",
       "  'Reject': True,\n",
       "  'p-value': 0.0019960079807788134,\n",
       "  'p-value threshold': 0.011976033449172974},\n",
       " 'Single test 7': {'Bandwidth X': 2.039454698562622,\n",
       "  'Bandwidth Y': 2.2735793590545654,\n",
       "  'HSIC': 5.0056758482242e-05,\n",
       "  'HSIC quantile': 9.94411152532848e-07,\n",
       "  'Kernel Gaussian': True,\n",
       "  'Reject': True,\n",
       "  'p-value': 0.0019960079807788134,\n",
       "  'p-value threshold': 0.011976033449172974},\n",
       " 'Single test 8': {'Bandwidth X': 4.078909397125244,\n",
       "  'Bandwidth Y': 2.2735793590545654,\n",
       "  'HSIC': 0.00022907339734956622,\n",
       "  'HSIC quantile': 3.844555976684205e-06,\n",
       "  'Kernel Gaussian': True,\n",
       "  'Reject': True,\n",
       "  'p-value': 0.0019960079807788134,\n",
       "  'p-value threshold': 0.011976033449172974},\n",
       " 'Single test 9': {'Bandwidth X': 8.157818794250488,\n",
       "  'Bandwidth Y': 2.2735793590545654,\n",
       "  'HSIC': 0.00012072618847014382,\n",
       "  'HSIC quantile': 2.146227643606835e-06,\n",
       "  'Kernel Gaussian': True,\n",
       "  'Reject': True,\n",
       "  'p-value': 0.0019960079807788134,\n",
       "  'p-value threshold': 0.011976033449172974}}"
      ]
     },
     "execution_count": 15,
     "metadata": {},
     "output_type": "execute_result"
    }
   ],
   "source": [
    "human_readable_dict(dictionary) # use to convert jax arrays to scalars\n",
    "dictionary"
   ]
  },
  {
   "cell_type": "markdown",
   "id": "242f71b7-c33e-4129-8e00-9c12707d2216",
   "metadata": {
    "tags": []
   },
   "source": [
    "## KSDAggInc"
   ]
  },
  {
   "cell_type": "code",
   "execution_count": 16,
   "id": "a143cb43-c25a-4d5a-b2d5-81ec9efa4e27",
   "metadata": {},
   "outputs": [],
   "source": [
    "perturbation = 0.5\n",
    "rs = np.random.RandomState(0)\n",
    "X = rs.gamma(5 + perturbation, 5, (5000, 1))\n",
    "score_gamma = lambda x, k, theta : (k - 1) / x - 1 / theta\n",
    "score_X = score_gamma(X, 5, 5)\n",
    "X = jnp.array(X)\n",
    "score_X = jnp.array(score_X)"
   ]
  },
  {
   "cell_type": "code",
   "execution_count": 17,
   "id": "be642e2e-2bde-4c3e-a877-8539aa99646a",
   "metadata": {},
   "outputs": [],
   "source": [
    "# compile function\n",
    "output, dictionary = agginc(\"ksd\", X, score_X, return_dictionary=True)\n",
    "# Numpy version (no compilation)\n",
    "# output, dictionary = agginc(\"ksd\", np.array(X), np.array(score_X), return_dictionary=True)"
   ]
  },
  {
   "cell_type": "code",
   "execution_count": 18,
   "id": "8160afa5-e557-4831-80ac-7f7047f63a7d",
   "metadata": {},
   "outputs": [
    {
     "name": "stdout",
     "output_type": "stream",
     "text": [
      "21.5 ms ± 30.8 µs per loop (mean ± std. dev. of 7 runs, 10 loops each)\n"
     ]
    }
   ],
   "source": [
    "# Now the function runs fast for any inputs X and score_X of the compiled shaped (5000, 1)\n",
    "# If the shape is changed, the function will need to be compiled again\n",
    "perturbation = 0.5\n",
    "rs = np.random.RandomState(1) # different initialisation\n",
    "X = rs.gamma(5 + perturbation, 5, (5000, 1))\n",
    "score_gamma = lambda x, k, theta : (k - 1) / x - 1 / theta\n",
    "score_X = score_gamma(X, 5, 5)\n",
    "X = jnp.array(X)\n",
    "score_X = jnp.array(score_X)\n",
    "# see speed.ipynb for detailed speed comparision between numpy, jax cpu and jax gpu \n",
    "%timeit output, dictionary = agginc(\"ksd\", X, score_X, return_dictionary=True)"
   ]
  },
  {
   "cell_type": "code",
   "execution_count": 19,
   "id": "5fb2129e-5311-40b9-a9fc-cb4b6be6a220",
   "metadata": {},
   "outputs": [],
   "source": [
    "output, dictionary = agginc(\"ksd\", X, score_X, return_dictionary=True)"
   ]
  },
  {
   "cell_type": "code",
   "execution_count": 20,
   "id": "3ed21ad2-e1b0-48bf-8454-d6e1f4411f8a",
   "metadata": {},
   "outputs": [
    {
     "data": {
      "text/plain": [
       "Array(1, dtype=int32)"
      ]
     },
     "execution_count": 20,
     "metadata": {},
     "output_type": "execute_result"
    }
   ],
   "source": [
    "output"
   ]
  },
  {
   "cell_type": "code",
   "execution_count": 21,
   "id": "0dcaa1e6-86c0-4463-9579-45034ef0ea96",
   "metadata": {},
   "outputs": [
    {
     "data": {
      "text/plain": [
       "1"
      ]
     },
     "execution_count": 21,
     "metadata": {},
     "output_type": "execute_result"
    }
   ],
   "source": [
    "output.item()"
   ]
  },
  {
   "cell_type": "code",
   "execution_count": 22,
   "id": "0542898c-fc24-4f5f-8523-4ae134f16fe9",
   "metadata": {},
   "outputs": [
    {
     "data": {
      "text/plain": [
       "{'KSDAggInc test reject': True,\n",
       " 'Single test 1': {'Bandwidth': 1.0,\n",
       "  'KSD': 4.0504713979316875e-05,\n",
       "  'KSD quantile': 0.00029450401780195534,\n",
       "  'Kernel IMQ': True,\n",
       "  'Reject': False,\n",
       "  'p-value': 0.38522952795028687,\n",
       "  'p-value threshold': 0.017964035272598267},\n",
       " 'Single test 10': {'Bandwidth': 96.67843627929688,\n",
       "  'KSD': 4.25097505285521e-06,\n",
       "  'KSD quantile': 2.747115956935886e-07,\n",
       "  'Kernel IMQ': True,\n",
       "  'Reject': True,\n",
       "  'p-value': 0.0019960079807788134,\n",
       "  'p-value threshold': 0.017964035272598267},\n",
       " 'Single test 2': {'Bandwidth': 1.661851406097412,\n",
       "  'KSD': 4.388344314065762e-05,\n",
       "  'KSD quantile': 8.466501458315179e-05,\n",
       "  'Kernel IMQ': True,\n",
       "  'Reject': False,\n",
       "  'p-value': 0.113772451877594,\n",
       "  'p-value threshold': 0.017964035272598267},\n",
       " 'Single test 3': {'Bandwidth': 2.7617499828338623,\n",
       "  'KSD': 4.6408065827563405e-05,\n",
       "  'KSD quantile': 2.3729142412776127e-05,\n",
       "  'Kernel IMQ': True,\n",
       "  'Reject': True,\n",
       "  'p-value': 0.0019960079807788134,\n",
       "  'p-value threshold': 0.017964035272598267},\n",
       " 'Single test 4': {'Bandwidth': 4.58961820602417,\n",
       "  'KSD': 4.356886347522959e-05,\n",
       "  'KSD quantile': 7.686943717999384e-06,\n",
       "  'Kernel IMQ': True,\n",
       "  'Reject': True,\n",
       "  'p-value': 0.0019960079807788134,\n",
       "  'p-value threshold': 0.017964035272598267},\n",
       " 'Single test 5': {'Bandwidth': 7.627263069152832,\n",
       "  'KSD': 3.4792912629200146e-05,\n",
       "  'KSD quantile': 3.5281791497254744e-06,\n",
       "  'Kernel IMQ': True,\n",
       "  'Reject': True,\n",
       "  'p-value': 0.0019960079807788134,\n",
       "  'p-value threshold': 0.017964035272598267},\n",
       " 'Single test 6': {'Bandwidth': 12.67537784576416,\n",
       "  'KSD': 2.4995271814987063e-05,\n",
       "  'KSD quantile': 1.7719962670526002e-06,\n",
       "  'Kernel IMQ': True,\n",
       "  'Reject': True,\n",
       "  'p-value': 0.0019960079807788134,\n",
       "  'p-value threshold': 0.017964035272598267},\n",
       " 'Single test 7': {'Bandwidth': 21.064594268798828,\n",
       "  'KSD': 1.6960584616754204e-05,\n",
       "  'KSD quantile': 1.0939107824015082e-06,\n",
       "  'Kernel IMQ': True,\n",
       "  'Reject': True,\n",
       "  'p-value': 0.0019960079807788134,\n",
       "  'p-value threshold': 0.017964035272598267},\n",
       " 'Single test 8': {'Bandwidth': 35.0062255859375,\n",
       "  'KSD': 1.1031376743630972e-05,\n",
       "  'KSD quantile': 6.90427157223894e-07,\n",
       "  'Kernel IMQ': True,\n",
       "  'Reject': True,\n",
       "  'p-value': 0.0019960079807788134,\n",
       "  'p-value threshold': 0.017964035272598267},\n",
       " 'Single test 9': {'Bandwidth': 58.175140380859375,\n",
       "  'KSD': 6.926434252818581e-06,\n",
       "  'KSD quantile': 4.471835950425884e-07,\n",
       "  'Kernel IMQ': True,\n",
       "  'Reject': True,\n",
       "  'p-value': 0.0019960079807788134,\n",
       "  'p-value threshold': 0.017964035272598267}}"
      ]
     },
     "execution_count": 22,
     "metadata": {},
     "output_type": "execute_result"
    }
   ],
   "source": [
    "human_readable_dict(dictionary) # use to convert jax arrays to scalars\n",
    "dictionary"
   ]
  }
 ],
 "metadata": {
  "kernelspec": {
   "display_name": "Python 3 (ipykernel)",
   "language": "python",
   "name": "python3"
  },
  "language_info": {
   "codemirror_mode": {
    "name": "ipython",
    "version": 3
   },
   "file_extension": ".py",
   "mimetype": "text/x-python",
   "name": "python",
   "nbconvert_exporter": "python",
   "pygments_lexer": "ipython3",
   "version": "3.9.16"
  }
 },
 "nbformat": 4,
 "nbformat_minor": 5
}
